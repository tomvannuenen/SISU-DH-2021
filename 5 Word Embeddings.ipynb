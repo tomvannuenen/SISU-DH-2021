{
 "cells": [
  {
   "cell_type": "markdown",
   "metadata": {
    "colab_type": "text",
    "id": "-Uds2RtAZOog"
   },
   "source": [
    "# SISU Digital Humanities: Textual and Language Analysis on Social Media<br />\n",
    "### Session 5: Word Embeddings\n",
    "Created by Tom van Nuenen (tom.van_nuenen@kcl.ac.uk) <br />\n"
   ]
  },
  {
   "cell_type": "markdown",
   "metadata": {
    "colab_type": "text",
    "id": "MfjNP33MZOoi"
   },
   "source": [
    "# Word Embeddings\n",
    "\n",
    "Today, we'll have a look at word embeddings using Gensim's `word2vec` and `doc2vec` methods. \n",
    "\n",
    "The goal of word vector embedding models is to learn dense, numerical vector representations for each term in a corpus vocabulary. If successful, the vectors for each term encode information about the meaning or concept the term represents, as well as the relationship between it and other terms in the vocabulary. Word vector models are  fully unsupervised: they learn all of these meanings and relationships without any advance knowledge.\n",
    "\n",
    "After working through today's notebook, you'll be able to:\n",
    "\n",
    "1. Use Gensim's word2vec method to create word vectors for a corpus;\n",
    "2. Use these word vectors to reflect on implicit binaries and normativities in your data;\n",
    "3. Visualize topic models using K-means clustering and t-SNE."
   ]
  },
  {
   "cell_type": "code",
   "execution_count": 101,
   "metadata": {
    "colab": {
     "base_uri": "https://localhost:8080/",
     "height": 119
    },
    "colab_type": "code",
    "executionInfo": {
     "elapsed": 3273,
     "status": "ok",
     "timestamp": 1596036431956,
     "user": {
      "displayName": "Tom van Nuenen",
      "photoUrl": "https://lh3.googleusercontent.com/a-/AOh14GhtEyfMMXnweSdKHvOqheyZd6KLkXGOtz3AYYAIBA=s64",
      "userId": "10012302451096885058"
     },
     "user_tz": -180
    },
    "id": "kRNNPkOdZOoj",
    "outputId": "c3f16306-08e1-43b9-9cac-6372cec26558"
   },
   "outputs": [
    {
     "name": "stderr",
     "output_type": "stream",
     "text": [
      "[nltk_data] Downloading package stopwords to\n",
      "[nltk_data]     /Users/tomvannuenen/nltk_data...\n",
      "[nltk_data]   Package stopwords is already up-to-date!\n",
      "[nltk_data] Downloading package punkt to\n",
      "[nltk_data]     /Users/tomvannuenen/nltk_data...\n",
      "[nltk_data]   Package punkt is already up-to-date!\n",
      "[nltk_data] Downloading package wordnet to\n",
      "[nltk_data]     /Users/tomvannuenen/nltk_data...\n",
      "[nltk_data]   Package wordnet is already up-to-date!\n"
     ]
    }
   ],
   "source": [
    "# General\n",
    "from pprint import pprint\n",
    "from collections import Counter\n",
    "import os\n",
    "import re\n",
    "import logging\n",
    "import string\n",
    "import pickle\n",
    "import numpy as np\n",
    "import pandas as pd\n",
    "import smart_open\n",
    "import multiprocessing \n",
    "from time import time  # To time our operations\n",
    "from collections import defaultdict  # For word frequency\n",
    "\n",
    "# Gensim\n",
    "import gensim\n",
    "from gensim.models import Word2Vec\n",
    "from gensim.utils import simple_preprocess\n",
    "from gensim.models.phrases import Phrases, Phraser\n",
    "\n",
    "# NLTK\n",
    "import nltk\n",
    "from nltk.corpus import stopwords\n",
    "nltk.download('stopwords')\n",
    "nltk.download('punkt')\n",
    "nltk.download('wordnet')\n",
    "from nltk import sent_tokenize, word_tokenize\n",
    "from nltk.stem import WordNetLemmatizer \n",
    "wordnet_lemmatizer = WordNetLemmatizer()\n",
    "\n",
    "# Spacy\n",
    "import spacy \n",
    "\n",
    "# Plotting\n",
    "from bokeh.plotting import figure, show, output_notebook\n",
    "from bokeh.models import HoverTool, ColumnDataSource, value\n",
    "\n",
    "# Clustering \n",
    "from sklearn.cluster import KMeans\n",
    "from sklearn.neighbors import KDTree\n",
    "from sklearn.manifold import TSNE\n",
    "\n",
    "# Suppressing warnings\n",
    "import warnings\n",
    "warnings.simplefilter(\"ignore\", DeprecationWarning)"
   ]
  },
  {
   "cell_type": "markdown",
   "metadata": {
    "colab_type": "text",
    "id": "wDeidiecZOop"
   },
   "source": [
    "## Preprocessing\n",
    "\n",
    "We'll start by cleaning up our data a bit. Let's load it up."
   ]
  },
  {
   "cell_type": "code",
   "execution_count": 61,
   "metadata": {
    "colab": {},
    "colab_type": "code",
    "executionInfo": {
     "elapsed": 1042,
     "status": "ok",
     "timestamp": 1596036443476,
     "user": {
      "displayName": "Tom van Nuenen",
      "photoUrl": "https://lh3.googleusercontent.com/a-/AOh14GhtEyfMMXnweSdKHvOqheyZd6KLkXGOtz3AYYAIBA=s64",
      "userId": "10012302451096885058"
     },
     "user_tz": -180
    },
    "id": "1cY6-yUcZOoq"
   },
   "outputs": [],
   "source": [
    "# load into df\n",
    "df_com = pd.read_csv(\"data/icc3-comments.csv\", lineterminator='\\n')"
   ]
  },
  {
   "cell_type": "code",
   "execution_count": 62,
   "metadata": {},
   "outputs": [
    {
     "data": {
      "text/html": [
       "<div>\n",
       "<style scoped>\n",
       "    .dataframe tbody tr th:only-of-type {\n",
       "        vertical-align: middle;\n",
       "    }\n",
       "\n",
       "    .dataframe tbody tr th {\n",
       "        vertical-align: top;\n",
       "    }\n",
       "\n",
       "    .dataframe thead th {\n",
       "        text-align: right;\n",
       "    }\n",
       "</style>\n",
       "<table border=\"1\" class=\"dataframe\">\n",
       "  <thead>\n",
       "    <tr style=\"text-align: right;\">\n",
       "      <th></th>\n",
       "      <th>id</th>\n",
       "      <th>author_id</th>\n",
       "      <th>parent_id</th>\n",
       "      <th>step</th>\n",
       "      <th>week_number</th>\n",
       "      <th>step_number</th>\n",
       "      <th>text</th>\n",
       "      <th>timestamp</th>\n",
       "      <th>likes</th>\n",
       "      <th>first_reported_at</th>\n",
       "      <th>first_reported_reason</th>\n",
       "      <th>moderation_state</th>\n",
       "      <th>moderated</th>\n",
       "    </tr>\n",
       "  </thead>\n",
       "  <tbody>\n",
       "    <tr>\n",
       "      <th>0</th>\n",
       "      <td>16363017</td>\n",
       "      <td>2b065715-ca93-45a1-b129-fb015822bdde</td>\n",
       "      <td>NaN</td>\n",
       "      <td>1.10</td>\n",
       "      <td>1</td>\n",
       "      <td>1</td>\n",
       "      <td>Welcome to this run of our course! Here at the...</td>\n",
       "      <td>2016-10-10 00:21:15 UTC</td>\n",
       "      <td>15</td>\n",
       "      <td>NaN</td>\n",
       "      <td>NaN</td>\n",
       "      <td>NaN</td>\n",
       "      <td>NaN</td>\n",
       "    </tr>\n",
       "    <tr>\n",
       "      <th>1</th>\n",
       "      <td>16363067</td>\n",
       "      <td>2b065715-ca93-45a1-b129-fb015822bdde</td>\n",
       "      <td>NaN</td>\n",
       "      <td>1.20</td>\n",
       "      <td>1</td>\n",
       "      <td>2</td>\n",
       "      <td>Our Educator and Mentor team is eager to know ...</td>\n",
       "      <td>2016-10-10 00:26:08 UTC</td>\n",
       "      <td>1</td>\n",
       "      <td>NaN</td>\n",
       "      <td>NaN</td>\n",
       "      <td>NaN</td>\n",
       "      <td>NaN</td>\n",
       "    </tr>\n",
       "    <tr>\n",
       "      <th>2</th>\n",
       "      <td>16363229</td>\n",
       "      <td>d0adfa81-69cd-4a49-92f3-4a8092983376</td>\n",
       "      <td>NaN</td>\n",
       "      <td>1.10</td>\n",
       "      <td>1</td>\n",
       "      <td>1</td>\n",
       "      <td>Hello, Professor Kulich. Happy and excited to ...</td>\n",
       "      <td>2016-10-10 00:46:01 UTC</td>\n",
       "      <td>1</td>\n",
       "      <td>NaN</td>\n",
       "      <td>NaN</td>\n",
       "      <td>NaN</td>\n",
       "      <td>NaN</td>\n",
       "    </tr>\n",
       "    <tr>\n",
       "      <th>3</th>\n",
       "      <td>16363369</td>\n",
       "      <td>d0adfa81-69cd-4a49-92f3-4a8092983376</td>\n",
       "      <td>NaN</td>\n",
       "      <td>1.10</td>\n",
       "      <td>1</td>\n",
       "      <td>1</td>\n",
       "      <td>Hello everyone. Good morning.This is the first...</td>\n",
       "      <td>2016-10-10 01:01:07 UTC</td>\n",
       "      <td>0</td>\n",
       "      <td>NaN</td>\n",
       "      <td>NaN</td>\n",
       "      <td>NaN</td>\n",
       "      <td>NaN</td>\n",
       "    </tr>\n",
       "    <tr>\n",
       "      <th>4</th>\n",
       "      <td>16363370</td>\n",
       "      <td>19cb3801-93be-4268-9b62-b012517b85ba</td>\n",
       "      <td>NaN</td>\n",
       "      <td>1.50</td>\n",
       "      <td>1</td>\n",
       "      <td>5</td>\n",
       "      <td>Well I'm a Chinese so I presume the most impor...</td>\n",
       "      <td>2016-10-10 01:01:19 UTC</td>\n",
       "      <td>4</td>\n",
       "      <td>NaN</td>\n",
       "      <td>NaN</td>\n",
       "      <td>NaN</td>\n",
       "      <td>NaN</td>\n",
       "    </tr>\n",
       "    <tr>\n",
       "      <th>...</th>\n",
       "      <td>...</td>\n",
       "      <td>...</td>\n",
       "      <td>...</td>\n",
       "      <td>...</td>\n",
       "      <td>...</td>\n",
       "      <td>...</td>\n",
       "      <td>...</td>\n",
       "      <td>...</td>\n",
       "      <td>...</td>\n",
       "      <td>...</td>\n",
       "      <td>...</td>\n",
       "      <td>...</td>\n",
       "      <td>...</td>\n",
       "    </tr>\n",
       "    <tr>\n",
       "      <th>16433</th>\n",
       "      <td>18305884</td>\n",
       "      <td>516aea02-8174-4fc6-a1ae-29e12a3de9c1</td>\n",
       "      <td>NaN</td>\n",
       "      <td>5.50</td>\n",
       "      <td>5</td>\n",
       "      <td>5</td>\n",
       "      <td>You don't even have to move abroad to experien...</td>\n",
       "      <td>2016-12-02 23:50:40 UTC</td>\n",
       "      <td>0</td>\n",
       "      <td>NaN</td>\n",
       "      <td>NaN</td>\n",
       "      <td>NaN</td>\n",
       "      <td>NaN</td>\n",
       "    </tr>\n",
       "    <tr>\n",
       "      <th>16434</th>\n",
       "      <td>18310548</td>\n",
       "      <td>df09fea0-03f3-4589-8129-5f8dfd4728b6</td>\n",
       "      <td>NaN</td>\n",
       "      <td>4.15</td>\n",
       "      <td>4</td>\n",
       "      <td>15</td>\n",
       "      <td>Ms Smith is focused on her tasl and wants some...</td>\n",
       "      <td>2016-12-03 10:01:44 UTC</td>\n",
       "      <td>0</td>\n",
       "      <td>NaN</td>\n",
       "      <td>NaN</td>\n",
       "      <td>NaN</td>\n",
       "      <td>NaN</td>\n",
       "    </tr>\n",
       "    <tr>\n",
       "      <th>16435</th>\n",
       "      <td>18311382</td>\n",
       "      <td>9f2392b4-ee0d-4054-ad1d-ede45cccbc00</td>\n",
       "      <td>NaN</td>\n",
       "      <td>5.13</td>\n",
       "      <td>5</td>\n",
       "      <td>13</td>\n",
       "      <td>This course has covered a lot of ground in a r...</td>\n",
       "      <td>2016-12-03 11:11:03 UTC</td>\n",
       "      <td>0</td>\n",
       "      <td>NaN</td>\n",
       "      <td>NaN</td>\n",
       "      <td>NaN</td>\n",
       "      <td>NaN</td>\n",
       "    </tr>\n",
       "    <tr>\n",
       "      <th>16436</th>\n",
       "      <td>18312814</td>\n",
       "      <td>6b740a2b-dfdb-44ae-a63d-f8a540dffad9</td>\n",
       "      <td>17796920.0</td>\n",
       "      <td>5.13</td>\n",
       "      <td>5</td>\n",
       "      <td>13</td>\n",
       "      <td>@REDACTED I'm sorry, but the code of conduct a...</td>\n",
       "      <td>2016-12-03 13:04:33 UTC</td>\n",
       "      <td>0</td>\n",
       "      <td>NaN</td>\n",
       "      <td>NaN</td>\n",
       "      <td>NaN</td>\n",
       "      <td>NaN</td>\n",
       "    </tr>\n",
       "    <tr>\n",
       "      <th>16437</th>\n",
       "      <td>18313840</td>\n",
       "      <td>3e46a4fb-157d-4eff-8f7c-8c48e7981b2d</td>\n",
       "      <td>NaN</td>\n",
       "      <td>1.90</td>\n",
       "      <td>1</td>\n",
       "      <td>9</td>\n",
       "      <td>I think along our lives we are inserted in a n...</td>\n",
       "      <td>2016-12-03 14:20:09 UTC</td>\n",
       "      <td>0</td>\n",
       "      <td>NaN</td>\n",
       "      <td>NaN</td>\n",
       "      <td>NaN</td>\n",
       "      <td>NaN</td>\n",
       "    </tr>\n",
       "  </tbody>\n",
       "</table>\n",
       "<p>16438 rows × 13 columns</p>\n",
       "</div>"
      ],
      "text/plain": [
       "             id                             author_id   parent_id  step  \\\n",
       "0      16363017  2b065715-ca93-45a1-b129-fb015822bdde         NaN  1.10   \n",
       "1      16363067  2b065715-ca93-45a1-b129-fb015822bdde         NaN  1.20   \n",
       "2      16363229  d0adfa81-69cd-4a49-92f3-4a8092983376         NaN  1.10   \n",
       "3      16363369  d0adfa81-69cd-4a49-92f3-4a8092983376         NaN  1.10   \n",
       "4      16363370  19cb3801-93be-4268-9b62-b012517b85ba         NaN  1.50   \n",
       "...         ...                                   ...         ...   ...   \n",
       "16433  18305884  516aea02-8174-4fc6-a1ae-29e12a3de9c1         NaN  5.50   \n",
       "16434  18310548  df09fea0-03f3-4589-8129-5f8dfd4728b6         NaN  4.15   \n",
       "16435  18311382  9f2392b4-ee0d-4054-ad1d-ede45cccbc00         NaN  5.13   \n",
       "16436  18312814  6b740a2b-dfdb-44ae-a63d-f8a540dffad9  17796920.0  5.13   \n",
       "16437  18313840  3e46a4fb-157d-4eff-8f7c-8c48e7981b2d         NaN  1.90   \n",
       "\n",
       "       week_number  step_number  \\\n",
       "0                1            1   \n",
       "1                1            2   \n",
       "2                1            1   \n",
       "3                1            1   \n",
       "4                1            5   \n",
       "...            ...          ...   \n",
       "16433            5            5   \n",
       "16434            4           15   \n",
       "16435            5           13   \n",
       "16436            5           13   \n",
       "16437            1            9   \n",
       "\n",
       "                                                    text  \\\n",
       "0      Welcome to this run of our course! Here at the...   \n",
       "1      Our Educator and Mentor team is eager to know ...   \n",
       "2      Hello, Professor Kulich. Happy and excited to ...   \n",
       "3      Hello everyone. Good morning.This is the first...   \n",
       "4      Well I'm a Chinese so I presume the most impor...   \n",
       "...                                                  ...   \n",
       "16433  You don't even have to move abroad to experien...   \n",
       "16434  Ms Smith is focused on her tasl and wants some...   \n",
       "16435  This course has covered a lot of ground in a r...   \n",
       "16436  @REDACTED I'm sorry, but the code of conduct a...   \n",
       "16437  I think along our lives we are inserted in a n...   \n",
       "\n",
       "                     timestamp  likes first_reported_at first_reported_reason  \\\n",
       "0      2016-10-10 00:21:15 UTC     15               NaN                   NaN   \n",
       "1      2016-10-10 00:26:08 UTC      1               NaN                   NaN   \n",
       "2      2016-10-10 00:46:01 UTC      1               NaN                   NaN   \n",
       "3      2016-10-10 01:01:07 UTC      0               NaN                   NaN   \n",
       "4      2016-10-10 01:01:19 UTC      4               NaN                   NaN   \n",
       "...                        ...    ...               ...                   ...   \n",
       "16433  2016-12-02 23:50:40 UTC      0               NaN                   NaN   \n",
       "16434  2016-12-03 10:01:44 UTC      0               NaN                   NaN   \n",
       "16435  2016-12-03 11:11:03 UTC      0               NaN                   NaN   \n",
       "16436  2016-12-03 13:04:33 UTC      0               NaN                   NaN   \n",
       "16437  2016-12-03 14:20:09 UTC      0               NaN                   NaN   \n",
       "\n",
       "      moderation_state moderated  \n",
       "0                  NaN       NaN  \n",
       "1                  NaN       NaN  \n",
       "2                  NaN       NaN  \n",
       "3                  NaN       NaN  \n",
       "4                  NaN       NaN  \n",
       "...                ...       ...  \n",
       "16433              NaN       NaN  \n",
       "16434              NaN       NaN  \n",
       "16435              NaN       NaN  \n",
       "16436              NaN       NaN  \n",
       "16437              NaN       NaN  \n",
       "\n",
       "[16438 rows x 13 columns]"
      ]
     },
     "execution_count": 62,
     "metadata": {},
     "output_type": "execute_result"
    }
   ],
   "source": [
    "df_com"
   ]
  },
  {
   "cell_type": "code",
   "execution_count": 63,
   "metadata": {
    "colab": {},
    "colab_type": "code",
    "executionInfo": {
     "elapsed": 2006,
     "status": "ok",
     "timestamp": 1596036447373,
     "user": {
      "displayName": "Tom van Nuenen",
      "photoUrl": "https://lh3.googleusercontent.com/a-/AOh14GhtEyfMMXnweSdKHvOqheyZd6KLkXGOtz3AYYAIBA=s64",
      "userId": "10012302451096885058"
     },
     "user_tz": -180
    },
    "id": "yn3XOMNrZOo1"
   },
   "outputs": [],
   "source": [
    "# Get rid of empty values and reset index\n",
    "df_com = df_com[~df_com['text'].isin(['[removed]', '[deleted]' ])].dropna(subset=['text']).reset_index(drop=True)"
   ]
  },
  {
   "cell_type": "markdown",
   "metadata": {
    "colab_type": "text",
    "id": "wLs_XcxbDHzw"
   },
   "source": [
    "Let's create a small function that cleans up our text by removing all escape-tabs and escape-newlines, as well as all non symbol characters (except for the dot). It also normalizes spaces to a single character and removes leading and trailing spaces."
   ]
  },
  {
   "cell_type": "code",
   "execution_count": 64,
   "metadata": {
    "colab": {},
    "colab_type": "code",
    "executionInfo": {
     "elapsed": 1384,
     "status": "ok",
     "timestamp": 1596036453127,
     "user": {
      "displayName": "Tom van Nuenen",
      "photoUrl": "https://lh3.googleusercontent.com/a-/AOh14GhtEyfMMXnweSdKHvOqheyZd6KLkXGOtz3AYYAIBA=s64",
      "userId": "10012302451096885058"
     },
     "user_tz": -180
    },
    "id": "JEdJGFrnY_nG"
   },
   "outputs": [],
   "source": [
    "def clean_text(text):\n",
    "    # Normalize tabs and remove newlines\n",
    "    no_tabs = text.replace('\\t', ' ').replace('\\n', '');\n",
    "    # Remove all characters except A-Z and a dot.\n",
    "    alphas_only = re.sub(\"[^a-zA-Z\\.]\", \" \", no_tabs);\n",
    "    # Normalize spaces to 1\n",
    "    multi_spaces = re.sub(\" +\", \" \", alphas_only);\n",
    "    # Strip trailing and leading spaces\n",
    "    no_spaces = multi_spaces.strip();\n",
    "    return no_spaces"
   ]
  },
  {
   "cell_type": "markdown",
   "metadata": {
    "colab_type": "text",
    "id": "yj_uE4xZ-bdY"
   },
   "source": [
    "We can now use the Pandas `.apply` method, allowing us to apply a function along an axis of the DataFrame. We'll use a lambda function: a small stand-in function that can take arguments, but only one expression. This is what a lambda looks like. Do you see how it works?"
   ]
  },
  {
   "cell_type": "code",
   "execution_count": 65,
   "metadata": {
    "colab": {},
    "colab_type": "code",
    "executionInfo": {
     "elapsed": 1392,
     "status": "ok",
     "timestamp": 1596036453562,
     "user": {
      "displayName": "Tom van Nuenen",
      "photoUrl": "https://lh3.googleusercontent.com/a-/AOh14GhtEyfMMXnweSdKHvOqheyZd6KLkXGOtz3AYYAIBA=s64",
      "userId": "10012302451096885058"
     },
     "user_tz": -180
    },
    "id": "UmgmLpMd9fF_"
   },
   "outputs": [],
   "source": [
    "df_com[\"text_clean\"] = df_com[\"text\"].apply(lambda x: clean_text(x))"
   ]
  },
  {
   "cell_type": "markdown",
   "metadata": {
    "colab_type": "text",
    "id": "9Ok7Ham8-wa9"
   },
   "source": [
    "We now have an additional column in our DataFrame with cleaned up text."
   ]
  },
  {
   "cell_type": "code",
   "execution_count": 66,
   "metadata": {
    "colab": {
     "base_uri": "https://localhost:8080/",
     "height": 510
    },
    "colab_type": "code",
    "executionInfo": {
     "elapsed": 1008,
     "status": "ok",
     "timestamp": 1596036455593,
     "user": {
      "displayName": "Tom van Nuenen",
      "photoUrl": "https://lh3.googleusercontent.com/a-/AOh14GhtEyfMMXnweSdKHvOqheyZd6KLkXGOtz3AYYAIBA=s64",
      "userId": "10012302451096885058"
     },
     "user_tz": -180
    },
    "id": "7u2Z_-yO-GHJ",
    "outputId": "c0badac3-ed07-48e7-9aa9-7ae690170cc3"
   },
   "outputs": [
    {
     "data": {
      "text/html": [
       "<div>\n",
       "<style scoped>\n",
       "    .dataframe tbody tr th:only-of-type {\n",
       "        vertical-align: middle;\n",
       "    }\n",
       "\n",
       "    .dataframe tbody tr th {\n",
       "        vertical-align: top;\n",
       "    }\n",
       "\n",
       "    .dataframe thead th {\n",
       "        text-align: right;\n",
       "    }\n",
       "</style>\n",
       "<table border=\"1\" class=\"dataframe\">\n",
       "  <thead>\n",
       "    <tr style=\"text-align: right;\">\n",
       "      <th></th>\n",
       "      <th>id</th>\n",
       "      <th>author_id</th>\n",
       "      <th>parent_id</th>\n",
       "      <th>step</th>\n",
       "      <th>week_number</th>\n",
       "      <th>step_number</th>\n",
       "      <th>text</th>\n",
       "      <th>timestamp</th>\n",
       "      <th>likes</th>\n",
       "      <th>first_reported_at</th>\n",
       "      <th>first_reported_reason</th>\n",
       "      <th>moderation_state</th>\n",
       "      <th>moderated</th>\n",
       "      <th>text_clean</th>\n",
       "    </tr>\n",
       "  </thead>\n",
       "  <tbody>\n",
       "    <tr>\n",
       "      <th>0</th>\n",
       "      <td>16363017</td>\n",
       "      <td>2b065715-ca93-45a1-b129-fb015822bdde</td>\n",
       "      <td>NaN</td>\n",
       "      <td>1.1</td>\n",
       "      <td>1</td>\n",
       "      <td>1</td>\n",
       "      <td>Welcome to this run of our course! Here at the...</td>\n",
       "      <td>2016-10-10 00:21:15 UTC</td>\n",
       "      <td>15</td>\n",
       "      <td>NaN</td>\n",
       "      <td>NaN</td>\n",
       "      <td>NaN</td>\n",
       "      <td>NaN</td>\n",
       "      <td>Welcome to this run of our course Here at the ...</td>\n",
       "    </tr>\n",
       "    <tr>\n",
       "      <th>1</th>\n",
       "      <td>16363067</td>\n",
       "      <td>2b065715-ca93-45a1-b129-fb015822bdde</td>\n",
       "      <td>NaN</td>\n",
       "      <td>1.2</td>\n",
       "      <td>1</td>\n",
       "      <td>2</td>\n",
       "      <td>Our Educator and Mentor team is eager to know ...</td>\n",
       "      <td>2016-10-10 00:26:08 UTC</td>\n",
       "      <td>1</td>\n",
       "      <td>NaN</td>\n",
       "      <td>NaN</td>\n",
       "      <td>NaN</td>\n",
       "      <td>NaN</td>\n",
       "      <td>Our Educator and Mentor team is eager to know ...</td>\n",
       "    </tr>\n",
       "    <tr>\n",
       "      <th>2</th>\n",
       "      <td>16363229</td>\n",
       "      <td>d0adfa81-69cd-4a49-92f3-4a8092983376</td>\n",
       "      <td>NaN</td>\n",
       "      <td>1.1</td>\n",
       "      <td>1</td>\n",
       "      <td>1</td>\n",
       "      <td>Hello, Professor Kulich. Happy and excited to ...</td>\n",
       "      <td>2016-10-10 00:46:01 UTC</td>\n",
       "      <td>1</td>\n",
       "      <td>NaN</td>\n",
       "      <td>NaN</td>\n",
       "      <td>NaN</td>\n",
       "      <td>NaN</td>\n",
       "      <td>Hello Professor Kulich. Happy and excited to j...</td>\n",
       "    </tr>\n",
       "    <tr>\n",
       "      <th>3</th>\n",
       "      <td>16363369</td>\n",
       "      <td>d0adfa81-69cd-4a49-92f3-4a8092983376</td>\n",
       "      <td>NaN</td>\n",
       "      <td>1.1</td>\n",
       "      <td>1</td>\n",
       "      <td>1</td>\n",
       "      <td>Hello everyone. Good morning.This is the first...</td>\n",
       "      <td>2016-10-10 01:01:07 UTC</td>\n",
       "      <td>0</td>\n",
       "      <td>NaN</td>\n",
       "      <td>NaN</td>\n",
       "      <td>NaN</td>\n",
       "      <td>NaN</td>\n",
       "      <td>Hello everyone. Good morning.This is the first...</td>\n",
       "    </tr>\n",
       "    <tr>\n",
       "      <th>4</th>\n",
       "      <td>16363370</td>\n",
       "      <td>19cb3801-93be-4268-9b62-b012517b85ba</td>\n",
       "      <td>NaN</td>\n",
       "      <td>1.5</td>\n",
       "      <td>1</td>\n",
       "      <td>5</td>\n",
       "      <td>Well I'm a Chinese so I presume the most impor...</td>\n",
       "      <td>2016-10-10 01:01:19 UTC</td>\n",
       "      <td>4</td>\n",
       "      <td>NaN</td>\n",
       "      <td>NaN</td>\n",
       "      <td>NaN</td>\n",
       "      <td>NaN</td>\n",
       "      <td>Well I m a Chinese so I presume the most impor...</td>\n",
       "    </tr>\n",
       "  </tbody>\n",
       "</table>\n",
       "</div>"
      ],
      "text/plain": [
       "         id                             author_id  parent_id  step  \\\n",
       "0  16363017  2b065715-ca93-45a1-b129-fb015822bdde        NaN   1.1   \n",
       "1  16363067  2b065715-ca93-45a1-b129-fb015822bdde        NaN   1.2   \n",
       "2  16363229  d0adfa81-69cd-4a49-92f3-4a8092983376        NaN   1.1   \n",
       "3  16363369  d0adfa81-69cd-4a49-92f3-4a8092983376        NaN   1.1   \n",
       "4  16363370  19cb3801-93be-4268-9b62-b012517b85ba        NaN   1.5   \n",
       "\n",
       "   week_number  step_number  \\\n",
       "0            1            1   \n",
       "1            1            2   \n",
       "2            1            1   \n",
       "3            1            1   \n",
       "4            1            5   \n",
       "\n",
       "                                                text                timestamp  \\\n",
       "0  Welcome to this run of our course! Here at the...  2016-10-10 00:21:15 UTC   \n",
       "1  Our Educator and Mentor team is eager to know ...  2016-10-10 00:26:08 UTC   \n",
       "2  Hello, Professor Kulich. Happy and excited to ...  2016-10-10 00:46:01 UTC   \n",
       "3  Hello everyone. Good morning.This is the first...  2016-10-10 01:01:07 UTC   \n",
       "4  Well I'm a Chinese so I presume the most impor...  2016-10-10 01:01:19 UTC   \n",
       "\n",
       "   likes first_reported_at first_reported_reason moderation_state moderated  \\\n",
       "0     15               NaN                   NaN              NaN       NaN   \n",
       "1      1               NaN                   NaN              NaN       NaN   \n",
       "2      1               NaN                   NaN              NaN       NaN   \n",
       "3      0               NaN                   NaN              NaN       NaN   \n",
       "4      4               NaN                   NaN              NaN       NaN   \n",
       "\n",
       "                                          text_clean  \n",
       "0  Welcome to this run of our course Here at the ...  \n",
       "1  Our Educator and Mentor team is eager to know ...  \n",
       "2  Hello Professor Kulich. Happy and excited to j...  \n",
       "3  Hello everyone. Good morning.This is the first...  \n",
       "4  Well I m a Chinese so I presume the most impor...  "
      ]
     },
     "execution_count": 66,
     "metadata": {},
     "output_type": "execute_result"
    }
   ],
   "source": [
    "df_com.head()"
   ]
  },
  {
   "cell_type": "markdown",
   "metadata": {
    "colab_type": "text",
    "id": "KntxWVim-1K_"
   },
   "source": [
    "Let's turn it into a list."
   ]
  },
  {
   "cell_type": "code",
   "execution_count": 67,
   "metadata": {
    "colab": {},
    "colab_type": "code",
    "executionInfo": {
     "elapsed": 1308,
     "status": "ok",
     "timestamp": 1596036458863,
     "user": {
      "displayName": "Tom van Nuenen",
      "photoUrl": "https://lh3.googleusercontent.com/a-/AOh14GhtEyfMMXnweSdKHvOqheyZd6KLkXGOtz3AYYAIBA=s64",
      "userId": "10012302451096885058"
     },
     "user_tz": -180
    },
    "id": "FLjNJaCd3D17"
   },
   "outputs": [],
   "source": [
    "text_li = df_com['text_clean'].tolist()"
   ]
  },
  {
   "cell_type": "markdown",
   "metadata": {
    "colab_type": "text",
    "id": "fYwCcPjN-7id"
   },
   "source": [
    "Next, we'll create a function that uses NLTK's `sent_tokenize()` method. This tokenizer splits our texts into sentences, which in turn are split into tokens. We'll also remove stopwords."
   ]
  },
  {
   "cell_type": "code",
   "execution_count": 68,
   "metadata": {
    "colab": {},
    "colab_type": "code",
    "executionInfo": {
     "elapsed": 1332,
     "status": "ok",
     "timestamp": 1596036461949,
     "user": {
      "displayName": "Tom van Nuenen",
      "photoUrl": "https://lh3.googleusercontent.com/a-/AOh14GhtEyfMMXnweSdKHvOqheyZd6KLkXGOtz3AYYAIBA=s64",
      "userId": "10012302451096885058"
     },
     "user_tz": -180
    },
    "id": "xEOgByps3aVx"
   },
   "outputs": [],
   "source": [
    "def sentence_tokenize(text):\n",
    "    sentence_doc = sent_tokenize(text)\n",
    "    sentences = [gensim.utils.simple_preprocess(str(doc), deacc=True) for doc in sentence_doc]  # deacc=True removes punctuations\n",
    "    stop = set(stopwords.words('english') + ['’', '“', '”', 'nbsp', 'http'])\n",
    "    no_stop = [[word for word in sentence if word not in stop] for sentence in sentences]\n",
    "    return no_stop"
   ]
  },
  {
   "cell_type": "code",
   "execution_count": 69,
   "metadata": {
    "colab": {},
    "colab_type": "code",
    "executionInfo": {
     "elapsed": 7818,
     "status": "ok",
     "timestamp": 1596036478305,
     "user": {
      "displayName": "Tom van Nuenen",
      "photoUrl": "https://lh3.googleusercontent.com/a-/AOh14GhtEyfMMXnweSdKHvOqheyZd6KLkXGOtz3AYYAIBA=s64",
      "userId": "10012302451096885058"
     },
     "user_tz": -180
    },
    "id": "k-8QFdsy3bPO"
   },
   "outputs": [],
   "source": [
    "com_sent_li = [sentence_tokenize(text) for text in text_li]"
   ]
  },
  {
   "cell_type": "markdown",
   "metadata": {
    "colab_type": "text",
    "id": "G0svSRqk7v7Z"
   },
   "source": [
    "Note that we now have a list (of comments) of lists (sentences) of lists (tokens). Let's index the first token of the first sentence of the first comment:"
   ]
  },
  {
   "cell_type": "code",
   "execution_count": 73,
   "metadata": {
    "colab": {
     "base_uri": "https://localhost:8080/",
     "height": 35
    },
    "colab_type": "code",
    "executionInfo": {
     "elapsed": 1411,
     "status": "ok",
     "timestamp": 1596036481829,
     "user": {
      "displayName": "Tom van Nuenen",
      "photoUrl": "https://lh3.googleusercontent.com/a-/AOh14GhtEyfMMXnweSdKHvOqheyZd6KLkXGOtz3AYYAIBA=s64",
      "userId": "10012302451096885058"
     },
     "user_tz": -180
    },
    "id": "EgdIVhrt4VxE",
    "outputId": "dca9339e-1e89-46a7-f03c-c5de96a8d178"
   },
   "outputs": [
    {
     "data": {
      "text/plain": [
       "'welcome'"
      ]
     },
     "execution_count": 73,
     "metadata": {},
     "output_type": "execute_result"
    }
   ],
   "source": [
    "com_sent_li[0][0][0]"
   ]
  },
  {
   "cell_type": "markdown",
   "metadata": {
    "colab_type": "text",
    "id": "wmiEo5_66t16"
   },
   "source": [
    "We actually don't need the comment-level demarcation for the rest of our analysis. We can *flatten* our `com_sent_li` object to do so – this way, we create a list (of sentences) of lists (tokens)."
   ]
  },
  {
   "cell_type": "code",
   "execution_count": 74,
   "metadata": {
    "colab": {},
    "colab_type": "code",
    "executionInfo": {
     "elapsed": 1542,
     "status": "ok",
     "timestamp": 1596036484338,
     "user": {
      "displayName": "Tom van Nuenen",
      "photoUrl": "https://lh3.googleusercontent.com/a-/AOh14GhtEyfMMXnweSdKHvOqheyZd6KLkXGOtz3AYYAIBA=s64",
      "userId": "10012302451096885058"
     },
     "user_tz": -180
    },
    "id": "gVb8-KIU7_l-"
   },
   "outputs": [],
   "source": [
    "sent_li = []\n",
    "for sentence in com_sent_li:\n",
    "    for tokens in sentence:\n",
    "        sent_li.append(tokens)"
   ]
  },
  {
   "cell_type": "markdown",
   "metadata": {
    "colab_type": "text",
    "id": "5q9nQ2K08QGX"
   },
   "source": [
    "Writing the same in a list comprehension looks like this, by the way:"
   ]
  },
  {
   "cell_type": "code",
   "execution_count": 75,
   "metadata": {
    "colab": {},
    "colab_type": "code",
    "executionInfo": {
     "elapsed": 1097,
     "status": "ok",
     "timestamp": 1596036487737,
     "user": {
      "displayName": "Tom van Nuenen",
      "photoUrl": "https://lh3.googleusercontent.com/a-/AOh14GhtEyfMMXnweSdKHvOqheyZd6KLkXGOtz3AYYAIBA=s64",
      "userId": "10012302451096885058"
     },
     "user_tz": -180
    },
    "id": "aPfdxQNr7PMi"
   },
   "outputs": [],
   "source": [
    "sent_li = [tokens for sentence in com_sent_li for tokens in sentence]"
   ]
  },
  {
   "cell_type": "markdown",
   "metadata": {
    "colab_type": "text",
    "id": "p33QbO4G8kGs"
   },
   "source": [
    "Next, let's create a trigrams model using Gensim's `Phrases` and `Phraser` classes:"
   ]
  },
  {
   "cell_type": "code",
   "execution_count": 76,
   "metadata": {
    "colab": {
     "base_uri": "https://localhost:8080/",
     "height": 71
    },
    "colab_type": "code",
    "executionInfo": {
     "elapsed": 12502,
     "status": "ok",
     "timestamp": 1596036500687,
     "user": {
      "displayName": "Tom van Nuenen",
      "photoUrl": "https://lh3.googleusercontent.com/a-/AOh14GhtEyfMMXnweSdKHvOqheyZd6KLkXGOtz3AYYAIBA=s64",
      "userId": "10012302451096885058"
     },
     "user_tz": -180
    },
    "id": "QBZvKWy93ZWm",
    "outputId": "ed9ba9dc-9f11-4ca9-f9ab-9dc533991a13"
   },
   "outputs": [],
   "source": [
    "bigram = Phrases(sent_li, min_count=5, threshold=80)\n",
    "trigram = Phrases(bigram[sent_li], threshold=80)  \n",
    "bigram_mod = Phraser(bigram)\n",
    "trigram_mod = Phraser(trigram)"
   ]
  },
  {
   "cell_type": "markdown",
   "metadata": {
    "colab_type": "text",
    "id": "J65kFo458nJH"
   },
   "source": [
    "And let's run that model over our list of lists."
   ]
  },
  {
   "cell_type": "code",
   "execution_count": 77,
   "metadata": {
    "colab": {},
    "colab_type": "code",
    "executionInfo": {
     "elapsed": 4199,
     "status": "ok",
     "timestamp": 1596036506357,
     "user": {
      "displayName": "Tom van Nuenen",
      "photoUrl": "https://lh3.googleusercontent.com/a-/AOh14GhtEyfMMXnweSdKHvOqheyZd6KLkXGOtz3AYYAIBA=s64",
      "userId": "10012302451096885058"
     },
     "user_tz": -180
    },
    "id": "gdZ5MqsG8mfF"
   },
   "outputs": [],
   "source": [
    "trigrams = [trigram_mod[bigram_mod[sentence]] for sentence in sent_li]"
   ]
  },
  {
   "cell_type": "markdown",
   "metadata": {
    "colab_type": "text",
    "id": "Wk2mxX1HZOpk"
   },
   "source": [
    "## Word2Vec\n",
    "\n",
    "Let's create our word embeddings model. Its input is a text corpus (split up in sentences) and its output is a set of \"vectors\" in N dimensions. It allows us to group the vectors of similar words together in vectorspace. We can then reduce the dimensionality to visualize the results in a way humans can understand (such as in a 2-dimensional space), or to perform linear algebra in order to find how words are related.\n",
    "\n",
    "Word2vec is one example of a word embeddings model. It learns by taking words and their contexts (e.g. sentences) into account, and can then try to predict other words. Given enough data, usage and contexts, word2vec can make accurate guesses about a word’s meaning based on its appearances. Those guesses can be used to establish a word’s association with other words (e.g. “man” is to “boy” what “woman” is to “girl”), or cluster documents and classify them by topic."
   ]
  },
  {
   "cell_type": "markdown",
   "metadata": {
    "colab_type": "text",
    "id": "ykxhE2K3Bqfj"
   },
   "source": [
    "### How many cores?\n",
    "Word2Vec can work using independent threads doing simultaneous training. In general, you'll never want to use more workers than the number of CPU cores you have in your machine. So let's check out how many you have.\n",
    "\n"
   ]
  },
  {
   "cell_type": "code",
   "execution_count": 78,
   "metadata": {
    "colab": {
     "base_uri": "https://localhost:8080/",
     "height": 34
    },
    "colab_type": "code",
    "executionInfo": {
     "elapsed": 1587,
     "status": "ok",
     "timestamp": 1596036532568,
     "user": {
      "displayName": "Tom van Nuenen",
      "photoUrl": "https://lh3.googleusercontent.com/a-/AOh14GhtEyfMMXnweSdKHvOqheyZd6KLkXGOtz3AYYAIBA=s64",
      "userId": "10012302451096885058"
     },
     "user_tz": -180
    },
    "id": "LN1nsJ7cO_oT",
    "outputId": "a3cca3ef-0756-4da7-d33d-6fa8e7bd28bb"
   },
   "outputs": [
    {
     "data": {
      "text/plain": [
       "8"
      ]
     },
     "execution_count": 78,
     "metadata": {},
     "output_type": "execute_result"
    }
   ],
   "source": [
    "cores = multiprocessing.cpu_count() # Count the number of cores in a computer\n",
    "cores"
   ]
  },
  {
   "cell_type": "markdown",
   "metadata": {
    "colab_type": "text",
    "id": "hIt-VOPQCQiP"
   },
   "source": [
    "We now instantiate and train our Word2Vec model, using the parameters below."
   ]
  },
  {
   "cell_type": "code",
   "execution_count": 102,
   "metadata": {
    "colab": {},
    "colab_type": "code",
    "executionInfo": {
     "elapsed": 39180,
     "status": "ok",
     "timestamp": 1596037818439,
     "user": {
      "displayName": "Tom van Nuenen",
      "photoUrl": "https://lh3.googleusercontent.com/a-/AOh14GhtEyfMMXnweSdKHvOqheyZd6KLkXGOtz3AYYAIBA=s64",
      "userId": "10012302451096885058"
     },
     "user_tz": -180
    },
    "id": "sQq117-pZOpl"
   },
   "outputs": [],
   "source": [
    "num_features = 300        # Word vector dimensionality (how many features each word will be given)\n",
    "min_word_count = 2        # Minimum word count to be taken into account\n",
    "num_workers = cores       # Number of threads to run in parallel (equal to your amount of cores)\n",
    "context = 6               # Context window size\n",
    "downsampling = 0 #1e-2    # Downsample setting for frequent words\n",
    "seed_n = 1                # Seed for the random number generator (to create reproducible results) \n",
    "sg_n = 1                  # Skip-gram = 1, CBOW = 0\n",
    "\n",
    "model = Word2Vec(trigrams, workers=num_workers, \\\n",
    "            size=num_features, min_count = min_word_count, \\\n",
    "            window = context, sample = downsampling, seed=seed_n, sg=sg_n)"
   ]
  },
  {
   "cell_type": "markdown",
   "metadata": {
    "colab_type": "text",
    "id": "xrNV3eYeZOpo"
   },
   "source": [
    "That was it! We can save this model in a Gensim object."
   ]
  },
  {
   "cell_type": "code",
   "execution_count": 103,
   "metadata": {
    "colab": {
     "base_uri": "https://localhost:8080/",
     "height": 71
    },
    "colab_type": "code",
    "executionInfo": {
     "elapsed": 39251,
     "status": "ok",
     "timestamp": 1596035659089,
     "user": {
      "displayName": "Tom van Nuenen",
      "photoUrl": "https://lh3.googleusercontent.com/a-/AOh14GhtEyfMMXnweSdKHvOqheyZd6KLkXGOtz3AYYAIBA=s64",
      "userId": "10012302451096885058"
     },
     "user_tz": -180
    },
    "id": "uOzf_HW4ZOpo",
    "outputId": "878c1a0a-1750-4e61-b57f-eb78e67ea9a1"
   },
   "outputs": [],
   "source": [
    "model.save(\"word2vec.vec\")"
   ]
  },
  {
   "cell_type": "code",
   "execution_count": 104,
   "metadata": {
    "colab": {
     "base_uri": "https://localhost:8080/",
     "height": 71
    },
    "colab_type": "code",
    "executionInfo": {
     "elapsed": 39645,
     "status": "ok",
     "timestamp": 1596035659717,
     "user": {
      "displayName": "Tom van Nuenen",
      "photoUrl": "https://lh3.googleusercontent.com/a-/AOh14GhtEyfMMXnweSdKHvOqheyZd6KLkXGOtz3AYYAIBA=s64",
      "userId": "10012302451096885058"
     },
     "user_tz": -180
    },
    "id": "4l3NDavhZOpr",
    "outputId": "cfae7151-f7bd-4df9-fc86-b41067992e84"
   },
   "outputs": [],
   "source": [
    "model = Word2Vec.load(\"word2vec.vec\")"
   ]
  },
  {
   "cell_type": "markdown",
   "metadata": {
    "colab_type": "text",
    "id": "wWQC4S9IZOpu"
   },
   "source": [
    "How many terms are in our vocabulary?"
   ]
  },
  {
   "cell_type": "code",
   "execution_count": 105,
   "metadata": {
    "colab": {
     "base_uri": "https://localhost:8080/",
     "height": 34
    },
    "colab_type": "code",
    "executionInfo": {
     "elapsed": 1197,
     "status": "ok",
     "timestamp": 1596037853832,
     "user": {
      "displayName": "Tom van Nuenen",
      "photoUrl": "https://lh3.googleusercontent.com/a-/AOh14GhtEyfMMXnweSdKHvOqheyZd6KLkXGOtz3AYYAIBA=s64",
      "userId": "10012302451096885058"
     },
     "user_tz": -180
    },
    "id": "SegRmcybZOpw",
    "outputId": "c2622fb6-d414-49d5-c072-9e0c2719f40b"
   },
   "outputs": [
    {
     "name": "stdout",
     "output_type": "stream",
     "text": [
      "13,779 terms in the vocabulary.\n"
     ]
    }
   ],
   "source": [
    "# Note that Gensim v3 uses model.wv.vocab, while v4 uses model.vocab - please change accordingly if necessary\n",
    "print('{:,} terms in the vocabulary.'.format(len(model.wv.vocab)))"
   ]
  },
  {
   "cell_type": "markdown",
   "metadata": {
    "colab_type": "text",
    "id": "xw4th__0ZOp0"
   },
   "source": [
    "### Getting related terms\n",
    "\n",
    "With the information in our word embeddings model, we can try to find similarities between words that interest us (i.e. words that have a similar vector). Let's create a function that retrieves related terms to some input."
   ]
  },
  {
   "cell_type": "code",
   "execution_count": 81,
   "metadata": {
    "colab": {},
    "colab_type": "code",
    "executionInfo": {
     "elapsed": 1492,
     "status": "ok",
     "timestamp": 1596037858997,
     "user": {
      "displayName": "Tom van Nuenen",
      "photoUrl": "https://lh3.googleusercontent.com/a-/AOh14GhtEyfMMXnweSdKHvOqheyZd6KLkXGOtz3AYYAIBA=s64",
      "userId": "10012302451096885058"
     },
     "user_tz": -180
    },
    "id": "v1HVouFqZOp0"
   },
   "outputs": [],
   "source": [
    "def get_related_terms(token, topn=20):\n",
    "    \"\"\"\n",
    "    look up the topn most similar terms to token and print them as a formatted list\n",
    "    \"\"\"\n",
    "\n",
    "    for word, similarity in model.most_similar(positive=[token], topn=topn):\n",
    "        print(word, round(similarity, 3))"
   ]
  },
  {
   "cell_type": "code",
   "execution_count": 85,
   "metadata": {
    "colab": {
     "base_uri": "https://localhost:8080/",
     "height": 411
    },
    "colab_type": "code",
    "executionInfo": {
     "elapsed": 1356,
     "status": "ok",
     "timestamp": 1596037862238,
     "user": {
      "displayName": "Tom van Nuenen",
      "photoUrl": "https://lh3.googleusercontent.com/a-/AOh14GhtEyfMMXnweSdKHvOqheyZd6KLkXGOtz3AYYAIBA=s64",
      "userId": "10012302451096885058"
     },
     "user_tz": -180
    },
    "id": "CDyV-ntGZOp3",
    "outputId": "b27dcc9f-ebc7-43cc-f301-f5120a0f7554"
   },
   "outputs": [
    {
     "name": "stdout",
     "output_type": "stream",
     "text": [
      "african 0.882\n",
      "eastern 0.874\n",
      "asian 0.863\n",
      "immigrants 0.861\n",
      "islamic 0.859\n",
      "north_south 0.858\n",
      "latin_american 0.853\n",
      "africans 0.845\n",
      "dialects 0.842\n",
      "western 0.842\n",
      "indigenous 0.842\n",
      "predominantly 0.842\n",
      "irish 0.842\n",
      "europeans 0.841\n",
      "colonization 0.841\n",
      "origins 0.839\n",
      "population 0.838\n",
      "middle_eastern 0.838\n",
      "ethnically 0.836\n",
      "australian 0.835\n"
     ]
    }
   ],
   "source": [
    "get_related_terms(u'european')"
   ]
  },
  {
   "cell_type": "markdown",
   "metadata": {
    "colab_type": "text",
    "id": "LAF3aRsHZOp6"
   },
   "source": [
    "### Word algebra\n",
    "\n",
    "Word algebra, also known as analogy completion, means doing math with words (like the famous example \"king - man + woman = queen\". The core idea is that once words are represented as numerical vectors, you can do math with them. The mathematical procedure works as follows:\n",
    "\n",
    "1. Provide a set of words or phrases you want to add or subtract.\n",
    "2. Look up the vectors that represent those terms in the word vector model.\n",
    "3. Add and subtract those vectors to produce a new, combined vector.\n",
    "4. Look up the most similar vector(s) to this new, combined vector via cosine similarity.\n",
    "5. Return the word(s) associated with the similar vector(s).\n",
    "\n",
    "Let's try it out. We'll create a function that does this for us."
   ]
  },
  {
   "cell_type": "code",
   "execution_count": 88,
   "metadata": {
    "colab": {},
    "colab_type": "code",
    "executionInfo": {
     "elapsed": 1516,
     "status": "ok",
     "timestamp": 1596037867247,
     "user": {
      "displayName": "Tom van Nuenen",
      "photoUrl": "https://lh3.googleusercontent.com/a-/AOh14GhtEyfMMXnweSdKHvOqheyZd6KLkXGOtz3AYYAIBA=s64",
      "userId": "10012302451096885058"
     },
     "user_tz": -180
    },
    "id": "X8RsoWBAZOp7"
   },
   "outputs": [],
   "source": [
    "def word_algebra(add=[], subtract=[], topn=10):\n",
    "    \"\"\"\n",
    "    combine the vectors associated with the words provided\n",
    "    in add= and subtract=, look up the topn most similar\n",
    "    terms to the combined vector, and print the result(s)\n",
    "    \"\"\"\n",
    "    answers = model.most_similar(positive=add, negative=subtract, topn=topn)\n",
    "    \n",
    "    for term, similarity in answers:\n",
    "        print(term)"
   ]
  },
  {
   "cell_type": "code",
   "execution_count": 89,
   "metadata": {
    "colab": {
     "base_uri": "https://localhost:8080/",
     "height": 88
    },
    "colab_type": "code",
    "executionInfo": {
     "elapsed": 1733,
     "status": "ok",
     "timestamp": 1596037867714,
     "user": {
      "displayName": "Tom van Nuenen",
      "photoUrl": "https://lh3.googleusercontent.com/a-/AOh14GhtEyfMMXnweSdKHvOqheyZd6KLkXGOtz3AYYAIBA=s64",
      "userId": "10012302451096885058"
     },
     "user_tz": -180
    },
    "id": "hXhZB8SOZOp9",
    "outputId": "c49eb164-300c-4878-e587-ae94d1d3029c",
    "scrolled": true
   },
   "outputs": [
    {
     "name": "stdout",
     "output_type": "stream",
     "text": [
      "issue\n",
      "obvious\n",
      "causes\n",
      "sides\n",
      "root\n",
      "forth\n",
      "lies\n",
      "function\n",
      "emphasise\n",
      "exhibit\n"
     ]
    }
   ],
   "source": [
    "word_algebra(add=['cultural','problem'])"
   ]
  },
  {
   "cell_type": "code",
   "execution_count": 90,
   "metadata": {
    "colab": {
     "base_uri": "https://localhost:8080/",
     "height": 88
    },
    "colab_type": "code",
    "executionInfo": {
     "elapsed": 1479,
     "status": "ok",
     "timestamp": 1596037867715,
     "user": {
      "displayName": "Tom van Nuenen",
      "photoUrl": "https://lh3.googleusercontent.com/a-/AOh14GhtEyfMMXnweSdKHvOqheyZd6KLkXGOtz3AYYAIBA=s64",
      "userId": "10012302451096885058"
     },
     "user_tz": -180
    },
    "id": "ho-F51R3ZOqB",
    "outputId": "d129dd45-c615-4551-9779-3c6b7af9ff05"
   },
   "outputs": [
    {
     "name": "stdout",
     "output_type": "stream",
     "text": [
      "variations\n",
      "styles\n",
      "hc_lc\n",
      "interactions\n",
      "able_recognize\n",
      "adjustment\n",
      "processes\n",
      "categories\n",
      "encounters\n",
      "communicative\n"
     ]
    }
   ],
   "source": [
    "word_algebra(add=['cultural','problem'], subtract=['man'])"
   ]
  },
  {
   "cell_type": "markdown",
   "metadata": {
    "colab_type": "text",
    "id": "5p4obNSvZOqG"
   },
   "source": [
    "## Word Vector Visualization with t-SNE\n",
    "\n",
    "t-Distributed Stochastic Neighbor Embedding, or t-SNE, is a dimensionality reduction technique to assist with visualizing high-dimensional datasets. It attempts to map high-dimensional data onto a low two- or three-dimensional representation. It tries to keep the relative distances between points as closely as possible in both high-dimensional and low-dimensional space.\n",
    "\n",
    "Scikit-learn provides a convenient implementation of the t-SNE algorithm with its `TSNE` class.\n",
    "\n",
    "Our input for t-SNE will be the DataFrame of word vectors we created before. Let's first drop some stopwords, and\n",
    "take only the 5,000 most frequent terms in the vocabulary for time's sake.\n",
    "\n",
    "First, we need to create a DataFrame with the terms as the row labels, and the 100 dimensions of the word vector model as the columns."
   ]
  },
  {
   "cell_type": "code",
   "execution_count": 92,
   "metadata": {
    "colab": {
     "base_uri": "https://localhost:8080/",
     "height": 253
    },
    "colab_type": "code",
    "executionInfo": {
     "elapsed": 1844,
     "status": "ok",
     "timestamp": 1596037883761,
     "user": {
      "displayName": "Tom van Nuenen",
      "photoUrl": "https://lh3.googleusercontent.com/a-/AOh14GhtEyfMMXnweSdKHvOqheyZd6KLkXGOtz3AYYAIBA=s64",
      "userId": "10012302451096885058"
     },
     "user_tz": -180
    },
    "id": "-Tusa5xMZOqH",
    "outputId": "6b25fae7-af0e-41ad-fa77-a29866d70709"
   },
   "outputs": [
    {
     "data": {
      "text/html": [
       "<div>\n",
       "<style scoped>\n",
       "    .dataframe tbody tr th:only-of-type {\n",
       "        vertical-align: middle;\n",
       "    }\n",
       "\n",
       "    .dataframe tbody tr th {\n",
       "        vertical-align: top;\n",
       "    }\n",
       "\n",
       "    .dataframe thead th {\n",
       "        text-align: right;\n",
       "    }\n",
       "</style>\n",
       "<table border=\"1\" class=\"dataframe\">\n",
       "  <thead>\n",
       "    <tr style=\"text-align: right;\">\n",
       "      <th></th>\n",
       "      <th>0</th>\n",
       "      <th>1</th>\n",
       "      <th>2</th>\n",
       "      <th>3</th>\n",
       "      <th>4</th>\n",
       "      <th>5</th>\n",
       "      <th>6</th>\n",
       "      <th>7</th>\n",
       "      <th>8</th>\n",
       "      <th>9</th>\n",
       "      <th>...</th>\n",
       "      <th>290</th>\n",
       "      <th>291</th>\n",
       "      <th>292</th>\n",
       "      <th>293</th>\n",
       "      <th>294</th>\n",
       "      <th>295</th>\n",
       "      <th>296</th>\n",
       "      <th>297</th>\n",
       "      <th>298</th>\n",
       "      <th>299</th>\n",
       "    </tr>\n",
       "  </thead>\n",
       "  <tbody>\n",
       "    <tr>\n",
       "      <th>pens</th>\n",
       "      <td>-0.071777</td>\n",
       "      <td>-0.012775</td>\n",
       "      <td>-0.065915</td>\n",
       "      <td>-0.115861</td>\n",
       "      <td>0.069841</td>\n",
       "      <td>0.050224</td>\n",
       "      <td>0.084207</td>\n",
       "      <td>0.090258</td>\n",
       "      <td>-0.044392</td>\n",
       "      <td>0.041476</td>\n",
       "      <td>...</td>\n",
       "      <td>0.040967</td>\n",
       "      <td>-0.060461</td>\n",
       "      <td>-0.040834</td>\n",
       "      <td>0.024077</td>\n",
       "      <td>-0.039086</td>\n",
       "      <td>0.004867</td>\n",
       "      <td>0.014293</td>\n",
       "      <td>-0.045933</td>\n",
       "      <td>-0.016928</td>\n",
       "      <td>-0.034440</td>\n",
       "    </tr>\n",
       "    <tr>\n",
       "      <th>snake</th>\n",
       "      <td>-0.050524</td>\n",
       "      <td>-0.007629</td>\n",
       "      <td>-0.036474</td>\n",
       "      <td>-0.089833</td>\n",
       "      <td>0.085683</td>\n",
       "      <td>0.053400</td>\n",
       "      <td>0.082193</td>\n",
       "      <td>0.068238</td>\n",
       "      <td>-0.060112</td>\n",
       "      <td>0.036512</td>\n",
       "      <td>...</td>\n",
       "      <td>0.042715</td>\n",
       "      <td>-0.061790</td>\n",
       "      <td>-0.020632</td>\n",
       "      <td>0.034443</td>\n",
       "      <td>-0.042395</td>\n",
       "      <td>0.003541</td>\n",
       "      <td>-0.000640</td>\n",
       "      <td>-0.044510</td>\n",
       "      <td>-0.017364</td>\n",
       "      <td>-0.037284</td>\n",
       "    </tr>\n",
       "    <tr>\n",
       "      <th>hindsight</th>\n",
       "      <td>-0.072400</td>\n",
       "      <td>-0.013743</td>\n",
       "      <td>-0.081995</td>\n",
       "      <td>-0.127475</td>\n",
       "      <td>0.019953</td>\n",
       "      <td>0.021737</td>\n",
       "      <td>0.065020</td>\n",
       "      <td>0.069140</td>\n",
       "      <td>-0.036209</td>\n",
       "      <td>0.013391</td>\n",
       "      <td>...</td>\n",
       "      <td>0.052135</td>\n",
       "      <td>-0.060243</td>\n",
       "      <td>-0.060657</td>\n",
       "      <td>0.060296</td>\n",
       "      <td>-0.080406</td>\n",
       "      <td>0.004948</td>\n",
       "      <td>0.021079</td>\n",
       "      <td>-0.043984</td>\n",
       "      <td>0.002858</td>\n",
       "      <td>-0.054514</td>\n",
       "    </tr>\n",
       "    <tr>\n",
       "      <th>competently</th>\n",
       "      <td>-0.044828</td>\n",
       "      <td>-0.003042</td>\n",
       "      <td>-0.077056</td>\n",
       "      <td>-0.132246</td>\n",
       "      <td>0.028013</td>\n",
       "      <td>0.052331</td>\n",
       "      <td>0.071501</td>\n",
       "      <td>0.066206</td>\n",
       "      <td>-0.037323</td>\n",
       "      <td>0.023777</td>\n",
       "      <td>...</td>\n",
       "      <td>0.041571</td>\n",
       "      <td>-0.044194</td>\n",
       "      <td>-0.056700</td>\n",
       "      <td>0.053672</td>\n",
       "      <td>-0.051024</td>\n",
       "      <td>0.006473</td>\n",
       "      <td>0.025016</td>\n",
       "      <td>-0.028347</td>\n",
       "      <td>0.002246</td>\n",
       "      <td>-0.041878</td>\n",
       "    </tr>\n",
       "    <tr>\n",
       "      <th>safecreative</th>\n",
       "      <td>-0.059065</td>\n",
       "      <td>-0.012718</td>\n",
       "      <td>-0.058940</td>\n",
       "      <td>-0.118076</td>\n",
       "      <td>0.064464</td>\n",
       "      <td>0.017560</td>\n",
       "      <td>0.077404</td>\n",
       "      <td>0.072513</td>\n",
       "      <td>-0.034379</td>\n",
       "      <td>0.024794</td>\n",
       "      <td>...</td>\n",
       "      <td>0.056786</td>\n",
       "      <td>-0.058259</td>\n",
       "      <td>-0.036119</td>\n",
       "      <td>0.036368</td>\n",
       "      <td>-0.056881</td>\n",
       "      <td>0.008136</td>\n",
       "      <td>0.008696</td>\n",
       "      <td>-0.051099</td>\n",
       "      <td>-0.004120</td>\n",
       "      <td>-0.067410</td>\n",
       "    </tr>\n",
       "    <tr>\n",
       "      <th>...</th>\n",
       "      <td>...</td>\n",
       "      <td>...</td>\n",
       "      <td>...</td>\n",
       "      <td>...</td>\n",
       "      <td>...</td>\n",
       "      <td>...</td>\n",
       "      <td>...</td>\n",
       "      <td>...</td>\n",
       "      <td>...</td>\n",
       "      <td>...</td>\n",
       "      <td>...</td>\n",
       "      <td>...</td>\n",
       "      <td>...</td>\n",
       "      <td>...</td>\n",
       "      <td>...</td>\n",
       "      <td>...</td>\n",
       "      <td>...</td>\n",
       "      <td>...</td>\n",
       "      <td>...</td>\n",
       "      <td>...</td>\n",
       "      <td>...</td>\n",
       "    </tr>\n",
       "    <tr>\n",
       "      <th>think</th>\n",
       "      <td>-0.113001</td>\n",
       "      <td>0.004582</td>\n",
       "      <td>-0.038043</td>\n",
       "      <td>-0.096367</td>\n",
       "      <td>0.013499</td>\n",
       "      <td>0.113994</td>\n",
       "      <td>0.137279</td>\n",
       "      <td>0.080626</td>\n",
       "      <td>0.000652</td>\n",
       "      <td>-0.049199</td>\n",
       "      <td>...</td>\n",
       "      <td>0.055704</td>\n",
       "      <td>0.057805</td>\n",
       "      <td>-0.018887</td>\n",
       "      <td>0.070893</td>\n",
       "      <td>-0.121991</td>\n",
       "      <td>0.002611</td>\n",
       "      <td>0.027904</td>\n",
       "      <td>-0.061192</td>\n",
       "      <td>-0.032370</td>\n",
       "      <td>-0.095199</td>\n",
       "    </tr>\n",
       "    <tr>\n",
       "      <th>cultural</th>\n",
       "      <td>-0.042113</td>\n",
       "      <td>0.050266</td>\n",
       "      <td>-0.034401</td>\n",
       "      <td>-0.047939</td>\n",
       "      <td>0.023789</td>\n",
       "      <td>0.018629</td>\n",
       "      <td>-0.051416</td>\n",
       "      <td>-0.065410</td>\n",
       "      <td>-0.018043</td>\n",
       "      <td>-0.013228</td>\n",
       "      <td>...</td>\n",
       "      <td>0.044619</td>\n",
       "      <td>-0.026098</td>\n",
       "      <td>0.051893</td>\n",
       "      <td>0.074644</td>\n",
       "      <td>-0.050740</td>\n",
       "      <td>0.044840</td>\n",
       "      <td>-0.009082</td>\n",
       "      <td>-0.008333</td>\n",
       "      <td>0.075245</td>\n",
       "      <td>0.026154</td>\n",
       "    </tr>\n",
       "    <tr>\n",
       "      <th>different</th>\n",
       "      <td>0.020864</td>\n",
       "      <td>-0.036423</td>\n",
       "      <td>-0.117106</td>\n",
       "      <td>-0.138592</td>\n",
       "      <td>-0.013320</td>\n",
       "      <td>0.051274</td>\n",
       "      <td>0.061817</td>\n",
       "      <td>0.086441</td>\n",
       "      <td>-0.045858</td>\n",
       "      <td>-0.044461</td>\n",
       "      <td>...</td>\n",
       "      <td>0.007419</td>\n",
       "      <td>-0.110917</td>\n",
       "      <td>-0.056807</td>\n",
       "      <td>0.093585</td>\n",
       "      <td>-0.042660</td>\n",
       "      <td>0.021983</td>\n",
       "      <td>-0.012540</td>\n",
       "      <td>0.049146</td>\n",
       "      <td>0.032113</td>\n",
       "      <td>0.038967</td>\n",
       "    </tr>\n",
       "    <tr>\n",
       "      <th>culture</th>\n",
       "      <td>-0.089575</td>\n",
       "      <td>0.009948</td>\n",
       "      <td>-0.089878</td>\n",
       "      <td>-0.064490</td>\n",
       "      <td>-0.028623</td>\n",
       "      <td>0.001827</td>\n",
       "      <td>0.059268</td>\n",
       "      <td>0.014839</td>\n",
       "      <td>-0.035972</td>\n",
       "      <td>-0.011894</td>\n",
       "      <td>...</td>\n",
       "      <td>0.109846</td>\n",
       "      <td>-0.048446</td>\n",
       "      <td>-0.005470</td>\n",
       "      <td>-0.016890</td>\n",
       "      <td>-0.042515</td>\n",
       "      <td>-0.064860</td>\n",
       "      <td>0.020312</td>\n",
       "      <td>-0.102158</td>\n",
       "      <td>-0.001769</td>\n",
       "      <td>0.014197</td>\n",
       "    </tr>\n",
       "    <tr>\n",
       "      <th>people</th>\n",
       "      <td>0.034825</td>\n",
       "      <td>0.007348</td>\n",
       "      <td>-0.028750</td>\n",
       "      <td>-0.014251</td>\n",
       "      <td>0.037092</td>\n",
       "      <td>0.087869</td>\n",
       "      <td>0.029141</td>\n",
       "      <td>0.054536</td>\n",
       "      <td>0.034948</td>\n",
       "      <td>-0.018707</td>\n",
       "      <td>...</td>\n",
       "      <td>0.092785</td>\n",
       "      <td>-0.001300</td>\n",
       "      <td>-0.016272</td>\n",
       "      <td>0.071611</td>\n",
       "      <td>-0.048502</td>\n",
       "      <td>-0.025568</td>\n",
       "      <td>0.006646</td>\n",
       "      <td>0.002297</td>\n",
       "      <td>0.033431</td>\n",
       "      <td>0.023648</td>\n",
       "    </tr>\n",
       "  </tbody>\n",
       "</table>\n",
       "<p>13779 rows × 300 columns</p>\n",
       "</div>"
      ],
      "text/plain": [
       "                   0         1         2         3         4         5    \\\n",
       "pens         -0.071777 -0.012775 -0.065915 -0.115861  0.069841  0.050224   \n",
       "snake        -0.050524 -0.007629 -0.036474 -0.089833  0.085683  0.053400   \n",
       "hindsight    -0.072400 -0.013743 -0.081995 -0.127475  0.019953  0.021737   \n",
       "competently  -0.044828 -0.003042 -0.077056 -0.132246  0.028013  0.052331   \n",
       "safecreative -0.059065 -0.012718 -0.058940 -0.118076  0.064464  0.017560   \n",
       "...                ...       ...       ...       ...       ...       ...   \n",
       "think        -0.113001  0.004582 -0.038043 -0.096367  0.013499  0.113994   \n",
       "cultural     -0.042113  0.050266 -0.034401 -0.047939  0.023789  0.018629   \n",
       "different     0.020864 -0.036423 -0.117106 -0.138592 -0.013320  0.051274   \n",
       "culture      -0.089575  0.009948 -0.089878 -0.064490 -0.028623  0.001827   \n",
       "people        0.034825  0.007348 -0.028750 -0.014251  0.037092  0.087869   \n",
       "\n",
       "                   6         7         8         9    ...       290       291  \\\n",
       "pens          0.084207  0.090258 -0.044392  0.041476  ...  0.040967 -0.060461   \n",
       "snake         0.082193  0.068238 -0.060112  0.036512  ...  0.042715 -0.061790   \n",
       "hindsight     0.065020  0.069140 -0.036209  0.013391  ...  0.052135 -0.060243   \n",
       "competently   0.071501  0.066206 -0.037323  0.023777  ...  0.041571 -0.044194   \n",
       "safecreative  0.077404  0.072513 -0.034379  0.024794  ...  0.056786 -0.058259   \n",
       "...                ...       ...       ...       ...  ...       ...       ...   \n",
       "think         0.137279  0.080626  0.000652 -0.049199  ...  0.055704  0.057805   \n",
       "cultural     -0.051416 -0.065410 -0.018043 -0.013228  ...  0.044619 -0.026098   \n",
       "different     0.061817  0.086441 -0.045858 -0.044461  ...  0.007419 -0.110917   \n",
       "culture       0.059268  0.014839 -0.035972 -0.011894  ...  0.109846 -0.048446   \n",
       "people        0.029141  0.054536  0.034948 -0.018707  ...  0.092785 -0.001300   \n",
       "\n",
       "                   292       293       294       295       296       297  \\\n",
       "pens         -0.040834  0.024077 -0.039086  0.004867  0.014293 -0.045933   \n",
       "snake        -0.020632  0.034443 -0.042395  0.003541 -0.000640 -0.044510   \n",
       "hindsight    -0.060657  0.060296 -0.080406  0.004948  0.021079 -0.043984   \n",
       "competently  -0.056700  0.053672 -0.051024  0.006473  0.025016 -0.028347   \n",
       "safecreative -0.036119  0.036368 -0.056881  0.008136  0.008696 -0.051099   \n",
       "...                ...       ...       ...       ...       ...       ...   \n",
       "think        -0.018887  0.070893 -0.121991  0.002611  0.027904 -0.061192   \n",
       "cultural      0.051893  0.074644 -0.050740  0.044840 -0.009082 -0.008333   \n",
       "different    -0.056807  0.093585 -0.042660  0.021983 -0.012540  0.049146   \n",
       "culture      -0.005470 -0.016890 -0.042515 -0.064860  0.020312 -0.102158   \n",
       "people       -0.016272  0.071611 -0.048502 -0.025568  0.006646  0.002297   \n",
       "\n",
       "                   298       299  \n",
       "pens         -0.016928 -0.034440  \n",
       "snake        -0.017364 -0.037284  \n",
       "hindsight     0.002858 -0.054514  \n",
       "competently   0.002246 -0.041878  \n",
       "safecreative -0.004120 -0.067410  \n",
       "...                ...       ...  \n",
       "think        -0.032370 -0.095199  \n",
       "cultural      0.075245  0.026154  \n",
       "different     0.032113  0.038967  \n",
       "culture      -0.001769  0.014197  \n",
       "people        0.033431  0.023648  \n",
       "\n",
       "[13779 rows x 300 columns]"
      ]
     },
     "execution_count": 92,
     "metadata": {},
     "output_type": "execute_result"
    }
   ],
   "source": [
    "# build a list of the terms, integer indices, and term counts from the word2vec model vocabulary\n",
    "ordered_vocab = [(term, voc.index, voc.count) for term, voc in model.wv.vocab.items()]\n",
    "\n",
    "# sort by the term counts, so the most common terms appear first\n",
    "ordered_vocab.sort(key = lambda x: x[2])  \n",
    "\n",
    "# unzip the terms, integer indices, and counts into separate lists\n",
    "ordered_terms, term_indices, term_counts = zip(*ordered_vocab)\n",
    "\n",
    "# create a DataFrame with the vectors as data, and the terms as row labels\n",
    "word_vectors = pd.DataFrame(model.wv.syn0norm[term_indices, :], index=ordered_terms)\n",
    "\n",
    "word_vectors"
   ]
  },
  {
   "cell_type": "code",
   "execution_count": 93,
   "metadata": {
    "colab": {},
    "colab_type": "code",
    "id": "mSeCHT9HZOqK"
   },
   "outputs": [],
   "source": [
    "tsne = TSNE()\n",
    "tsne_vectors = tsne.fit_transform(word_vectors.values)"
   ]
  },
  {
   "cell_type": "code",
   "execution_count": 94,
   "metadata": {
    "colab": {},
    "colab_type": "code",
    "id": "kZTyvI2gZOqO"
   },
   "outputs": [],
   "source": [
    "tsne_vectors = pd.DataFrame(tsne_vectors,\n",
    "                            index=pd.Index(word_vectors.index),\n",
    "                            columns=['x_coord', 'y_coord'])"
   ]
  },
  {
   "cell_type": "code",
   "execution_count": 95,
   "metadata": {
    "colab": {},
    "colab_type": "code",
    "id": "gO4nrS52ZOqQ"
   },
   "outputs": [
    {
     "data": {
      "text/html": [
       "<div>\n",
       "<style scoped>\n",
       "    .dataframe tbody tr th:only-of-type {\n",
       "        vertical-align: middle;\n",
       "    }\n",
       "\n",
       "    .dataframe tbody tr th {\n",
       "        vertical-align: top;\n",
       "    }\n",
       "\n",
       "    .dataframe thead th {\n",
       "        text-align: right;\n",
       "    }\n",
       "</style>\n",
       "<table border=\"1\" class=\"dataframe\">\n",
       "  <thead>\n",
       "    <tr style=\"text-align: right;\">\n",
       "      <th></th>\n",
       "      <th>x_coord</th>\n",
       "      <th>y_coord</th>\n",
       "    </tr>\n",
       "  </thead>\n",
       "  <tbody>\n",
       "    <tr>\n",
       "      <th>pens</th>\n",
       "      <td>-16.694654</td>\n",
       "      <td>-32.048573</td>\n",
       "    </tr>\n",
       "    <tr>\n",
       "      <th>snake</th>\n",
       "      <td>-37.612736</td>\n",
       "      <td>-40.024883</td>\n",
       "    </tr>\n",
       "    <tr>\n",
       "      <th>hindsight</th>\n",
       "      <td>17.202772</td>\n",
       "      <td>-3.773781</td>\n",
       "    </tr>\n",
       "    <tr>\n",
       "      <th>competently</th>\n",
       "      <td>32.182758</td>\n",
       "      <td>18.246811</td>\n",
       "    </tr>\n",
       "    <tr>\n",
       "      <th>safecreative</th>\n",
       "      <td>12.749897</td>\n",
       "      <td>-35.108528</td>\n",
       "    </tr>\n",
       "  </tbody>\n",
       "</table>\n",
       "</div>"
      ],
      "text/plain": [
       "                x_coord    y_coord\n",
       "pens         -16.694654 -32.048573\n",
       "snake        -37.612736 -40.024883\n",
       "hindsight     17.202772  -3.773781\n",
       "competently   32.182758  18.246811\n",
       "safecreative  12.749897 -35.108528"
      ]
     },
     "execution_count": 95,
     "metadata": {},
     "output_type": "execute_result"
    }
   ],
   "source": [
    "tsne_vectors.head()"
   ]
  },
  {
   "cell_type": "code",
   "execution_count": 45,
   "metadata": {
    "colab": {},
    "colab_type": "code",
    "id": "IyDMY7rsZOqT"
   },
   "outputs": [],
   "source": [
    "tsne_vectors['word'] = tsne_vectors.index"
   ]
  },
  {
   "cell_type": "code",
   "execution_count": 46,
   "metadata": {
    "colab": {},
    "colab_type": "code",
    "id": "VgpLvkq9ZOqV"
   },
   "outputs": [
    {
     "data": {
      "text/html": [
       "\n",
       "    <div class=\"bk-root\">\n",
       "        <a href=\"https://bokeh.org\" target=\"_blank\" class=\"bk-logo bk-logo-small bk-logo-notebook\"></a>\n",
       "        <span id=\"1001\">Loading BokehJS ...</span>\n",
       "    </div>"
      ]
     },
     "metadata": {},
     "output_type": "display_data"
    },
    {
     "data": {
      "application/javascript": [
       "\n",
       "(function(root) {\n",
       "  function now() {\n",
       "    return new Date();\n",
       "  }\n",
       "\n",
       "  var force = true;\n",
       "\n",
       "  if (typeof root._bokeh_onload_callbacks === \"undefined\" || force === true) {\n",
       "    root._bokeh_onload_callbacks = [];\n",
       "    root._bokeh_is_loading = undefined;\n",
       "  }\n",
       "\n",
       "  var JS_MIME_TYPE = 'application/javascript';\n",
       "  var HTML_MIME_TYPE = 'text/html';\n",
       "  var EXEC_MIME_TYPE = 'application/vnd.bokehjs_exec.v0+json';\n",
       "  var CLASS_NAME = 'output_bokeh rendered_html';\n",
       "\n",
       "  /**\n",
       "   * Render data to the DOM node\n",
       "   */\n",
       "  function render(props, node) {\n",
       "    var script = document.createElement(\"script\");\n",
       "    node.appendChild(script);\n",
       "  }\n",
       "\n",
       "  /**\n",
       "   * Handle when an output is cleared or removed\n",
       "   */\n",
       "  function handleClearOutput(event, handle) {\n",
       "    var cell = handle.cell;\n",
       "\n",
       "    var id = cell.output_area._bokeh_element_id;\n",
       "    var server_id = cell.output_area._bokeh_server_id;\n",
       "    // Clean up Bokeh references\n",
       "    if (id != null && id in Bokeh.index) {\n",
       "      Bokeh.index[id].model.document.clear();\n",
       "      delete Bokeh.index[id];\n",
       "    }\n",
       "\n",
       "    if (server_id !== undefined) {\n",
       "      // Clean up Bokeh references\n",
       "      var cmd = \"from bokeh.io.state import curstate; print(curstate().uuid_to_server['\" + server_id + \"'].get_sessions()[0].document.roots[0]._id)\";\n",
       "      cell.notebook.kernel.execute(cmd, {\n",
       "        iopub: {\n",
       "          output: function(msg) {\n",
       "            var id = msg.content.text.trim();\n",
       "            if (id in Bokeh.index) {\n",
       "              Bokeh.index[id].model.document.clear();\n",
       "              delete Bokeh.index[id];\n",
       "            }\n",
       "          }\n",
       "        }\n",
       "      });\n",
       "      // Destroy server and session\n",
       "      var cmd = \"import bokeh.io.notebook as ion; ion.destroy_server('\" + server_id + \"')\";\n",
       "      cell.notebook.kernel.execute(cmd);\n",
       "    }\n",
       "  }\n",
       "\n",
       "  /**\n",
       "   * Handle when a new output is added\n",
       "   */\n",
       "  function handleAddOutput(event, handle) {\n",
       "    var output_area = handle.output_area;\n",
       "    var output = handle.output;\n",
       "\n",
       "    // limit handleAddOutput to display_data with EXEC_MIME_TYPE content only\n",
       "    if ((output.output_type != \"display_data\") || (!output.data.hasOwnProperty(EXEC_MIME_TYPE))) {\n",
       "      return\n",
       "    }\n",
       "\n",
       "    var toinsert = output_area.element.find(\".\" + CLASS_NAME.split(' ')[0]);\n",
       "\n",
       "    if (output.metadata[EXEC_MIME_TYPE][\"id\"] !== undefined) {\n",
       "      toinsert[toinsert.length - 1].firstChild.textContent = output.data[JS_MIME_TYPE];\n",
       "      // store reference to embed id on output_area\n",
       "      output_area._bokeh_element_id = output.metadata[EXEC_MIME_TYPE][\"id\"];\n",
       "    }\n",
       "    if (output.metadata[EXEC_MIME_TYPE][\"server_id\"] !== undefined) {\n",
       "      var bk_div = document.createElement(\"div\");\n",
       "      bk_div.innerHTML = output.data[HTML_MIME_TYPE];\n",
       "      var script_attrs = bk_div.children[0].attributes;\n",
       "      for (var i = 0; i < script_attrs.length; i++) {\n",
       "        toinsert[toinsert.length - 1].firstChild.setAttribute(script_attrs[i].name, script_attrs[i].value);\n",
       "        toinsert[toinsert.length - 1].firstChild.textContent = bk_div.children[0].textContent\n",
       "      }\n",
       "      // store reference to server id on output_area\n",
       "      output_area._bokeh_server_id = output.metadata[EXEC_MIME_TYPE][\"server_id\"];\n",
       "    }\n",
       "  }\n",
       "\n",
       "  function register_renderer(events, OutputArea) {\n",
       "\n",
       "    function append_mime(data, metadata, element) {\n",
       "      // create a DOM node to render to\n",
       "      var toinsert = this.create_output_subarea(\n",
       "        metadata,\n",
       "        CLASS_NAME,\n",
       "        EXEC_MIME_TYPE\n",
       "      );\n",
       "      this.keyboard_manager.register_events(toinsert);\n",
       "      // Render to node\n",
       "      var props = {data: data, metadata: metadata[EXEC_MIME_TYPE]};\n",
       "      render(props, toinsert[toinsert.length - 1]);\n",
       "      element.append(toinsert);\n",
       "      return toinsert\n",
       "    }\n",
       "\n",
       "    /* Handle when an output is cleared or removed */\n",
       "    events.on('clear_output.CodeCell', handleClearOutput);\n",
       "    events.on('delete.Cell', handleClearOutput);\n",
       "\n",
       "    /* Handle when a new output is added */\n",
       "    events.on('output_added.OutputArea', handleAddOutput);\n",
       "\n",
       "    /**\n",
       "     * Register the mime type and append_mime function with output_area\n",
       "     */\n",
       "    OutputArea.prototype.register_mime_type(EXEC_MIME_TYPE, append_mime, {\n",
       "      /* Is output safe? */\n",
       "      safe: true,\n",
       "      /* Index of renderer in `output_area.display_order` */\n",
       "      index: 0\n",
       "    });\n",
       "  }\n",
       "\n",
       "  // register the mime type if in Jupyter Notebook environment and previously unregistered\n",
       "  if (root.Jupyter !== undefined) {\n",
       "    var events = require('base/js/events');\n",
       "    var OutputArea = require('notebook/js/outputarea').OutputArea;\n",
       "\n",
       "    if (OutputArea.prototype.mime_types().indexOf(EXEC_MIME_TYPE) == -1) {\n",
       "      register_renderer(events, OutputArea);\n",
       "    }\n",
       "  }\n",
       "\n",
       "  \n",
       "  if (typeof (root._bokeh_timeout) === \"undefined\" || force === true) {\n",
       "    root._bokeh_timeout = Date.now() + 5000;\n",
       "    root._bokeh_failed_load = false;\n",
       "  }\n",
       "\n",
       "  var NB_LOAD_WARNING = {'data': {'text/html':\n",
       "     \"<div style='background-color: #fdd'>\\n\"+\n",
       "     \"<p>\\n\"+\n",
       "     \"BokehJS does not appear to have successfully loaded. If loading BokehJS from CDN, this \\n\"+\n",
       "     \"may be due to a slow or bad network connection. Possible fixes:\\n\"+\n",
       "     \"</p>\\n\"+\n",
       "     \"<ul>\\n\"+\n",
       "     \"<li>re-rerun `output_notebook()` to attempt to load from CDN again, or</li>\\n\"+\n",
       "     \"<li>use INLINE resources instead, as so:</li>\\n\"+\n",
       "     \"</ul>\\n\"+\n",
       "     \"<code>\\n\"+\n",
       "     \"from bokeh.resources import INLINE\\n\"+\n",
       "     \"output_notebook(resources=INLINE)\\n\"+\n",
       "     \"</code>\\n\"+\n",
       "     \"</div>\"}};\n",
       "\n",
       "  function display_loaded() {\n",
       "    var el = document.getElementById(\"1001\");\n",
       "    if (el != null) {\n",
       "      el.textContent = \"BokehJS is loading...\";\n",
       "    }\n",
       "    if (root.Bokeh !== undefined) {\n",
       "      if (el != null) {\n",
       "        el.textContent = \"BokehJS \" + root.Bokeh.version + \" successfully loaded.\";\n",
       "      }\n",
       "    } else if (Date.now() < root._bokeh_timeout) {\n",
       "      setTimeout(display_loaded, 100)\n",
       "    }\n",
       "  }\n",
       "\n",
       "\n",
       "  function run_callbacks() {\n",
       "    try {\n",
       "      root._bokeh_onload_callbacks.forEach(function(callback) {\n",
       "        if (callback != null)\n",
       "          callback();\n",
       "      });\n",
       "    } finally {\n",
       "      delete root._bokeh_onload_callbacks\n",
       "    }\n",
       "    console.debug(\"Bokeh: all callbacks have finished\");\n",
       "  }\n",
       "\n",
       "  function load_libs(css_urls, js_urls, callback) {\n",
       "    if (css_urls == null) css_urls = [];\n",
       "    if (js_urls == null) js_urls = [];\n",
       "\n",
       "    root._bokeh_onload_callbacks.push(callback);\n",
       "    if (root._bokeh_is_loading > 0) {\n",
       "      console.debug(\"Bokeh: BokehJS is being loaded, scheduling callback at\", now());\n",
       "      return null;\n",
       "    }\n",
       "    if (js_urls == null || js_urls.length === 0) {\n",
       "      run_callbacks();\n",
       "      return null;\n",
       "    }\n",
       "    console.debug(\"Bokeh: BokehJS not loaded, scheduling load and callback at\", now());\n",
       "    root._bokeh_is_loading = css_urls.length + js_urls.length;\n",
       "\n",
       "    function on_load() {\n",
       "      root._bokeh_is_loading--;\n",
       "      if (root._bokeh_is_loading === 0) {\n",
       "        console.debug(\"Bokeh: all BokehJS libraries/stylesheets loaded\");\n",
       "        run_callbacks()\n",
       "      }\n",
       "    }\n",
       "\n",
       "    function on_error() {\n",
       "      console.error(\"failed to load \" + url);\n",
       "    }\n",
       "\n",
       "    for (var i = 0; i < css_urls.length; i++) {\n",
       "      var url = css_urls[i];\n",
       "      const element = document.createElement(\"link\");\n",
       "      element.onload = on_load;\n",
       "      element.onerror = on_error;\n",
       "      element.rel = \"stylesheet\";\n",
       "      element.type = \"text/css\";\n",
       "      element.href = url;\n",
       "      console.debug(\"Bokeh: injecting link tag for BokehJS stylesheet: \", url);\n",
       "      document.body.appendChild(element);\n",
       "    }\n",
       "\n",
       "    const hashes = {\"https://cdn.bokeh.org/bokeh/release/bokeh-2.2.3.min.js\": \"T2yuo9Oe71Cz/I4X9Ac5+gpEa5a8PpJCDlqKYO0CfAuEszu1JrXLl8YugMqYe3sM\", \"https://cdn.bokeh.org/bokeh/release/bokeh-widgets-2.2.3.min.js\": \"98GDGJ0kOMCUMUePhksaQ/GYgB3+NH9h996V88sh3aOiUNX3N+fLXAtry6xctSZ6\", \"https://cdn.bokeh.org/bokeh/release/bokeh-tables-2.2.3.min.js\": \"89bArO+nlbP3sgakeHjCo1JYxYR5wufVgA3IbUvDY+K7w4zyxJqssu7wVnfeKCq8\"};\n",
       "\n",
       "    for (var i = 0; i < js_urls.length; i++) {\n",
       "      var url = js_urls[i];\n",
       "      var element = document.createElement('script');\n",
       "      element.onload = on_load;\n",
       "      element.onerror = on_error;\n",
       "      element.async = false;\n",
       "      element.src = url;\n",
       "      if (url in hashes) {\n",
       "        element.crossOrigin = \"anonymous\";\n",
       "        element.integrity = \"sha384-\" + hashes[url];\n",
       "      }\n",
       "      console.debug(\"Bokeh: injecting script tag for BokehJS library: \", url);\n",
       "      document.head.appendChild(element);\n",
       "    }\n",
       "  };\n",
       "\n",
       "  function inject_raw_css(css) {\n",
       "    const element = document.createElement(\"style\");\n",
       "    element.appendChild(document.createTextNode(css));\n",
       "    document.body.appendChild(element);\n",
       "  }\n",
       "\n",
       "  \n",
       "  var js_urls = [\"https://cdn.bokeh.org/bokeh/release/bokeh-2.2.3.min.js\", \"https://cdn.bokeh.org/bokeh/release/bokeh-widgets-2.2.3.min.js\", \"https://cdn.bokeh.org/bokeh/release/bokeh-tables-2.2.3.min.js\"];\n",
       "  var css_urls = [];\n",
       "  \n",
       "\n",
       "  var inline_js = [\n",
       "    function(Bokeh) {\n",
       "      Bokeh.set_log_level(\"info\");\n",
       "    },\n",
       "    function(Bokeh) {\n",
       "    \n",
       "    \n",
       "    }\n",
       "  ];\n",
       "\n",
       "  function run_inline_js() {\n",
       "    \n",
       "    if (root.Bokeh !== undefined || force === true) {\n",
       "      \n",
       "    for (var i = 0; i < inline_js.length; i++) {\n",
       "      inline_js[i].call(root, root.Bokeh);\n",
       "    }\n",
       "    if (force === true) {\n",
       "        display_loaded();\n",
       "      }} else if (Date.now() < root._bokeh_timeout) {\n",
       "      setTimeout(run_inline_js, 100);\n",
       "    } else if (!root._bokeh_failed_load) {\n",
       "      console.log(\"Bokeh: BokehJS failed to load within specified timeout.\");\n",
       "      root._bokeh_failed_load = true;\n",
       "    } else if (force !== true) {\n",
       "      var cell = $(document.getElementById(\"1001\")).parents('.cell').data().cell;\n",
       "      cell.output_area.append_execute_result(NB_LOAD_WARNING)\n",
       "    }\n",
       "\n",
       "  }\n",
       "\n",
       "  if (root._bokeh_is_loading === 0) {\n",
       "    console.debug(\"Bokeh: BokehJS loaded, going straight to plotting\");\n",
       "    run_inline_js();\n",
       "  } else {\n",
       "    load_libs(css_urls, js_urls, function() {\n",
       "      console.debug(\"Bokeh: BokehJS plotting callback run at\", now());\n",
       "      run_inline_js();\n",
       "    });\n",
       "  }\n",
       "}(window));"
      ],
      "application/vnd.bokehjs_load.v0+json": "\n(function(root) {\n  function now() {\n    return new Date();\n  }\n\n  var force = true;\n\n  if (typeof root._bokeh_onload_callbacks === \"undefined\" || force === true) {\n    root._bokeh_onload_callbacks = [];\n    root._bokeh_is_loading = undefined;\n  }\n\n  \n\n  \n  if (typeof (root._bokeh_timeout) === \"undefined\" || force === true) {\n    root._bokeh_timeout = Date.now() + 5000;\n    root._bokeh_failed_load = false;\n  }\n\n  var NB_LOAD_WARNING = {'data': {'text/html':\n     \"<div style='background-color: #fdd'>\\n\"+\n     \"<p>\\n\"+\n     \"BokehJS does not appear to have successfully loaded. If loading BokehJS from CDN, this \\n\"+\n     \"may be due to a slow or bad network connection. Possible fixes:\\n\"+\n     \"</p>\\n\"+\n     \"<ul>\\n\"+\n     \"<li>re-rerun `output_notebook()` to attempt to load from CDN again, or</li>\\n\"+\n     \"<li>use INLINE resources instead, as so:</li>\\n\"+\n     \"</ul>\\n\"+\n     \"<code>\\n\"+\n     \"from bokeh.resources import INLINE\\n\"+\n     \"output_notebook(resources=INLINE)\\n\"+\n     \"</code>\\n\"+\n     \"</div>\"}};\n\n  function display_loaded() {\n    var el = document.getElementById(\"1001\");\n    if (el != null) {\n      el.textContent = \"BokehJS is loading...\";\n    }\n    if (root.Bokeh !== undefined) {\n      if (el != null) {\n        el.textContent = \"BokehJS \" + root.Bokeh.version + \" successfully loaded.\";\n      }\n    } else if (Date.now() < root._bokeh_timeout) {\n      setTimeout(display_loaded, 100)\n    }\n  }\n\n\n  function run_callbacks() {\n    try {\n      root._bokeh_onload_callbacks.forEach(function(callback) {\n        if (callback != null)\n          callback();\n      });\n    } finally {\n      delete root._bokeh_onload_callbacks\n    }\n    console.debug(\"Bokeh: all callbacks have finished\");\n  }\n\n  function load_libs(css_urls, js_urls, callback) {\n    if (css_urls == null) css_urls = [];\n    if (js_urls == null) js_urls = [];\n\n    root._bokeh_onload_callbacks.push(callback);\n    if (root._bokeh_is_loading > 0) {\n      console.debug(\"Bokeh: BokehJS is being loaded, scheduling callback at\", now());\n      return null;\n    }\n    if (js_urls == null || js_urls.length === 0) {\n      run_callbacks();\n      return null;\n    }\n    console.debug(\"Bokeh: BokehJS not loaded, scheduling load and callback at\", now());\n    root._bokeh_is_loading = css_urls.length + js_urls.length;\n\n    function on_load() {\n      root._bokeh_is_loading--;\n      if (root._bokeh_is_loading === 0) {\n        console.debug(\"Bokeh: all BokehJS libraries/stylesheets loaded\");\n        run_callbacks()\n      }\n    }\n\n    function on_error() {\n      console.error(\"failed to load \" + url);\n    }\n\n    for (var i = 0; i < css_urls.length; i++) {\n      var url = css_urls[i];\n      const element = document.createElement(\"link\");\n      element.onload = on_load;\n      element.onerror = on_error;\n      element.rel = \"stylesheet\";\n      element.type = \"text/css\";\n      element.href = url;\n      console.debug(\"Bokeh: injecting link tag for BokehJS stylesheet: \", url);\n      document.body.appendChild(element);\n    }\n\n    const hashes = {\"https://cdn.bokeh.org/bokeh/release/bokeh-2.2.3.min.js\": \"T2yuo9Oe71Cz/I4X9Ac5+gpEa5a8PpJCDlqKYO0CfAuEszu1JrXLl8YugMqYe3sM\", \"https://cdn.bokeh.org/bokeh/release/bokeh-widgets-2.2.3.min.js\": \"98GDGJ0kOMCUMUePhksaQ/GYgB3+NH9h996V88sh3aOiUNX3N+fLXAtry6xctSZ6\", \"https://cdn.bokeh.org/bokeh/release/bokeh-tables-2.2.3.min.js\": \"89bArO+nlbP3sgakeHjCo1JYxYR5wufVgA3IbUvDY+K7w4zyxJqssu7wVnfeKCq8\"};\n\n    for (var i = 0; i < js_urls.length; i++) {\n      var url = js_urls[i];\n      var element = document.createElement('script');\n      element.onload = on_load;\n      element.onerror = on_error;\n      element.async = false;\n      element.src = url;\n      if (url in hashes) {\n        element.crossOrigin = \"anonymous\";\n        element.integrity = \"sha384-\" + hashes[url];\n      }\n      console.debug(\"Bokeh: injecting script tag for BokehJS library: \", url);\n      document.head.appendChild(element);\n    }\n  };\n\n  function inject_raw_css(css) {\n    const element = document.createElement(\"style\");\n    element.appendChild(document.createTextNode(css));\n    document.body.appendChild(element);\n  }\n\n  \n  var js_urls = [\"https://cdn.bokeh.org/bokeh/release/bokeh-2.2.3.min.js\", \"https://cdn.bokeh.org/bokeh/release/bokeh-widgets-2.2.3.min.js\", \"https://cdn.bokeh.org/bokeh/release/bokeh-tables-2.2.3.min.js\"];\n  var css_urls = [];\n  \n\n  var inline_js = [\n    function(Bokeh) {\n      Bokeh.set_log_level(\"info\");\n    },\n    function(Bokeh) {\n    \n    \n    }\n  ];\n\n  function run_inline_js() {\n    \n    if (root.Bokeh !== undefined || force === true) {\n      \n    for (var i = 0; i < inline_js.length; i++) {\n      inline_js[i].call(root, root.Bokeh);\n    }\n    if (force === true) {\n        display_loaded();\n      }} else if (Date.now() < root._bokeh_timeout) {\n      setTimeout(run_inline_js, 100);\n    } else if (!root._bokeh_failed_load) {\n      console.log(\"Bokeh: BokehJS failed to load within specified timeout.\");\n      root._bokeh_failed_load = true;\n    } else if (force !== true) {\n      var cell = $(document.getElementById(\"1001\")).parents('.cell').data().cell;\n      cell.output_area.append_execute_result(NB_LOAD_WARNING)\n    }\n\n  }\n\n  if (root._bokeh_is_loading === 0) {\n    console.debug(\"Bokeh: BokehJS loaded, going straight to plotting\");\n    run_inline_js();\n  } else {\n    load_libs(css_urls, js_urls, function() {\n      console.debug(\"Bokeh: BokehJS plotting callback run at\", now());\n      run_inline_js();\n    });\n  }\n}(window));"
     },
     "metadata": {},
     "output_type": "display_data"
    }
   ],
   "source": [
    "output_notebook()"
   ]
  },
  {
   "cell_type": "code",
   "execution_count": 47,
   "metadata": {
    "colab": {},
    "colab_type": "code",
    "id": "Dl8fu0UNZOqY"
   },
   "outputs": [
    {
     "name": "stderr",
     "output_type": "stream",
     "text": [
      "/Users/tomvannuenen/opt/anaconda3/lib/python3.8/site-packages/bokeh/plotting/_tools.py:132: UserWarning: ResetTool(id='1027', ...) are being repeated\n",
      "  warnings.warn(\"%s are being repeated\" % \",\".join(repeated_tools))\n"
     ]
    },
    {
     "data": {
      "text/html": [
       "\n",
       "\n",
       "\n",
       "\n",
       "\n",
       "\n",
       "  <div class=\"bk-root\" id=\"5cafb588-30fd-4684-b4ff-a842ebc6179d\" data-root-id=\"1003\"></div>\n"
      ]
     },
     "metadata": {},
     "output_type": "display_data"
    },
    {
     "data": {
      "application/javascript": [
       "(function(root) {\n",
       "  function embed_document(root) {\n",
       "    \n",
       "  var docs_json = {\"4e7c60d5-8b14-42c5-b83f-ab600526922f\":{\"roots\":{\"references\":[{\"attributes\":{\"below\":[{\"id\":\"1014\"}],\"center\":[{\"id\":\"1017\"},{\"id\":\"1021\"}],\"left\":[{\"id\":\"1018\"}],\"outline_line_color\":null,\"plot_height\":800,\"plot_width\":800,\"renderers\":[{\"id\":\"1043\"}],\"title\":{\"id\":\"1004\"},\"toolbar\":{\"id\":\"1030\"},\"x_range\":{\"id\":\"1006\"},\"x_scale\":{\"id\":\"1010\"},\"y_range\":{\"id\":\"1008\"},\"y_scale\":{\"id\":\"1012\"}},\"id\":\"1003\",\"subtype\":\"Figure\",\"type\":\"Plot\"},{\"attributes\":{\"data\":{\"index\":[\"pens\",\"snake\",\"hindsight\",\"competently\",\"safecreative\",\"mario\",\"oceania\",\"gentlemen\",\"hollywood\",\"possessing\",\"enthralling\",\"broadens\",\"surendra\",\"complemented\",\"embarassing\",\"distressed\",\"inteligence\",\"iq\",\"explosive\",\"informally\",\"notable\",\"gracious\",\"sourse\",\"ironing\",\"bookstore\",\"sais\",\"precision\",\"granting\",\"uncompleted\",\"cultivates\",\"culrural\",\"mathematician\",\"mornings\",\"malayalam\",\"hindi\",\"ji\",\"textbooks\",\"heterogeneous\",\"credible\",\"embarrasing\",\"forcefully\",\"multimedia\",\"yeast\",\"toast\",\"thrill\",\"sail\",\"personalty\",\"kosovo\",\"operators\",\"blink\",\"posses\",\"intolerable\",\"tatiana\",\"seasoned\",\"changer\",\"djibouti\",\"engrossing\",\"coverings\",\"mimicking\",\"rhine\",\"alpine\",\"descended\",\"farthest\",\"migrations\",\"xenophobia\",\"brow\",\"dictatorship\",\"xenophobic\",\"cleaners\",\"mow\",\"lawns\",\"carole\",\"obeyed\",\"inquiring\",\"dipping\",\"karnataka\",\"konkani\",\"fusha\",\"abt\",\"bordeaux\",\"vinnitca\",\"personalised\",\"emmanuel\",\"transferring\",\"clifford\",\"normandy\",\"redundant\",\"formerly\",\"calcutta\",\"ukraina\",\"castes\",\"reflexion\",\"rebellions\",\"styled\",\"jilin\",\"forums\",\"kolnyang\",\"nilotic\",\"garang\",\"bali\",\"subsistence\",\"nominally\",\"malign\",\"psychiatrist\",\"expend\",\"fade\",\"scotsman\",\"europa\",\"confidentiality\",\"sigh\",\"valentine\",\"optionally\",\"foto\",\"careers\",\"quantities\",\"scars\",\"baffling\",\"benin\",\"specialised\",\"blogs\",\"equipment\",\"summarising\",\"weblink\",\"endeavour\",\"laoshi\",\"ascendants\",\"luxembourgish\",\"possibilty\",\"worldviews\",\"luo\",\"jajaja\",\"compostela\",\"dictate\",\"culteral\",\"drank\",\"peacefull\",\"ai\",\"whomever\",\"siri\",\"costarican\",\"nicaragua\",\"retiree\",\"transactions\",\"intj\",\"dragging\",\"internalizing\",\"profs\",\"carols\",\"regiones\",\"categorise\",\"employs\",\"ta\",\"lasted\",\"bedding\",\"apac\",\"awarness\",\"identies\",\"minus\",\"colonisers\",\"seventeen\",\"woodley\",\"pioneer\",\"workstation\",\"subcultural\",\"koert\",\"expansion\",\"stille\",\"kracht\",\"beautifull\",\"diffference\",\"vitor\",\"brasil\",\"remotely\",\"glued\",\"whys\",\"communicstion\",\"pretoria\",\"sicily\",\"ooh\",\"conforming\",\"funding\",\"lodz\",\"hague\",\"fot\",\"ol\",\"sparked\",\"somthing\",\"antidote\",\"extremism\",\"contentious\",\"hilary\",\"microcosm\",\"arina\",\"clerks\",\"kibbutz\",\"shoot\",\"fascist\",\"traverse\",\"illuminate\",\"purple\",\"dearest\",\"paternally\",\"quarters\",\"grasps\",\"foresee\",\"liv\",\"afganistan\",\"pecularities\",\"esol\",\"crimean\",\"catches\",\"whanau\",\"whist\",\"recap\",\"coincidentally\",\"cologne\",\"differentiates\",\"impart\",\"priviledge\",\"unthinkable\",\"netherland\",\"afer\",\"fugutive\",\"deceased\",\"sterotypes\",\"sauna\",\"bikini\",\"attendant\",\"panama\",\"sixteen\",\"frankfurt\",\"exhibitions\",\"debates\",\"transportations\",\"truism\",\"patrons\",\"willis\",\"symbiotic\",\"arguably\",\"reticent\",\"overshadowed\",\"johannesburg\",\"streaming\",\"labrador\",\"naughty\",\"unstoppable\",\"whiteness\",\"sussex\",\"iberian\",\"lustig\",\"geology\",\"forte\",\"oberg\",\"attendants\",\"servants\",\"sleeves\",\"downwards\",\"contests\",\"portland\",\"copiap\",\"paddy\",\"mango\",\"avakaya\",\"citation\",\"caracas\",\"extracurricular\",\"currency\",\"breakers\",\"iwona\",\"bowed\",\"mechanics\",\"teeage\",\"othe\",\"tier\",\"crab\",\"explanatory\",\"olympic\",\"earger\",\"posing\",\"myo\",\"nam\",\"hight\",\"xavier\",\"seafoods\",\"milano\",\"desribe\",\"pref\",\"mather\",\"upseting\",\"horrifying\",\"pike\",\"kenneth\",\"slot\",\"spices\",\"unlucky\",\"boundries\",\"togerther\",\"doen\",\"powerpoint\",\"qatari\",\"cofe\",\"kyiv\",\"thet\",\"musafaha\",\"takeaways\",\"speciality\",\"array\",\"optional\",\"shifted\",\"meld\",\"dipped\",\"cliche\",\"fulfilling\",\"prophecy\",\"perfectionism\",\"namibia\",\"cult\",\"bud\",\"definetely\",\"allotment\",\"hao\",\"encompassing\",\"crux\",\"attitudinal\",\"orphanage\",\"wecome\",\"pleasent\",\"shalwar\",\"kameez\",\"jeans\",\"childern\",\"roberto\",\"pubs\",\"imparting\",\"prefix\",\"incl\",\"receivers\",\"pokemon\",\"homecountry\",\"tackled\",\"relatedness\",\"struglle\",\"xiu\",\"theses\",\"classs\",\"enviorment\",\"puspo\",\"orientate\",\"estonia\",\"nytimes\",\"stamina\",\"intervene\",\"roberta\",\"bemused\",\"cupboard\",\"swears\",\"villagers\",\"pickled\",\"lightbulb\",\"brighter\",\"differenct\",\"federal\",\"almighty\",\"abdul\",\"demerits\",\"excepting\",\"emphasises\",\"frightened\",\"experimented\",\"satisfactory\",\"seventh\",\"interpretor\",\"jojo\",\"quirky\",\"endearing\",\"cooks\",\"xiexie\",\"reform\",\"spit\",\"browse\",\"jonglei\",\"dec\",\"notification\",\"liting\",\"iris\",\"mu\",\"cq\",\"accredited\",\"lanuguage\",\"luckly\",\"shen\",\"unawareness\",\"shaoxing\",\"coukd\",\"montenegrian\",\"bulgarian\",\"beleive\",\"tipically\",\"mockery\",\"walloon\",\"guangxi\",\"announcing\",\"bashkortostan\",\"abyss\",\"forged\",\"microscopic\",\"itec\",\"banking\",\"chartered\",\"crossroads\",\"matilde\",\"adrienne\",\"strained\",\"slovakian\",\"sardinia\",\"maltese\",\"drag\",\"tamerat\",\"dallas\",\"mahasarakham\",\"meaby\",\"belarus\",\"citizent\",\"ascribe\",\"columbians\",\"chagga\",\"ter\",\"grandson\",\"smiley\",\"harmeet\",\"nawabs\",\"lucknawi\",\"embroidery\",\"heartedly\",\"sikh\",\"curries\",\"puzzling\",\"onlooker\",\"nods\",\"emptying\",\"shakespeare\",\"jokingly\",\"overheard\",\"counsellor\",\"forma\",\"hama\",\"voronezh\",\"adapation\",\"realm\",\"nitty\",\"backpacking\",\"penpals\",\"proficiency\",\"sightseeing\",\"estai\",\"causeway\",\"unconstrained\",\"zealanders\",\"cringe\",\"stripped\",\"didin\",\"blinded\",\"biryani\",\"singaporeans\",\"shangai\",\"ascribed\",\"indiscernible\",\"heredity\",\"educations\",\"tapping\",\"opinionated\",\"perfume\",\"balls\",\"illogical\",\"mathematics\",\"sympaty\",\"pollution\",\"cocky\",\"drowning\",\"drown\",\"tooling\",\"mambo\",\"vp\",\"maasai\",\"cloth\",\"albert\",\"enterprise\",\"novelist\",\"pitches\",\"philippine\",\"dares\",\"informs\",\"lattakia\",\"inestimable\",\"imho\",\"layout\",\"yuliya\",\"chatted\",\"mute\",\"sanctuary\",\"fascinates\",\"als\",\"halal\",\"amused\",\"psycology\",\"overemphasized\",\"unpacked\",\"langage\",\"propably\",\"ankara\",\"aso\",\"tenants\",\"facilitators\",\"inercultural\",\"carlota\",\"bharata\",\"natyam\",\"madras\",\"neccesary\",\"findhorn\",\"solar\",\"bridegroom\",\"personable\",\"swearing\",\"bicycles\",\"excite\",\"mike\",\"gibraltar\",\"ghanaians\",\"tutted\",\"glances\",\"grumbling\",\"infos\",\"undoubtely\",\"expierence\",\"grants\",\"dr_dharm\",\"arabians\",\"depok\",\"betawinese\",\"multiculturally\",\"inflexibility\",\"opinin\",\"neapolitan\",\"humanitas\",\"longest\",\"stretchable\",\"understimated\",\"saarlouis\",\"ford\",\"motor\",\"antropology\",\"comenius\",\"skate\",\"merchant\",\"muted\",\"postgrad\",\"administrator\",\"replacement\",\"islamabad\",\"degradation\",\"flesh\",\"alicante\",\"ivory\",\"pyramids\",\"punctually\",\"biblical\",\"pennsylvania\",\"establishment\",\"vemos\",\"globalism\",\"marechaussee\",\"apeldoorn\",\"willem\",\"wenn\",\"resech\",\"buggage\",\"addresses\",\"mama\",\"flamboyant\",\"aus\",\"compliance\",\"belorussians\",\"arround\",\"zealands\",\"stall\",\"makers\",\"synergistic\",\"milton\",\"curios\",\"strolling\",\"libya\",\"varities\",\"unnecessarily\",\"excludes\",\"misguided\",\"libertarian\",\"futurist\",\"subotica\",\"oahu\",\"smattering\",\"samoa\",\"aforementioned\",\"espcially\",\"youtobia\",\"copies\",\"camla\",\"everithing\",\"tulips\",\"windmills\",\"lola\",\"stifling\",\"fishbowls\",\"prazer\",\"ultralight\",\"divali\",\"supplies\",\"luzio\",\"intergrate\",\"rumah\",\"betang\",\"cages\",\"rises\",\"notifying\",\"intra\",\"easterns\",\"fairer\",\"realistically\",\"alters\",\"hampered\",\"cabin\",\"interculteral\",\"presumptuous\",\"drawbacks\",\"jv\",\"sulk\",\"mente\",\"reap\",\"balkan\",\"articulation\",\"humbeling\",\"allah\",\"downside\",\"amnesty\",\"culural\",\"troublesome\",\"mindedly\",\"nut\",\"defenition\",\"champion\",\"weapon\",\"mutter\",\"constantinople\",\"identitary\",\"disheartening\",\"disdainful\",\"adultery\",\"posh\",\"nephew\",\"trooper\",\"render\",\"bearable\",\"cyrus\",\"cans\",\"murder\",\"weakens\",\"gong\",\"sandburg\",\"shores\",\"primal\",\"disapproving\",\"shorts\",\"tapas\",\"tortilla\",\"dane\",\"hull\",\"figuring\",\"intuitively\",\"cookie\",\"sinhalese\",\"sang\",\"athens\",\"theodota\",\"crop\",\"wallet\",\"meltinpot\",\"grandfhater\",\"greech\",\"alina\",\"miroir\",\"homme\",\"pouvantable\",\"regarde\",\"dans\",\"les\",\"tous\",\"droit\",\"bon\",\"immediatly\",\"tollerant\",\"unpeel\",\"explaning\",\"golfer\",\"aplogised\",\"simmilar\",\"identiy\",\"rex\",\"harrison\",\"stanley\",\"holloway\",\"vie\",\"aids\",\"feeing\",\"um\",\"distressing\",\"fulfills\",\"asma\",\"traditionals\",\"culturals\",\"breakthrough\",\"vilnius\",\"yuo\",\"interculutral\",\"sixth\",\"cooler\",\"spontanuous\",\"swift\",\"jovana\",\"shrug\",\"dutchy\",\"fryslan\",\"titled\",\"devalue\",\"awared\",\"paired\",\"hesitated\",\"monsters\",\"punjabi\",\"backgroung\",\"wuth\",\"expections\",\"merci\",\"breathed\",\"tounge\",\"dawn\",\"chinonso\",\"cameroonian\",\"beamer\",\"iss\",\"vhs\",\"cassette\",\"technician\",\"crave\",\"soo\",\"carer\",\"principled\",\"facade\",\"reincarnation\",\"ioana\",\"corpus\",\"proletariat\",\"natured\",\"authoritarian\",\"prizes\",\"pervasive\",\"planes\",\"honduran\",\"preschool\",\"genetically\",\"gracias\",\"regimen\",\"weaving\",\"repackaging\",\"acheive\",\"commentaries\",\"persuasion\",\"exercised\",\"harris\",\"communicatin\",\"unpunctuality\",\"hammer\",\"jung\",\"agnes\",\"harshly\",\"cools\",\"makuei\",\"phrased\",\"groupings\",\"outliers\",\"heightened\",\"bankers\",\"softwares\",\"preparedness\",\"flex\",\"xue\",\"lemon\",\"anxieties\",\"dispite\",\"osh\",\"interesing\",\"prism\",\"envisage\",\"unfairly\",\"comparable\",\"xin\",\"streams\",\"bewildering\",\"hails\",\"tagore\",\"acculturated\",\"leaps\",\"particiation\",\"cds\",\"dissent\",\"wiya\",\"limb\",\"quantify\",\"plot\",\"heavenly\",\"mediators\",\"dwell\",\"buzzwords\",\"dumb\",\"compatibility\",\"immersing\",\"starring\",\"rupert\",\"harbour\",\"australianness\",\"deficient\",\"recommanded\",\"freed\",\"mediated\",\"kurds\",\"jay\",\"surrender\",\"supposedly\",\"strife\",\"venn\",\"demographic\",\"severely\",\"azeri\",\"tabriz\",\"perceptual\",\"engelien\",\"jong\",\"penetrating\",\"elitist\",\"workawayers\",\"appropriateness\",\"painfull\",\"firs\",\"togather\",\"farah\",\"judith\",\"sheng\",\"zan\",\"caveats\",\"gorgeous\",\"cnn\",\"ecc\",\"setswana\",\"xhosa\",\"stamped\",\"distinguishable\",\"lest\",\"indicative\",\"northman\",\"jail\",\"nedal\",\"egyption\",\"odessa\",\"dared\",\"fox\",\"englishness\",\"shrewd\",\"optimum\",\"viable\",\"sapienza\",\"downstairs\",\"impossibile\",\"rudyard\",\"undesired\",\"privilage\",\"nicole\",\"earthquakes\",\"luxor\",\"coursework\",\"dweller\",\"exhaustion\",\"iat\",\"hahave\",\"unannounced\",\"andalusia\",\"unwell\",\"workteam\",\"cooperated\",\"ahorita\",\"moto\",\"repect\",\"innumerable\",\"teased\",\"tenuous\",\"riksha\",\"trhrowing\",\"rats\",\"distill\",\"independant\",\"morphed\",\"cleans\",\"merge\",\"overwork\",\"toulouse\",\"allover\",\"extrem\",\"brutal\",\"languge\",\"siswati\",\"moms\",\"multiethnic\",\"buckwheat\",\"linger\",\"practises\",\"hacercan\",\"aviation\",\"francesca\",\"waits\",\"emotive\",\"polina\",\"meek\",\"terminate\",\"bhutan\",\"mystified\",\"kathmandu\",\"widow\",\"adolescents\",\"knwo\",\"reared\",\"proces\",\"kerry\",\"ive\",\"relearning\",\"industrialized\",\"tacey\",\"reconciliation\",\"soups\",\"stalls\",\"ethos\",\"campsites\",\"centred\",\"seld\",\"descrimination\",\"lanugage\",\"rebellious\",\"spark\",\"arizona\",\"script\",\"southman\",\"illiteracy\",\"campaigner\",\"emergent\",\"shine\",\"confrontations\",\"interseted\",\"inland\",\"countrys\",\"phonetics\",\"phoneme\",\"localised\",\"etically\",\"delving\",\"bifocal\",\"tzu\",\"lian\",\"mandalay\",\"trumps\",\"lodewijk\",\"brillant\",\"humanistic\",\"soaking\",\"normalcy\",\"portal\",\"interculural\",\"prohibited\",\"bucharest\",\"imbalance\",\"defenation\",\"pervade\",\"enlarging\",\"solita\",\"marginalized\",\"newton\",\"bicentennial\",\"mining\",\"exacerbate\",\"outback\",\"sulawesi\",\"displeased\",\"imposes\",\"wills\",\"hypocrite\",\"respectfulness\",\"kostomarov\",\"coins\",\"tightness\",\"hou\",\"xiner\",\"hung\",\"discribes\",\"investigates\",\"bloody\",\"rival\",\"huhhot\",\"malls\",\"mongolian\",\"honours\",\"mengistu\",\"mara\",\"hanoian\",\"garlic\",\"cosmonautics\",\"blocking\",\"psycho\",\"correspond\",\"expo\",\"narrowly\",\"pic\",\"cetera\",\"hurted\",\"beause\",\"devastated\",\"communicant\",\"affiliations\",\"everyehere\",\"aquaintance\",\"dictated\",\"nairobi\",\"funnier\",\"ethnics\",\"gradully\",\"subsidiaries\",\"democrat\",\"forbid\",\"forks\",\"seized\",\"aback\",\"dissociate\",\"powerless\",\"enrolling\",\"earnest\",\"rates\",\"leaded\",\"creo\",\"removes\",\"visibly\",\"heaviness\",\"ekaterina\",\"highligh\",\"deceit\",\"ungrateful\",\"congested\",\"endearment\",\"compulsory\",\"innocent\",\"formalities\",\"lyon\",\"merry\",\"binds\",\"relly\",\"warnings\",\"groundhog\",\"buyer\",\"interface\",\"commanding\",\"bahai\",\"pham\",\"fluidity\",\"aesthetician\",\"ariel\",\"vazquez\",\"relocating\",\"prescription\",\"ess\",\"kabul\",\"patriarchy\",\"antibiotics\",\"crossroad\",\"choise\",\"habbits\",\"cosily\",\"trades\",\"lipstick\",\"preached\",\"swing\",\"tuk\",\"brethren\",\"kyrgyz\",\"mosques\",\"churches\",\"wearisome\",\"unbreakable\",\"prolonging\",\"tragedy\",\"unkind\",\"boyfriends\",\"ward\",\"thinkings\",\"diversed\",\"knocking\",\"transit\",\"entonation\",\"ia\",\"airs\",\"aldfaer\",\"eliminated\",\"contradicting\",\"wellington\",\"southampton\",\"index\",\"contamination\",\"mascus\",\"koofi\",\"japaneseness\",\"dianzi\",\"luna\",\"jinshan\",\"wanda\",\"zhujing\",\"oder\",\"waterloo\",\"zelenograd\",\"stepfather\",\"markusif\",\"cheng\",\"sore\",\"quebecer\",\"francophone\",\"pyramid\",\"madame\",\"ulsamer\",\"constellation\",\"yangchen\",\"charm\",\"analyses\",\"importing\",\"mistaking\",\"politness\",\"confirms\",\"kelebogile\",\"hangout\",\"wen\",\"occurrence\",\"substantial\",\"changeable\",\"sheila\",\"foreward\",\"supporters\",\"changchun\",\"faq\",\"epic\",\"garantee\",\"alse\",\"palces\",\"bustling\",\"pronunciations\",\"commuters\",\"indeedly\",\"antithesis\",\"disastrous\",\"aboout\",\"vidoes\",\"incompetent\",\"watermelons\",\"jiangyan\",\"changzhou\",\"dynasty\",\"trainees\",\"staffs\",\"lijiang\",\"bamboo\",\"dim\",\"ce\",\"fait\",\"marrying\",\"disgusted\",\"exposing\",\"gene\",\"diz\",\"anticipating\",\"trendy\",\"barging\",\"revere\",\"cartoons\",\"donkey\",\"examines\",\"exercice\",\"growingly\",\"divers\",\"narrate\",\"fabiana\",\"azure\",\"eating_spicy\",\"exterior\",\"socrates\",\"inshanghai\",\"keyi\",\"transports\",\"muslimani\",\"honoured\",\"rage\",\"discard\",\"lesotho\",\"stride\",\"schoolmates\",\"xingjiang\",\"forthright\",\"marcel\",\"proust\",\"gaspar\",\"zhoushan\",\"introspect\",\"bom\",\"difinitely\",\"hua\",\"heidi\",\"fearlessness\",\"scruples\",\"pround\",\"senegal\",\"pillars\",\"olympics\",\"engraved\",\"heip\",\"coures\",\"vacations\",\"yale\",\"drowned\",\"chip\",\"tucked\",\"disconcert\",\"clelia\",\"qi\",\"indispensable\",\"phenomenons\",\"imitation\",\"differen\",\"shirts\",\"gelato\",\"denominations\",\"understant\",\"campaigning\",\"bund\",\"sacrificial\",\"candles\",\"foregin\",\"bahaviors\",\"unchanged\",\"systemic\",\"vows\",\"nuclear\",\"jiacheng\",\"peggy\",\"distribution\",\"nanchang\",\"knacks\",\"identitites\",\"ubiquitous\",\"pheonomenen\",\"dama\",\"sexist\",\"sundays\",\"neurons\",\"caracteristic\",\"featured\",\"investigating\",\"kogi\",\"bounce\",\"stake\",\"exhibition\",\"specif\",\"june\",\"glade\",\"jamaican\",\"raisa\",\"fascinate\",\"controversies\",\"eachothers\",\"bosnians\",\"gran\",\"palma\",\"hazy\",\"kinesics\",\"ramana\",\"maharishi\",\"motions\",\"andd\",\"comparasion\",\"terrorists\",\"spanner\",\"racialised\",\"bolder\",\"southerner\",\"kilometres\",\"overlooking\",\"heals\",\"scouse\",\"hype\",\"positiveness\",\"fatma\",\"typed\",\"spellings\",\"costed\",\"greatful\",\"aquarium\",\"curiously\",\"stretches\",\"shiyi\",\"lonelier\",\"oxana\",\"arkhangelsk\",\"declining\",\"detachment\",\"personnally\",\"congolist\",\"firts\",\"bogota\",\"multiculture\",\"inculcated\",\"characterise\",\"jolly\",\"posess\",\"airlines\",\"leaner\",\"happpiness\",\"aspectes\",\"paula\",\"anchor\",\"mails\",\"enjoyments\",\"affirmed\",\"emphasised\",\"bundle\",\"recommends\",\"oct\",\"commander\",\"gymnastic\",\"smoker\",\"continual\",\"passers\",\"breakthroughs\",\"muscovite\",\"yuyan\",\"thyself\",\"fooling\",\"mariana\",\"cream\",\"reservations\",\"leaking\",\"accelerate\",\"leak\",\"pedagogy\",\"vodka\",\"scolding\",\"skirts\",\"daria\",\"outskirts\",\"levine\",\"saddened\",\"yajuan\",\"stainless\",\"steel\",\"waving\",\"hokkien\",\"gentler\",\"misuse\",\"bonded\",\"overused\",\"eighteen\",\"nationally\",\"stones\",\"dementia\",\"breast\",\"heighten\",\"prehistoric\",\"bathtub\",\"xenophobes\",\"recommending\",\"flirting\",\"postures\",\"limiting\",\"sisterhood\",\"nail\",\"participates\",\"siddiguh\",\"overgeneralized\",\"idiosyncracy\",\"laudable\",\"cosmic\",\"distanced\",\"ices\",\"suspecting\",\"designation\",\"whang\",\"presonal\",\"pry\",\"multicultures\",\"morgen\",\"motherhood\",\"paradoxes\",\"gerhard\",\"guardian\",\"quotas\",\"liberia\",\"reconstruction\",\"publications\",\"assessments\",\"taker\",\"poignant\",\"producers\",\"flooded\",\"overgeneralised\",\"intermediate\",\"vlada\",\"blatantly\",\"deva\",\"roxanne\",\"sii\",\"wheat\",\"troupe\",\"holder\",\"siya\",\"saudia\",\"ziyue\",\"passionately\",\"vices\",\"arrow\",\"topical\",\"classifying\",\"doubly\",\"biking\",\"properties\",\"sharings\",\"viewer\",\"whiteboard\",\"habitual\",\"surfer\",\"nicest\",\"iceland\",\"indipendence\",\"unto\",\"unilateral\",\"slovaks\",\"decently\",\"amra\",\"nadja\",\"holocaust\",\"jack\",\"constrict\",\"imperfect\",\"principals\",\"adap\",\"bounded\",\"championships\",\"meki\",\"tranlated\",\"los\",\"hemos\",\"fuera\",\"agua\",\"csonka\",\"unresolved\",\"extends\",\"discriminative\",\"sands\",\"greed\",\"humiliation\",\"finalist\",\"championship\",\"ballroom\",\"dougla\",\"admirable\",\"cassie\",\"spanking\",\"incremental\",\"empath\",\"environs\",\"nibbling\",\"facilitation\",\"monika\",\"tvs\",\"dazzling\",\"stangers\",\"sochi\",\"luxuries\",\"segmentation\",\"eureka\",\"undertake\",\"partnerships\",\"strategist\",\"programmer\",\"categorising\",\"dishonest\",\"mapped\",\"prioritized\",\"tenses\",\"dominique\",\"emphatetic\",\"committing\",\"contagious\",\"chai\",\"unemployment\",\"elegant\",\"taxies\",\"womanhood\",\"bahian\",\"drummer\",\"angel\",\"donate\",\"stray\",\"stefanie\",\"absurd\",\"horseback\",\"sociologist\",\"abused\",\"blemmyes\",\"frugal\",\"childish\",\"doubtful\",\"suburban\",\"unbiased\",\"nonconformist\",\"bravo\",\"pink\",\"collar\",\"teller\",\"solo\",\"charcoal\",\"drawer\",\"studets\",\"sewer\",\"hater\",\"projected\",\"unicef\",\"rail\",\"shoked\",\"sence\",\"undersand\",\"upside\",\"bruno\",\"preservation\",\"licenses\",\"youngster\",\"wonderment\",\"occupant\",\"botlle\",\"league\",\"trustfull\",\"fiji\",\"nzers\",\"poking\",\"pilgrim\",\"saddest\",\"hamburger\",\"insidious\",\"hood\",\"saunders\",\"bell\",\"liberalism\",\"economies\",\"surrogate\",\"fufu\",\"overweight\",\"tactile\",\"uttered\",\"stat\",\"orienting\",\"cynthia\",\"summarised\",\"heartened\",\"counselling\",\"fastest\",\"barnlund\",\"perpetual\",\"konwledge\",\"petty\",\"dearly\",\"wanderlust\",\"dunce\",\"connector\",\"herizon\",\"awhile\",\"actionable\",\"competing\",\"seize\",\"insofar\",\"evaluative\",\"viking\",\"hardware\",\"initiates\",\"congratulation\",\"premier\",\"ammie\",\"untouchables\",\"sacrificed\",\"confabulation\",\"arendt\",\"rememberd\",\"invitee\",\"forbearance\",\"adust\",\"medieval\",\"storytelling\",\"unpleasantly\",\"unknow\",\"fu\",\"intereact\",\"entrepreneur\",\"recalling\",\"univ\",\"con\",\"nutrition\",\"tickle\",\"ash\",\"flame\",\"curiouser\",\"carroll\",\"lifeline\",\"alienating\",\"mentalities\",\"jounior\",\"sahara\",\"bedouin\",\"ambulance\",\"roller\",\"ds\",\"marginalised\",\"canary\",\"jerk\",\"selfconfidence\",\"emancipated\",\"bizarre\",\"sponge\",\"leonardo\",\"requesting\",\"eskimo\",\"downloadable\",\"wallpaper\",\"activates\",\"balearic\",\"vasque\",\"afrer\",\"vigilant\",\"attacking\",\"correlation\",\"lend\",\"fulltime\",\"dutchness\",\"robotic\",\"released\",\"tissues\",\"blowing\",\"crass\",\"moulds\",\"pent\",\"hike\",\"typhoon\",\"provincial\",\"sly\",\"downloaded\",\"busiest\",\"noisiest\",\"interchangeable\",\"locales\",\"encroached\",\"fabrics\",\"discarded\",\"independency\",\"grazie\",\"cazzo\",\"plants\",\"intercourse\",\"engrained\",\"provence\",\"beautyful\",\"armed\",\"revolt\",\"mouths\",\"jinan\",\"endings\",\"blurry\",\"imprint\",\"personalitis\",\"influece\",\"drugs\",\"jiaxing\",\"willemieke\",\"scarves\",\"criterion\",\"doubtlessly\",\"tolerating\",\"konws\",\"shines\",\"oppressed\",\"providers\",\"giggling\",\"bbq\",\"definitively\",\"stirring\",\"pakestan\",\"insistent\",\"declined\",\"uphill\",\"inenglish\",\"improper\",\"vigorous\",\"paves\",\"therefor\",\"infinite\",\"entertainer\",\"rijeka\",\"icer\",\"shanghainess\",\"remarked\",\"juices\",\"hopeless\",\"edutopia\",\"brett\",\"vogelsinger\",\"rented\",\"lh\",\"comunicative\",\"madder\",\"kewen\",\"mao\",\"blockades\",\"diffecult\",\"hairstyles\",\"mystic\",\"trustful\",\"methaphor\",\"fraud\",\"polyedric\",\"intersting\",\"reckoned\",\"thais\",\"mora\",\"alliance\",\"outright\",\"mint\",\"anniversaries\",\"pushkin\",\"fullest\",\"deviant\",\"ukranian\",\"obsessed\",\"ridiculously\",\"undiluted\",\"abandoned\",\"azerbaiganian\",\"empressed\",\"unveil\",\"mayan\",\"tactical\",\"pedagogical\",\"helper\",\"babysit\",\"obedient\",\"independently\",\"gpa\",\"exerts\",\"cultureal\",\"maintenance\",\"townsman\",\"banana\",\"hohhot\",\"fortunes\",\"petit\",\"objectiveness\",\"compaasionate\",\"esoteric\",\"shrek\",\"spider\",\"wears\",\"approriate\",\"shouted\",\"havn\",\"sorely\",\"exlusively\",\"syndrom\",\"chengli\",\"singaporean\",\"antropologist\",\"ruth\",\"benedict\",\"peom\",\"idealise\",\"segregate\",\"thers\",\"volition\",\"transcultural\",\"ladders\",\"woe\",\"texting\",\"consumption\",\"chinees\",\"fleeing\",\"purposely\",\"blogspot\",\"narrowing\",\"producer\",\"elicitating\",\"intervened\",\"antisocial\",\"frivolous\",\"paraphrased\",\"cohesive\",\"csn\",\"acc\",\"solitary\",\"taunting\",\"pigeon\",\"discouraged\",\"ratio\",\"filming\",\"stewing\",\"skilful\",\"groninger\",\"marriges\",\"bridge_connect\",\"usable\",\"caponias\",\"friendliest\",\"parable\",\"esraa\",\"adifferent\",\"bursts\",\"readed\",\"herstory\",\"corollary\",\"autism\",\"willed\",\"inmediately\",\"gildardo\",\"maduro\",\"quirks\",\"hybrids\",\"obligatory\",\"misery\",\"skateboarding\",\"intergroups\",\"focussing\",\"chairman\",\"surpressed\",\"anonymous\",\"soth\",\"conquered\",\"diverge\",\"readjusting\",\"asiens\",\"authoritative\",\"dependable\",\"ringing\",\"crystal\",\"dictates\",\"attachments\",\"redefining\",\"evaluates\",\"tweaks\",\"abou\",\"icarus\",\"melted\",\"wax\",\"grandparent\",\"pilot\",\"bluntly\",\"wss\",\"boeijen\",\"carefull\",\"imaging\",\"puberty\",\"undermine\",\"fromm\",\"meredith\",\"ceramic\",\"enlightens\",\"verses\",\"stardust\",\"sid\",\"pressured\",\"flooding\",\"unattainable\",\"persue\",\"peeking\",\"rhyme\",\"territorial\",\"parliamentarian\",\"discovers\",\"framing\",\"gradual\",\"llike\",\"goat\",\"swerving\",\"hollowing\",\"ranking\",\"brilliantly\",\"jpg\",\"aboriginals\",\"arouse\",\"hawai\",\"inali\",\"jim\",\"okinawa\",\"lightly\",\"protects\",\"enlisting\",\"bahwuk\",\"nort\",\"thruth\",\"resembling\",\"stanza\",\"rhyming\",\"displacing\",\"bypass\",\"nady\",\"emergence\",\"rector\",\"advertiser\",\"populous\",\"artificial\",\"peek\",\"circuitous\",\"dealings\",\"communicaiton\",\"rubbing\",\"gang\",\"evolutionary\",\"palestinian\",\"daydreamer\",\"geman\",\"inclinations\",\"conducive\",\"dusty\",\"oneness\",\"eyecontact\",\"steadily\",\"analogy\",\"consistently\",\"renting\",\"crises\",\"proactive\",\"imagining\",\"applicants\",\"protracted\",\"alsace\",\"withdrew\",\"misread\",\"guidebook\",\"stiles\",\"recognizes\",\"hofstedes\",\"miraculously\",\"disrupt\",\"illusions\",\"suppression\",\"tittle\",\"mistrust\",\"thicker\",\"skins\",\"pervading\",\"cups\",\"iwould\",\"transient\",\"ladder\",\"multucultural\",\"hhhhh\",\"concessions\",\"vibration\",\"dualisms\",\"hedonism\",\"humanist\",\"pearl\",\"devised\",\"moe\",\"reactive\",\"yin\",\"supplied\",\"metapher\",\"freshly\",\"knigge\",\"schematic\",\"overlooks\",\"disorganised\",\"submerged\",\"finer\",\"irritation\",\"motivator\",\"activism\",\"farewell\",\"parochial\",\"vicky\",\"backpacker\",\"dozens\",\"governor\",\"parliamentary\",\"rp\",\"innermost\",\"chit\",\"eccentric\",\"shrub\",\"sequoias\",\"shade\",\"cheered\",\"trail\",\"loan\",\"instructed\",\"crucially\",\"linkedin\",\"resumes\",\"wary\",\"superb\",\"rode\",\"sep\",\"kins\",\"ying\",\"proceeding\",\"studio\",\"pulse\",\"burkina\",\"faso\",\"slippers\",\"marvel\",\"ide\",\"unpretentious\",\"contractor\",\"ppt\",\"reggae\",\"correspondingly\",\"sorrows\",\"cop\",\"afterall\",\"allotted\",\"differnce\",\"magda\",\"matani\",\"mozambique\",\"attribution\",\"advancement\",\"creep\",\"transcending\",\"impertinent\",\"calligraphy\",\"rivalry\",\"colonizers\",\"doctrine\",\"yuanzi\",\"qualifies\",\"cultrual\",\"honouring\",\"respectation\",\"shawn\",\"lighten\",\"whine\",\"taobao\",\"recovering\",\"compromised\",\"bremner\",\"abrasive\",\"delegations\",\"delegation\",\"cajiao\",\"elaboration\",\"resons\",\"assaulted\",\"occupation\",\"surfaces\",\"rape\",\"clarifies\",\"zen\",\"campaign\",\"ducks\",\"attracting\",\"hypocritical\",\"gosia\",\"retrospectives\",\"tons\",\"strengthening\",\"withdrawl\",\"alienate\",\"lbgt\",\"mondaymorning\",\"excerpts\",\"cloths\",\"armer\",\"minefield\",\"accessing\",\"exprience\",\"awards\",\"sagittarius\",\"residenst\",\"versed\",\"educative\",\"producing\",\"bumped\",\"inquired\",\"scarred\",\"snapped\",\"forengn\",\"sizes\",\"depress\",\"witnesses\",\"contentment\",\"sublimation\",\"incline\",\"backstories\",\"gossips\",\"neverending\",\"covertly\",\"experiments\",\"elect\",\"chenchen\",\"lit\",\"mmmm\",\"turmoil\",\"interviewing\",\"disapointed\",\"relatinship\",\"gourmet\",\"impotant\",\"jiahao\",\"sculptures\",\"disruptions\",\"suppressed\",\"adaptative\",\"nancy\",\"tenant\",\"equiped\",\"communicants\",\"juice\",\"tasted\",\"eateries\",\"hefty\",\"strenght\",\"factual\",\"compensate\",\"understaning\",\"interactors\",\"phycological\",\"hu\",\"understnad\",\"regulate\",\"marvellous\",\"mimicry\",\"criminal\",\"rhymed\",\"empowerment\",\"flags\",\"flag\",\"awakens\",\"operational\",\"preferances\",\"conferred\",\"littering\",\"homosexuals\",\"picks\",\"ups\",\"kown\",\"diy\",\"pettigrew\",\"settlement\",\"purting\",\"pics\",\"ulster\",\"tens\",\"nuptial\",\"beg\",\"essentials\",\"spat\",\"frequencies\",\"natures\",\"inventor\",\"unending\",\"cherishes\",\"wiil\",\"restoring\",\"faults\",\"retrospecting\",\"psychosocial\",\"edges\",\"identifications\",\"differnces\",\"priciples\",\"southener\",\"waht\",\"confidential\",\"unlimited\",\"thete\",\"caterconer\",\"accumulating\",\"prefrence\",\"observatory\",\"develpment\",\"engines\",\"blocked\",\"obsevation\",\"sweat\",\"satisfies\",\"insincerity\",\"shirk\",\"printed\",\"perceivable\",\"culutre\",\"dietary\",\"parental\",\"zlatina\",\"refute\",\"metopher\",\"shortness\",\"whimsical\",\"chafing\",\"extents\",\"individulas\",\"negligible\",\"memorized\",\"neccessary\",\"pacifist\",\"giriama\",\"tail\",\"bedrooms\",\"mn\",\"populism\",\"housewife\",\"ang\",\"influent\",\"communition\",\"elastic\",\"accomodating\",\"appreciations\",\"othering\",\"mediate\",\"culure\",\"qootient\",\"periphery\",\"telegraph\",\"peasants\",\"fatal\",\"verbose\",\"weigh\",\"cantons\",\"kinship\",\"alterity\",\"premised\",\"invalid\",\"borne\",\"unionist\",\"ableist\",\"exegetical\",\"lever\",\"fundraising\",\"anonymity\",\"ower\",\"dotaer\",\"gtaer\",\"whispering\",\"maximization\",\"resonant\",\"prejudge\",\"improves\",\"constructions\",\"perceptual_barriers\",\"segregation\",\"wheelchair\",\"manifestations\",\"quran\",\"observance\",\"musings\",\"sponsored\",\"competencies\",\"airwaves\",\"retail\",\"conductor\",\"gigantic\",\"monolingual\",\"nails\",\"visitantwerpen\",\"protagonist\",\"trading\",\"songstresses\",\"doer\",\"arthur\",\"kumiss\",\"elbows\",\"blissful\",\"chop\",\"salvage\",\"bulk\",\"platters\",\"mighty\",\"nm\",\"flmg\",\"obeys\",\"industrious\",\"enters\",\"agora\",\"pronounces\",\"portant\",\"laguage\",\"blake\",\"megalopolis\",\"nadya\",\"suzie\",\"gullible\",\"wanderer\",\"lettow\",\"vorbeck\",\"oath\",\"superiors\",\"advising\",\"coupe\",\"unpunctual\",\"notify\",\"dull\",\"continuation\",\"negociate\",\"blanket\",\"iin\",\"rat\",\"mandatory\",\"advocated\",\"annoys\",\"reductionism\",\"bolivia\",\"engages\",\"spacious\",\"proffessors\",\"quadrants\",\"polychronics\",\"nourish\",\"balcony\",\"unconvenient\",\"runway\",\"mah\",\"elicits\",\"titanic\",\"boxer\",\"garfunkel\",\"wilder\",\"harmonize\",\"theacmhents\",\"perpetuated\",\"misconduct\",\"undress\",\"smoothing\",\"budget\",\"certainties\",\"hdd\",\"regulated\",\"productions\",\"enhancement\",\"misjudged\",\"headings\",\"derives\",\"absolutly\",\"ointment\",\"reflexes\",\"risky\",\"sudoko\",\"protests\",\"matured\",\"planed\",\"restricted\",\"warmest\",\"paradoxical\",\"busyness\",\"disdain\",\"sniff\",\"misinterpreting\",\"poly\",\"salesman\",\"ticked\",\"burnout\",\"beginnings\",\"foreigns\",\"clinging\",\"allready\",\"chinua\",\"achebe\",\"placement\",\"resolving\",\"cultral\",\"yantai\",\"curling\",\"effiency\",\"deviating\",\"prolonged\",\"voluntarily\",\"publically\",\"bracket\",\"fussy\",\"adjust_develop\",\"overt\",\"eta\",\"materail\",\"pretent\",\"inflicted\",\"typer\",\"curtains\",\"adhered\",\"constraining\",\"provoking\",\"quickest\",\"cpc\",\"immoral\",\"poke\",\"borrowing\",\"lane\",\"backs\",\"somes\",\"amerindian\",\"tenacity\",\"comfortableness\",\"pakistanis\",\"seperated\",\"rub\",\"monochromatic\",\"prominently\",\"equilibrium\",\"weaken\",\"lap\",\"overgrowded\",\"criticise\",\"jealousy\",\"dissatisfactory\",\"manufacturing\",\"lump\",\"alternating\",\"saturdaynight\",\"litlle\",\"frontline\",\"inquire\",\"mistreat\",\"hardcopy\",\"pointless\",\"handwritten\",\"preaching\",\"pf\",\"chorus\",\"bagging\",\"reaffirm\",\"improvements\",\"comoplex\",\"gossiping\",\"disparity\",\"meditative\",\"warwick\",\"await\",\"furthest\",\"affronted\",\"suspending\",\"layed\",\"disorderly\",\"piles\",\"timelines\",\"basin\",\"segmented\",\"grain\",\"infinity\",\"calendar_app\",\"postgraduation\",\"belittle\",\"ven\",\"clans\",\"oooh\",\"smack\",\"medcine\",\"silenced\",\"fooled\",\"mixer\",\"carey\",\"incorporated\",\"interviewer\",\"armrest\",\"tow\",\"musics\",\"recording\",\"duplication\",\"particulary\",\"synchronizing\",\"westners\",\"officials\",\"hahha\",\"giant\",\"spacial\",\"ports\",\"portraying\",\"eyelid\",\"whiter\",\"aria\",\"asthma\",\"diabetes\",\"da\",\"loading\",\"ophelie\",\"litterature\",\"deafened\",\"workday\",\"thingk\",\"hasty\",\"palace\",\"identitiy\",\"omitted\",\"ceiling\",\"comical\",\"cashregister\",\"pos\",\"oops\",\"cultruals\",\"slience\",\"wavelength\",\"adolescent\",\"responsive\",\"bereaved\",\"tacit\",\"portrays\",\"weights\",\"firends\",\"resentment\",\"emeline\",\"interprete\",\"edouardo\",\"descriptive\",\"unambiguous\",\"becker\",\"utopia\",\"explicitness\",\"abha\",\"supreme\",\"togethers\",\"persistance\",\"equalize\",\"audible\",\"rearrange\",\"trauma\",\"maram\",\"congregate\",\"withheld\",\"assessed\",\"disruptive\",\"huddle\",\"harness\",\"polarized\",\"zz\",\"synchronise\",\"gesticulate\",\"paragraphs\",\"hostess\",\"implicitely\",\"frustrate\",\"comparision\",\"submitting\",\"countering\",\"cure\",\"pittsburgh\",\"alvin\",\"absorbing\",\"rounds\",\"deserts\",\"sq\",\"vendors\",\"payback\",\"protest\",\"unbelievable\",\"restricting\",\"infringe\",\"oblidged\",\"tactics\",\"switches\",\"keenly\",\"southernmost\",\"huddled\",\"palanga\",\"latvians\",\"playgrounds\",\"fr\",\"smirk\",\"prerogative\",\"bazar\",\"acknowledgment\",\"wordsworth\",\"haste\",\"toddlers\",\"spice\",\"untold\",\"theaters\",\"weekdays\",\"spectators\",\"cinemas\",\"paperwork\",\"execution\",\"irresponsible\",\"cockney\",\"tasking\",\"categorical\",\"hoc\",\"internalization\",\"timezones\",\"theatres\",\"perfer\",\"jotted\",\"assuring\",\"englishes\",\"ethology\",\"depeche\",\"ke\",\"destinations\",\"ale\",\"afforded\",\"vocal\",\"randomly\",\"thir\",\"portable\",\"monochromics\",\"polychromics\",\"permits\",\"pioneers\",\"nerd\",\"seng\",\"tss\",\"pulp\",\"accidents\",\"cotton\",\"dumping\",\"angst\",\"altered\",\"alarms\",\"complains\",\"eliminates\",\"struggled\",\"cate\",\"calander\",\"calenders\",\"sunset\",\"rehearse\",\"wakes\",\"perpetually\",\"mtime\",\"ptime\",\"afrocentrism\",\"trello\",\"kluchkhohns\",\"sequenced\",\"associating\",\"narrated\",\"sponsor\",\"ayii\",\"ssp\",\"conciously\",\"inmigrant\",\"fridayprayers\",\"cen\",\"marcelo\",\"prioritizing\",\"wyn\",\"sinjoor\",\"protestantism\",\"conntact\",\"pck\",\"tailored\",\"asleep\",\"incessantly\",\"myths\",\"organizes\",\"monochonic\",\"inconsistency\",\"fragmentation\",\"sitter\",\"manga\",\"comics\",\"shortcomings\",\"audio\",\"persepolis\",\"sanna\",\"interlude\",\"prefernce\",\"gloria\",\"duplicity\",\"induction\",\"accomplishing\",\"skilled\",\"waltzing\",\"deafening\",\"crowed\",\"chant\",\"anthem\",\"swinging\",\"machanism\",\"reflectiveness\",\"nourished\",\"impatience\",\"premium\",\"ould\",\"tabou\",\"uninteresting\",\"ufpa\",\"signified\",\"samsung\",\"filmmaker\",\"commemorate\",\"prayers\",\"devotion\",\"electric\",\"sanctions\",\"lighter\",\"effortlessly\",\"espacially\",\"sword\",\"argentines\",\"refering\",\"damned\",\"distractions\",\"karma\",\"bending\",\"monocromic\",\"asal\",\"kelakon\",\"aspirant\",\"roti\",\"kulcha\",\"naan\",\"aks\",\"cyclic\",\"jot\",\"cont\",\"worsen\",\"surprice\",\"peculiarity\",\"coarse\",\"exceeding\",\"procrastination\",\"beeps\",\"techno\",\"polychronemic\",\"justified\",\"inaccessible\",\"reflex\",\"insensitivities\",\"archive\",\"wounded\",\"hitches\",\"kant\",\"libyan\",\"reframe\",\"premises\",\"discerning\",\"espoused\",\"spatially\",\"distracting\",\"enlightenments\",\"canceled\",\"longterm\",\"effacing\",\"todays\",\"qq\",\"caps\",\"enfused\",\"dippy\",\"zgierz\",\"molecular\",\"examle\",\"valueing\",\"labtop\",\"caledar\",\"hitting\",\"prussian\",\"disconnected\",\"juanmi\",\"straighforward\",\"somewere\",\"doughter\",\"regime\",\"pt\",\"cleanning\",\"containing\",\"separates\",\"danlin\",\"civilised\",\"scribble\",\"counters\",\"hovered\",\"disapprovingly\",\"entertained\",\"browsed\",\"humboldt\",\"fraternit\",\"clung\",\"promiscuity\",\"vacant\",\"frequented\",\"skipped\",\"poma\",\"ayala\",\"refectory\",\"uncomfortably\",\"artefact\",\"wellness\",\"openess\",\"speck\",\"manhattan\",\"invariably\",\"suggestive\",\"responsiveness\",\"traders\",\"sumatera\",\"tying\",\"betrayed\",\"catalogue\",\"cleavage\",\"denomination\",\"exposes\",\"commend\",\"browsing\",\"dutiful\",\"huangxiang\",\"warmed\",\"secretly\",\"showcasing\",\"journals\",\"onwards\",\"indead\",\"generators\",\"scaring\",\"grieving\",\"tabs\",\"monash\",\"sync\",\"resisted\",\"governing\",\"prophets\",\"divine\",\"avail\",\"expatriated\",\"hace\",\"normaal\",\"organizer\",\"termed\",\"kings\",\"erases\",\"martin\",\"scollon\",\"industriousness\",\"coherence\",\"devil\",\"bonuses\",\"unwillingly\",\"specifc\",\"calvinism\",\"elina\",\"westernization\",\"briefing\",\"exceed\",\"ae\",\"idle\",\"misapprehension\",\"mirrors\",\"analise\",\"offerings\",\"altruism\",\"hopped\",\"permissive\",\"smokers\",\"painted\",\"buteyko\",\"cured\",\"illnesses\",\"josien\",\"extrange\",\"intelectual\",\"eaters\",\"thoreau\",\"anarchist\",\"traitor\",\"wwii\",\"leaned\",\"chiapas\",\"oaxaca\",\"monocrhonic\",\"yucatan\",\"zhoa\",\"mateship\",\"imperfection\",\"commanded\",\"alleviate\",\"extinct\",\"frogs\",\"homogenized\",\"bangaluru\",\"dynamism\",\"fabric\",\"nuisance\",\"pedestrian\",\"offenses\",\"downloads\",\"drying\",\"taxonomy\",\"despised\",\"understandin\",\"abound\",\"supplement\",\"endemic\",\"stereo\",\"conquests\",\"revised\",\"totalitarian\",\"debriefing\",\"transcendence\",\"eel\",\"impartial\",\"sometines\",\"improvise\",\"characterized\",\"performances\",\"envolves\",\"tenet\",\"preserved\",\"assen\",\"lucid\",\"correcting\",\"oversight\",\"ani\",\"asante\",\"afrocentric\",\"pp\",\"ecovillage\",\"comprehensively\",\"boykin\",\"mcloyd\",\"dialectical\",\"insect\",\"climb\",\"beingness\",\"incorporates\",\"interdependence\",\"primacy\",\"imported\",\"minimizing\",\"adaptaion\",\"yosef\",\"jochannan\",\"manhood\",\"mightily\",\"furnishes\",\"superlatives\",\"vastness\",\"welding\",\"flourished\",\"clark\",\"pearls\",\"jet\",\"lag\",\"cavalry\",\"invasions\",\"williams\",\"manuscripts\",\"seifert\",\"thomas\",\"dissolve\",\"instruments\",\"untapped\",\"mali\",\"eminent\",\"inthe\",\"fortnight\",\"tally\",\"undeniable\",\"basket\",\"bent\",\"expecations\",\"poll\",\"sjosjialbums\",\"sjosjishow\",\"asp\",\"appetite\",\"illegal\",\"favourable\",\"mideastern\",\"nuts\",\"branded\",\"bellah\",\"freedoms\",\"pardon\",\"bumper\",\"cheater\",\"disneyland\",\"silva\",\"canal\",\"benedetti\",\"prohibition\",\"asylumcenters\",\"notalways\",\"collegial\",\"concludes\",\"genuineness\",\"takling\",\"timers\",\"artful\",\"tradesmanship\",\"ideologically\",\"profits\",\"ellen\",\"tolarence\",\"prejucices\",\"regulation\",\"casually\",\"umm\",\"objection\",\"monks\",\"claimed\",\"uniting\",\"thoug\",\"commonplace\",\"overhelmed\",\"shortest\",\"thnaks\",\"beacuse\",\"resturant\",\"restrain\",\"ayat\",\"proactively\",\"minecraft\",\"dizzy\",\"communitarian\",\"relay\",\"goethe\",\"jesuit\",\"cardinal\",\"bea\",\"ishmael\",\"mecca\",\"dumped\",\"khadijah\",\"digitally\",\"embodiment\",\"differeces\",\"universalistic\",\"amazon\",\"wrede\",\"het\",\"sercoumtanceses\",\"cherished\",\"fingertips\",\"capsule\",\"blindly\",\"ploychronic\",\"blender\",\"embodied\",\"deculturation\",\"transcend\",\"roaring\",\"tenderness\",\"althought\",\"slowed\",\"powered\",\"undivided\",\"mead\",\"individulism\",\"rationale\",\"yonnger\",\"synonymous\",\"plotting\",\"aron\",\"positives\",\"differneces\",\"hurried\",\"inclusiveness\",\"wipe\",\"boasted\",\"assigments\",\"thrift\",\"notified\",\"traditionalist\",\"emirati\",\"georgetown\",\"immigrating\",\"embraces\",\"psychologists\",\"feild\",\"inattentive\",\"regio\",\"tilburg\",\"frankopan\",\"asylumseekers\",\"bases\",\"huisarts\",\"prescribed\",\"fixable\",\"pdp\",\"cognitively\",\"awakened\",\"begets\",\"ticks\",\"bare\",\"workship\",\"bustrip\",\"dishonesty\",\"posible\",\"hostede\",\"iwas\",\"reasearch\",\"beeping\",\"sailent\",\"capsules\",\"mg\",\"cathedral\",\"approximate\",\"loophole\",\"disapeared\",\"prevailing\",\"headset\",\"deems\",\"repercussions\",\"thrives\",\"brushes\",\"floss\",\"lavatories\",\"daylight\",\"cinnamon\",\"homemade\",\"hoftede\",\"depens\",\"underlines\",\"organiser\",\"afloat\",\"doi\",\"ua\",\"relocate\",\"enculturation\",\"yoyo\",\"tutu\",\"kluckhon\",\"res\",\"supply\",\"cooperativeness\",\"unconventional\",\"woven\",\"beaurocracy\",\"housemaid\",\"scandalized\",\"internalisation\",\"lv\",\"universalist\",\"healthier\",\"inverse\",\"buds\",\"colonists\",\"spencer\",\"celebrants\",\"liquorice\",\"schemes\",\"eradicated\",\"acquintances\",\"ers\",\"wc\",\"subgroups\",\"oftentime\",\"edged\",\"fatimah\",\"poetries\",\"generalist\",\"loked\",\"delved\",\"enclosed\",\"byt\",\"resposibility\",\"alatrash\",\"favors\",\"alhanouf\",\"abdulaziz\",\"champing\",\"unhinge\",\"disheartened\",\"server\",\"concpet\",\"becuase\",\"aladdin\",\"carpet\",\"shabby\",\"endured\",\"camouflaged\",\"sawako\",\"agawa\",\"emesto\",\"wink\",\"indianised\",\"hitlers\",\"unequally\",\"symptons\",\"rigidly\",\"overthinker\",\"individuation\",\"risen\",\"roadbike\",\"racing\",\"automation\",\"modernistic\",\"hampden\",\"turner\",\"betrothal\",\"docus\",\"expierience\",\"challange\",\"experiencies\",\"communicatio\",\"simpleness\",\"peels\",\"additive\",\"miller\",\"austin\",\"crystallised\",\"binarism\",\"kpi\",\"clime\",\"snag\",\"lows\",\"inclination\",\"odors\",\"histogram\",\"emoji\",\"nowak\",\"dependence\",\"subjugated\",\"packets\",\"undersatnd\",\"mindness\",\"braver\",\"nastya\",\"paella\",\"dependability\",\"considerateness\",\"performers\",\"otally\",\"respondents\",\"disorientation\",\"empaty\",\"petrova\",\"jacqes\",\"tati\",\"commutes\",\"scooting\",\"articulated\",\"sunflower\",\"foremost\",\"indiv\",\"credibilty\",\"witouth\",\"swamped\",\"kullu\",\"dehli\",\"revati\",\"nand\",\"alexandra\",\"tecnology\",\"inoculated\",\"construals\",\"stroke\",\"autopilot\",\"burger\",\"articole\",\"nepali\",\"casus\",\"bayern\",\"sephora\",\"sibiu\",\"lucian\",\"blaga\",\"instagram\",\"globle\",\"appereances\",\"anime\",\"wouldnt\",\"nuance\",\"anomalies\",\"chinses\",\"transforms\",\"ir\",\"specifying\",\"destiny\",\"northeastern\",\"dominates\",\"interculturale\",\"oppotunity\",\"honduras\",\"perplexed\",\"tasting\",\"regionally\",\"recipient\",\"speeds\",\"kannada\",\"tamil\",\"namaste\",\"categorised\",\"correctness\",\"krakow\",\"jar\",\"mongrel\",\"robots\",\"austrians\",\"overpowering\",\"businessman\",\"dads\",\"grandad\",\"mums\",\"gypsy\",\"sect\",\"climates\",\"adviser\",\"catalonia\",\"midwestern\",\"int\",\"egalitarian\",\"identites\",\"impacting\",\"permitted\",\"vacuum\",\"deem\",\"julia\",\"intact\",\"commute\",\"knives\",\"transcript\",\"ensures\",\"geertz\",\"dutta\",\"kolkata\",\"niqab\",\"francisco\",\"favorites\",\"bengalis\",\"harmoniously\",\"tipping\",\"bor\",\"memorial\",\"assisting\",\"rwanda\",\"uneducated\",\"obstinate\",\"trilingual\",\"ing\",\"caribbeans\",\"frenchman\",\"guatemala\",\"payed\",\"honey\",\"prototype\",\"chess\",\"unexplained\",\"spoilt\",\"descendant\",\"accumulated\",\"eh\",\"marmite\",\"chennai\",\"variances\",\"moderated\",\"alignment\",\"afar\",\"experince\",\"webpages\",\"lingua\",\"predudice\",\"fianc\",\"pleasantries\",\"bluntness\",\"sooner\",\"reinforcing\",\"mombasa\",\"calculate\",\"flexibel\",\"camino\",\"rica\",\"commmunication\",\"illinois\",\"zebra\",\"developers\",\"roma\",\"appearing\",\"exceptionally\",\"seas\",\"thy\",\"imposible\",\"uttering\",\"eyebrows\",\"commom\",\"mechanisms\",\"displaying\",\"bruce\",\"infrastructure\",\"unforgetable\",\"sophomore\",\"prefecture\",\"damaged\",\"diaspora\",\"oddly\",\"anyways\",\"eighties\",\"imagery\",\"merrier\",\"reciprocal\",\"regognise\",\"castle\",\"lunchtime\",\"objectivity\",\"announced\",\"stigma\",\"raouf\",\"thereof\",\"boastful\",\"conspicuous\",\"alberta\",\"vancouver\",\"israeli\",\"cutures\",\"dies\",\"languagecoach\",\"ore\",\"ballet\",\"fierce\",\"temperaments\",\"hanna\",\"disagreeable\",\"massachusetts\",\"tatars\",\"louise\",\"apologetic\",\"hamburg\",\"brabant\",\"sucessful\",\"evasive\",\"fugitive\",\"presently\",\"riders\",\"workable\",\"tentative\",\"entail\",\"politic\",\"existential\",\"plurality\",\"philadelphia\",\"myriad\",\"moses\",\"recovery\",\"idear\",\"gentleman\",\"collection\",\"toasting\",\"escaping\",\"kilometers\",\"rightly\",\"pickle\",\"electrical\",\"brianna\",\"transfered\",\"battery\",\"traded\",\"burmese\",\"ugliness\",\"jalisco\",\"beard\",\"climbing\",\"stairs\",\"shrimp\",\"danang\",\"drawings\",\"cast\",\"collage\",\"texan\",\"polar\",\"barbecue\",\"lee\",\"reserch\",\"inconsistent\",\"pockets\",\"hampers\",\"cd\",\"sns\",\"plinsinga\",\"studies_university\",\"morally\",\"ist\",\"idealize\",\"reassured\",\"civic\",\"undervalued\",\"editing\",\"plastic\",\"jia\",\"camps\",\"haunting\",\"overwhelm\",\"coincided\",\"paola\",\"ralph\",\"frist\",\"coutry\",\"lense\",\"storage\",\"modifying\",\"bangladeshi\",\"inclusivity\",\"dutchmen\",\"endurance\",\"brisbane\",\"os\",\"retrieve\",\"emoticon\",\"rally\",\"uniquely\",\"btw\",\"annalis\",\"predictions\",\"marking\",\"waved\",\"thanking\",\"marker\",\"comminication\",\"propaganda\",\"tuned\",\"misinterpreted\",\"keeper\",\"cows\",\"communicaion\",\"tunisian\",\"sliding\",\"rid\",\"longing\",\"nowaday\",\"travelers\",\"organism\",\"iron\",\"transgender\",\"hail\",\"scots\",\"particularities\",\"tuscany\",\"nebraska\",\"nomadic\",\"innovations\",\"isaan\",\"stela\",\"www_ted\",\"com_talks\",\"taiye\",\"abusing\",\"recurring\",\"wellbeing\",\"coz\",\"japanes\",\"migrate\",\"sanitizer\",\"sensitized\",\"diffrence\",\"gaze\",\"persian\",\"lucia\",\"exasperating\",\"delicacies\",\"refrained\",\"redefine\",\"comedy\",\"preferably\",\"anglophone\",\"springs\",\"webs\",\"befriend\",\"rostov\",\"begun\",\"cadet\",\"ranks\",\"passions\",\"dude\",\"underestimated\",\"parallels\",\"touring\",\"photographs\",\"route\",\"valpo\",\"chou\",\"taipei\",\"suburbs\",\"revision\",\"rico\",\"delia\",\"discern\",\"johor\",\"tertiary\",\"surnames\",\"familiars\",\"boots\",\"stamp\",\"aplogize\",\"reevaluate\",\"swallow\",\"assisted\",\"unhealthy\",\"djiboutian\",\"detected\",\"provocative\",\"apologized\",\"correction\",\"sympathize\",\"gambia\",\"reverence\",\"listeners\",\"ecological\",\"spotted\",\"felling\",\"niger\",\"merriam\",\"webster\",\"helsinki\",\"lakes\",\"lavonna\",\"indra\",\"hospitals\",\"incomprehension\",\"transformative\",\"impoliteness\",\"workforce\",\"kalimantan\",\"consisted\",\"transmission\",\"smal\",\"attidude\",\"prepares\",\"skating\",\"chens\",\"stimuli\",\"discomforted\",\"brooks\",\"oude\",\"pekela\",\"rectify\",\"tempo\",\"bangkok\",\"mile\",\"chancing\",\"noon\",\"hairdressers\",\"theology\",\"texted\",\"counting\",\"nos\",\"las\",\"ment\",\"virtually\",\"proceeded\",\"determining\",\"rites\",\"koninklijke\",\"overdone\",\"gifted\",\"stretching\",\"buryats\",\"thr\",\"rosemary\",\"deepened\",\"marta\",\"celtic\",\"simultaneous\",\"consensus\",\"idiomatic\",\"compatible\",\"breed\",\"heba\",\"ielts\",\"montenegro\",\"herzegovina\",\"reconcile\",\"helpers\",\"aloha\",\"spin\",\"competitors\",\"demographics\",\"simplify\",\"ahmed\",\"tawfik\",\"lays\",\"crashing\",\"pharmacy\",\"qualified\",\"predictable\",\"privat\",\"retire\",\"withdrawing\",\"burn\",\"beckoned\",\"sulking\",\"restless\",\"fishbowl\",\"londoner\",\"em\",\"beam\",\"ecosystem\",\"contradict\",\"extraordinary\",\"vibes\",\"di\",\"thanksgiving\",\"eid\",\"returns\",\"astonishing\",\"height\",\"harvest\",\"ceremonial\",\"pigs\",\"duck\",\"deeds\",\"workings\",\"possessions\",\"moreso\",\"disguise\",\"seminars\",\"amazes\",\"earl\",\"handful\",\"markedly\",\"ranked\",\"recreational\",\"sociability\",\"chapters\",\"unrealistic\",\"natasha\",\"spy\",\"nickname\",\"hurrying\",\"unreasonable\",\"taller\",\"easter\",\"bridged\",\"poorest\",\"excessively\",\"idealizing\",\"hanoi\",\"onus\",\"freezing\",\"wired\",\"hrh\",\"levantine\",\"specializing\",\"arising\",\"eveyone\",\"lip\",\"tragic\",\"galicia\",\"brunei\",\"tropical\",\"hypocrisy\",\"carl\",\"pebbles\",\"marvelous\",\"rebellion\",\"tops\",\"para\",\"tuesday\",\"submissive\",\"buffer\",\"doc\",\"jens\",\"allwood\",\"embassy\",\"underline\",\"archaeologist\",\"cubans\",\"saarland\",\"neighbouring\",\"shoking\",\"arabia\",\"infact\",\"plaisir\",\"monsieur\",\"il\",\"bathing\",\"receptionist\",\"tournament\",\"booking\",\"psycological\",\"gem\",\"softer\",\"lile\",\"bt\",\"mot\",\"delete\",\"breach\",\"cursing\",\"ethiopic\",\"idioma\",\"beginner\",\"wrongs\",\"novelty\",\"incoming\",\"fairs\",\"revered\",\"utilize\",\"dreamed\",\"dos\",\"bragging\",\"teen\",\"wee\",\"transactional\",\"superstitions\",\"intransigent\",\"emigrate\",\"miracle\",\"grad\",\"ww\",\"tapestry\",\"bears\",\"maxim\",\"wu\",\"airong\",\"rewrite\",\"pozole\",\"tamales\",\"feared\",\"assets\",\"mingled\",\"commerce\",\"shining\",\"woods\",\"drinker\",\"whereabouts\",\"nobel\",\"normative\",\"aleikum\",\"despair\",\"allies\",\"intern\",\"slowely\",\"lingering\",\"cricket\",\"sauce\",\"qiuye\",\"behavoir\",\"conditioning\",\"liberating\",\"colomba\",\"refresher\",\"revisit\",\"amish\",\"pin\",\"intracultural\",\"xia\",\"alley\",\"rated\",\"viceversa\",\"rocks\",\"lederhosen\",\"euro\",\"wisconsin\",\"regrets\",\"obligated\",\"dental\",\"cunning\",\"anf\",\"disappearing\",\"originating\",\"companions\",\"gulshat\",\"effici\",\"landlord\",\"costume\",\"lawyers\",\"megacities\",\"appartment\",\"burst\",\"unpacking\",\"partying\",\"ahahah\",\"forgave\",\"harvard\",\"yield\",\"mlk\",\"genealogical\",\"opera\",\"lissa\",\"rose\",\"megacity\",\"davis\",\"romance\",\"refugeecamp\",\"appartments\",\"republics\",\"melissa\",\"labeling\",\"etics\",\"marjan\",\"truthfulness\",\"trainee\",\"safeguard\",\"rising\",\"persuaded\",\"royal\",\"unlikely\",\"terrifying\",\"bueno\",\"suprising\",\"inborn\",\"revival\",\"fiercely\",\"confort\",\"successfull\",\"richard\",\"amusement\",\"conceptions\",\"concurrent\",\"pointers\",\"completly\",\"po\",\"headache\",\"espanol\",\"queensland\",\"ecology\",\"inventory\",\"advertisements\",\"tibetan\",\"confessions\",\"nap\",\"lourdes\",\"drafted\",\"liming\",\"trini\",\"ghost\",\"destroying\",\"transpositional\",\"accpet\",\"synonymously\",\"arisen\",\"specificity\",\"jersey\",\"egalitarianism\",\"visas\",\"albrecht\",\"victims\",\"transaction\",\"northen\",\"starbuck\",\"auditory\",\"distinctiveness\",\"shoe\",\"builds\",\"bai\",\"urbanized\",\"screens\",\"genius\",\"mahdi\",\"insisting\",\"backrounds\",\"mustard\",\"aha\",\"acturally\",\"shoudn\",\"keyword\",\"mould\",\"crushed\",\"messed\",\"fastidious\",\"hormones\",\"sixties\",\"hindrance\",\"whiskey\",\"wings\",\"visualise\",\"bugis\",\"cater\",\"buddha\",\"correspondent\",\"festivities\",\"costly\",\"recollection\",\"plausible\",\"referenced\",\"purchase\",\"quiz\",\"viewers\",\"sis\",\"disconcerting\",\"minimum\",\"unkown\",\"embarrass\",\"exhibited\",\"readapting\",\"suis\",\"perpective\",\"unprofessional\",\"irritate\",\"wrap\",\"conceptual\",\"wendy\",\"adequately\",\"involvement\",\"gadget\",\"phyothuzar\",\"faculties\",\"supervisors\",\"elena\",\"motswana\",\"communicantion\",\"murray\",\"assigment\",\"inferiority\",\"gypsies\",\"morale\",\"diferentes\",\"beirut\",\"mindedness\",\"refrigerator\",\"marley\",\"shinning\",\"intricacies\",\"windy\",\"hijab\",\"anthropologist\",\"coconuts\",\"turkic\",\"tesol\",\"sold\",\"speeches\",\"refreshed\",\"sorrow\",\"advances\",\"concious\",\"teached\",\"lebanon\",\"sportsman\",\"abortion\",\"bolivian\",\"habitudes\",\"malasyan\",\"zealander\",\"chronic\",\"biracial\",\"flatmates\",\"asperger\",\"recharge\",\"batteries\",\"pave\",\"fawzia\",\"abide\",\"polyglot\",\"hometowns\",\"northerner\",\"memberships\",\"yiwen\",\"progresses\",\"nelli\",\"rapid\",\"milieu\",\"necessities\",\"imitating\",\"witty\",\"blow\",\"underwater\",\"coments\",\"staple\",\"beween\",\"textbook\",\"nosey\",\"marku\",\"cathartic\",\"smth\",\"countires\",\"hapiness\",\"inhabit\",\"quitely\",\"poeple\",\"kindess\",\"sociological\",\"stretch\",\"balances\",\"strait\",\"inshallah\",\"token\",\"gloomy\",\"savvy\",\"tiger\",\"ugwuanyi\",\"emergencies\",\"snowball\",\"bruneau\",\"shikumen\",\"perish\",\"chill\",\"vocational\",\"admitting\",\"abut\",\"ache\",\"searcher\",\"zhe\",\"retreating\",\"voyage\",\"ria\",\"joyful\",\"rap\",\"eleven\",\"prosperity\",\"mingyue\",\"advertisement\",\"consultation\",\"assertiveness\",\"cellphones\",\"colloquialisms\",\"anglo\",\"packaged\",\"taxis\",\"nearer\",\"borrowed\",\"widened\",\"kangqi\",\"noodle\",\"cared\",\"approve\",\"fee\",\"chongqing\",\"annually\",\"fishes\",\"burning\",\"derive\",\"nourishing\",\"jason\",\"awarded\",\"henan\",\"harming\",\"bee\",\"interviewed\",\"examined\",\"pessimist\",\"idealist\",\"cork\",\"biscuits\",\"communion\",\"gossip\",\"overcame\",\"qiqihar\",\"nigerians\",\"profoundly\",\"columns\",\"electronics\",\"eagerly\",\"sojourn\",\"port\",\"discourses\",\"sensations\",\"resemble\",\"sanskrit\",\"truthful\",\"cruelty\",\"watcher\",\"toxic\",\"doorstep\",\"harassment\",\"tranquillity\",\"curiousity\",\"stumbled\",\"soda\",\"scarce\",\"matched\",\"yelling\",\"interract\",\"pharmacist\",\"outings\",\"ourselfs\",\"reciprocity\",\"michigan\",\"aspiring\",\"attentions\",\"fitted\",\"systematically\",\"operations\",\"lang\",\"robert\",\"proverbs\",\"haircut\",\"mm\",\"removal\",\"inquiry\",\"insecurities\",\"outfits\",\"brining\",\"lao\",\"tread\",\"conceal\",\"outline\",\"mediation\",\"yuting\",\"caitlin\",\"caucasus\",\"finely\",\"crafted\",\"sheffield\",\"query\",\"accuracy\",\"coped\",\"vice\",\"pour\",\"skater\",\"apparel\",\"concisely\",\"clouded\",\"cores\",\"homo\",\"sapiens\",\"volumes\",\"grossly\",\"authentically\",\"standardized\",\"whangpo\",\"bo\",\"pastor\",\"encyclopedia\",\"percieved\",\"prospect\",\"implementation\",\"likelihood\",\"theguardian\",\"drift\",\"grandmothers\",\"align\",\"busses\",\"truck\",\"furniture\",\"fragrans\",\"updates\",\"figuratively\",\"percieve\",\"terminology\",\"starters\",\"identifiers\",\"seville\",\"personaly\",\"stark\",\"insults\",\"admission\",\"rejecting\",\"buff\",\"walker\",\"dustbins\",\"fans\",\"venue\",\"spirited\",\"shore\",\"closet\",\"handshaking\",\"beans\",\"newe\",\"erzsi\",\"predictability\",\"afterward\",\"sexism\",\"equated\",\"undermining\",\"revolutionary\",\"carefree\",\"intentioned\",\"initiate\",\"doe\",\"privileges\",\"rebuked\",\"patriarchal\",\"jin\",\"rehearsal\",\"nights\",\"clique\",\"defeat\",\"contemplating\",\"commentary\",\"compliments\",\"skeptical\",\"indentity\",\"annual\",\"gaming\",\"nintendo\",\"favoring\",\"ensured\",\"separating\",\"yell\",\"humane\",\"indicator\",\"anthropologists\",\"hop\",\"musicians\",\"workaholic\",\"threats\",\"infused\",\"mf\",\"oftentimes\",\"fold\",\"renegotiating\",\"disoriented\",\"bump\",\"youself\",\"toughest\",\"prompted\",\"sakhalin\",\"deepens\",\"paradigms\",\"wel\",\"occured\",\"govern\",\"sentiment\",\"neo\",\"council\",\"unsafe\",\"medellin\",\"oscar\",\"leverage\",\"qualification\",\"anecdote\",\"drafting\",\"biomedical\",\"undergird\",\"performer\",\"sustain\",\"shameful\",\"explosion\",\"opted\",\"contradicts\",\"isles\",\"familiarising\",\"aspergers\",\"progressing\",\"modernisation\",\"stir\",\"sentiments\",\"primed\",\"nasir\",\"ageing\",\"inviter\",\"michael\",\"farmer\",\"rushing\",\"understatement\",\"illustrative\",\"idiosyncratic\",\"instilled\",\"liitle\",\"ass\",\"moroccans\",\"collected\",\"converse\",\"factory\",\"neighborhoods\",\"opp\",\"admin\",\"pill\",\"starter\",\"monolithic\",\"nostalgic\",\"testimony\",\"notch\",\"hitler\",\"pregnancy\",\"chines\",\"energies\",\"southamerica\",\"attacked\",\"haired\",\"derogatory\",\"postings\",\"disadvantaged\",\"homosexuality\",\"cancer\",\"aesthetic\",\"illness\",\"permeate\",\"discriminations\",\"complication\",\"reckon\",\"unhelpful\",\"utrecht\",\"ignores\",\"wins\",\"ithink\",\"prices\",\"seller\",\"fc\",\"restored\",\"flourish\",\"hah\",\"feasible\",\"fancy\",\"medias\",\"victory\",\"bacause\",\"predetermined\",\"pursuits\",\"controversial\",\"dialogic\",\"masks\",\"knowlegde\",\"momentary\",\"totaly\",\"underwear\",\"dryers\",\"operates\",\"discount\",\"dismiss\",\"captures\",\"gardener\",\"nephews\",\"nieces\",\"writting\",\"stamps\",\"modification\",\"disagreements\",\"wondring\",\"ruler\",\"beckoning\",\"oversee\",\"akin\",\"evoked\",\"agitated\",\"jumps\",\"loudest\",\"eternity\",\"predispositions\",\"belarusian\",\"purposeful\",\"tennis\",\"invented\",\"destruction\",\"combat\",\"lector\",\"concidered\",\"rephrase\",\"secretive\",\"relied\",\"knock\",\"joked\",\"rebuilding\",\"showcase\",\"corporal\",\"estonian\",\"leadeship\",\"politician\",\"distort\",\"aptly\",\"lifes\",\"admiring\",\"drake\",\"pirate\",\"sheltered\",\"sorted\",\"deeper_levels\",\"allude\",\"permeates\",\"imbibed\",\"sinologist\",\"socialisation\",\"flew\",\"devise\",\"exploit\",\"classifications\",\"destroyed\",\"georg\",\"engrossed\",\"dissimilar\",\"analogies\",\"bullied\",\"banter\",\"accepts\",\"bind\",\"groceries\",\"romantically\",\"particularistic\",\"ecologist\",\"motion\",\"dichotomy\",\"spiritually\",\"thoughs\",\"surgeon\",\"resigned\",\"discriminatory\",\"dayly\",\"faceted\",\"wrist\",\"neat\",\"outfit\",\"balancing\",\"favorable\",\"executed\",\"ther\",\"foundational\",\"daedalus\",\"wednesday\",\"grasped\",\"violently\",\"bheaviour\",\"nursing\",\"attraction\",\"guards\",\"conseguence\",\"overtime\",\"relationshipe\",\"immersion\",\"presumption\",\"knit\",\"carbon\",\"tilting\",\"peering\",\"preclude\",\"dastyari\",\"undergo\",\"breaker\",\"delightful\",\"preliminary\",\"suspicion\",\"submit\",\"avout\",\"globalizing\",\"yumi\",\"frightening\",\"avatars\",\"projections\",\"negatives\",\"echo\",\"exemplified\",\"confrontational\",\"prevails\",\"flaw\",\"expecially\",\"assignement\",\"composer\",\"bach\",\"encompasses\",\"netflix\",\"comers\",\"maturity\",\"roomates\",\"colder\",\"hiring\",\"backing\",\"groupthink\",\"kebe\",\"cheaper\",\"hire\",\"ugep\",\"cruel\",\"dripping\",\"unfolding\",\"designing\",\"empowering\",\"remeber\",\"tower\",\"ambivalence\",\"sworn\",\"iis\",\"texture\",\"blatant\",\"welcomes\",\"lounge\",\"equitable\",\"tenets\",\"symptom\",\"smoother\",\"allegiance\",\"exploitation\",\"ethnocentricity\",\"specified\",\"compensation\",\"taxing\",\"cling\",\"embodies\",\"hardness\",\"endure\",\"philosophies\",\"bend\",\"subordinates\",\"indicating\",\"functioning\",\"beacons\",\"settling\",\"declaring\",\"genetic\",\"locus\",\"fragmented\",\"bravely\",\"escudero\",\"depicts\",\"adjective\",\"infuriated\",\"thirteen\",\"mindsets\",\"lowest\",\"prints\",\"beats\",\"addicts\",\"acrostics\",\"uh\",\"martial\",\"crusades\",\"genocides\",\"primordial\",\"wp\",\"republican\",\"storm\",\"ranging\",\"enthousiastic\",\"beaten\",\"fulfillment\",\"priceless\",\"gamer\",\"activated\",\"contemplative\",\"lessened\",\"teufel\",\"imaginative\",\"cumbersome\",\"pathways\",\"approx\",\"nonjudgemental\",\"jehovah\",\"scrambled\",\"tomatoes\",\"instantly\",\"selecting\",\"worldly\",\"shoud\",\"accidental\",\"hears\",\"freelancer\",\"praising\",\"hills\",\"documentary\",\"selfishness\",\"amicable\",\"tattoos\",\"neck\",\"thirties\",\"bulling\",\"samples\",\"lined\",\"tcks\",\"aviod\",\"hugged\",\"elses\",\"twitter\",\"contact_reduce\",\"babel\",\"inhabitant\",\"synchronized\",\"allport\",\"flee\",\"prospects\",\"scrutinise\",\"ditch\",\"coffe\",\"moderation\",\"andalusian\",\"probable\",\"summarized\",\"volleyball\",\"weary\",\"hybridity\",\"dispute\",\"clich\",\"temporarily\",\"aa\",\"intruder\",\"lifelong\",\"dass\",\"centres\",\"solace\",\"reduction\",\"authenticity\",\"elite\",\"bu\",\"denominational\",\"stumbling\",\"loler\",\"mastered\",\"coordination\",\"aways\",\"provision\",\"sting\",\"insert\",\"mmm\",\"aboard\",\"sucked\",\"ar\",\"ly\",\"acquisition\",\"recovered\",\"screaming\",\"landing\",\"phew\",\"distinctly\",\"crush\",\"string\",\"butt\",\"beeing\",\"abundance\",\"refered\",\"maid\",\"von\",\"woke\",\"bargaining\",\"engagements\",\"loosely\",\"expansive\",\"astounding\",\"revise\",\"regulars\",\"kolb\",\"olds\",\"armenia\",\"idioms\",\"diseas\",\"advices\",\"statistically\",\"counted\",\"instructions\",\"arrows\",\"bride\",\"edit\",\"memorizing\",\"conveniently\",\"formulations\",\"myers\",\"briggs\",\"aisle\",\"interruption\",\"kno\",\"athmosphere\",\"mobiles\",\"methodologies\",\"dose\",\"assurance\",\"illiterate\",\"lion\",\"temporal\",\"studyfriends\",\"concentrated\",\"divergence\",\"sticky\",\"isolates\",\"cordial\",\"contempt\",\"unnerving\",\"etiquettes\",\"occupying\",\"snack\",\"appealing\",\"overcast\",\"noisier\",\"collegeagues\",\"brushing\",\"lebensraum\",\"retention\",\"frankness\",\"mindfully\",\"willingly\",\"satire\",\"laziness\",\"ambient\",\"enduring\",\"reunions\",\"parenting\",\"pagan\",\"bones\",\"dining\",\"truths\",\"borrow\",\"twain\",\"unfollow\",\"competency\",\"uber\",\"polychronimics\",\"forgetful\",\"versa\",\"raises\",\"contexted\",\"interferes\",\"partake\",\"jacket\",\"generating\",\"lenguages\",\"jacketed\",\"tact\",\"paypoint\",\"comfortzone\",\"gravitate\",\"submissions\",\"violating\",\"commodity\",\"condoms\",\"mcdonalds\",\"fleeting\",\"legislation\",\"wat\",\"gun\",\"attuned\",\"internalised\",\"sobriety\",\"overuse\",\"steamed\",\"frits\",\"benefitted\",\"dc\",\"sensibilities\",\"density\",\"downloading\",\"allot\",\"prevailed\",\"crammed\",\"monitored\",\"seater\",\"meditating\",\"xeniya\",\"fulbright\",\"mississippi\",\"lone\",\"latitudes\",\"manipulate\",\"comparatively\",\"demonstrated\",\"calmness\",\"coldness\",\"cs\",\"robot\",\"awake\",\"eradicate\",\"complementary\",\"kick\",\"yearned\",\"tangential\",\"functionality\",\"rewarded\",\"nao\",\"monica\",\"wagons\",\"konrad\",\"lorenz\",\"commuting\",\"betwee\",\"congratulate\",\"oisa\",\"tabid\",\"equivalence\",\"ects\",\"davidlivermore\",\"fellowship\",\"lateness\",\"aura\",\"etcetera\",\"analogue\",\"bullock\",\"busier\",\"toss\",\"pounds\",\"denied\",\"penetrated\",\"trams\",\"decorative\",\"orientalism\",\"review_assignments\",\"bs\",\"rican\",\"sparce\",\"coded\",\"postmodernity\",\"fraternities\",\"pole\",\"pedestrians\",\"wolves\",\"drifting\",\"monk\",\"deleting\",\"stadium\",\"seating\",\"attentively\",\"clarified\",\"silver\",\"implication\",\"mondays\",\"accountable\",\"coachee\",\"graph\",\"nhk\",\"cluttered\",\"pending\",\"ambitions\",\"revolve\",\"ethnorelative\",\"floating\",\"blackboard\",\"monitoring\",\"forgiving\",\"prioritise\",\"calming\",\"sized\",\"app_mobile\",\"perceives\",\"laden\",\"sinister\",\"darkness\",\"amendments\",\"soldier\",\"plucked\",\"fotos\",\"internalized\",\"costing\",\"scare\",\"stephen\",\"covey\",\"vehicle\",\"libert\",\"auditorium\",\"formats\",\"slide\",\"bargain\",\"geert\",\"tt\",\"dongyong\",\"candy\",\"formally\",\"refuses\",\"ruins\",\"personalized\",\"applicant\",\"soothe\",\"restraining\",\"supplier\",\"excused\",\"errands\",\"edward\",\"actualisation\",\"emigration\",\"mw\",\"highcontext\",\"tape\",\"mosaic\",\"frugality\",\"kitchens\",\"oven\",\"separateness\",\"apprehension\",\"integrative\",\"adhering\",\"emphaty\",\"rocio\",\"disorder\",\"boiling\",\"padlet\",\"ss\",\"unstable\",\"corrupt\",\"scholarworks\",\"gsu\",\"viewcontent\",\"diss\",\"accountability\",\"flexibly\",\"pretentious\",\"unplanned\",\"chronological\",\"herbal\",\"trials\",\"exept\",\"azibo\",\"abnormal\",\"alexander\",\"scoring\",\"retained\",\"urges\",\"kawazoe\",\"polichronic\",\"emerging\",\"readapt\",\"greatness\",\"carter\",\"planboard\",\"preserving\",\"accord\",\"strings\",\"zwarte\",\"piet\",\"operated\",\"recognisable\",\"seing\",\"vegetarians\",\"kingdoms\",\"cargo\",\"bristish\",\"consistency\",\"prophet\",\"voltaire\",\"augustine\",\"jerusalem\",\"optimistically\",\"microwave\",\"outlets\",\"confuses\",\"responsibilty\",\"hardwork\",\"itch\",\"longed\",\"undergoing\",\"collectivisim\",\"japheth\",\"ons\",\"cultureshock\",\"helpfulness\",\"shortens\",\"osmosis\",\"fulfilment\",\"refuge\",\"subjecting\",\"cloudy\",\"surpass\",\"matching\",\"materialistic\",\"euphoria\",\"coll\",\"cracking\",\"bakery\",\"difficoult\",\"sensitization\",\"salmiakki\",\"humidity\",\"controller\",\"shopkeeper\",\"rootless\",\"adjustable\",\"penfriend\",\"monkey\",\"formula\",\"illusion\",\"hoofstede\",\"binaries\",\"clashing\",\"frans\",\"aikido\",\"gg\",\"yamaha\",\"transmits\",\"cohort\",\"pressures\",\"macro\",\"equip\",\"suburb\",\"qingdao\",\"introversion\",\"ci\",\"afs\",\"convenience\",\"magazines\",\"eased\",\"admitted\",\"contrasted\",\"burma\",\"farther\",\"complicate\",\"technically\",\"extract\",\"clocks\",\"watches\",\"funeral\",\"houston\",\"sale\",\"guinea\",\"liechtenstein\",\"quarrel\",\"somalis\",\"interrupting\",\"qatar\",\"socialised\",\"geneva\",\"notably\",\"partnership\",\"cocktail\",\"hurtful\",\"exercising\",\"bengal\",\"embarrased\",\"nsw\",\"relocated\",\"tefl\",\"aka\",\"divorce\",\"oceans\",\"spirits\",\"defence\",\"laetitia\",\"moon\",\"heritages\",\"sullen\",\"kullich\",\"unclean\",\"seed\",\"shells\",\"pseudo\",\"petersburg\",\"hamper\",\"tought\",\"ngos\",\"william\",\"ontario\",\"xmtuynjm\",\"nzywma\",\"franca\",\"decrease\",\"dhabi\",\"collapse\",\"asturias\",\"asturian\",\"peninsula\",\"ib\",\"coexistence\",\"bahia\",\"fo\",\"lisa\",\"atm\",\"academy\",\"zeeland\",\"maastricht\",\"mariya\",\"forests\",\"risks\",\"vibrant\",\"sporting\",\"colonisation\",\"collaborating\",\"possess\",\"consumerism\",\"bristol\",\"assimilating\",\"pertaining\",\"tot\",\"crosses\",\"terrified\",\"popped\",\"sandwiches\",\"janine\",\"newspapers\",\"temper\",\"enroll\",\"mohammad\",\"bba\",\"blurred\",\"presidential\",\"donald\",\"interior\",\"columbia\",\"westland\",\"ibiza\",\"branches\",\"forty\",\"renew\",\"qualifications\",\"algeria\",\"traced\",\"chameleon\",\"imporant\",\"efl\",\"slovak\",\"bewildered\",\"sam\",\"gianela\",\"detrimental\",\"fron\",\"generic\",\"meets\",\"resembles\",\"autonomous\",\"volunteers\",\"scandinavia\",\"stricter\",\"located_south\",\"tease\",\"emergency\",\"professionalism\",\"midori\",\"chicago\",\"blues\",\"chemical\",\"nantong\",\"promising\",\"asmara\",\"dialectic\",\"unified\",\"finn\",\"watermelon\",\"dozen\",\"bailey\",\"mingling\",\"du\",\"paulo\",\"dominate\",\"untill\",\"unlearn\",\"daring\",\"sectors\",\"tunesia\",\"ti\",\"insulted\",\"akward\",\"cleared\",\"pursued\",\"kicking\",\"pants\",\"potatoes\",\"genes\",\"companion\",\"googled\",\"fermented\",\"consulting\",\"baltic\",\"merits\",\"merit\",\"aristotle\",\"virginia\",\"chef\",\"plains\",\"protocol\",\"uninvited\",\"dreamy\",\"germana\",\"homelands\",\"manifests\",\"insignificant\",\"yong\",\"sheds\",\"kiki\",\"tofu\",\"bean\",\"curd\",\"allergic\",\"narrowed\",\"kansas\",\"coloured\",\"beatiful\",\"pressed\",\"diplomat\",\"kate\",\"aspirations\",\"internships\",\"magnificent\",\"selasi\",\"alphabet\",\"psychotherapist\",\"yankunytjatjara\",\"easterners\",\"majored\",\"vis\",\"mannerism\",\"por\",\"puerto\",\"guangzhou\",\"retain\",\"twist\",\"wrapped\",\"mayor\",\"doctoral\",\"boat\",\"pavement\",\"nowdays\",\"clip\",\"nanjing\",\"masai\",\"invites\",\"verify\",\"guessed\",\"limpopo\",\"loses\",\"mocked\",\"iraqi\",\"figurative\",\"horrified\",\"cracked\",\"hulls\",\"diferent\",\"dificult\",\"grandfathers\",\"oldenburg\",\"conveyed\",\"hostility\",\"restrained\",\"bicycle\",\"binding\",\"wealthy\",\"advisable\",\"disregard\",\"na\",\"jackson\",\"ulan\",\"ude\",\"detect\",\"vitally\",\"insists\",\"exceptional\",\"existent\",\"brittany\",\"breton\",\"spaniard\",\"handbook\",\"dreaming\",\"yu\",\"availability\",\"hairdresser\",\"jigsaw\",\"casa\",\"ensuing\",\"combines\",\"thirth\",\"celebrates\",\"undestand\",\"exaggerate\",\"furious\",\"jews\",\"sarajevo\",\"referendum\",\"conviction\",\"especialy\",\"actor\",\"comedian\",\"microbiology\",\"legally\",\"biology\",\"subscribe\",\"injustice\",\"suck\",\"civilized\",\"restrict\",\"reticence\",\"ciao\",\"sino\",\"normality\",\"programming\",\"depths\",\"continually\",\"lengths\",\"slept\",\"complexities\",\"theri\",\"darker\",\"halt\",\"outcast\",\"clicked\",\"lacked\",\"thoughtfulness\",\"generalizing\",\"enquiring\",\"growed\",\"fearing\",\"android\",\"punished\",\"melt\",\"wasted\",\"ancestor\",\"flowing\",\"jumped\",\"designated\",\"kristina\",\"successes\",\"plainly\",\"franco\",\"squares\",\"heaven\",\"elusive\",\"ventured\",\"siesta\",\"nostalgia\",\"hallo\",\"outdated\",\"traces\",\"reservation\",\"beacause\",\"entre\",\"qu\",\"avec\",\"conscience\",\"invitations\",\"anniversary\",\"facilitating\",\"baikal\",\"golf\",\"echoes\",\"stereotypically\",\"proportion\",\"differed\",\"fired\",\"heater\",\"mistook\",\"introduces\",\"neglecting\",\"familiy\",\"knowe\",\"philology\",\"internalize\",\"generously\",\"standpoint\",\"accumulate\",\"whichever\",\"attack\",\"subsequent\",\"serbs\",\"soooo\",\"afghan\",\"pats\",\"animated\",\"copying\",\"formation\",\"brighton\",\"industries\",\"guessing\",\"continental\",\"tram\",\"awe\",\"michel\",\"differernt\",\"noone\",\"conquer\",\"affiliate\",\"natasa\",\"hsbc\",\"commercials\",\"inaccurate\",\"simplified\",\"camping\",\"pertinent\",\"undesirable\",\"measured\",\"stanford\",\"dismissive\",\"translators\",\"categorisation\",\"socialized\",\"yemen\",\"contested\",\"realy\",\"individualised\",\"fake\",\"materialism\",\"critically\",\"goldberg\",\"founder\",\"biography\",\"implementing\",\"obama\",\"portion\",\"clogs\",\"upfront\",\"zones\",\"suwarni\",\"acquiring\",\"kiev\",\"arrives\",\"negotiable\",\"rinse\",\"toll\",\"jr\",\"soap\",\"organising\",\"outlines\",\"birds\",\"ugandese\",\"drastically\",\"kazakhs\",\"uzbek\",\"ideally\",\"amazingly\",\"porridge\",\"extremly\",\"interacts\",\"validity\",\"keith\",\"nodded\",\"gardens\",\"concerts\",\"nurtured\",\"blocks\",\"devide\",\"hahah\",\"grasping\",\"kanji\",\"flavor\",\"enhancing\",\"mianzi\",\"merhaban\",\"assign\",\"hmmm\",\"triggered\",\"abuse\",\"shirley\",\"subways\",\"shortage\",\"bodylanguage\",\"locality\",\"transmitting\",\"pains\",\"pluralistic\",\"disappeared\",\"intensive\",\"inequalities\",\"holes\",\"indonesians\",\"rulers\",\"diminishing\",\"offline\",\"abandon\",\"intruding\",\"er\",\"grasslands\",\"grazing\",\"urbanization\",\"sudanese\",\"cradle\",\"persevering\",\"contries\",\"cramped\",\"alertness\",\"syncretism\",\"build_bridge\",\"juan\",\"ceuta\",\"granada\",\"gansu\",\"somethings\",\"eurocentric\",\"blur\",\"suprise\",\"student_majoring\",\"discontent\",\"nyc\",\"proven\",\"descendants\",\"intentionality\",\"precedence\",\"analysed\",\"siofra\",\"fascination\",\"jayne\",\"unravel\",\"spots\",\"instrumental\",\"feely\",\"evidently\",\"dive\",\"abundant\",\"transforming\",\"venice\",\"yrs\",\"dedicate\",\"survivor\",\"endorse\",\"embarassed\",\"ray\",\"cleaned\",\"reproduce\",\"touristic\",\"generalise\",\"fons\",\"interference\",\"customes\",\"dwellers\",\"norwegians\",\"demanded\",\"secluded\",\"scheme\",\"mislead\",\"fifties\",\"syndrome\",\"beaches\",\"observers\",\"flats\",\"neatly\",\"attacks\",\"parisian\",\"coworker\",\"clusters\",\"environmentally\",\"fathom\",\"necessitates\",\"mobility\",\"icebergs\",\"utilitarian\",\"fools\",\"backpack\",\"objectively\",\"zoe\",\"sylvia\",\"conveying\",\"regretted\",\"tang\",\"xinyi\",\"specialized\",\"sociocultural\",\"dai\",\"declare\",\"endeavor\",\"steak\",\"mastery\",\"hilarious\",\"alway\",\"kiwi\",\"lithuanians\",\"outdoors\",\"daniel\",\"onuwa\",\"triandis\",\"jo\",\"timer\",\"juggle\",\"greener\",\"honorific\",\"cosy\",\"tge\",\"anneke\",\"meticulously\",\"paste\",\"relearn\",\"interlinked\",\"winning\",\"crafts\",\"tackling\",\"underlies\",\"persistent\",\"forgive\",\"bench\",\"ethical\",\"deed\",\"tingying\",\"litter\",\"hebei\",\"menber\",\"cartoon\",\"salon\",\"seperate\",\"facilitated\",\"patronizing\",\"rebel\",\"substance\",\"comply\",\"inquisitive\",\"exits\",\"shot\",\"switched\",\"pros\",\"cons\",\"enjoyment\",\"chineses\",\"photographing\",\"priest\",\"generalised\",\"complaints\",\"coexist\",\"button\",\"occasional\",\"wilderness\",\"brahmin\",\"midlle\",\"aversion\",\"stagnant\",\"unethical\",\"happiest\",\"commands\",\"observable\",\"intensively\",\"proving\",\"characterize\",\"spinning\",\"aspire\",\"stunning\",\"sung\",\"heroes\",\"loretta\",\"adopting\",\"hardship\",\"emile\",\"aligned\",\"chiefs\",\"limitation\",\"planets\",\"nan\",\"enormously\",\"badminton\",\"spoon\",\"plaza\",\"distress\",\"intermingled\",\"taht\",\"brains\",\"weapons\",\"subjected\",\"demonstrates\",\"favourites\",\"lesbians\",\"heterosexual\",\"collisions\",\"sausages\",\"subtleties\",\"appeals\",\"investment\",\"gums\",\"speechless\",\"cultura\",\"pie\",\"emigrants\",\"wrongly\",\"geared\",\"trusting\",\"pose\",\"hip\",\"strips\",\"ya\",\"collecting\",\"awakening\",\"simon\",\"nutshell\",\"empower\",\"resistance\",\"reith\",\"outwardly\",\"souls\",\"flip\",\"flies\",\"calmer\",\"cigarette\",\"dramas\",\"reciprocated\",\"bury\",\"benjamin\",\"schooled\",\"skinned\",\"surrounds\",\"inspirational\",\"contact_hypothesis\",\"vegetable\",\"mins\",\"leg\",\"koos\",\"jordanian\",\"theorists\",\"reviewers\",\"develops\",\"ran\",\"compact\",\"cinemaddict\",\"sweets\",\"caution\",\"barbara\",\"cedric\",\"wilde\",\"clarifications\",\"nhs\",\"atrocities\",\"workplaces\",\"transcends\",\"readers\",\"colectivism\",\"adaptations\",\"exploited\",\"hannah\",\"vehicles\",\"bottle\",\"lore\",\"creat\",\"rhe\",\"bur\",\"wasnt\",\"lewis\",\"oppressive\",\"courageous\",\"overestimate\",\"hirachy\",\"intellect\",\"accounting\",\"sandwich\",\"northerners\",\"pulling\",\"bashing\",\"improtant\",\"miserable\",\"minh\",\"adamant\",\"intellectually\",\"paint\",\"fir\",\"exert\",\"evie\",\"tempted\",\"wording\",\"nerve\",\"od\",\"informations\",\"indentities\",\"sofa\",\"seated\",\"towels\",\"unpolite\",\"sportive\",\"imaginary\",\"kuwait\",\"palestine\",\"importan\",\"outlet\",\"instinctive\",\"solely\",\"princess\",\"convert\",\"memos\",\"svetlana\",\"unproductive\",\"cage\",\"affraid\",\"damascene\",\"mater\",\"circular\",\"percentage\",\"gladly\",\"endeavors\",\"vedio\",\"dangers\",\"baking\",\"kuala\",\"lumpur\",\"book_cover\",\"prison\",\"rolling\",\"uncover\",\"embarassment\",\"arbitrary\",\"rhymes\",\"misinterpret\",\"survived\",\"draws\",\"pong\",\"argued\",\"zuo\",\"trap\",\"tale\",\"heed\",\"despise\",\"convictions\",\"idendity\",\"forehead\",\"defense\",\"signature\",\"depressing\",\"righteous\",\"fences\",\"bills\",\"visualize\",\"dirt\",\"shakes\",\"experimental\",\"posture\",\"produces\",\"goer\",\"compromises\",\"supporter\",\"snap\",\"founding\",\"decreasing\",\"qualitative\",\"orient\",\"circled\",\"indulging\",\"synchronous\",\"hostels\",\"clerk\",\"compatriots\",\"payment\",\"tab\",\"ergo\",\"killing\",\"recreation\",\"cornerstone\",\"drastic\",\"shopper\",\"chunyan\",\"potter\",\"legitimate\",\"sage\",\"vocabularies\",\"maintains\",\"steady\",\"scotch\",\"writingtank\",\"enhances\",\"darling\",\"reserving\",\"engine\",\"sparks\",\"overtly\",\"portrait\",\"abrupt\",\"sleeping\",\"resonated\",\"boisterous\",\"php\",\"impulsive\",\"elections\",\"maximize\",\"rhythms\",\"judges\",\"policeman\",\"southerners\",\"si\",\"superficially\",\"sushi\",\"beware\",\"ouselves\",\"expenses\",\"regain\",\"corridor\",\"ambition\",\"reinvent\",\"stewardess\",\"indication\",\"translates\",\"impersonal\",\"recruitment\",\"flying\",\"finance\",\"dropping\",\"queueing\",\"multiply\",\"empirical\",\"confirming\",\"wishful\",\"tactful\",\"begging\",\"disciplinary\",\"sentimental\",\"poorly\",\"amiable\",\"generalization\",\"vicious\",\"width\",\"photograph\",\"convergence\",\"co_uk\",\"disabilities\",\"disorienting\",\"elevators\",\"sustained\",\"communicaton\",\"turquish\",\"sends\",\"fuller\",\"certificates\",\"erase\",\"nv\",\"billions\",\"selina\",\"criticized\",\"aloof\",\"monterrey\",\"quakers\",\"conversational\",\"inconvenient\",\"guizhou\",\"sensed\",\"quarreling\",\"hl\",\"visually\",\"sunda\",\"scream\",\"contemplation\",\"shelf\",\"basing\",\"heated\",\"communcation\",\"divergent\",\"yearly\",\"sony\",\"hcl\",\"lcl\",\"descriptions\",\"publishing\",\"wand\",\"acronym\",\"folders\",\"linearly\",\"palm\",\"synchronize\",\"diagrams\",\"tent\",\"delays\",\"sheets\",\"incompatible\",\"accomodate\",\"hearer\",\"monchronic\",\"misses\",\"deliberate\",\"utterances\",\"alerts\",\"seeming\",\"ticking\",\"reliance\",\"positioning\",\"hesitating\",\"jolie\",\"dislikes\",\"hats\",\"carioca\",\"paintings\",\"playground\",\"prefered\",\"sequencing\",\"degreed\",\"freer\",\"pushy\",\"cycles\",\"pragmatism\",\"sensing\",\"proposals\",\"feast\",\"individuating\",\"hainan\",\"joking\",\"raquel\",\"candlelight\",\"paradoxically\",\"delayed\",\"cynicism\",\"museumgoers\",\"aspx\",\"estimated\",\"gut\",\"babies\",\"handles\",\"complement\",\"bucket\",\"admiration\",\"stressfull\",\"showers\",\"plunge\",\"unsettled\",\"desktop\",\"attunement\",\"interdependent\",\"guaranteed\",\"gotta\",\"alon\",\"universtiy\",\"infj\",\"offspring\",\"convincing\",\"tide\",\"enforced\",\"governmental\",\"trompenaar\",\"wvscontents\",\"jsp\",\"intonation\",\"weds\",\"bird\",\"individualists\",\"collectivists\",\"amazement\",\"trial\",\"relativity\",\"bake\",\"wasp\",\"strodtbeck\",\"inportant\",\"centric\",\"akbar\",\"africentric\",\"dichotomies\",\"cuny\",\"afprl\",\"historians\",\"sjors\",\"compelling\",\"subcontinent\",\"truckers\",\"cheating\",\"inglehart\",\"intergrity\",\"certainty\",\"cakes\",\"maxi\",\"rains\",\"arranging\",\"scuba\",\"tcc\",\"sussman\",\"humid\",\"washrooms\",\"mari\",\"rakesh\",\"rana\",\"couldnt\",\"unwilling\",\"hole\",\"malay\",\"transmit\",\"janeiro\",\"percent\",\"sections\",\"columbian\",\"adventurer\",\"physics\",\"cozy\",\"latino\",\"envious\",\"laundry\",\"october\",\"sample\",\"coworkers\",\"evenings\",\"telugu\",\"urdu\",\"displacement\",\"yugoslavia\",\"processed\",\"azerbaijan\",\"somalia\",\"happenings\",\"farmers\",\"prospective\",\"pair\",\"lille\",\"unease\",\"publicly\",\"machines\",\"stead\",\"kerala\",\"amazigh\",\"ou\",\"salt\",\"worn\",\"developments\",\"whereby\",\"succeeded\",\"knocked\",\"counter\",\"thin\",\"mores\",\"friendlier\",\"lineage\",\"highschool\",\"volunteered\",\"genealogy\",\"measures\",\"formative\",\"montreal\",\"star\",\"outlined\",\"unhappiness\",\"talents\",\"doesnt\",\"lianne\",\"teamwork\",\"unrelated\",\"march\",\"channels\",\"residing\",\"nasty\",\"nadine\",\"decreased\",\"choir\",\"swahili\",\"marseille\",\"santiago\",\"inherit\",\"therapist\",\"blending\",\"coherent\",\"earthling\",\"maternity\",\"conventions\",\"conducted\",\"realizations\",\"temperatures\",\"contradictions\",\"imperative\",\"colonies\",\"examination\",\"misplaced\",\"voted\",\"favours\",\"insufficient\",\"christine\",\"rugby\",\"addiction\",\"deb\",\"niece\",\"executives\",\"domination\",\"mauritius\",\"manifested\",\"approximately\",\"virtues\",\"easiest\",\"brit\",\"maori\",\"pessimistic\",\"attachment\",\"bite\",\"threads\",\"originated\",\"lima\",\"owns\",\"diplomatic\",\"overnight\",\"instructors\",\"professions\",\"approval\",\"terror\",\"conventional\",\"ohio\",\"simplistic\",\"claudia\",\"excessive\",\"nov\",\"bennett\",\"adept\",\"receives\",\"chest\",\"fingers\",\"cleaner\",\"delight\",\"xico\",\"preparations\",\"temples\",\"pulled\",\"stance\",\"hosting\",\"unmarried\",\"midst\",\"tidy\",\"intercultual\",\"punish\",\"syrians\",\"cameroon\",\"fro\",\"vantage\",\"humanities\",\"corrected\",\"flavour\",\"delta\",\"tending\",\"hai\",\"meta\",\"generalisations\",\"ironically\",\"costa\",\"resilient\",\"arakan\",\"croatia\",\"inbetween\",\"expatriate\",\"bitter\",\"buddhists\",\"blessings\",\"beef\",\"bless\",\"disliked\",\"confined\",\"bhawuk\",\"thrilled\",\"cai\",\"belgrade\",\"peach\",\"peaches\",\"poses\",\"roof\",\"coutries\",\"usefull\",\"ngo\",\"albania\",\"counties\",\"egyptians\",\"underestimate\",\"swear\",\"rescue\",\"specialists\",\"multitude\",\"fulfil\",\"bay\",\"reports\",\"delicacy\",\"frequency\",\"statistics\",\"bikes\",\"proficient\",\"constraints\",\"chengdu\",\"enemies\",\"needless\",\"salad\",\"popularity\",\"zhengzhou\",\"circumstantial\",\"summers\",\"invasive\",\"tag\",\"eagerness\",\"congregation\",\"rapport\",\"frozen\",\"rivers\",\"baggages\",\"boost\",\"knowledges\",\"minimal\",\"atlantic\",\"attendance\",\"delivery\",\"unforgettable\",\"eritrean\",\"prague\",\"measuring\",\"spontaneity\",\"gabrielle\",\"apologised\",\"reporting\",\"shortly\",\"rests\",\"jumping\",\"ben\",\"mestizo\",\"learing\",\"filipinos\",\"mercy\",\"suffers\",\"becouse\",\"withdraw\",\"unpredictable\",\"fran\",\"kilt\",\"irrational\",\"populated\",\"coverage\",\"eliciting\",\"updating\",\"fellows\",\"launched\",\"waiters\",\"suspicious\",\"blends\",\"jiang\",\"creole\",\"adjectives\",\"inspite\",\"refined\",\"multifaceted\",\"import\",\"gum\",\"chewing\",\"intimidated\",\"mohammed\",\"frowned\",\"borned\",\"wonderfull\",\"celebrations\",\"croatian\",\"chains\",\"stimulated\",\"tranquility\",\"stiff\",\"zoo\",\"dismay\",\"accomplishments\",\"cleanliness\",\"virtue\",\"bribe\",\"guts\",\"comprehending\",\"sided\",\"monuments\",\"wit\",\"liberation\",\"calculated\",\"deserves\",\"convince\",\"bachelor\",\"immigrate\",\"signing\",\"eve\",\"felipe\",\"picturesque\",\"tricks\",\"instrument\",\"excursion\",\"chaos\",\"vain\",\"fading\",\"gastronomy\",\"whats\",\"overloaded\",\"disciplined\",\"hausa\",\"undertand\",\"concentrating\",\"unimaginable\",\"missionary\",\"instructional\",\"desperately\",\"repack\",\"credibility\",\"facet\",\"managerial\",\"battlefield\",\"guadalajara\",\"admittedly\",\"extensive\",\"ear\",\"employ\",\"intercultral\",\"ph\",\"ish\",\"ngozi\",\"species\",\"measurement\",\"illustrations\",\"brush\",\"novels\",\"duke\",\"kunshan\",\"venture\",\"ethnographic\",\"vocation\",\"diagram\",\"tedious\",\"discusses\",\"pauline\",\"breakdown\",\"translating\",\"forge\",\"chats\",\"presumptions\",\"tehran\",\"gerard\",\"crimes\",\"criticisms\",\"defferent\",\"existed\",\"passports\",\"tremendously\",\"territories\",\"educating\",\"nt\",\"classification\",\"confusions\",\"diff\",\"adress\",\"dessert\",\"digesting\",\"intensely\",\"practiced\",\"linguistically\",\"stale\",\"uzbekistan\",\"couse\",\"goodwill\",\"protocols\",\"titles\",\"flights\",\"socialising\",\"ironic\",\"banned\",\"oppression\",\"reinforced\",\"hanson\",\"explores\",\"horror\",\"marian\",\"literatures\",\"catholics\",\"zhanjiang\",\"comunicate\",\"vinegar\",\"calvinistic\",\"tibet\",\"marco\",\"hui\",\"summarize\",\"notorious\",\"westernized\",\"toe\",\"solastalgia\",\"subtly\",\"recalled\",\"nurbike\",\"humiliated\",\"recover\",\"winner\",\"quotation\",\"persist\",\"somtimes\",\"generated\",\"override\",\"bow\",\"globalised\",\"backwards\",\"timid\",\"grope\",\"pitfalls\",\"lo\",\"strategic\",\"reassuring\",\"academically\",\"bowing\",\"bonjour\",\"stimulus\",\"elementary\",\"declared\",\"donot\",\"ho\",\"operator\",\"electricity\",\"asap\",\"laughs\",\"grant\",\"bob\",\"yan\",\"bing\",\"coconut\",\"shell\",\"bashkir\",\"religiously\",\"pat\",\"lord\",\"hardships\",\"mankind\",\"unprepared\",\"apartheid\",\"fatigue\",\"manifestation\",\"projecting\",\"whith\",\"terrorist\",\"criticizing\",\"facial\",\"gulf\",\"dormitory\",\"demarcation\",\"confucianism\",\"records\",\"submitted\",\"zurich\",\"communism\",\"capitalism\",\"cohesion\",\"experiential\",\"engineers\",\"classified\",\"ningxia\",\"feminism\",\"expands\",\"recipe\",\"dissatisfaction\",\"agencies\",\"fruits\",\"granda\",\"allowance\",\"foolish\",\"buried\",\"parameters\",\"appointed\",\"minimise\",\"meter\",\"eloquent\",\"purchasing\",\"ham\",\"monitor\",\"inadequate\",\"climatic\",\"sky\",\"duration\",\"aldana\",\"minnan\",\"reacts\",\"stuffs\",\"unemployed\",\"follower\",\"visions\",\"contemplate\",\"friction\",\"pressing\",\"reaches\",\"diminish\",\"detailing\",\"static\",\"narratives\",\"mixes\",\"fool\",\"mastering\",\"nurturing\",\"ugly\",\"requiring\",\"intrinsic\",\"layered\",\"troubled\",\"positioned\",\"stimulate\",\"boomer\",\"labelling\",\"mentoring\",\"interplay\",\"orders\",\"significantly\",\"readiness\",\"qualify\",\"autumn\",\"scent\",\"segments\",\"cn\",\"accountant\",\"elicit\",\"attributions\",\"separately\",\"forceful\",\"praying\",\"scenarios\",\"grounds\",\"fridge\",\"responsability\",\"destructive\",\"cloud\",\"perfection\",\"connectedness\",\"fundamentally\",\"halfway\",\"frontiers\",\"sorting_identities\",\"uninterested\",\"charlie\",\"psych\",\"consent\",\"edition\",\"creed\",\"venezuelan\",\"tangled\",\"facilitator\",\"tagged\",\"colored\",\"connectivity\",\"mutiple\",\"compass\",\"healing\",\"denying\",\"permanently\",\"precautions\",\"interruptions\",\"unnatural\",\"clears\",\"serb\",\"altogether\",\"warmer\",\"cooperating\",\"settlers\",\"trusted\",\"accused\",\"emphasising\",\"steal\",\"sacrificing\",\"advocates\",\"owe\",\"flows\",\"formulate\",\"angels\",\"citro\",\"decisive\",\"distorted\",\"knw\",\"discriminating\",\"theorist\",\"repair\",\"fragile\",\"chatty\",\"allocate\",\"methodological\",\"scares\",\"isolating\",\"chain\",\"wing\",\"raining\",\"ego\",\"sheep\",\"preferring\",\"isabel\",\"fried\",\"shanxi\",\"warmly\",\"differentiation\",\"repeatedly\",\"imo\",\"piano\",\"queen\",\"sensible\",\"intentional\",\"bureaucratic\",\"assert\",\"examinations\",\"memo\",\"unbearable\",\"nomad\",\"psyche\",\"addict\",\"organisational\",\"hierarchies\",\"hearty\",\"segment\",\"dissertation\",\"simmel\",\"clumsy\",\"apprehensive\",\"pianist\",\"brotherhood\",\"grocery\",\"manifest\",\"optimist\",\"specialty\",\"sensibility\",\"lyric\",\"melody\",\"intensity\",\"surgery\",\"distract\",\"auto\",\"carrier\",\"youtu\",\"dough\",\"devote\",\"quo\",\"calmed\",\"calmly\",\"idealized\",\"icc\",\"reinforces\",\"bearing\",\"webinar\",\"clearing\",\"competitions\",\"lastly\",\"chores\",\"optimal\",\"unload\",\"disney\",\"oblivious\",\"depict\",\"invested\",\"documented\",\"selective\",\"disgruntled\",\"frog\",\"fore\",\"yun\",\"coat\",\"cultivating\",\"mate\",\"grades\",\"odds\",\"confront\",\"adverse\",\"paramount\",\"manages\",\"slovenian\",\"searched\",\"summed\",\"flour\",\"variable\",\"whe\",\"headphones\",\"considerably\",\"evaluations\",\"prevented\",\"jeff\",\"courteous\",\"intimately\",\"hurdles\",\"manifold\",\"transmitted\",\"prerequisites\",\"accounted\",\"drug\",\"generalizations\",\"tunisians\",\"succes\",\"battling\",\"sr\",\"hits\",\"foundamental\",\"aldi\",\"preferable\",\"earphones\",\"magical\",\"typ\",\"notices\",\"reluctance\",\"planners\",\"log\",\"notifications\",\"obligations\",\"waking\",\"traumatic\",\"restraint_indulgence\",\"akpsi\",\"analog\",\"entries\",\"claiming\",\"deduce\",\"constrained\",\"contractual\",\"pot\",\"documentation\",\"ot\",\"upright\",\"gadgets\",\"income\",\"combining\",\"obedience\",\"abiding\",\"url\",\"drain\",\"distributed\",\"prestige\",\"sideways\",\"asiatic\",\"watson\",\"alps\",\"trustworthiness\",\"bochner\",\"rollercoaster\",\"butter\",\"kindheartedness\",\"variants\",\"sara\",\"tsunami\",\"nivkh\",\"fairy\",\"tales\",\"attempted\",\"fusion\",\"neighboring\",\"irkutsk\",\"knowlege\",\"appreciative\",\"assimilated\",\"xiamen\",\"half_hour_early\",\"parks\",\"political_ideology\",\"esl\",\"evaluation\",\"jealous\",\"develope\",\"enlightened\",\"teas\",\"navigating\",\"tao\",\"doctorate\",\"resist\",\"cup\",\"tech\",\"moderate\",\"luyolo\",\"populations\",\"jessica\",\"adore\",\"salty\",\"jam\",\"disappears\",\"computers\",\"sense_belonging_security\",\"je\",\"charged\",\"thom\",\"mimic\",\"counterparts\",\"wholly\",\"empire\",\"silk\",\"locally\",\"founded\",\"connotations\",\"protective\",\"negotiations\",\"finns\",\"curriculum\",\"friesland\",\"objects\",\"ubuntu\",\"recognising\",\"dominated\",\"eating_drinking\",\"dalian\",\"november\",\"july\",\"shijiazhuang\",\"chiefly\",\"south_sudanese\",\"disclose\",\"gosh\",\"resolution\",\"quebec\",\"comforting\",\"refresh\",\"battle\",\"sales\",\"stations\",\"flash\",\"developer\",\"abu\",\"contacted\",\"branch\",\"conducting\",\"faux_pas\",\"cold_winter\",\"est\",\"consist\",\"extending\",\"volunteer_guide_museum\",\"differnet\",\"bye\",\"civilisation\",\"entitled\",\"administrative\",\"permit\",\"marital_status\",\"hinder\",\"secretary\",\"delve\",\"lebanese\",\"trinidad_tobago\",\"wiert_van_der_veen\",\"intrested\",\"richer\",\"instruction\",\"java\",\"inability\",\"struck\",\"colonialism\",\"zimbabwean\",\"beating\",\"sunshine\",\"substitute\",\"fixing\",\"colourful\",\"milada\",\"ardi\",\"orderly\",\"del\",\"basque\",\"refers_effects\",\"definately\",\"audiences\",\"jerry\",\"refugeecenters\",\"imposing\",\"wooden\",\"hindus\",\"latin_americans\",\"meticulous\",\"florence\",\"nz\",\"dominican\",\"cab\",\"reversed\",\"skip\",\"christianity\",\"teamleader\",\"devon\",\"pays\",\"anglo_saxon\",\"ruined\",\"guilt\",\"dig_deeper\",\"civil_war\",\"honeymoon_stage\",\"andhra_pradesh\",\"agricultural\",\"planing\",\"pleasantly_surprised\",\"shenzhen\",\"tap\",\"april\",\"legacy\",\"crew\",\"wont\",\"interrupted\",\"raw\",\"increases\",\"cultual\",\"tour_guide\",\"filter\",\"intangible\",\"hated\",\"earthquake\",\"paternal\",\"taylor\",\"outlooks\",\"interrupt\",\"segregated\",\"airports\",\"print\",\"depended\",\"anecdotes\",\"partial\",\"gardening\",\"agrees\",\"shirt\",\"drink_coffee\",\"oversea\",\"innovative\",\"dictionary\",\"encode\",\"methodology\",\"moods\",\"drew\",\"tongues\",\"israel\",\"disturb\",\"canadians\",\"slavic\",\"eggs\",\"patriotic\",\"incomplete\",\"criteria\",\"serving\",\"negotiated\",\"acknowledgement\",\"memorize\",\"bet\",\"weaknesses\",\"contained\",\"enrichment\",\"anita\",\"albanian\",\"needing\",\"anhui_province\",\"anhui\",\"motives\",\"presumably\",\"creature\",\"maths\",\"falls\",\"masters_degree\",\"composition\",\"dated\",\"concluded\",\"switching\",\"effected\",\"socioeconomic\",\"puerto_rican\",\"utterly\",\"males\",\"comm\",\"researched\",\"diego\",\"recipes\",\"primary_secondary\",\"flavours\",\"inheritance\",\"minimize\",\"intrusion\",\"keys\",\"mental_health\",\"contains\",\"entertain\",\"plates\",\"embraced\",\"cancel\",\"opened_door\",\"stream\",\"framed\",\"warsaw\",\"conveys\",\"jungle\",\"guyana\",\"cycling\",\"enrolled\",\"cuts\",\"feeding\",\"bermuda\",\"regional_variations\",\"lights\",\"mi\",\"pernilla\",\"diner\",\"barack\",\"threw\",\"argentine\",\"adventures\",\"ne\",\"wa\",\"doctors_nurses\",\"patiently\",\"loaded\",\"agency\",\"artists\",\"pov\",\"bookworm\",\"exited\",\"chemistry\",\"facilitates\",\"humbling\",\"twenty\",\"overload\",\"tested\",\"vastly\",\"myth\",\"timeline\",\"flavia\",\"carnival\",\"hunan\",\"eat_pork\",\"fever\",\"controlled\",\"labeled\",\"excel\",\"complexion\",\"breathing\",\"realisation\",\"creator\",\"presumed\",\"menu\",\"deciding\",\"magazine\",\"pull\",\"typing\",\"categorizing\",\"diseases\",\"workshops\",\"assistance\",\"nurse\",\"blue_sky\",\"sorting\",\"wives\",\"martin_luther_king\",\"garbage\",\"organizers\",\"regulations\",\"reset\",\"sympathise\",\"deals\",\"hesitate\",\"cheat\",\"le\",\"emily\",\"forgiveness\",\"thankfully\",\"pronounciation\",\"ac\",\"unconfident\",\"kenyan\",\"seminar\",\"brag\",\"arms_length\",\"affinity\",\"respectfully\",\"converted\",\"rings\",\"primitive\",\"specify\",\"enthusiast\",\"guideline\",\"become_adaptable_intercultural\",\"prompt\",\"wuhan\",\"solitude\",\"cleaning\",\"autonomy\",\"enlightenment\",\"direct_confrontation\",\"alternatives\",\"waitress\",\"replying\",\"initiatives\",\"explorations\",\"complaint\",\"localized\",\"lecturers\",\"bise\",\"terrain\",\"pakistani\",\"download\",\"sheer\",\"beggining\",\"presenting\",\"broadening\",\"mourning\",\"dying\",\"validate\",\"civilizations\",\"investigate\",\"listing\",\"sarcasm\",\"hiking\",\"sri_lankan\",\"disturbed\",\"ball\",\"prize\",\"literary\",\"eleni\",\"crete\",\"cousins\",\"aunts\",\"iranians\",\"footwear\",\"equity\",\"dominance\",\"postpone\",\"incorrectly\",\"verona\",\"seeker\",\"departments\",\"emics\",\"unify\",\"succinct\",\"whatsapp\",\"deardorff\",\"persona\",\"prompts\",\"interfere\",\"promises\",\"prone\",\"bossy\",\"agriculture\",\"soil\",\"ministry\",\"tune\",\"spiral\",\"someting\",\"aberdeen\",\"timetables\",\"fighter\",\"analyzed\",\"gods\",\"inefficient\",\"ingredient\",\"release\",\"ignorant\",\"irritating\",\"geert_hofstede_com\",\"nonsense\",\"incorrect\",\"relieve\",\"intergroup_prejudice\",\"agents\",\"touchy\",\"figures\",\"scattered\",\"entails\",\"confrontation\",\"dedication\",\"adolescence\",\"insurance\",\"alex\",\"dr_darla\",\"collect\",\"renewed\",\"sadness\",\"meaningless\",\"intolerant\",\"terribly\",\"suzhou\",\"sichuan\",\"danial\",\"riyadh\",\"maslow\",\"kissed\",\"copied\",\"twin\",\"classical_music\",\"kulich\",\"resonance\",\"stunned\",\"turban\",\"roll\",\"fallen\",\"futurelearn_com\",\"bedroom\",\"fled\",\"modify\",\"scandinavian\",\"socialise\",\"confirmation\",\"javanese\",\"grass\",\"exclude\",\"jiangsu\",\"fist\",\"units\",\"labelled\",\"pasta\",\"damage\",\"failures\",\"noises\",\"mar\",\"resolved\",\"enlarge\",\"bff\",\"tags\",\"xu\",\"dances\",\"performed\",\"hans\",\"witch\",\"hero\",\"exhausted\",\"stressing\",\"train_station\",\"grief\",\"differencies\",\"minister\",\"exaggerated\",\"fifteen\",\"vedic\",\"planet_earth\",\"listens\",\"quaker\",\"humbleness\",\"boil\",\"killed\",\"heal\",\"tanzanian\",\"radical\",\"sympathetic\",\"westernised\",\"pairs\",\"sensitiveness\",\"ceo\",\"taxi_driver\",\"vey\",\"midnight\",\"lift\",\"affirm\",\"trivial\",\"removing\",\"tray\",\"introverts\",\"pocket\",\"generalisation\",\"ambassador\",\"linking\",\"evolves\",\"fostering\",\"unfold\",\"marriages\",\"add_pinyin\",\"extroverts\",\"swimmer\",\"osmanthus\",\"flower\",\"brenda\",\"shisu\",\"separation\",\"belongingness\",\"showering\",\"enjoys\",\"fan_bigbang\",\"variance\",\"slang\",\"loosing\",\"thumb\",\"detached\",\"writings\",\"hunting\",\"pretending\",\"birmingham\",\"headed\",\"theater\",\"flavors\",\"safely\",\"mobile_phones\",\"obscure\",\"sheet\",\"fulfilled\",\"pushing\",\"millennials\",\"timing\",\"marie\",\"yang_cai\",\"librarian\",\"obtained\",\"lacks\",\"compartments\",\"susan\",\"organisations\",\"instinctively\",\"inherently\",\"output\",\"inadvertently\",\"respectable\",\"beautifully\",\"vulnerability\",\"versatility\",\"suppliers\",\"instincts\",\"whites\",\"yearn\",\"leila\",\"disadvantage\",\"change_subject_geography\",\"suffocating\",\"plain\",\"ramadan\",\"quoted\",\"https_www_ted_com\",\"fruit\",\"prime\",\"ping\",\"spring_festival\",\"paradigm\",\"sickness\",\"hot_summer\",\"strip\",\"beat\",\"insult\",\"jump_conclusions\",\"socialism\",\"reacting\",\"commonality_differentiation\",\"reith_lecture\",\"device\",\"invest\",\"promotes\",\"affinities\",\"nicer\",\"intertwined\",\"alana\",\"technique\",\"violated\",\"constructing\",\"tango\",\"ordering\",\"spends\",\"self_disclosure\",\"skin_color\",\"evaluated\",\"subjectivity\",\"fence\",\"forthcoming\",\"talent\",\"cognitive_component\",\"dividing\",\"cutting\",\"lagos\",\"quota\",\"adherence\",\"fearful\",\"quantitative\",\"specific_vs_diffuse\",\"ascription\",\"stimulation\",\"transplanted\",\"temporary\",\"sufficiently\",\"ridiculous\",\"requests\",\"hot_humid\",\"inspire\",\"accommodation\",\"daunting\",\"transparency\",\"discourse_system\",\"handled\",\"birds_feather_flock_together\",\"emigrating\",\"pr\",\"contemporary\",\"grab\",\"carriage\",\"alongside\",\"hurts\",\"mechanism\",\"delivered\",\"strong_perceptual_barriers\",\"xu_jing\",\"rows\",\"col\",\"interprets\",\"conflict_resolution\",\"reduce_prejudice_conflict\",\"straightly\",\"safe_zone\",\"handwriting\",\"www_imdb_com\",\"title_tt_ref\",\"shades\",\"gray\",\"prevents\",\"stopping\",\"checklist\",\"henry\",\"wang_san\",\"yerlan\",\"formality\",\"opposites\",\"concert\",\"costa_rica\",\"bosom\",\"reduces\",\"utility\",\"peak\",\"shrink\",\"righteousness\",\"riding\",\"adage\",\"densely_populated\",\"cafeteria\",\"predicament\",\"mobile_apps\",\"ny\",\"mr_wilsons\",\"flanders\",\"cart\",\"baffled\",\"mindfullness\",\"selected_form_timekeeping\",\"adhere\",\"aurora\",\"claims\",\"indulge\",\"brahmins\",\"short_term_orientation\",\"vom\",\"wvs\",\"femininity\",\"rush_hours\",\"catlin\",\"cgi\",\"displays\",\"dubois\",\"john_henrik\",\"africana\",\"geerthofstede\",\"woodson\",\"lime\",\"easy_check_date\",\"weather_forecast\",\"mom_birthday_wedding_anniversary\",\"helpful_reminded_automatically\",\"set_date_app\",\"screen\",\"lean_towards\",\"appreciates\",\"asset\",\"turks\",\"waited\",\"eq\",\"kindergarten\",\"syllabus\",\"sa\",\"manual\",\"papua\",\"albeit\",\"umbrella\",\"nottingham\",\"disappoint\",\"englishman\",\"linguists\",\"comprehension\",\"valley\",\"ponder\",\"ethnical\",\"promised\",\"lasting\",\"load\",\"nizhny_novgorod\",\"click\",\"hrs\",\"cambridge\",\"witness\",\"hatred\",\"coin\",\"brussels\",\"guitar\",\"preserve\",\"earned\",\"industrial\",\"enabling\",\"colony\",\"enormous\",\"refusing\",\"southwest\",\"skillful\",\"bicultural\",\"dublin\",\"outspoken\",\"boxes\",\"cooperative\",\"colonization\",\"divisions\",\"ranges\",\"corporations\",\"margaret\",\"reception\",\"collaborative\",\"youku\",\"questioned\",\"trainings\",\"facility\",\"sofia\",\"eye_opening\",\"peruvian\",\"salaries\",\"lgbtq\",\"unimportant\",\"synthesis\",\"adapts\",\"curitiba\",\"winters\",\"fertile\",\"lands\",\"istanbul\",\"deepening\",\"widening\",\"reside\",\"confronting\",\"junior_high_school\",\"luciana\",\"afrikaans\",\"gratitude\",\"refrain\",\"underlie\",\"paradise\",\"hongkong\",\"unfolds\",\"secrets\",\"bc\",\"retiring\",\"birthplace\",\"cambodia\",\"candidate\",\"anastasia\",\"constitutes\",\"homestay\",\"coincidence\",\"pleasantly\",\"todo\",\"florida\",\"bullet\",\"kelly\",\"indigenous_australians\",\"alter\",\"metropolitan\",\"shelter\",\"horses\",\"cuisines\",\"pronounce\",\"earliest\",\"aged\",\"reinforce\",\"conversing\",\"venezuela\",\"predominant\",\"railway\",\"positivity\",\"square\",\"buddhist_art\",\"near_sea\",\"evolution\",\"executive\",\"clearest\",\"user\",\"plate\",\"ideals\",\"cluster\",\"east_asia\",\"mosque\",\"sounding\",\"transformed\",\"disciplines\",\"assimilation\",\"ict\",\"bosnia\",\"acceptability\",\"glasgow\",\"decode\",\"sender\",\"victim\",\"backgroud\",\"household\",\"tasty\",\"boiled\",\"adulthood\",\"brands\",\"competences\",\"tone_voice\",\"newcomer\",\"horrible\",\"counts\",\"cattle\",\"wether\",\"broadened\",\"build_bridge_connect\",\"building_bridges\",\"bavaria\",\"insiders\",\"ture\",\"smallest\",\"bonus\",\"vivian\",\"labour\",\"vienna\",\"fabulous\",\"malta\",\"bachelors\",\"smarter\",\"assessing\",\"stimulating\",\"ted\",\"washed\",\"boston\",\"handbag\",\"throwing\",\"errors\",\"clemencia\",\"december\",\"como\",\"documentaries\",\"fortune\",\"ideological\",\"pupils\",\"entertaining\",\"cuban\",\"controlling\",\"smoke\",\"comments_replies\",\"envy\",\"entertainment\",\"unexpectedly\",\"amelia\",\"iuliia\",\"nordic\",\"shake_hand\",\"classical\",\"turkish_wedding\",\"rushed\",\"inwardly\",\"architecture\",\"relaxation\",\"drove\",\"singular\",\"heading\",\"booked\",\"fed\",\"heavier\",\"dr_deardorff\",\"hugely\",\"isolate\",\"natalia\",\"sojourner\",\"jew\",\"jij\",\"hippy\",\"immigrated\",\"inward\",\"neighbourhood\",\"unity_diversity\",\"absorbed\",\"aggression\",\"convention\",\"versatile\",\"absent\",\"repeating\",\"dentist\",\"quarter\",\"grandchildren\",\"polish_austrian_heritage\",\"default\",\"teens\",\"sayings\",\"rainy\",\"bath\",\"threatening\",\"maximum\",\"employer\",\"registered\",\"receptive\",\"homesickness\",\"ie\",\"posed\",\"accordance\",\"restrictions\",\"nurses\",\"ingrained\",\"slovenia\",\"armenian\",\"stefan\",\"violation\",\"trash\",\"stares\",\"el\",\"candid\",\"museums\",\"spaniards\",\"irony\",\"chiara\",\"buryat\",\"se\",\"episode\",\"representatives\",\"eyed\",\"annoy\",\"perceiving\",\"blacks\",\"ba\",\"pet\",\"ruled\",\"evaluating\",\"cute\",\"budapest\",\"consult\",\"spell\",\"packing\",\"motivations\",\"igbo\",\"exit\",\"sell\",\"anacelia\",\"trainers\",\"seniors\",\"enriches\",\"assertive\",\"opposing\",\"recognizable\",\"reconsider\",\"expand_horizons\",\"compete\",\"apartments\",\"meaningfully\",\"ceremonies\",\"stereotyped\",\"divorced\",\"unsettling\",\"laughter\",\"scenery\",\"conditioned\",\"ro\",\"filling\",\"zhou\",\"utmost\",\"profit\",\"kunming\",\"hopeful\",\"ca\",\"billion\",\"retreat\",\"introspective\",\"guns\",\"utter\",\"parliament\",\"waiter\",\"bunch\",\"destroy\",\"workshop\",\"uncles\",\"bridging\",\"emails\",\"forefathers\",\"academia\",\"cell\",\"belt\",\"graduates\",\"code_conduct\",\"sober\",\"initiated\",\"yao\",\"platforms\",\"noble\",\"motivate\",\"subsequently\",\"isa\",\"produced\",\"excluding\",\"punishment\",\"reducing\",\"intersted\",\"uphold\",\"imposed\",\"best_wishes_juanmi\",\"homeless\",\"poison\",\"modified\",\"grandpa\",\"locate\",\"scores\",\"htm\",\"safer\",\"transparent\",\"integrating\",\"lifelong_learner\",\"emphasise\",\"dong\",\"markets\",\"nationalism\",\"customary\",\"lunch_dinner\",\"praised\",\"belive\",\"louder\",\"classic\",\"cultur\",\"wind\",\"elephant\",\"ads\",\"scarf\",\"thier\",\"defensive\",\"downtown\",\"creatures\",\"evil\",\"hubei_province\",\"verbal_non_verbal\",\"painter\",\"millions\",\"girl_nanchang_provincial_capital\",\"hometown_charming_place\",\"known_cradle\",\"since_jiangxi_located\",\"china_climate_humid\",\"foods_strong_flavor\",\"eating_spicy_foods\",\"dispel_wind_remove_dampness\",\"boundary\",\"operation\",\"disposition\",\"trick\",\"harry\",\"inconvenience\",\"infer\",\"min_fan\",\"landscapes\",\"notebooks\",\"proceed\",\"irrelevant\",\"comforts\",\"followers\",\"diversified\",\"funerals\",\"foreing\",\"publish\",\"estimate\",\"earn_money\",\"camera\",\"emphatic\",\"pets\",\"theoretically\",\"relief\",\"brothers_sisters\",\"peacefully\",\"fights\",\"powers\",\"nine\",\"wishing\",\"marjolein\",\"eliminating\",\"cited\",\"yuhui\",\"disadvantages\",\"captured\",\"generates\",\"recommendations\",\"mr_kulich\",\"peel_layers\",\"intent\",\"sharon\",\"masculine\",\"feminine\",\"tender\",\"nikola\",\"illustrating\",\"sake\",\"glimpse\",\"breaks\",\"beers\",\"guarantee\",\"st_century\",\"exclusively\",\"differentiating\",\"kwame_anthony_appiah\",\"socialist\",\"charity\",\"spontaneously\",\"authentic\",\"colloquial\",\"systematic\",\"lesser\",\"mind_blowing\",\"promotion\",\"toy\",\"uniforms\",\"echoes_feelings\",\"thinkers\",\"frames\",\"bias_prejudice\",\"assist\",\"intergroup_relations\",\"joe\",\"tha\",\"dust\",\"trustworthy\",\"disabled\",\"chooses\",\"unconsciously_ethnocentric\",\"perception_perception_reality\",\"widespread\",\"artistic\",\"democratic\",\"face_saving\",\"justify\",\"wil\",\"behalf\",\"granddaughter\",\"yep\",\"comic\",\"perfectionist\",\"curves\",\"prestigious\",\"ruobing\",\"thrust\",\"chart\",\"rhythm\",\"focussed\",\"dyslexic\",\"judge_book_cover\",\"internally\",\"taken_deeper_levels\",\"highly_valued\",\"variables\",\"literal\",\"band\",\"binary\",\"counseling\",\"amounts\",\"conceived\",\"signal\",\"ingroups\",\"lips\",\"gold\",\"exaggeration\",\"implicitly\",\"prevail\",\"trapped\",\"prerequisite\",\"outgroup\",\"deeper_levels_understanding\",\"resonates\",\"ineffective\",\"illuminating\",\"gains\",\"ruin\",\"introspection\",\"watching_movie\",\"pdf\",\"pad\",\"metres\",\"indicated\",\"bosses\",\"hunter\",\"tablets\",\"relies\",\"prioritize\",\"freedom_equality\",\"users\",\"considerations\",\"hesitant\",\"population_density\",\"vendor\",\"impatient\",\"scheduler\",\"modernity\",\"ting_toomey\",\"tablet\",\"polarity\",\"affectionate\",\"philosophers\",\"verb\",\"hofstede_dimensions\",\"losing_face\",\"restraint_indulgence_dimension\",\"wudu\",\"ambiguities\",\"jhonson\",\"african_centered\",\"nl\",\"sjimmie\",\"pronoun\",\"apples\",\"mary\",\"considerable\",\"james\",\"pen_paper\",\"fault\",\"advised\",\"hebrew\",\"district\",\"pursuit\",\"rainbow\",\"september\",\"goodness\",\"estelle\",\"homogenous\",\"drunk\",\"arose\",\"metropolis\",\"facilities\",\"emoticons\",\"interst\",\"vegemite\",\"extensively\",\"agreeable\",\"genuinely\",\"checkout\",\"goods\",\"henan_province\",\"implications\",\"somali\",\"kindly\",\"germanic\",\"kurdish\",\"covers\",\"torn\",\"lin\",\"central_australia\",\"january\",\"hat\",\"yi\",\"sociology\",\"trace\",\"micro\",\"early_childhood\",\"intrigued\",\"teenage\",\"airline\",\"misconceptions\",\"associations\",\"selling\",\"charge\",\"ancestral\",\"loads\",\"thereby\",\"rudeness\",\"mingle\",\"versions\",\"permanent\",\"sums\",\"occurring\",\"microsoft\",\"landed\",\"bagage\",\"blind\",\"judgments\",\"goodbye\",\"comfortable_zone\",\"differentiate\",\"someones\",\"distinctions\",\"voluntary\",\"red_cross\",\"shared_meanings\",\"legs\",\"indifferent\",\"symbolic_interpretive_transactional_contextual\",\"intrusive\",\"sector\",\"kiss_cheek\",\"prince\",\"charming\",\"slovakia\",\"dual\",\"arasaratnam\",\"trump\",\"pragmatics\",\"thrive\",\"submission\",\"misconception\",\"inherited\",\"invaluable\",\"continuous\",\"overly\",\"foundations\",\"slip\",\"panic\",\"scratch\",\"navigate\",\"slave\",\"anyhow\",\"hurting\",\"enlighten\",\"fork\",\"stereotypes_prejudices\",\"evolving\",\"washington\",\"astonished\",\"chenlin\",\"seeds\",\"comer\",\"ii\",\"reads\",\"inclusion\",\"universally\",\"visiting_scholar\",\"elaborate\",\"snacks\",\"closing\",\"unnoticed\",\"zimbabwe\",\"stumble\",\"females\",\"jing\",\"idiot\",\"weakness\",\"donna\",\"ourself\",\"meditate\",\"iraq\",\"annoyance\",\"timetable\",\"informing\",\"bonding\",\"immense\",\"yellow\",\"lu\",\"sustainable\",\"incorporate\",\"letters\",\"slight\",\"simplicity\",\"struggles\",\"span\",\"connotation\",\"wet\",\"seasons\",\"album\",\"loner\",\"ship\",\"austrian\",\"chin\",\"requested\",\"amateur\",\"westerns\",\"additionally\",\"agressive\",\"preventing\",\"upsetting\",\"straight_forward\",\"tianjin\",\"psychologically\",\"excellence\",\"locked\",\"inflexible\",\"dresses\",\"restriction\",\"yearning\",\"mystery\",\"ghanaian\",\"motivating\",\"es\",\"bold\",\"diploma\",\"intercutural\",\"deaf\",\"retrospect\",\"blamed\",\"twenties\",\"compromising\",\"reacted\",\"sciences\",\"alexandria\",\"worrying\",\"hotels\",\"puzzle\",\"pizza\",\"monocultural\",\"socialization\",\"roughly\",\"cried\",\"countrymen\",\"progressive\",\"requirement\",\"shoulders\",\"dramatic\",\"trinidadians\",\"comfortably\",\"suitcases\",\"assigned\",\"familial\",\"uniform\",\"cue\",\"lying\",\"brown\",\"nile\",\"hectic\",\"dig_deep\",\"spoil\",\"alright\",\"immensely\",\"charles\",\"horn\",\"arises\",\"hostile\",\"bin\",\"surround\",\"accomplished\",\"readjust\",\"leap\",\"actors\",\"uneasiness\",\"dairy\",\"hugs\",\"cape\",\"accommodating\",\"inherent\",\"united_kingdom\",\"yo\",\"acknowledging\",\"ted_talks\",\"begins\",\"interviews\",\"deeply_rooted\",\"affiliation\",\"quest\",\"quotes\",\"teasing\",\"posting\",\"gotten\",\"affirming\",\"judgmental\",\"dropped\",\"triggers\",\"huang\",\"gently\",\"parallel\",\"ruling\",\"thread\",\"edward_hall\",\"practising\",\"contributing\",\"emic_etic\",\"suited\",\"affirmation\",\"boarding\",\"paul_henri\",\"pushes\",\"blended\",\"sarcastic\",\"placing\",\"historically\",\"shook\",\"sojourners\",\"boys_girls\",\"anticipated\",\"inclusive\",\"accompanied\",\"agent\",\"commit\",\"stepping\",\"catholicism\",\"finish_project\",\"proof\",\"dinners\",\"sophisticated\",\"indian_subcontinent\",\"employed\",\"shapes_everything\",\"sailing\",\"lily\",\"perceptive\",\"wechat\",\"matches\",\"diligent\",\"profiles\",\"outstanding\",\"touches\",\"sailor\",\"extremes\",\"roman_catholic\",\"journeys\",\"immigration\",\"th_birthday\",\"displeasure\",\"attitude_toward\",\"neglected\",\"diving\",\"divides\",\"exiting\",\"compassionate\",\"mini\",\"indo\",\"cat\",\"silence_silences_silencing\",\"northwestern\",\"conceive\",\"argentinians\",\"wikipedia\",\"extroverted\",\"deepest\",\"launch\",\"bothering\",\"vote\",\"bullying\",\"obligation\",\"buildings\",\"shanghai_international\",\"practicing\",\"psychologist\",\"messy\",\"hold_hands\",\"laid\",\"researching\",\"bothers\",\"chairs\",\"hiding\",\"genders\",\"expirience\",\"cheap\",\"eldest_daughter\",\"therapy\",\"mask\",\"cash\",\"careless\",\"penetration\",\"thoughtfully\",\"timely\",\"greetings_mexico\",\"relieved\",\"emerged\",\"ring\",\"homosexual\",\"ayuen\",\"bumping\",\"instant\",\"backward\",\"racial_discrimination\",\"firmly\",\"www_bbc_co_uk\",\"benches\",\"nowhere\",\"tackle\",\"passenger\",\"narrow_minded\",\"fate\",\"maintained\",\"selection\",\"bully\",\"autistic\",\"missionaries\",\"prevalent\",\"tightly\",\"cm\",\"occupy\",\"disease\",\"impresses\",\"mere\",\"blank\",\"upcoming\",\"ren\",\"build_common_ground\",\"rent\",\"edx\",\"personhood\",\"glance\",\"travel_enthusiast\",\"tho\",\"adebiyi\",\"facial_expression\",\"patsy\",\"historian\",\"building_trust\",\"taxonomies\",\"protecting\",\"university_dammam\",\"noun\",\"modernization\",\"dip\",\"indulgence\",\"delivering\",\"piece_paper\",\"options\",\"findings\",\"orange\",\"reasoning\",\"advocate\",\"ad\",\"module\",\"analytical\",\"proxemics_chronemics\",\"kingdom\",\"pico_iyer\",\"reliability\",\"sink\",\"dammam\",\"dr_dong\",\"kluckhohn\",\"two_poles\",\"honesty_loyalty\",\"introductory\",\"undergraduate_studies\",\"acknowledged\",\"adaptive\",\"happier\",\"manchester\",\"equipped\",\"lingual\",\"disconnect\",\"sensitivities\",\"southeastern\",\"bangalore\",\"displayed\",\"hybrid\",\"ethnically\",\"distinguishes\",\"travelled_extensively\",\"georgia\",\"immerse\",\"corners\",\"letter\",\"privately\",\"opposition\",\"classrooms\",\"knife\",\"nose\",\"arpita\",\"unfriendly\",\"guo\",\"sincerely\",\"bengali\",\"mass_media\",\"sooo\",\"housing\",\"kiswahili\",\"seoul\",\"tongue\",\"laid_back\",\"tick\",\"crash\",\"ambiguous\",\"frustrations\",\"readily\",\"ussr\",\"saint\",\"preconceptions\",\"humanitarian\",\"lean\",\"coaching\",\"broadcast\",\"digest\",\"administration\",\"transferred\",\"cats\",\"anne_van_der_ploeg\",\"crosscultural\",\"schooling\",\"observant\",\"encourages\",\"colleges\",\"residence\",\"accompanying\",\"complete_strangers\",\"vegan\",\"attributes\",\"squeeze\",\"centers\",\"superiority\",\"mysterious\",\"silvia\",\"editor\",\"beneath\",\"unites\",\"figured\",\"overlapping\",\"horse\",\"aboriginal\",\"katrina\",\"managers\",\"bulgaria\",\"disasters\",\"borneo\",\"nightmare\",\"ethic\",\"george\",\"court\",\"aid\",\"assumes\",\"gaining\",\"warn\",\"coordinator\",\"anticipate\",\"thirty\",\"migrant\",\"contradictory\",\"shaking\",\"hola\",\"similiar\",\"seafood\",\"drama\",\"diffuse\",\"accident\",\"wo\",\"duties\",\"caste\",\"generational\",\"fluency\",\"sensation\",\"improvement\",\"iphone\",\"took_granted\",\"select\",\"zambia\",\"inevitably\",\"sending\",\"creating_shared_meanings\",\"cultured\",\"complained\",\"bored\",\"dialogues\",\"offense\",\"clan\",\"secondary_school\",\"stretched\",\"ukrainians\",\"mixed_race\",\"striking\",\"conformity\",\"conclusions\",\"involve\",\"constitute\",\"au\",\"presentations\",\"cuba\",\"grey\",\"non_judgemental\",\"latest\",\"august\",\"exotic\",\"ernesto\",\"cutlery\",\"aimed\",\"decides\",\"transformation\",\"economics\",\"helpfull\",\"shallow\",\"cosmopolitan\",\"tones\",\"contributes\",\"enhanced\",\"pond\",\"siberia\",\"tooth\",\"hostel\",\"openminded\",\"burial\",\"dr_bhawuk\",\"drives\",\"pan\",\"authorities\",\"lasts\",\"structures\",\"hawaii\",\"math\",\"economical\",\"obstacles\",\"ah\",\"balanced\",\"sessions\",\"bars\",\"attendees\",\"catching\",\"mediator\",\"admired\",\"embody\",\"rough\",\"advisor\",\"serafima\",\"responds\",\"younger_generations\",\"rejected\",\"mall\",\"luck\",\"distinguished\",\"dirty\",\"sights\",\"educate\",\"deemed\",\"leaning\",\"antonio\",\"hispanic\",\"networking\",\"property\",\"decided_move\",\"procedure\",\"listen_carefully\",\"towel\",\"restraint\",\"ethiopians\",\"impacted\",\"begining\",\"formal_informal\",\"reward\",\"emphasizing\",\"clarifying\",\"employers\",\"wiser\",\"expanded\",\"gathered\",\"rebecca\",\"flexibility_adaptability\",\"remain_silent\",\"set_aside\",\"wandering\",\"tendencies\",\"remembering\",\"unconciously\",\"mission\",\"disappointments\",\"yosra\",\"prayer\",\"ought\",\"tangible\",\"tests\",\"bits\",\"impress\",\"accessible\",\"hug_kiss\",\"togetherness\",\"tense\",\"edge\",\"chicken\",\"becasue\",\"vividly\",\"updated\",\"seeks\",\"dorm\",\"oil\",\"adequate\",\"directed\",\"realization\",\"salam\",\"grouped\",\"unite\",\"afro\",\"disappointing\",\"cut_size\",\"badly\",\"governments\",\"pro\",\"stefania\",\"ans\",\"cultivated\",\"ups_downs\",\"crying\",\"headscarf\",\"novel\",\"cheerful\",\"crime\",\"institutional\",\"ideologies\",\"invade\",\"attract\",\"blessing\",\"labor\",\"themes\",\"romana\",\"refusal\",\"reserve\",\"pregnant\",\"portrayed\",\"implement\",\"distracted\",\"son_brother\",\"overlooked\",\"replaced\",\"gatherings\",\"mentions\",\"productivity\",\"layer_layer\",\"volume\",\"middle_aged\",\"maker\",\"reunion\",\"teeth\",\"metaphore\",\"attributed\",\"length\",\"chocolate\",\"tie\",\"organizational\",\"hypothesis\",\"sensitively\",\"early_morning\",\"unfair\",\"holistic\",\"outward\",\"buying\",\"explorer\",\"sports_fan\",\"sticking\",\"pencil\",\"midwest\",\"imperialism\",\"sand\",\"ed\",\"flaws\",\"francis\",\"judgemental\",\"departure\",\"loop\",\"entity\",\"intuitive\",\"argues\",\"accounts\",\"essays\",\"intuition\",\"irrespective\",\"costs\",\"angle\",\"confucian\",\"determination\",\"dimensional\",\"wong\",\"secular\",\"enviroment\",\"liking\",\"foodie\",\"documents\",\"committed\",\"neutral_vs_emotional\",\"functional\",\"imply\",\"domains\",\"luc\",\"uncertainties\",\"excuses\",\"ind\",\"prejudice_bias\",\"collectivity\",\"cellphone\",\"spirituality\",\"grandfather_birthday\",\"personally_selective\",\"cake\",\"situational\",\"effectiveness\",\"smoking\",\"wake\",\"honesty_integrity\",\"paced\",\"fraternity\",\"tendency_towards\",\"delay\",\"airbnb\",\"survey\",\"clarke\",\"ivy_league\",\"privileged\",\"flamenco\",\"remarkable\",\"beloved\",\"broadcasting\",\"historic\",\"celebrated\",\"nationality_ethnicity\",\"tensions\",\"wide_range\",\"paying_attention\",\"professor_steve\",\"overlook\",\"desirable\",\"stores\",\"counterpart\",\"judgements\",\"empathise\",\"legal\",\"participation\",\"highest\",\"forbidden\",\"wash\",\"excluded\",\"shed\",\"reasonably\",\"memorable\",\"officially\",\"integral\",\"apologise\",\"bangladesh\",\"globalised_world\",\"naked\",\"immigrant\",\"mistaken\",\"warned\",\"han\",\"decade\",\"separated\",\"withdrawn\",\"north_america\",\"albums\",\"cycle\",\"eat_drink\",\"chilean\",\"eritrea\",\"instructive\",\"encouragement\",\"removed\",\"hint\",\"south_sudan\",\"salary\",\"machine\",\"checked\",\"appeared\",\"notions\",\"transform\",\"visits\",\"nicolas\",\"chen_starosta\",\"ofcourse\",\"entrance\",\"honored\",\"husbands\",\"collegue\",\"supervisor\",\"signals\",\"election\",\"spheres\",\"falling\",\"desert\",\"poetic\",\"skype\",\"thankyou\",\"ms\",\"chi_ruobing\",\"instinct\",\"implying\",\"smiles\",\"elisabeth\",\"refugeecenter\",\"teh\",\"early_arrival\",\"paths\",\"dna\",\"decline\",\"religious_belief\",\"toronto\",\"offices\",\"accompany\",\"exhibits\",\"freshman\",\"ps\",\"brexit\",\"realising\",\"players\",\"disappear\",\"assess\",\"sushant\",\"channel\",\"glass\",\"academics\",\"olga\",\"sharp\",\"farm\",\"disgusting\",\"requirements\",\"pause\",\"ann\",\"walks\",\"strangely\",\"shout\",\"temple\",\"pretend\",\"nearest\",\"lively\",\"constitution\",\"histories\",\"aiming\",\"lesbian\",\"agreeing\",\"born_bred\",\"tanzania\",\"caf\",\"approached\",\"cares\",\"congratulations\",\"trends\",\"quicker\",\"smells\",\"tears\",\"cheer\",\"achieve_goals\",\"watching_tv\",\"angles\",\"insulting\",\"melbourne\",\"jakarta\",\"naples\",\"sacred\",\"meantime\",\"whatsoever\",\"sexuality\",\"protected\",\"ausra\",\"cairo\",\"ver\",\"simplest\",\"generate\",\"global_village\",\"tied\",\"basics\",\"marry\",\"societal\",\"breathe\",\"uruguay\",\"soup\",\"invading\",\"newspaper\",\"occupied\",\"whoever\",\"camp\",\"saves\",\"temperature\",\"confucius\",\"scientist\",\"rejection\",\"upper\",\"previous_page\",\"lenses\",\"participant\",\"hell\",\"cashier\",\"ts\",\"appearances\",\"tutors\",\"contradiction\",\"et\",\"knowledgeable\",\"eight\",\"technologies\",\"isolation\",\"delicate\",\"non_judgmental\",\"copy\",\"banks\",\"promoting\",\"previous_step\",\"chan\",\"wisely\",\"dating\",\"bubbles\",\"saving_face\",\"ordered\",\"persistence\",\"trigger\",\"ticket\",\"striving\",\"eldest\",\"jewish\",\"consuming\",\"thirdly\",\"cup_coffee\",\"daniela\",\"kill\",\"chaotic\",\"fly\",\"yoga\",\"discoveries\",\"cristina\",\"generalized\",\"construction\",\"easygoing\",\"nod\",\"diligence\",\"apology\",\"threatened\",\"li\",\"rashid\",\"hinduism\",\"jiangsu_province\",\"yunita\",\"slaves\",\"newcomers\",\"vague\",\"accidentally\",\"twelve\",\"roads\",\"watched_video\",\"globalized\",\"holy\",\"mass\",\"supports\",\"passes\",\"sally\",\"teenagers\",\"painting\",\"capability\",\"table_manners\",\"gentle\",\"lie\",\"vegetables\",\"nederland\",\"basketball\",\"fifty\",\"clubs\",\"eternal\",\"acculturation\",\"motherland\",\"patriotism\",\"faithful\",\"stability\",\"male_female\",\"gender_equality\",\"social_markers\",\"chair\",\"predict\",\"tickets\",\"ness\",\"compliment\",\"avoidance\",\"motivates\",\"higher_level\",\"wasting\",\"contrasts\",\"amjad\",\"favoritism\",\"scientists\",\"observer\",\"dense\",\"lgbt\",\"proposal\",\"picking\",\"interrelated\",\"coffee_shop\",\"expose\",\"external_factors\",\"thousand\",\"prany_sananikone\",\"reduce_prejudice\",\"register\",\"occidental\",\"loneliness\",\"penetrate\",\"schwartz\",\"universalism\",\"multitask\",\"biomedical_engineering\",\"procedures\",\"awful\",\"cognition\",\"credit\",\"block\",\"communucation_aways\",\"appropriate_style\",\"notepad\",\"vertical\",\"file\",\"four_types\",\"diaries\",\"silencing\",\"stillness\",\"optimism\",\"wall_calendar\",\"electronic_calendar\",\"wolf\",\"proxemic\",\"stickers\",\"indirectness\",\"particularism\",\"negro\",\"hoped\",\"selected\",\"instructor\",\"graphic\",\"net\",\"cup_tea\",\"rio\",\"insisted\",\"sounded\",\"reluctant\",\"categorized\",\"contributed\",\"passive\",\"demanding\",\"miles\",\"transportation\",\"yoko\",\"shifts\",\"presents\",\"pronounced\",\"helpless\",\"codes\",\"unhappy\",\"capture\",\"volunteering\",\"rome_romans\",\"homogeneous\",\"guided\",\"mates\",\"moroccan\",\"constructs\",\"spreading\",\"expanding\",\"fishing\",\"eachother\",\"varying\",\"surname\",\"lithuania\",\"interpreting\",\"resonate\",\"unwanted\",\"filipino\",\"foster\",\"youtube\",\"anthropology\",\"forth\",\"remark\",\"karen\",\"martin_luther_king_jr\",\"ana\",\"confortable\",\"hangzhou\",\"arabian\",\"contacting\",\"acquaintance\",\"nathalie\",\"california\",\"connects\",\"arrogant\",\"tv_series\",\"alot\",\"create_shared_meanings\",\"milan\",\"alienated\",\"carries\",\"past_present\",\"oldest\",\"dutchman\",\"multilingual\",\"multi_ethnic\",\"rotterdam\",\"choosing\",\"trees\",\"tatar\",\"websites\",\"munich\",\"photographer\",\"st_petersburg\",\"unspoken\",\"radically\",\"ali\",\"readings\",\"muhammad\",\"guangdong\",\"spicy\",\"morals\",\"phenomena\",\"nicky\",\"death\",\"stared\",\"esteem\",\"edinburgh\",\"essentially\",\"disaster\",\"socio\",\"collectively\",\"sequence\",\"subculture\",\"usage\",\"mature\",\"colonial\",\"greeks\",\"resort\",\"pork\",\"half_hour\",\"feed\",\"strengths\",\"ksa\",\"cousin\",\"shandong\",\"situated\",\"behave_differently\",\"recorded\",\"dressed\",\"attracts\",\"clothing\",\"continuously\",\"alice\",\"gonna\",\"markers\",\"determines\",\"biological\",\"harbin\",\"devoted\",\"ambitious\",\"reported\",\"co_workers\",\"agreements\",\"politically\",\"sticks\",\"namely\",\"techniques\",\"programme\",\"bodies\",\"staring\",\"failing\",\"secondary\",\"back_forth\",\"morality\",\"te\",\"minutes_early\",\"regular_basis\",\"achievements\",\"tu\",\"authors\",\"freedom_speech\",\"christians\",\"score\",\"koreans\",\"siddiqah\",\"saving\",\"first_foremost\",\"undoubtedly\",\"complaining\",\"ingredients\",\"taken_account\",\"thesis\",\"pragmatic\",\"solid\",\"trough\",\"philosopher\",\"peculiarities\",\"transfer\",\"stars\",\"welfare\",\"revealing\",\"commonality\",\"coping\",\"vous\",\"respective\",\"politicians\",\"bothered\",\"satisfy\",\"combined\",\"intellectual\",\"officers\",\"consequently\",\"accomplishment\",\"underneath\",\"adichie\",\"relying\",\"cafe\",\"attribute\",\"simpler\",\"fifth\",\"strikes\",\"culinary\",\"costumes\",\"avid\",\"deserve\",\"konw\",\"soccer\",\"attentive\",\"kazakh\",\"outdoor\",\"tiring\",\"humorous\",\"tolerate\",\"alive\",\"continues\",\"attempts\",\"process_sorting_identities\",\"recommendation\",\"kinda\",\"worship\",\"save_face\",\"technological\",\"czech\",\"rate\",\"wore\",\"aiste\",\"embedded\",\"representing\",\"row\",\"obtain\",\"stone\",\"gym\",\"narrative\",\"horizontal\",\"replace\",\"hierarchical\",\"awkwardness\",\"jesus\",\"designed\",\"deliberately\",\"conversely\",\"severe\",\"troubles\",\"stem\",\"rock\",\"fails\",\"joan\",\"interlocutors\",\"nurture\",\"performing\",\"win\",\"constructed\",\"filters\",\"employment\",\"slavery\",\"purely\",\"quit\",\"self_esteem\",\"respectively\",\"stops\",\"peel_onion\",\"membership\",\"bound\",\"apple\",\"representation\",\"obliged\",\"stare\",\"affective_approach\",\"emotional_intelligence\",\"sequential\",\"masculinity\",\"appropriate_style_standards\",\"adjust_develop_use\",\"contracts\",\"exemple\",\"smartphones\",\"polychromic\",\"mr_johnson\",\"presume\",\"tutor\",\"short_term\",\"closely_related\",\"principal\",\"hundreds\",\"seaside\",\"display\",\"geographic\",\"saved\",\"pool\",\"county\",\"receiver\",\"moocs\",\"texts\",\"geographically\",\"realities\",\"latvia\",\"supported\",\"leisure\",\"pronunciation\",\"specialist\",\"unpack\",\"mannerisms\",\"nationals\",\"translated\",\"farming\",\"th_century\",\"confirmed\",\"subordinate\",\"tremendous\",\"continents\",\"malaysian\",\"masters\",\"treatment\",\"spectrum\",\"jamaica\",\"old_fashioned\",\"completion\",\"uganda\",\"migrated\",\"luxembourg\",\"ningbo\",\"learnings\",\"taking_account\",\"professionals\",\"loose\",\"delhi\",\"confess\",\"suprised\",\"milk\",\"starbucks\",\"van\",\"patients\",\"paragraph\",\"expresses\",\"insider\",\"indicate\",\"treating\",\"bags\",\"million\",\"desperate\",\"bush\",\"invaded\",\"businesses\",\"carried\",\"sphere\",\"collaborate\",\"grandma\",\"thrown\",\"roommates\",\"motto\",\"remove\",\"thick\",\"mis\",\"beings\",\"rubbish\",\"hundred\",\"refreshing\",\"gate\",\"communicates\",\"conflicting\",\"months_ago\",\"confuse\",\"stems\",\"public_spaces\",\"insecure\",\"practically\",\"hanging\",\"repeated\",\"bathroom\",\"dilemma\",\"belonged\",\"died\",\"oriental\",\"introductions\",\"pray\",\"conclude\",\"friendliness\",\"passage\",\"peter\",\"twenty_years\",\"behaves\",\"break_ice\",\"sense_humour\",\"practitioner\",\"modes\",\"tight\",\"fathers\",\"damascus\",\"resident\",\"intentionally\",\"board\",\"sits\",\"sought\",\"musical\",\"visa\",\"varieties\",\"northeast\",\"commenting\",\"sense_humor\",\"acted\",\"obstacle\",\"harsh\",\"unconscious\",\"expat\",\"facets\",\"lovers\",\"partially\",\"serves\",\"smoothly\",\"silly\",\"praise\",\"deliver\",\"forcing\",\"wished\",\"nonetheless\",\"siblings\",\"remaining\",\"warning\",\"exams\",\"nuanced\",\"conform\",\"season\",\"fitting\",\"guides\",\"contain\",\"urge\",\"dig\",\"take_advantage\",\"unconfortable\",\"didnt\",\"silently\",\"unit\",\"richness\",\"ect\",\"mirror\",\"que\",\"stomach\",\"ethnography\",\"inputs\",\"digging\",\"familiarity\",\"spelling\",\"accurately\",\"analysing\",\"broadly\",\"horizons\",\"clever\",\"supportive\",\"evaluate\",\"classify\",\"handed\",\"images\",\"hobby\",\"endless\",\"unavoidable\",\"interconnected\",\"adds\",\"fb\",\"makus\",\"lyrics\",\"zhejiang_province\",\"uncommon\",\"enabled\",\"shyness\",\"technical\",\"liberty\",\"antwerp\",\"violent\",\"magic\",\"rosa\",\"racist\",\"arrangements\",\"concentration\",\"alienation\",\"categorizations\",\"last_minute\",\"servant\",\"spatial\",\"agnostic\",\"recommended\",\"agendas\",\"redacted_com\",\"clarification\",\"ritual\",\"useless\",\"sexual\",\"stable\",\"colours\",\"selves\",\"criticize\",\"shorter\",\"document\",\"record\",\"perception_reality\",\"handy\",\"arguing\",\"defend\",\"poem_perception\",\"stereotypes_prejudice\",\"peeled\",\"newly\",\"youngsters\",\"extension\",\"rank\",\"nationalistic\",\"filial\",\"alisa\",\"categorization\",\"indirectly\",\"reviewer\",\"exclusive\",\"olivia\",\"protection\",\"kim\",\"consistent\",\"hygiene\",\"appropriate_styles\",\"poly_chronic\",\"mono_chronic\",\"paper_diary\",\"use_calendar_app\",\"outlook_calendar\",\"stresses\",\"cinema\",\"evolve\",\"suspect\",\"solve_problems\",\"chi\",\"delighted\",\"natives\",\"distinguishing\",\"foot\",\"forum\",\"musician\",\"apt\",\"secure\",\"implied\",\"travellers\",\"covering\",\"accomplish\",\"satisfying\",\"scholarship\",\"internship\",\"minorities\",\"washing\",\"soft\",\"strengthen\",\"object\",\"certificate\",\"plant\",\"veil\",\"fl\",\"broke\",\"pacific\",\"semi\",\"army\",\"bi\",\"soviet\",\"graduating\",\"bought\",\"stages\",\"gemma\",\"thorough\",\"production\",\"dedicated\",\"equivalent\",\"relates\",\"unclear\",\"resulting\",\"suffered\",\"examining\",\"invasion\",\"networks\",\"overcoming\",\"collegues\",\"sarah\",\"seychelles\",\"inferior\",\"afghanistan\",\"oman\",\"influencing\",\"designer\",\"emerge\",\"ethnicities\",\"asylum_seekers\",\"collaboration\",\"repeat\",\"drop\",\"massive\",\"insensitive\",\"corner\",\"nodding\",\"jiangxi\",\"arm\",\"landscape\",\"earn\",\"shaking_hands\",\"naive\",\"walked\",\"responded\",\"articulate\",\"fulfill\",\"researches\",\"recognised\",\"ghana\",\"millennial\",\"studing\",\"guanxi\",\"neighborhood\",\"paradox\",\"innovation\",\"desired\",\"conferences\",\"sacrifice\",\"slower\",\"corporate\",\"sociable\",\"medicine\",\"somewhere_else\",\"sudden\",\"domestic\",\"breath\",\"witnessed\",\"abc\",\"fewer\",\"mild\",\"rational\",\"rabab\",\"components\",\"lacking\",\"meters\",\"exploration\",\"sundanese\",\"anything_else\",\"speed\",\"dead\",\"behavioral\",\"misleading\",\"king\",\"intimidating\",\"owner\",\"nada\",\"anac_lia\",\"honour\",\"radio\",\"delicious_food\",\"christ\",\"generalize\",\"luxury\",\"neglect\",\"widen\",\"sugar\",\"corruption\",\"finger\",\"lake\",\"policies\",\"bible\",\"promoted\",\"decision_making\",\"reminding\",\"ambiguity\",\"frankly\",\"comparisons\",\"stays\",\"dean\",\"scary\",\"propose\",\"romans\",\"anyone_else\",\"forgetting\",\"doctors\",\"eliminate\",\"worthwhile\",\"reject\",\"runs\",\"discriminated\",\"five_weeks\",\"innate\",\"classmate\",\"spicy_food\",\"apologies\",\"efficiently\",\"addicted\",\"bbc\",\"software\",\"elevator\",\"benefited\",\"genuine\",\"communal\",\"proves\",\"rooms\",\"thx\",\"analyzing\",\"energetic\",\"cheek\",\"published\",\"desires\",\"briefly\",\"differnt\",\"strongest\",\"shifting\",\"talkative\",\"psychological_features\",\"public_features\",\"trying_figure\",\"organise\",\"orientated\",\"philosophical\",\"peeling_onion\",\"maps\",\"kam\",\"participated\",\"consultant\",\"hmm\",\"inequality\",\"competent\",\"expertise\",\"six_months\",\"tended\",\"minor\",\"oxford\",\"rare\",\"frequent\",\"suggesting\",\"expats\",\"applications\",\"remained\",\"middle_eastern\",\"brits\",\"dr_dharm_bhawuk\",\"expensive\",\"sufficient\",\"frisian\",\"ancestry\",\"pursuing\",\"grows\",\"inappropriate\",\"puzzled\",\"cards\",\"geert_hofstede\",\"phrases\",\"peculiar\",\"television\",\"press\",\"produce\",\"input\",\"tribal\",\"perish_together_fools\",\"buses\",\"offending\",\"journalist\",\"officer\",\"operating\",\"eye_opener\",\"amusing\",\"disrespectful\",\"creation\",\"pinyin\",\"flora\",\"arrogance\",\"intimacy\",\"decent\",\"feedbacks\",\"soldiers\",\"maternal\",\"vacation\",\"establishing\",\"clue\",\"tastes\",\"plane\",\"bonds\",\"problematic\",\"sum\",\"completing\",\"resilience\",\"physical_contact\",\"neighbour\",\"dis\",\"bowl\",\"spare\",\"differents\",\"photography\",\"favor\",\"worries\",\"selfish\",\"attractive\",\"liberal\",\"supermarkets\",\"queues\",\"barely\",\"emphasized\",\"cheese\",\"liu\",\"sisters\",\"adaptability\",\"sri_lanka\",\"owned\",\"regret\",\"likes_dislikes\",\"cell_phone\",\"eaten\",\"cooked\",\"solidarity\",\"premise\",\"irritated\",\"prejudiced\",\"meanwhile\",\"cooperate\",\"combine\",\"orthodox\",\"danger_single_story\",\"nearby\",\"empathize\",\"ears\",\"cultivate\",\"shouting\",\"mad\",\"southeast\",\"poets\",\"verbally\",\"unintentionally\",\"stepped\",\"interacted\",\"uncle\",\"handling\",\"drawing\",\"transport\",\"poverty\",\"data\",\"weddings\",\"bright\",\"snow\",\"alcohol\",\"fourth\",\"roel\",\"identical\",\"empathic\",\"domain\",\"enemy\",\"spouse\",\"contest\",\"tiny\",\"explicitly\",\"respects\",\"cheeks\",\"scroll\",\"replies\",\"tube\",\"suits\",\"routines\",\"institutions\",\"disturbing\",\"resource\",\"locations\",\"derived\",\"forming\",\"conception\",\"aims\",\"command\",\"talker\",\"high_low\",\"thousands\",\"weak\",\"laughing\",\"sing\",\"grouping\",\"stating\",\"everytime\",\"consumer\",\"evolved\",\"random\",\"public_transportation\",\"heat\",\"sincerity\",\"phases\",\"uncertain\",\"reframing\",\"low_power_distance\",\"grade\",\"recognized\",\"resolve\",\"socialize\",\"mutually\",\"belongings\",\"commonalities\",\"must_admit\",\"hosted\",\"contextual\",\"incredibly\",\"waters\",\"acquainted\",\"steve_kulich\",\"texas\",\"maintaining\",\"taboos\",\"component\",\"guilty\",\"subconsciously\",\"lay\",\"addressed\",\"culturally_diverse\",\"intolerance\",\"swedish\",\"finnish\",\"shut\",\"sites\",\"early_age\",\"taiwanese\",\"ice\",\"metaphors\",\"predominantly\",\"behaving\",\"lithuanian\",\"sydney\",\"ten_years\",\"impose\",\"illustrated\",\"wishes\",\"spring\",\"belgian\",\"bachelor_degree\",\"diet\",\"considered_rude\",\"esp\",\"buenos_aires\",\"universe\",\"neighbours\",\"activist\",\"rain\",\"eating_habits\",\"rural_area\",\"homes\",\"criticism\",\"anytime\",\"explored\",\"glasses\",\"warmth\",\"listening_music\",\"commercial\",\"conference\",\"understands\",\"lawyer\",\"brand\",\"flight\",\"onto\",\"instances\",\"caucasian\",\"threat\",\"terrible\",\"replied\",\"appropriately\",\"gaps\",\"centered\",\"beach\",\"weekends\",\"wondered\",\"insist\",\"passport\",\"individuality\",\"west_east\",\"contrasting\",\"subcultures\",\"toilet\",\"highlighted\",\"vocabulary\",\"denial\",\"colors\",\"blessed\",\"confirm\",\"attitudes_towards\",\"convinced\",\"zhejiang\",\"globalisation\",\"ten\",\"build_bridges\",\"chimamanda_adichie\",\"weight\",\"iam\",\"dry\",\"turning\",\"applying\",\"forces\",\"bill\",\"taken_granted\",\"fire\",\"guard\",\"cutural\",\"throw\",\"resulted\",\"hr\",\"lately\",\"ceremony\",\"proximity\",\"clashes\",\"faculty\",\"police\",\"expressive\",\"disability\",\"films\",\"unfortunate\",\"courtesy\",\"learns\",\"smiled\",\"interpretations\",\"arguments\",\"prejudice_discrimination\",\"fruitful\",\"bridge_gap\",\"stubborn\",\"competitive\",\"debate\",\"listened\",\"rituals\",\"joint\",\"rashmi\",\"hugging\",\"underground\",\"civil\",\"kazakhstan\",\"david\",\"holding_hands\",\"absence\",\"hearted\",\"construct\",\"scope\",\"concise\",\"track\",\"rush_hour\",\"hurry\",\"ignoring\",\"hahaha\",\"organizations\",\"depression\",\"edu\",\"intergroup\",\"pages\",\"proverb\",\"judgment\",\"burden\",\"proposed\",\"birthdays\",\"gather\",\"stereotypical\",\"amy_min_fan\",\"xi\",\"virtual\",\"purposes\",\"discriminate\",\"dreamer\",\"entities\",\"danger\",\"communist\",\"urgent\",\"honeymoon\",\"mess\",\"deleted\",\"deadline\",\"alarm\",\"monochronic_polychronic\",\"professor_kulich\",\"retirement\",\"viewpoints\",\"grace\",\"someday\",\"ultimately\",\"junior_student\",\"eu\",\"marked\",\"mono\",\"identities_appreciation_others\",\"hungry\",\"enable\",\"austria\",\"migrants\",\"wave\",\"strike\",\"recognizing\",\"engineering\",\"roman\",\"researchers\",\"symbolic\",\"hints\",\"festival\",\"exception\",\"south_east\",\"south_korea\",\"movement\",\"embracing\",\"focuses\",\"excitement\",\"flowers\",\"painful\",\"exceptions\",\"scales\",\"transitions\",\"numbers\",\"understandings\",\"peru\",\"rural_areas\",\"behaved\",\"mothers\",\"citizenship\",\"capable\",\"limitations\",\"yorkshire\",\"comunication\",\"expert\",\"anxious\",\"sth\",\"dreams\",\"overview\",\"diplomacy\",\"exclusion\",\"raising\",\"folk\",\"islands\",\"opens\",\"comment_removed\",\"hosts\",\"traditionally\",\"evidence\",\"application\",\"garden\",\"accommodate\",\"protestant\",\"symbol\",\"intriguing\",\"interlocutor\",\"greeted\",\"contributions\",\"thai\",\"mountain\",\"strive\",\"simultaneously\",\"crowds\",\"immersed\",\"uni\",\"smell\",\"cry\",\"promise\",\"coastal\",\"seven\",\"inform\",\"lulu\",\"swim\",\"anna\",\"split\",\"shares\",\"afternoon\",\"session\",\"shake\",\"afford\",\"al\",\"majoring\",\"thinker\",\"apps\",\"creativity\",\"depressed\",\"crowd\",\"approaching\",\"socializing\",\"open_mindedness\",\"relational\",\"satisfaction\",\"without_permission\",\"prefers\",\"sudan\",\"arabs\",\"alert\",\"conduct\",\"examine\",\"doubts\",\"bike\",\"president\",\"disagreement\",\"update\",\"golden\",\"shaping\",\"rethink\",\"emigrated\",\"contribution\",\"movements\",\"fairness\",\"rigid\",\"anti\",\"heads\",\"trompenaars\",\"fujian\",\"merely\",\"outgroups\",\"spontaneous\",\"multi_tasking\",\"obey\",\"laptop\",\"pointing\",\"mobile_app\",\"prof_johnson\",\"returning\",\"jordan\",\"northwest\",\"hardest\",\"portugal\",\"ocean\",\"ethiopia\",\"carrying\",\"involving\",\"river\",\"redacted\",\"erasmus\",\"assistant\",\"lustig_koester\",\"causing\",\"cars\",\"km\",\"acquired\",\"daughters\",\"improved\",\"sweden\",\"signed\",\"papers\",\"voices\",\"driven\",\"card\",\"tom\",\"exchanged\",\"pieces\",\"spitting\",\"demonstrate\",\"guidelines\",\"journal\",\"facilitate\",\"impacts\",\"chile\",\"essence\",\"singing\",\"bridges\",\"realistic\",\"picked\",\"institution\",\"consequence\",\"melting_pot\",\"communicators\",\"brothers\",\"worthy\",\"https_en_wikipedia_org\",\"forever\",\"friday\",\"elizabeth\",\"forgotten\",\"hungary\",\"mrs\",\"pure\",\"generosity\",\"discipline\",\"republic\",\"furthermore\",\"roommate\",\"floor\",\"drinks\",\"intend\",\"theme\",\"ethiopian\",\"interactive\",\"vice_versa\",\"seiichi\",\"mainstream\",\"considers\",\"info\",\"imagination\",\"vegetarian\",\"sons\",\"extrovert\",\"sympathy\",\"native_speakers\",\"geography\",\"strictly\",\"impressions\",\"bother\",\"relevance\",\"behavioural\",\"primary\",\"guiding\",\"brief\",\"listen_music\",\"strategy\",\"rapidly\",\"similarity\",\"cautious\",\"asians\",\"equals\",\"package\",\"graduation\",\"scene\",\"saudi\",\"receiving\",\"disrespect\",\"identifies\",\"prominent\",\"folks\",\"accordingly\",\"arrange\",\"atheist\",\"processing\",\"hearts\",\"ride\",\"economy\",\"https_www_youtube_com\",\"quietly\",\"unsure\",\"abilities\",\"noodles\",\"negotiating\",\"alike\",\"subconscious\",\"demand\",\"crossed\",\"harmful\",\"suggestion\",\"sisuer\",\"alternative\",\"calendar_book\",\"exhibit\",\"peer_review\",\"metro\",\"onions\",\"high_context_low_context\",\"perseverance\",\"keep_track\",\"scheduling\",\"primarily\",\"philippines\",\"go_flow\",\"adventurous\",\"illustrates\",\"nepal\",\"latin_america\",\"arrangement\",\"association\",\"wonderfully\",\"author\",\"soon_possible\",\"jump\",\"unaware\",\"sadly\",\"applicable\",\"mail\",\"director\",\"opposed\",\"sunday\",\"sandra\",\"guidance\",\"visitor\",\"attempting\",\"cant\",\"environmental\",\"fighting\",\"secret\",\"harm\",\"firm\",\"favour\",\"st\",\"complexity\",\"supporting\",\"intense\",\"perform\",\"live_together_brothers\",\"games\",\"reaching\",\"neighbor\",\"jef\",\"passengers\",\"amsterdam\",\"aunt\",\"precisely\",\"fluid\",\"photo\",\"zero\",\"wiki\",\"latin_american\",\"sir\",\"recognition\",\"ate\",\"negatively\",\"abstract\",\"convenient\",\"taxi\",\"fiction\",\"medina\",\"argentinian\",\"cuisine\",\"pack\",\"format\",\"reached\",\"exhausting\",\"consists\",\"structured\",\"sunny\",\"stupid\",\"inclined\",\"organizing\",\"loyal\",\"adjusted\",\"thankful\",\"hides\",\"reveals\",\"provinces\",\"acquire\",\"workers\",\"diffrent\",\"demands\",\"unusual\",\"remarks\",\"logic\",\"essay\",\"moves\",\"clarity\",\"affection\",\"policy\",\"closest\",\"animal_lover\",\"trend\",\"queuing\",\"cost\",\"drivers\",\"robbie\",\"vulnerable\",\"attach\",\"singer\",\"motivated\",\"reputation\",\"similarly\",\"kisses\",\"categorize\",\"relaxing\",\"paid\",\"dressing\",\"inspiration\",\"attitude_towards\",\"distances\",\"station\",\"underlying\",\"overlap\",\"destination\",\"programmes\",\"grammar\",\"follows\",\"suffer\",\"price\",\"monthly\",\"fears\",\"licia\",\"shoulder\",\"advantages\",\"urgency\",\"dealt\",\"adaption\",\"monochromic\",\"bed\",\"shock_become_adaptable\",\"tricky\",\"brazilians\",\"casual\",\"mentioning\",\"privilege\",\"circles\",\"significance\",\"migration\",\"sets\",\"anybody\",\"external\",\"deepen\",\"nuances\",\"globally\",\"latvian\",\"variation\",\"noticeable\",\"informative\",\"alien\",\"stereotyping\",\"fellow_learners\",\"apologize\",\"achieving\",\"ordinary\",\"lifestyles\",\"interestingly\",\"financial\",\"yunnan\",\"player\",\"otherness\",\"seemingly\",\"comparative\",\"assessment\",\"rd\",\"sorts\",\"fell\",\"festivals\",\"definite\",\"drawn\",\"leaders\",\"swiss\",\"professionally\",\"honor\",\"romantic\",\"enriched\",\"ongoing\",\"daily_basis\",\"good_luck\",\"average\",\"reliable\",\"statements\",\"theatre\",\"checking\",\"windows\",\"remembered\",\"diana\",\"mentally\",\"junior\",\"tension\",\"correctly\",\"insecurity\",\"vivid\",\"suitable\",\"blue\",\"mixing\",\"norwegian\",\"stuck\",\"clues\",\"employees\",\"ultimate\",\"yang\",\"planet\",\"services\",\"shapes\",\"norway\",\"practise\",\"human_rights\",\"dare\",\"happily\",\"shops\",\"graduate_student\",\"scared\",\"satisfied\",\"sources\",\"wild\",\"tip\",\"fortunate\",\"indicates\",\"pointed\",\"advantage\",\"foundation\",\"commitments\",\"arms\",\"starting_point\",\"crisis\",\"clock\",\"generous\",\"schedules\",\"vatican\",\"sticky_notes\",\"benevolence\",\"collectivistic\",\"use_google_calendar\",\"hopes\",\"remote\",\"challenged\",\"unity\",\"colombian\",\"reduced\",\"sexual_orientation\",\"worldview\",\"maria\",\"arrival\",\"store\",\"modest\",\"myanmar\",\"nd\",\"breaking\",\"largest\",\"incidents\",\"translate\",\"united\",\"catalan\",\"villages\",\"suit\",\"outcomes\",\"descent\",\"overwhelming\",\"thoroughly\",\"nigerian\",\"integration\",\"travels\",\"arranged\",\"madrid\",\"laughed\",\"danish\",\"jan\",\"coast\",\"min\",\"confronted\",\"wisdom\",\"poet\",\"precious\",\"disagree\",\"bread\",\"lens\",\"covered\",\"pushed\",\"wine\",\"attached\",\"losing\",\"century\",\"photos\",\"improving\",\"acts\",\"assimilate\",\"pub\",\"harmonious\",\"symbols\",\"solutions\",\"principle\",\"believer\",\"affecting\",\"flemish\",\"comprehensive\",\"interview\",\"exam\",\"error\",\"implies\",\"interpreter\",\"revealed\",\"broader\",\"calling\",\"dancer\",\"westerner\",\"rogier\",\"music_lover\",\"searching\",\"possibilities\",\"judged\",\"code\",\"treasure\",\"profound\",\"paying\",\"celebration\",\"leadership\",\"chimamanda\",\"managing\",\"determine\",\"discovery\",\"noticing\",\"absolute\",\"constructive\",\"distorted_images\",\"refuse\",\"emphasizes\",\"productive\",\"representative\",\"enables\",\"cuture\",\"high_low_context\",\"decades\",\"visual\",\"multitasking\",\"mallorca\",\"samuel\",\"affective\",\"holds\",\"post_notes\",\"collectivism_individualism\",\"best_wishes\",\"participate\",\"design\",\"divided\",\"ladies\",\"international_relations\",\"hospital\",\"peer\",\"largely\",\"connecting\",\"primary_school\",\"monday\",\"discourse\",\"exchanges\",\"fill\",\"diversities\",\"sub\",\"advanced\",\"exchanging\",\"kenya\",\"ties\",\"south_african\",\"internationally\",\"asks\",\"grand\",\"scholar\",\"ends\",\"functions\",\"die\",\"inevitable\",\"youngest\",\"achieved\",\"pity\",\"sport\",\"settle\",\"coach\",\"precise\",\"clients\",\"misunderstand\",\"centre\",\"writers\",\"worlds\",\"calls\",\"potentially\",\"dependent\",\"mexicans\",\"elsewhere\",\"lazy\",\"etiquette\",\"experts\",\"trainer\",\"flat\",\"inner_mongolia\",\"institute\",\"adjustments\",\"encountering\",\"color\",\"turns\",\"dish\",\"marks\",\"individually\",\"sentences\",\"absorb\",\"tall\",\"proved\",\"argument\",\"timekeeping\",\"ending\",\"total\",\"employee\",\"fix\",\"ethnocentric\",\"worst\",\"iranian\",\"division\",\"version\",\"greg\",\"valid\",\"https\",\"pictures\",\"eg\",\"romanian\",\"pain\",\"cherish\",\"frank\",\"degrees\",\"calender\",\"ind_col\",\"library\",\"presentation\",\"artist\",\"master_degree\",\"scheduled\",\"packed\",\"telephone\",\"colorful\",\"shanshan\",\"lifetime\",\"native_speaker\",\"negotiation\",\"barcelona\",\"increasing\",\"continuing\",\"blunt\",\"club\",\"celebrating\",\"doors\",\"embarrassment\",\"organisation\",\"mindset\",\"develop_awareness\",\"smiling\",\"dogs\",\"tour\",\"offence\",\"territory\",\"stood\",\"distinguishing_feature\",\"attracted\",\"teenager\",\"addressing\",\"refugee\",\"trained\",\"directions\",\"lets\",\"complain\",\"neighbors\",\"convey\",\"partners\",\"teams\",\"campus\",\"civilization\",\"unlike\",\"buddhist\",\"introducing\",\"loudly\",\"running\",\"lecturer\",\"permission\",\"smooth\",\"phones\",\"initiative\",\"hardworking\",\"phase\",\"stressed\",\"offering\",\"commented\",\"rush\",\"mouth\",\"solve_problem\",\"center\",\"trinidadian\",\"regarded\",\"politely\",\"recall\",\"positions\",\"horizon\",\"widely\",\"sight\",\"puts\",\"solving\",\"imagined\",\"motivation\",\"valuing\",\"animal\",\"sick\",\"believing\",\"teaches\",\"concrete\",\"unacceptable\",\"walls\",\"seconds\",\"kissing\",\"circumstance\",\"https_www\",\"ingroup\",\"analyse\",\"tck\",\"xinjiang\",\"tables\",\"cognitive\",\"feminist\",\"devices\",\"duty\",\"programs\",\"multinational\",\"ethnic_groups\",\"luckily\",\"prior\",\"understandable\",\"black_white\",\"appreciating\",\"allowing\",\"increasingly\",\"posts\",\"occurred\",\"san\",\"game\",\"spite\",\"answering\",\"inhabitants\",\"towns\",\"outsiders\",\"shower\",\"reasonable\",\"era\",\"cantonese\",\"participating\",\"boring\",\"represents\",\"ashamed\",\"grasp\",\"trips\",\"prove\",\"mountains\",\"embarrassing\",\"automatically\",\"geographical\",\"series\",\"questioning\",\"viewing\",\"encouraging\",\"dancing\",\"apartment\",\"residents\",\"beer\",\"south_america\",\"rise\",\"heavily\",\"helen\",\"medium\",\"assumption\",\"driving\",\"expects\",\"authority\",\"filled\",\"traveler\",\"clearer\",\"blame\",\"advertising\",\"zone\",\"explains\",\"im\",\"promote\",\"enjoyable\",\"apparent\",\"tanya\",\"mother_tongue\",\"egyptian\",\"organised\",\"client\",\"likewise\",\"worldwide\",\"nicely\",\"consciousness\",\"faster\",\"restaurants\",\"chosen\",\"handshake\",\"hindu\",\"divide\",\"audience\",\"inspires\",\"exercises\",\"outer\",\"meditation\",\"invisible\",\"match\",\"chronemics\",\"hesitation\",\"weekly\",\"orientations\",\"reviewed\",\"smith\",\"linguist\",\"wanna\",\"fields\",\"inviting\",\"mentality\",\"hello_everybody\",\"union\",\"occasionally\",\"hit\",\"intelligent\",\"communicate_effectively\",\"answered\",\"wars\",\"crossing\",\"public_places\",\"syrian\",\"la\",\"root\",\"distant\",\"signs\",\"differing\",\"leaves\",\"chopsticks\",\"fail\",\"university_groningen\",\"hospitable\",\"logical\",\"mid\",\"solved\",\"existence\",\"accents\",\"engagement\",\"tomorrow\",\"public_transport\",\"inspired\",\"super\",\"website\",\"ex\",\"mediterranean\",\"immediate\",\"dog\",\"refused\",\"oral\",\"asking_questions\",\"islam\",\"blog\",\"considerate\",\"introverted\",\"capital_city\",\"label\",\"concentrate\",\"narrow\",\"delicious\",\"concerns\",\"racial\",\"operate\",\"continuum\",\"cover\",\"shame\",\"numerous\",\"distinctive\",\"plenty\",\"broken\",\"ha\",\"integrated\",\"daughter_sister\",\"lies\",\"strength\",\"flow\",\"hide\",\"superficial\",\"borders\",\"reflections\",\"ted_talk\",\"step_step\",\"stressful\",\"pauses\",\"violence\",\"joudy\",\"identification\",\"targets\",\"materials\",\"contract\",\"entry\",\"johnson\",\"pleased\",\"web\",\"letting\",\"men_women\",\"surprisingly\",\"aggressive\",\"gifts\",\"located\",\"communicator\",\"served\",\"posted\",\"responding\",\"greetings\",\"finds\",\"wales\",\"caught\",\"offers\",\"unnecessary\",\"affairs\",\"labels\",\"surprises\",\"beside\",\"breakfast\",\"round\",\"industry\",\"comfort_zones\",\"lol\",\"un\",\"supermarket\",\"kitchen\",\"centuries\",\"false\",\"hk\",\"houses\",\"faces\",\"explanations\",\"facts\",\"realizing\",\"org\",\"shocking\",\"applies\",\"window\",\"illustration\",\"hobbies\",\"dynamics\",\"dates\",\"noting\",\"deny\",\"fits\",\"justice\",\"beneficial\",\"peeling\",\"demarcations\",\"pen\",\"uncertainty_avoidance\",\"shall\",\"denmark\",\"regularly\",\"via\",\"aim\",\"presented\",\"celebrate\",\"preparing\",\"extend\",\"islamic\",\"urban\",\"trains\",\"systems\",\"interculturally\",\"commonly\",\"viewpoint\",\"fluently\",\"bilingual\",\"welcomed\",\"translator\",\"electronic\",\"heavy\",\"shop\",\"spread\",\"vast\",\"principles\",\"existing\",\"html\",\"dubai\",\"represented\",\"curve\",\"outing\",\"trade\",\"compromise\",\"tribes\",\"concerning\",\"versus\",\"hungarian\",\"interpreted\",\"pakistan\",\"sent\",\"experiment\",\"military\",\"named\",\"peaceful\",\"box\",\"double\",\"adding\",\"request\",\"category\",\"facial_expressions\",\"jane\",\"prof_kulich\",\"swimming\",\"emotionally\",\"acknowledge\",\"tone\",\"require\",\"ethics\",\"finishing\",\"reflective\",\"importantly\",\"invitation\",\"count\",\"preparation\",\"lectures\",\"student_sisu\",\"network\",\"canteen\",\"cheers\",\"trinidad\",\"yoruba\",\"filial_piety\",\"references\",\"necessity\",\"thought_provoking\",\"dignity\",\"bond\",\"highlights\",\"zhao\",\"claim\",\"mr_smith\",\"mentor\",\"african_american\",\"researcher\",\"gift\",\"actively\",\"chances\",\"beforehand\",\"lecture\",\"willingness\",\"intended\",\"holding\",\"varies\",\"waves\",\"ensure\",\"item\",\"humour\",\"laws\",\"mentors\",\"democracy\",\"amazed\",\"ignorance\",\"baby\",\"piece\",\"trait\",\"title\",\"yesterday\",\"bar\",\"north_south\",\"measure\",\"bottom\",\"id\",\"final\",\"involves\",\"big_cities\",\"scenario\",\"comprehend\",\"department\",\"watched\",\"contents\",\"six\",\"deadlines\",\"secondly\",\"ideal\",\"greatest\",\"dislike\",\"option\",\"passed\",\"buddhism\",\"site\",\"occurs\",\"gay\",\"limit\",\"sat\",\"competition\",\"hug\",\"periods\",\"routine\",\"tree\",\"tourist\",\"identifying\",\"revolution\",\"ideology\",\"ignored\",\"exact\",\"pc\",\"videos\",\"carolina\",\"enrich\",\"associate\",\"profession\",\"awesome\",\"increased\",\"wealth\",\"waste\",\"serve\",\"nevertheless\",\"consequences\",\"visible\",\"aside\",\"report\",\"evident\",\"loss\",\"entire\",\"profile\",\"retired\",\"completed\",\"enthusiasm\",\"wise\",\"referred\",\"admire\",\"communicated\",\"customer\",\"homework\",\"target\",\"memories\",\"green\",\"implicit\",\"optimistic\",\"passing\",\"annoying\",\"bag\",\"exposure\",\"girlfriend\",\"phrase\",\"prevent\",\"describing\",\"east_west\",\"foods\",\"forgot\",\"theoretical\",\"berlin\",\"empathetic\",\"tourists\",\"surrounded\",\"linear\",\"succeed\",\"avoiding\",\"escape\",\"rooted\",\"biases\",\"ages\",\"philosophy\",\"switch\",\"clash\",\"compassion\",\"ill\",\"consciously\",\"scientific\",\"integrate\",\"uneasy\",\"mobile_phone\",\"smartphone\",\"excuse\",\"additional\",\"taiwan\",\"occasion\",\"regional\",\"nervous\",\"new_zealand\",\"pace\",\"fluent\",\"portuguese\",\"appreciation\",\"brave\",\"pop\",\"engineer\",\"fortunately\",\"gesture\",\"hey\",\"expand\",\"methods\",\"size\",\"placed\",\"take_account\",\"settled\",\"specifically\",\"unpleasant\",\"pursue\",\"symptoms\",\"hang\",\"continued\",\"transition\",\"sense_belonging\",\"movie\",\"meat\",\"couples\",\"intelligence\",\"serbia\",\"serbian\",\"enthusiastic\",\"higher_education\",\"sex\",\"anxiety\",\"suffering\",\"sees\",\"desk\",\"judging\",\"played\",\"strategies\",\"plus\",\"cuz\",\"mr_zhang\",\"dangerous\",\"models\",\"google_calendar\",\"joining\",\"humble\",\"successfully\",\"drinking\",\"mutual_understanding\",\"forest\",\"forest_park\",\"leading\",\"highlighting\",\"freely\",\"causes\",\"racism\",\"amongst\",\"google\",\"projects\",\"discovering\",\"customers\",\"limits\",\"songs\",\"direction\",\"speakers\",\"stands\",\"date\",\"suggests\",\"apparently\",\"contribute\",\"fantastic\",\"overall\",\"wall\",\"honestly\",\"romania\",\"remains\",\"believes\",\"shake_hands\",\"protect\",\"joke\",\"performance\",\"ur\",\"driver\",\"shown\",\"wich\",\"peel\",\"pattern\",\"ethnocentrism\",\"high_power_distance\",\"amy\",\"gained\",\"products\",\"spirit\",\"pre\",\"entered\",\"morocco\",\"capacity\",\"defining\",\"birthday\",\"firstly\",\"hence\",\"listed\",\"john\",\"postgraduate\",\"neutral\",\"engaged\",\"humor\",\"bear\",\"beijing\",\"notion\",\"clean\",\"joy\",\"advise\",\"avoided\",\"qualities\",\"brilliant\",\"informal\",\"arise\",\"reverse\",\"survival\",\"sometime\",\"sincere\",\"informed\",\"adults\",\"get_rid\",\"assignments\",\"app\",\"hall\",\"cook\",\"malaysia\",\"hour\",\"tribe\",\"winter\",\"entirely\",\"leader\",\"tired\",\"humility\",\"multiple_identities\",\"shanghai_international_studies_university\",\"favourite\",\"exchange_student\",\"path\",\"futurelearn\",\"en\",\"worry\",\"fascinated\",\"believed\",\"incredible\",\"statement\",\"push\",\"force\",\"fundamental\",\"companies\",\"regular\",\"welsh\",\"tourism\",\"undergraduate\",\"opening\",\"taboo\",\"benefits\",\"concern\",\"detailed\",\"method\",\"biased\",\"quick\",\"queue\",\"determined\",\"outlook\",\"shocks\",\"test\",\"wider\",\"fashion\",\"uncertainty\",\"interpret\",\"judgement\",\"okay\",\"broaden\",\"reduce\",\"interpretation\",\"assuming\",\"hofstede\",\"frame\",\"worker\",\"eduardo\",\"bubble\",\"homeland\",\"reviews\",\"mum\",\"marketing\",\"market\",\"priority\",\"stronger\",\"misunderstood\",\"colombia\",\"shanghainese\",\"modesty\",\"graduated\",\"surface\",\"attending\",\"colour\",\"smart\",\"struggling\",\"origins\",\"empty\",\"superior\",\"co\",\"football\",\"argue\",\"worried\",\"tokyo\",\"function\",\"museum\",\"psychology\",\"spot\",\"straightforward\",\"mental\",\"acquaintances\",\"connections\",\"typically\",\"punctuality\",\"explicit\",\"failed\",\"uniqueness\",\"rome\",\"feet\",\"internal\",\"intention\",\"literally\",\"gathering\",\"overwhelmed\",\"doctor\",\"enhance\",\"fight\",\"chapter\",\"objectives\",\"able_recognize\",\"vietnamese\",\"comparing\",\"suggested\",\"welcoming\",\"globe\",\"dress\",\"friendships\",\"minute\",\"pleasant\",\"responses\",\"starts\",\"australians\",\"vision\",\"airport\",\"values_might_underlie\",\"dialects\",\"translation\",\"positively\",\"extreme\",\"ancestors\",\"lovely\",\"small_village\",\"blend\",\"element\",\"introvert\",\"relating\",\"frequently\",\"fond\",\"distinct\",\"church\",\"shopping\",\"closeness\",\"mooc\",\"saudi_arabia\",\"relative\",\"punctual\",\"latin\",\"vital\",\"homesick\",\"referring\",\"strict\",\"phenomenon\",\"bank\",\"touched\",\"achievement\",\"anger\",\"scholars\",\"frameworks\",\"range\",\"vietnam\",\"loves\",\"presence\",\"countryside\",\"admit\",\"chose\",\"elderly\",\"odd\",\"thats\",\"citizens\",\"led\",\"keen\",\"youth\",\"refer\",\"caribbean\",\"dark\",\"interculture\",\"spaces\",\"catch\",\"wherever\",\"christmas\",\"sun\",\"search\",\"depth\",\"points_view\",\"stopped\",\"wiert\",\"accurate\",\"none\",\"properly\",\"clarify\",\"facebook\",\"encouraged\",\"rely\",\"exists\",\"mindful\",\"approaches\",\"unable\",\"cues\",\"lower\",\"silences\",\"wanting\",\"increase\",\"adventure\",\"races\",\"offend\",\"adjusting\",\"blood\",\"boyfriend\",\"dad\",\"embarrassed\",\"finland\",\"twice\",\"official\",\"fresh\",\"ethnicity\",\"mandarin\",\"new_york\",\"parent\",\"adaptable\",\"senses\",\"extra\",\"reviewing\",\"analyze\",\"atmosphere\",\"subjects\",\"latter\",\"introduce\",\"frustration\",\"courage\",\"product\",\"enlightening\",\"journalism\",\"relax\",\"priorities\",\"sleep\",\"constant\",\"mobile\",\"efficiency\",\"calendars\",\"varied\",\"impressive\",\"receive\",\"raise\",\"rewarding\",\"attended\",\"science\",\"isolated\",\"korea\",\"hot\",\"cope\",\"speaks\",\"messages\",\"traffic\",\"ancient\",\"regards\",\"volunteer\",\"built\",\"afterwards\",\"linguistics\",\"luggage\",\"represent\",\"added\",\"jobs\",\"hair\",\"personalities\",\"tips\",\"chen_li\",\"meals\",\"touching\",\"chatting\",\"energy\",\"physically\",\"computer\",\"preferred\",\"educator\",\"proper\",\"held\",\"drive\",\"choices\",\"nonverbal\",\"highlight\",\"incident\",\"eye\",\"engaging\",\"managed\",\"respected\",\"birth\",\"somewhat\",\"associated\",\"far_away\",\"established\",\"senior\",\"argentina\",\"location\",\"ground\",\"hate\",\"poetry\",\"partly\",\"disappointment\",\"fairly\",\"initially\",\"accustomed\",\"formed\",\"environments\",\"norm\",\"affects\",\"possibility\",\"save\",\"map\",\"minded\",\"observations\",\"individualist\",\"reminders\",\"progress\",\"occasions\",\"spiritual\",\"africans\",\"appears\",\"cooperation\",\"upbringing\",\"ukrainian\",\"negotiate\",\"introduction\",\"providing\",\"send\",\"medical\",\"conservative\",\"differs\",\"returned\",\"shift\",\"red\",\"tries\",\"answers\",\"attend\",\"account\",\"mainland\",\"mistake\",\"reflecting\",\"linked\",\"economic\",\"survive\",\"hierarchy\",\"settings\",\"border\",\"salient\",\"listener\",\"describes\",\"beauty\",\"long_term\",\"individualism_collectivism\",\"encourage\",\"annoyed\",\"skill\",\"tendency\",\"offered\",\"classroom\",\"prof\",\"recommend\",\"holidays\",\"outcome\",\"phd\",\"reveal\",\"gone\",\"healthy\",\"italians\",\"per\",\"reflects\",\"cut\",\"pride\",\"whose\",\"depend\",\"effects\",\"extended\",\"iran\",\"jokes\",\"moral\",\"tends\",\"makeup\",\"united_states\",\"immigrants\",\"common_ground\",\"invite\",\"hello_name\",\"surrounding\",\"subway\",\"subtle\",\"drink\",\"difficulty\",\"directness\",\"eye_contact\",\"outgoing\",\"efforts\",\"joined\",\"moscow\",\"theories\",\"continent\",\"commitment\",\"custom\",\"rarely\",\"reference\",\"reflected\",\"bridge\",\"viewed\",\"previously\",\"animals\",\"acting\",\"anne\",\"agreement\",\"etic_emic\",\"keeps\",\"greeting\",\"rights\",\"failure\",\"digital\",\"holiday\",\"seriously\",\"semester\",\"arriving\",\"text\",\"defines\",\"russians\",\"reactions\",\"middle_east\",\"recognise\",\"road\",\"last_year\",\"detail\",\"followed\",\"attempt\",\"includes\",\"shape\",\"planner\",\"risk\",\"standards\",\"elder\",\"unconsciously\",\"rice\",\"condition\",\"harder\",\"dance\",\"mood\",\"desire\",\"distinction\",\"intimate\",\"mr_chen\",\"seldom\",\"discovered\",\"opened\",\"toward\",\"effectively\",\"service\",\"barrier\",\"grandmother\",\"muslims\",\"loving\",\"actual\",\"ukraine\",\"hotel\",\"boys\",\"sweet\",\"arts\",\"definitions\",\"generations\",\"mode\",\"dishes\",\"poems\",\"mr\",\"intentions\",\"contrary\",\"smaller\",\"talks\",\"pass\",\"creates\",\"verbal\",\"sentence\",\"shoes\",\"voice\",\"dream\",\"crazy\",\"uses\",\"seats\",\"universities\",\"email\",\"thailand\",\"valued\",\"entering\",\"ignore\",\"ahead\",\"showed\",\"frustrating\",\"expressing\",\"grandfather\",\"noisy\",\"earth\",\"speaker\",\"tough\",\"occur\",\"cool\",\"refers\",\"disappointed\",\"closely\",\"indians\",\"defined\",\"emphasis\",\"enter\",\"identified\",\"dominant\",\"historical\",\"emphasize\",\"hurt\",\"carefully\",\"adapted\",\"worse\",\"moreover\",\"access\",\"peers\",\"characteristic\",\"conclusion\",\"combination\",\"thoughtful\",\"minds\",\"loyalty\",\"pm\",\"reminder\",\"safety\",\"stick\",\"sameness\",\"iceberg\",\"larger\",\"streets\",\"power_distance\",\"discomfort\",\"paris\",\"sports\",\"skin\",\"suggestions\",\"greece\",\"separate\",\"emotion\",\"establish\",\"social_media\",\"bias\",\"spending\",\"states\",\"openly\",\"resources\",\"base\",\"organized\",\"forms\",\"description\",\"solution\",\"master\",\"socially\",\"basically\",\"traveller\",\"quote\",\"adult\",\"broad\",\"adopt\",\"offensive\",\"plays\",\"onion_metaphor\",\"recent\",\"surely\",\"fixed\",\"face_face\",\"draw\",\"illustrate\",\"anywhere\",\"favorite\",\"canadian\",\"professors\",\"adopted\",\"developing\",\"fair\",\"sea\",\"human_beings\",\"solve\",\"evening\",\"lonely\",\"oneself\",\"interpersonal\",\"ask_questions\",\"greatly\",\"wide\",\"lunch\",\"granted\",\"caring\",\"contacts\",\"mom\",\"fall\",\"missing\",\"enriching\",\"nearly\",\"circle\",\"growth\",\"required\",\"formal\",\"germans\",\"naturally\",\"organize\",\"section\",\"page\",\"success\",\"humanity\",\"likes\",\"stage\",\"dr\",\"stranger\",\"weekend\",\"happening\",\"decisions\",\"tunisia\",\"greet\",\"preference\",\"tells\",\"kiss\",\"encountered\",\"de\",\"weird\",\"buy\",\"provides\",\"unexpected\",\"exciting\",\"switzerland\",\"clothes\",\"suitcase\",\"arab\",\"zhang\",\"comparison\",\"air\",\"conditions\",\"singapore\",\"processes\",\"relatively\",\"potential\",\"manager\",\"coffee\",\"confident\",\"westerners\",\"writer\",\"guest\",\"appearance\",\"creating\",\"wear\",\"variety\",\"soul\",\"usual\",\"worth\",\"film\",\"happiness\",\"security\",\"linguistic\",\"traveled\",\"slightly\",\"ended\",\"till\",\"taste\",\"flexibility\",\"specially\",\"minority\",\"openness\",\"hearing\",\"kid\",\"visitors\",\"initial\",\"amount\",\"wedding\",\"calm\",\"closed\",\"hospitality\",\"offended\",\"brain\",\"perfectly\",\"distinguish\",\"noted\",\"leads\",\"restaurant\",\"focusing\",\"wilson\",\"lessons\",\"planned\",\"greek\",\"car\",\"knows\",\"manners\",\"impolite\",\"forced\",\"treated\",\"included\",\"available\",\"equally\",\"confidence\",\"meanings\",\"vary\",\"discussed\",\"decide\",\"explaining\",\"elders\",\"seat\",\"missed\",\"practices\",\"health\",\"lose\",\"objective\",\"wearing\",\"stated\",\"introduced\",\"standard\",\"crucial\",\"standing\",\"respond\",\"peoples\",\"preferences\",\"gestures\",\"etic\",\"adjustment\",\"overseas\",\"collectivist\",\"appear\",\"faith\",\"passion\",\"popular\",\"except\",\"decision\",\"greater\",\"realised\",\"rural\",\"poland\",\"polish\",\"grandparents\",\"reader\",\"summary\",\"reminded\",\"inter\",\"catholic\",\"europeans\",\"treat\",\"outsider\",\"capital\",\"possibly\",\"manner\",\"universal\",\"diary\",\"dialogue\",\"religions\",\"paul\",\"acceptance\",\"provided\",\"boundaries\",\"address\",\"spoken\",\"respecting\",\"behaviours\",\"angry\",\"prejudices\",\"brazilian\",\"organization\",\"conscious\",\"laugh\",\"rule\",\"discussing\",\"source\",\"chat\",\"addition\",\"belongs\",\"remind\",\"contrast\",\"noise\",\"links\",\"locals\",\"staying\",\"sound\",\"accent\",\"someone_else\",\"responsible\",\"regard\",\"insight\",\"significant\",\"anymore\",\"appreciated\",\"nigeria\",\"non_verbal\",\"original\",\"normally\",\"assumed\",\"matters\",\"scotland\",\"forward\",\"pleasure\",\"surprise\",\"figure\",\"characters\",\"limited\",\"communicative\",\"playing\",\"indonesian\",\"framework\",\"basis\",\"structure\",\"inspiring\",\"struggle\",\"higher\",\"equality\",\"high_school\",\"memory\",\"confusion\",\"tea\",\"movies\",\"platform\",\"graduate\",\"politics\",\"active\",\"population\",\"cooking\",\"program\",\"schools\",\"comfort\",\"effect\",\"factor\",\"turned\",\"observing\",\"surroundings\",\"awkward\",\"fine\",\"throughout\",\"articles\",\"layer\",\"majority\",\"single_story\",\"intergroup_contact\",\"proxemics\",\"discussions\",\"south_africa\",\"originally\",\"globalization\",\"relaxed\",\"government\",\"observed\",\"unknown\",\"regardless\",\"confusing\",\"syria\",\"critical\",\"focused\",\"belgium\",\"indigenous\",\"looked\",\"belief\",\"news\",\"patience\",\"pressure\",\"independence\",\"seeking\",\"impressed\",\"mutual\",\"reserved\",\"begin\",\"remain\",\"workplace\",\"model\",\"excellent\",\"fan\",\"parties\",\"items\",\"psychological\",\"allows\",\"nobody\",\"notebook\",\"influential\",\"scale\",\"stayed\",\"dialect\",\"affected\",\"agreed\",\"guys\",\"pay\",\"received\",\"partner\",\"groningen\",\"hopefully\",\"belonging\",\"frustrated\",\"gradually\",\"putting\",\"grateful\",\"lifestyle\",\"serious\",\"lady\",\"bigger\",\"ease\",\"body_language\",\"doubt\",\"tv\",\"expecting\",\"relevant\",\"bringing\",\"suggest\",\"names\",\"careful\",\"haha\",\"impression\",\"constantly\",\"created\",\"react\",\"perfect\",\"described\",\"roles\",\"applied\",\"efficient\",\"embrace\",\"control\",\"warm\",\"supposed\",\"educational\",\"purpose\",\"consideration\",\"irish\",\"look_forward\",\"door\",\"turkish\",\"pick\",\"emotional\",\"slow\",\"results\",\"run\",\"hoping\",\"upon\",\"small_town\",\"whilst\",\"guide\",\"male\",\"land\",\"waiting\",\"slowly\",\"wondering\",\"event\",\"message\",\"quality\",\"somewhere\",\"famous\",\"concerned\",\"insightful\",\"meant\",\"scottish\",\"trouble\",\"finished\",\"sensitivity\",\"creative\",\"eventually\",\"song\",\"adapting\",\"seek\",\"younger\",\"compared\",\"lucky\",\"brings\",\"th\",\"crowded\",\"enjoying\",\"girls\",\"central\",\"action\",\"sad\",\"island\",\"ethnic\",\"guests\",\"material\",\"cold\",\"politeness\",\"arrive\",\"egypt\",\"differ\",\"loud\",\"powerful\",\"dimension\",\"excited\",\"feature\",\"insights\",\"dynamic\",\"passionate\",\"advance\",\"biggest\",\"fellow\",\"educated\",\"grown\",\"internet\",\"accepting\",\"successful\",\"image\",\"com\",\"wang\",\"habit\",\"patient\",\"emic\",\"collective\",\"shy\",\"www\",\"requires\",\"britain\",\"hands\",\"moments\",\"barriers\",\"emotions\",\"holland\",\"categories\",\"classes\",\"current\",\"equal\",\"foreigner\",\"staff\",\"lines\",\"offer\",\"war\",\"kinds\",\"complicated\",\"childhood\",\"began\",\"ireland\",\"nations\",\"refugees\",\"necessarily\",\"content\",\"engage\",\"indirect\",\"communities\",\"reaction\",\"morning\",\"considering\",\"boy\",\"america\",\"encounters\",\"race\",\"expressed\",\"immediately\",\"shaped\",\"steps\",\"light\",\"upset\",\"valuable\",\"kept\",\"conversations\",\"unfamiliar\",\"stereotype\",\"handle\",\"talked\",\"hong_kong\",\"practical\",\"suddenly\",\"details\",\"apply\",\"tool\",\"marriage\",\"activity\",\"picture\",\"integrity\",\"lesson\",\"telling\",\"arrived\",\"facing\",\"origin\",\"apart\",\"allowed\",\"faced\",\"reply\",\"hardly\",\"straight\",\"lists\",\"professor\",\"achieve\",\"mixture\",\"weather\",\"opposite\",\"exploring\",\"night\",\"expressions\",\"mistakes\",\"neither\",\"impossible\",\"summer\",\"benefit\",\"canada\",\"meaningful\",\"balance\",\"boss\",\"art\",\"manage\",\"park\",\"unless\",\"speech\",\"mindfulness\",\"brother\",\"korean\",\"wow\",\"exposed\",\"multiple\",\"poor\",\"include\",\"leaving\",\"caused\",\"response\",\"stuff\",\"gain\",\"decided\",\"interacting\",\"former\",\"strongly\",\"technology\",\"complete\",\"colleague\",\"carry\",\"harmony\",\"wrote\",\"curiosity\",\"showing\",\"inner\",\"watching\",\"gets\",\"mark\",\"beyond\",\"appointment\",\"assignment\",\"climate\",\"experiencing\",\"expectation\",\"truth\",\"obvious\",\"sign\",\"privacy\",\"analysis\",\"explained\",\"yeah\",\"acceptable\",\"classmates\",\"maintain\",\"hidden\",\"feedback\",\"observation\",\"sort\",\"somebody\",\"street\",\"walking\",\"pay_attention\",\"goals\",\"invited\",\"return\",\"americans\",\"reflection\",\"term\",\"connection\",\"fish\",\"discover\",\"ago\",\"steve\",\"regions\",\"guy\",\"low\",\"gap\",\"whenever\",\"helping\",\"dont\",\"discrimination\",\"village\",\"impact\",\"bus\",\"wait\",\"spoke\",\"meal\",\"becoming\",\"characteristics\",\"opportunities\",\"competence\",\"god\",\"black\",\"hours\",\"setting\",\"break\",\"societies\",\"perceived\",\"participants\",\"independent\",\"building\",\"affect\",\"check\",\"overcome\",\"academic\",\"turkey\",\"southern\",\"advice\",\"relations\",\"indonesia\",\"safe\",\"tradition\",\"explanation\",\"humans\",\"developed\",\"absolutely\",\"extremely\",\"starting\",\"nice_meet\",\"media\",\"allow\",\"eating\",\"ability\",\"perceptions\",\"management\",\"month\",\"sides\",\"whereas\",\"review\",\"else\",\"examples\",\"reach\",\"law\",\"circumstances\",\"body\",\"ms_smith\",\"train\",\"nationalities\",\"obviously\",\"totally_agree\",\"actions\",\"learners\",\"soon\",\"educators\",\"connect\",\"appropriate\",\"prepare\",\"physical\",\"sitting\",\"assume\",\"status\",\"walk\",\"previous\",\"five\",\"expression\",\"minutes\",\"whatever\",\"continue\",\"assumptions\",\"difficulties\",\"thinks\",\"agenda\",\"hello_everyone\",\"interests\",\"recognize\",\"essential\",\"miss\",\"loved\",\"years_old\",\"basic\",\"sounds\",\"sorry\",\"individualistic\",\"eager\",\"everywhere\",\"mention\",\"longer\",\"types\",\"persons\",\"reality\",\"relatives\",\"host\",\"regarding\",\"citizen\",\"finish\",\"earlier\",\"beatrice\",\"schedule\",\"province\",\"conflicts\",\"orientation\",\"oh\",\"east\",\"challenges\",\"otherwise\",\"character\",\"looks\",\"define\",\"compare\",\"dinner\",\"middle\",\"anyway\",\"member\",\"highly\",\"arabic\",\"brazil\",\"multi\",\"literature\",\"extent\",\"discuss\",\"sister\",\"goal\",\"rest\",\"notes\",\"provide\",\"prepared\",\"variations\",\"influences\",\"visiting\",\"travelled\",\"forget\",\"unfortunately\",\"suppose\",\"subjective\",\"deeply\",\"training\",\"besides\",\"everybody\",\"son\",\"exist\",\"party\",\"heritage\",\"opinions\",\"imagine\",\"journey\",\"tools\",\"political\",\"subject\",\"modern\",\"early\",\"adaptation\",\"career\",\"busy\",\"seemed\",\"australian\",\"quiet\",\"online\",\"patterns\",\"connected\",\"perceive\",\"daily_life\",\"elements\",\"mexican\",\"single\",\"front\",\"kindness\",\"families\",\"realise\",\"respectful\",\"including\",\"spend\",\"layers\",\"four\",\"monochronic\",\"top\",\"ready\",\"likely\",\"correct\",\"shocked\",\"office\",\"cities\",\"written\",\"levels\",\"relation\",\"fascinating\",\"fast\",\"appointments\",\"turn\",\"reminds\",\"learner\",\"project\",\"features\",\"traits\",\"fear\",\"traveling\",\"meetings\",\"plans\",\"link\",\"funny\",\"hold\",\"exercise\",\"following\",\"growing\",\"months\",\"onion\",\"empathy\",\"courses\",\"little_bit\",\"stop\",\"individualism\",\"taken\",\"number\",\"eastern\",\"strangers\",\"areas\",\"truly\",\"keeping\",\"ok\",\"judge\",\"present\",\"quickly\",\"accepted\",\"freedom\",\"finding\",\"trust\",\"paper\",\"certainly\",\"afraid\",\"differently\",\"half\",\"describe\",\"particularly\",\"mainly\",\"despite\",\"confused\",\"topics\",\"involved\",\"position\",\"effort\",\"choice\",\"older\",\"similarities\",\"christian\",\"core\",\"watch\",\"stress\",\"behave\",\"feels\",\"nowadays\",\"negative\",\"head\",\"cases\",\"observe\",\"becomes\",\"saturday\",\"books\",\"large\",\"norms\",\"system\",\"goes\",\"factors\",\"mr_zhao\",\"challenging\",\"visited\",\"wish\",\"marcus\",\"nationality\",\"period\",\"pretty\",\"kids\",\"grow\",\"diverse\",\"white\",\"female\",\"field\",\"money\",\"saw\",\"london\",\"lost\",\"non\",\"learnt\",\"line\",\"inside\",\"add\",\"northern\",\"somehow\",\"peace\",\"tolerant\",\"concepts\",\"polychronic\",\"works\",\"seeing\",\"mixed\",\"gender\",\"effective\",\"metaphor\",\"instance\",\"build\",\"join\",\"dimensions\",\"development\",\"liked\",\"fully\",\"west\",\"room\",\"says\",\"near\",\"dealing\",\"attention\",\"events\",\"complex\",\"gave\",\"responsibility\",\"develop\",\"views\",\"stereotypes\",\"oriented\",\"directly\",\"discussion\",\"prejudice\",\"poem\",\"perspectives\",\"points\",\"explore\",\"degree\",\"encounter\",\"recently\",\"asia\",\"thus\",\"dear\",\"exactly\",\"point_view\",\"eyes\",\"special\",\"reasons\",\"table\",\"thanks_sharing\",\"generation\",\"planning\",\"attitudes\",\"nation\",\"daily\",\"rich\",\"comfort_zone\",\"fun\",\"college\",\"raised\",\"shows\",\"finally\",\"vs\",\"video\",\"set\",\"behind\",\"theory\",\"silent\",\"born_raised\",\"tolerance\",\"usa\",\"proud\",\"state\",\"communications\",\"global\",\"third\",\"fit\",\"couple\",\"moving\",\"depending\",\"huge\",\"late\",\"support\",\"natural\",\"collectivism\",\"challenge\",\"anyone\",\"willing\",\"members\",\"belong\",\"post\",\"gives\",\"australia\",\"professional\",\"polite\",\"surprising\",\"stand\",\"mexico\",\"short\",\"flexible\",\"weeks\",\"known\",\"sisu\",\"phone\",\"contexts\",\"friendship\",\"travelling\",\"giving\",\"rude\",\"wants\",\"relate\",\"glad\",\"trip\",\"improve\",\"mix\",\"hometown\",\"behaviors\",\"calendar\",\"hc_lc\",\"town\",\"takes\",\"teach\",\"roots\",\"leave\",\"result\",\"sit\",\"andy\",\"issue\",\"cause\",\"region\",\"individuals\",\"practice\",\"interactions\",\"touch\",\"currently\",\"honest\",\"foreigners\",\"everyday\",\"tasks\",\"task\",\"follow\",\"major\",\"play\",\"native\",\"lots\",\"knew\",\"exchange\",\"please\",\"needed\",\"lead\",\"unique\",\"generally\",\"muslim\",\"traditional\",\"lover\",\"act\",\"religious\",\"taught\",\"realized\",\"note\",\"asking\",\"activities\",\"closer\",\"lives\",\"power\",\"influenced\",\"happened\",\"beliefs\",\"dr_johnson\",\"beautiful\",\"heard\",\"conflict\",\"africa\",\"simple\",\"enjoyed\",\"reflect\",\"smile\",\"heart\",\"wife\",\"sensitive\",\"expected\",\"simply\",\"changes\",\"mine\",\"happen\",\"move\",\"african\",\"typical\",\"wonder\",\"became\",\"notice\",\"habits\",\"traditions\",\"changed\",\"area\",\"changing\",\"beginning\",\"depends\",\"indeed\",\"free\",\"writing\",\"full\",\"listening\",\"happens\",\"dr_chen\",\"deeper\",\"years_ago\",\"parts\",\"national\",\"customs\",\"listen\",\"definition\",\"create\",\"according\",\"honesty\",\"care\",\"spent\",\"particular\",\"issues\",\"brought\",\"married\",\"hear\",\"private\",\"main\",\"role\",\"perception\",\"research\",\"tried\",\"open_minded\",\"call\",\"adjust\",\"high\",\"step\",\"water\",\"aspect\",\"focus\",\"book\",\"rules\",\"bring\",\"identify\",\"high_context\",\"clearly\",\"realize\",\"skills\",\"nothing\",\"men\",\"deep\",\"ever\",\"attitude\",\"teachers\",\"teaching\",\"house\",\"key\",\"studied\",\"necessary\",\"given\",\"colleagues\",\"choose\",\"studies\",\"eat\",\"strange\",\"lack\",\"visit\",\"past\",\"meaning\",\"totally\",\"company\",\"diversity\",\"familiar\",\"indian\",\"music\",\"distance\",\"public\",\"anything\",\"personality\",\"child\",\"today\",\"personally\",\"write\",\"normal\",\"towards\",\"asian\",\"interest\",\"low_context\",\"considered\",\"expect\",\"japan\",\"plan\",\"knowing\",\"bad\",\"team\",\"therefore\",\"alone\",\"word\",\"took\",\"welcome\",\"chance\",\"multicultural\",\"spain\",\"topic\",\"mentioned\",\"friendly\",\"general\",\"helped\",\"ones\",\"positive\",\"north\",\"russia\",\"express\",\"ic\",\"influence\",\"interact\",\"husband\",\"noticed\",\"surprised\",\"amazing\",\"approach\",\"concept\",\"wonderful\",\"uncomfortable\",\"form\",\"fish_water\",\"mostly\",\"questions\",\"looking_forward\",\"feelings\",\"importance\",\"days\",\"left\",\"seem\",\"various\",\"easily\",\"culturally\",\"related\",\"seen\",\"looking\",\"called\",\"instead\",\"interaction\",\"matter\",\"south\",\"outside\",\"problems\",\"japanese\",\"whether\",\"three\",\"saying\",\"relationships\",\"easier\",\"wanted\",\"specific\",\"definitely\",\"taking\",\"understood\",\"answer\",\"behaviour\",\"daughter\",\"chen_lin\",\"cannot\",\"thoughts\",\"shared\",\"explain\",\"curious\",\"italy\",\"worked\",\"either\",\"awareness\",\"terms\",\"religion\",\"completely\",\"coming\",\"using\",\"wrong\",\"reason\",\"women\",\"old\",\"opportunity\",\"away\",\"cross\",\"backgrounds\",\"across\",\"face\",\"education\",\"almost\",\"nature\",\"based\",\"stay\",\"behavior\",\"deal\",\"asked\",\"styles\",\"conversation\",\"age\",\"moment\",\"real\",\"view\",\"whole\",\"perspective\",\"baggage\",\"appreciate\",\"accept\",\"contact\",\"needs\",\"class\",\"direct\",\"netherlands\",\"later\",\"russian\",\"communicating\",\"italian\",\"level\",\"yet\",\"england\",\"grew\",\"community\",\"among\",\"experienced\",\"useful\",\"along\",\"avoid\",\"future\",\"told\",\"strong\",\"guess\",\"american\",\"end\",\"making\",\"stories\",\"far\",\"several\",\"places\",\"met\",\"perhaps\",\"due\",\"children\",\"girl\",\"france\",\"father\",\"already\",\"comment\",\"shanghai\",\"second\",\"hello\",\"spanish\",\"information\",\"enough\",\"europe\",\"studying\",\"ideas\",\"least\",\"aspects\",\"comfortable\",\"british\",\"speaking\",\"side\",\"put\",\"young\",\"comments\",\"moved\",\"happy\",\"mr_wilson\",\"possible\",\"expectations\",\"last\",\"man\",\"local\",\"individual\",\"germany\",\"european\",\"consider\",\"getting\",\"job\",\"list\",\"comes\",\"woman\",\"sharing\",\"opinion\",\"probably\",\"name\",\"travel\",\"show\",\"next\",\"problem\",\"self\",\"easy\",\"uk\",\"start\",\"remember\",\"within\",\"article\",\"let\",\"started\",\"usually\",\"adapt\",\"history\",\"hand\",\"order\",\"bit\",\"tell\",\"western\",\"done\",\"reading\",\"foreign\",\"less\",\"went\",\"helpful\",\"clear\",\"enjoy\",\"international\",\"human\",\"helps\",\"mother\",\"meeting\",\"small\",\"business\",\"true\",\"school\",\"prefer\",\"story\",\"nice\",\"certain\",\"abroad\",\"french\",\"situations\",\"india\",\"big\",\"idea\",\"mean\",\"talking\",\"got\",\"ask\",\"mr_wang\",\"trying\",\"close\",\"year\",\"lc\",\"look\",\"society\",\"type\",\"relationship\",\"rather\",\"similar\",\"languages\",\"learned\",\"knowledge\",\"thinking\",\"give\",\"hc\",\"teacher\",\"must\",\"although\",\"question\",\"sense\",\"ways\",\"came\",\"sure\",\"feeling\",\"style\",\"aware\",\"process\",\"become\",\"dutch\",\"fact\",\"everything\",\"german\",\"means\",\"difference\",\"tend\",\"times\",\"seems\",\"able\",\"makes\",\"university\",\"words\",\"together\",\"parents\",\"point\",\"long\",\"meet\",\"little\",\"groups\",\"interested\",\"etc\",\"said\",\"believe\",\"student\",\"thought\",\"read\",\"context\",\"case\",\"actually\",\"change\",\"lived\",\"open\",\"space\",\"experiences\",\"background\",\"city\",\"everyone\",\"identities\",\"environment\",\"keep\",\"going\",\"hard\",\"study\",\"yes\",\"born\",\"difficult\",\"back\",\"common\",\"felt\",\"chen\",\"kind\",\"right\",\"share\",\"friend\",\"hope\",\"speak\",\"made\",\"food\",\"silence\",\"week\",\"best\",\"shock\",\"though\",\"since\",\"without\",\"especially\",\"found\",\"around\",\"working\",\"someone\",\"talk\",\"mind\",\"value\",\"communicate\",\"every\",\"thing\",\"day\",\"however\",\"students\",\"home\",\"maybe\",\"might\",\"agree\",\"never\",\"come\",\"living\",\"situation\",\"take\",\"example\",\"place\",\"often\",\"quite\",\"great\",\"years\",\"understanding\",\"used\",\"social\",\"respect\",\"thanks\",\"hi\",\"love\",\"go\",\"try\",\"still\",\"learning\",\"want\",\"countries\",\"markus\",\"help\",\"two\",\"another\",\"part\",\"live\",\"thank\",\"something\",\"english\",\"better\",\"use\",\"need\",\"group\",\"personal\",\"china\",\"say\",\"find\",\"sometimes\",\"see\",\"differences\",\"interesting\",\"identity\",\"world\",\"make\",\"experience\",\"could\",\"language\",\"lot\",\"friends\",\"learn\",\"get\",\"always\",\"chinese\",\"family\",\"values\",\"well\",\"person\",\"may\",\"much\",\"life\",\"first\",\"work\",\"country\",\"things\",\"feel\",\"understand\",\"new\",\"good\",\"really\",\"even\",\"important\",\"intercultural\",\"course\",\"others\",\"many\",\"way\",\"us\",\"know\",\"cultures\",\"would\",\"also\",\"communication\",\"time\",\"one\",\"like\",\"think\",\"cultural\",\"different\",\"culture\",\"people\"],\"word\":[\"pens\",\"snake\",\"hindsight\",\"competently\",\"safecreative\",\"mario\",\"oceania\",\"gentlemen\",\"hollywood\",\"possessing\",\"enthralling\",\"broadens\",\"surendra\",\"complemented\",\"embarassing\",\"distressed\",\"inteligence\",\"iq\",\"explosive\",\"informally\",\"notable\",\"gracious\",\"sourse\",\"ironing\",\"bookstore\",\"sais\",\"precision\",\"granting\",\"uncompleted\",\"cultivates\",\"culrural\",\"mathematician\",\"mornings\",\"malayalam\",\"hindi\",\"ji\",\"textbooks\",\"heterogeneous\",\"credible\",\"embarrasing\",\"forcefully\",\"multimedia\",\"yeast\",\"toast\",\"thrill\",\"sail\",\"personalty\",\"kosovo\",\"operators\",\"blink\",\"posses\",\"intolerable\",\"tatiana\",\"seasoned\",\"changer\",\"djibouti\",\"engrossing\",\"coverings\",\"mimicking\",\"rhine\",\"alpine\",\"descended\",\"farthest\",\"migrations\",\"xenophobia\",\"brow\",\"dictatorship\",\"xenophobic\",\"cleaners\",\"mow\",\"lawns\",\"carole\",\"obeyed\",\"inquiring\",\"dipping\",\"karnataka\",\"konkani\",\"fusha\",\"abt\",\"bordeaux\",\"vinnitca\",\"personalised\",\"emmanuel\",\"transferring\",\"clifford\",\"normandy\",\"redundant\",\"formerly\",\"calcutta\",\"ukraina\",\"castes\",\"reflexion\",\"rebellions\",\"styled\",\"jilin\",\"forums\",\"kolnyang\",\"nilotic\",\"garang\",\"bali\",\"subsistence\",\"nominally\",\"malign\",\"psychiatrist\",\"expend\",\"fade\",\"scotsman\",\"europa\",\"confidentiality\",\"sigh\",\"valentine\",\"optionally\",\"foto\",\"careers\",\"quantities\",\"scars\",\"baffling\",\"benin\",\"specialised\",\"blogs\",\"equipment\",\"summarising\",\"weblink\",\"endeavour\",\"laoshi\",\"ascendants\",\"luxembourgish\",\"possibilty\",\"worldviews\",\"luo\",\"jajaja\",\"compostela\",\"dictate\",\"culteral\",\"drank\",\"peacefull\",\"ai\",\"whomever\",\"siri\",\"costarican\",\"nicaragua\",\"retiree\",\"transactions\",\"intj\",\"dragging\",\"internalizing\",\"profs\",\"carols\",\"regiones\",\"categorise\",\"employs\",\"ta\",\"lasted\",\"bedding\",\"apac\",\"awarness\",\"identies\",\"minus\",\"colonisers\",\"seventeen\",\"woodley\",\"pioneer\",\"workstation\",\"subcultural\",\"koert\",\"expansion\",\"stille\",\"kracht\",\"beautifull\",\"diffference\",\"vitor\",\"brasil\",\"remotely\",\"glued\",\"whys\",\"communicstion\",\"pretoria\",\"sicily\",\"ooh\",\"conforming\",\"funding\",\"lodz\",\"hague\",\"fot\",\"ol\",\"sparked\",\"somthing\",\"antidote\",\"extremism\",\"contentious\",\"hilary\",\"microcosm\",\"arina\",\"clerks\",\"kibbutz\",\"shoot\",\"fascist\",\"traverse\",\"illuminate\",\"purple\",\"dearest\",\"paternally\",\"quarters\",\"grasps\",\"foresee\",\"liv\",\"afganistan\",\"pecularities\",\"esol\",\"crimean\",\"catches\",\"whanau\",\"whist\",\"recap\",\"coincidentally\",\"cologne\",\"differentiates\",\"impart\",\"priviledge\",\"unthinkable\",\"netherland\",\"afer\",\"fugutive\",\"deceased\",\"sterotypes\",\"sauna\",\"bikini\",\"attendant\",\"panama\",\"sixteen\",\"frankfurt\",\"exhibitions\",\"debates\",\"transportations\",\"truism\",\"patrons\",\"willis\",\"symbiotic\",\"arguably\",\"reticent\",\"overshadowed\",\"johannesburg\",\"streaming\",\"labrador\",\"naughty\",\"unstoppable\",\"whiteness\",\"sussex\",\"iberian\",\"lustig\",\"geology\",\"forte\",\"oberg\",\"attendants\",\"servants\",\"sleeves\",\"downwards\",\"contests\",\"portland\",\"copiap\",\"paddy\",\"mango\",\"avakaya\",\"citation\",\"caracas\",\"extracurricular\",\"currency\",\"breakers\",\"iwona\",\"bowed\",\"mechanics\",\"teeage\",\"othe\",\"tier\",\"crab\",\"explanatory\",\"olympic\",\"earger\",\"posing\",\"myo\",\"nam\",\"hight\",\"xavier\",\"seafoods\",\"milano\",\"desribe\",\"pref\",\"mather\",\"upseting\",\"horrifying\",\"pike\",\"kenneth\",\"slot\",\"spices\",\"unlucky\",\"boundries\",\"togerther\",\"doen\",\"powerpoint\",\"qatari\",\"cofe\",\"kyiv\",\"thet\",\"musafaha\",\"takeaways\",\"speciality\",\"array\",\"optional\",\"shifted\",\"meld\",\"dipped\",\"cliche\",\"fulfilling\",\"prophecy\",\"perfectionism\",\"namibia\",\"cult\",\"bud\",\"definetely\",\"allotment\",\"hao\",\"encompassing\",\"crux\",\"attitudinal\",\"orphanage\",\"wecome\",\"pleasent\",\"shalwar\",\"kameez\",\"jeans\",\"childern\",\"roberto\",\"pubs\",\"imparting\",\"prefix\",\"incl\",\"receivers\",\"pokemon\",\"homecountry\",\"tackled\",\"relatedness\",\"struglle\",\"xiu\",\"theses\",\"classs\",\"enviorment\",\"puspo\",\"orientate\",\"estonia\",\"nytimes\",\"stamina\",\"intervene\",\"roberta\",\"bemused\",\"cupboard\",\"swears\",\"villagers\",\"pickled\",\"lightbulb\",\"brighter\",\"differenct\",\"federal\",\"almighty\",\"abdul\",\"demerits\",\"excepting\",\"emphasises\",\"frightened\",\"experimented\",\"satisfactory\",\"seventh\",\"interpretor\",\"jojo\",\"quirky\",\"endearing\",\"cooks\",\"xiexie\",\"reform\",\"spit\",\"browse\",\"jonglei\",\"dec\",\"notification\",\"liting\",\"iris\",\"mu\",\"cq\",\"accredited\",\"lanuguage\",\"luckly\",\"shen\",\"unawareness\",\"shaoxing\",\"coukd\",\"montenegrian\",\"bulgarian\",\"beleive\",\"tipically\",\"mockery\",\"walloon\",\"guangxi\",\"announcing\",\"bashkortostan\",\"abyss\",\"forged\",\"microscopic\",\"itec\",\"banking\",\"chartered\",\"crossroads\",\"matilde\",\"adrienne\",\"strained\",\"slovakian\",\"sardinia\",\"maltese\",\"drag\",\"tamerat\",\"dallas\",\"mahasarakham\",\"meaby\",\"belarus\",\"citizent\",\"ascribe\",\"columbians\",\"chagga\",\"ter\",\"grandson\",\"smiley\",\"harmeet\",\"nawabs\",\"lucknawi\",\"embroidery\",\"heartedly\",\"sikh\",\"curries\",\"puzzling\",\"onlooker\",\"nods\",\"emptying\",\"shakespeare\",\"jokingly\",\"overheard\",\"counsellor\",\"forma\",\"hama\",\"voronezh\",\"adapation\",\"realm\",\"nitty\",\"backpacking\",\"penpals\",\"proficiency\",\"sightseeing\",\"estai\",\"causeway\",\"unconstrained\",\"zealanders\",\"cringe\",\"stripped\",\"didin\",\"blinded\",\"biryani\",\"singaporeans\",\"shangai\",\"ascribed\",\"indiscernible\",\"heredity\",\"educations\",\"tapping\",\"opinionated\",\"perfume\",\"balls\",\"illogical\",\"mathematics\",\"sympaty\",\"pollution\",\"cocky\",\"drowning\",\"drown\",\"tooling\",\"mambo\",\"vp\",\"maasai\",\"cloth\",\"albert\",\"enterprise\",\"novelist\",\"pitches\",\"philippine\",\"dares\",\"informs\",\"lattakia\",\"inestimable\",\"imho\",\"layout\",\"yuliya\",\"chatted\",\"mute\",\"sanctuary\",\"fascinates\",\"als\",\"halal\",\"amused\",\"psycology\",\"overemphasized\",\"unpacked\",\"langage\",\"propably\",\"ankara\",\"aso\",\"tenants\",\"facilitators\",\"inercultural\",\"carlota\",\"bharata\",\"natyam\",\"madras\",\"neccesary\",\"findhorn\",\"solar\",\"bridegroom\",\"personable\",\"swearing\",\"bicycles\",\"excite\",\"mike\",\"gibraltar\",\"ghanaians\",\"tutted\",\"glances\",\"grumbling\",\"infos\",\"undoubtely\",\"expierence\",\"grants\",\"dr_dharm\",\"arabians\",\"depok\",\"betawinese\",\"multiculturally\",\"inflexibility\",\"opinin\",\"neapolitan\",\"humanitas\",\"longest\",\"stretchable\",\"understimated\",\"saarlouis\",\"ford\",\"motor\",\"antropology\",\"comenius\",\"skate\",\"merchant\",\"muted\",\"postgrad\",\"administrator\",\"replacement\",\"islamabad\",\"degradation\",\"flesh\",\"alicante\",\"ivory\",\"pyramids\",\"punctually\",\"biblical\",\"pennsylvania\",\"establishment\",\"vemos\",\"globalism\",\"marechaussee\",\"apeldoorn\",\"willem\",\"wenn\",\"resech\",\"buggage\",\"addresses\",\"mama\",\"flamboyant\",\"aus\",\"compliance\",\"belorussians\",\"arround\",\"zealands\",\"stall\",\"makers\",\"synergistic\",\"milton\",\"curios\",\"strolling\",\"libya\",\"varities\",\"unnecessarily\",\"excludes\",\"misguided\",\"libertarian\",\"futurist\",\"subotica\",\"oahu\",\"smattering\",\"samoa\",\"aforementioned\",\"espcially\",\"youtobia\",\"copies\",\"camla\",\"everithing\",\"tulips\",\"windmills\",\"lola\",\"stifling\",\"fishbowls\",\"prazer\",\"ultralight\",\"divali\",\"supplies\",\"luzio\",\"intergrate\",\"rumah\",\"betang\",\"cages\",\"rises\",\"notifying\",\"intra\",\"easterns\",\"fairer\",\"realistically\",\"alters\",\"hampered\",\"cabin\",\"interculteral\",\"presumptuous\",\"drawbacks\",\"jv\",\"sulk\",\"mente\",\"reap\",\"balkan\",\"articulation\",\"humbeling\",\"allah\",\"downside\",\"amnesty\",\"culural\",\"troublesome\",\"mindedly\",\"nut\",\"defenition\",\"champion\",\"weapon\",\"mutter\",\"constantinople\",\"identitary\",\"disheartening\",\"disdainful\",\"adultery\",\"posh\",\"nephew\",\"trooper\",\"render\",\"bearable\",\"cyrus\",\"cans\",\"murder\",\"weakens\",\"gong\",\"sandburg\",\"shores\",\"primal\",\"disapproving\",\"shorts\",\"tapas\",\"tortilla\",\"dane\",\"hull\",\"figuring\",\"intuitively\",\"cookie\",\"sinhalese\",\"sang\",\"athens\",\"theodota\",\"crop\",\"wallet\",\"meltinpot\",\"grandfhater\",\"greech\",\"alina\",\"miroir\",\"homme\",\"pouvantable\",\"regarde\",\"dans\",\"les\",\"tous\",\"droit\",\"bon\",\"immediatly\",\"tollerant\",\"unpeel\",\"explaning\",\"golfer\",\"aplogised\",\"simmilar\",\"identiy\",\"rex\",\"harrison\",\"stanley\",\"holloway\",\"vie\",\"aids\",\"feeing\",\"um\",\"distressing\",\"fulfills\",\"asma\",\"traditionals\",\"culturals\",\"breakthrough\",\"vilnius\",\"yuo\",\"interculutral\",\"sixth\",\"cooler\",\"spontanuous\",\"swift\",\"jovana\",\"shrug\",\"dutchy\",\"fryslan\",\"titled\",\"devalue\",\"awared\",\"paired\",\"hesitated\",\"monsters\",\"punjabi\",\"backgroung\",\"wuth\",\"expections\",\"merci\",\"breathed\",\"tounge\",\"dawn\",\"chinonso\",\"cameroonian\",\"beamer\",\"iss\",\"vhs\",\"cassette\",\"technician\",\"crave\",\"soo\",\"carer\",\"principled\",\"facade\",\"reincarnation\",\"ioana\",\"corpus\",\"proletariat\",\"natured\",\"authoritarian\",\"prizes\",\"pervasive\",\"planes\",\"honduran\",\"preschool\",\"genetically\",\"gracias\",\"regimen\",\"weaving\",\"repackaging\",\"acheive\",\"commentaries\",\"persuasion\",\"exercised\",\"harris\",\"communicatin\",\"unpunctuality\",\"hammer\",\"jung\",\"agnes\",\"harshly\",\"cools\",\"makuei\",\"phrased\",\"groupings\",\"outliers\",\"heightened\",\"bankers\",\"softwares\",\"preparedness\",\"flex\",\"xue\",\"lemon\",\"anxieties\",\"dispite\",\"osh\",\"interesing\",\"prism\",\"envisage\",\"unfairly\",\"comparable\",\"xin\",\"streams\",\"bewildering\",\"hails\",\"tagore\",\"acculturated\",\"leaps\",\"particiation\",\"cds\",\"dissent\",\"wiya\",\"limb\",\"quantify\",\"plot\",\"heavenly\",\"mediators\",\"dwell\",\"buzzwords\",\"dumb\",\"compatibility\",\"immersing\",\"starring\",\"rupert\",\"harbour\",\"australianness\",\"deficient\",\"recommanded\",\"freed\",\"mediated\",\"kurds\",\"jay\",\"surrender\",\"supposedly\",\"strife\",\"venn\",\"demographic\",\"severely\",\"azeri\",\"tabriz\",\"perceptual\",\"engelien\",\"jong\",\"penetrating\",\"elitist\",\"workawayers\",\"appropriateness\",\"painfull\",\"firs\",\"togather\",\"farah\",\"judith\",\"sheng\",\"zan\",\"caveats\",\"gorgeous\",\"cnn\",\"ecc\",\"setswana\",\"xhosa\",\"stamped\",\"distinguishable\",\"lest\",\"indicative\",\"northman\",\"jail\",\"nedal\",\"egyption\",\"odessa\",\"dared\",\"fox\",\"englishness\",\"shrewd\",\"optimum\",\"viable\",\"sapienza\",\"downstairs\",\"impossibile\",\"rudyard\",\"undesired\",\"privilage\",\"nicole\",\"earthquakes\",\"luxor\",\"coursework\",\"dweller\",\"exhaustion\",\"iat\",\"hahave\",\"unannounced\",\"andalusia\",\"unwell\",\"workteam\",\"cooperated\",\"ahorita\",\"moto\",\"repect\",\"innumerable\",\"teased\",\"tenuous\",\"riksha\",\"trhrowing\",\"rats\",\"distill\",\"independant\",\"morphed\",\"cleans\",\"merge\",\"overwork\",\"toulouse\",\"allover\",\"extrem\",\"brutal\",\"languge\",\"siswati\",\"moms\",\"multiethnic\",\"buckwheat\",\"linger\",\"practises\",\"hacercan\",\"aviation\",\"francesca\",\"waits\",\"emotive\",\"polina\",\"meek\",\"terminate\",\"bhutan\",\"mystified\",\"kathmandu\",\"widow\",\"adolescents\",\"knwo\",\"reared\",\"proces\",\"kerry\",\"ive\",\"relearning\",\"industrialized\",\"tacey\",\"reconciliation\",\"soups\",\"stalls\",\"ethos\",\"campsites\",\"centred\",\"seld\",\"descrimination\",\"lanugage\",\"rebellious\",\"spark\",\"arizona\",\"script\",\"southman\",\"illiteracy\",\"campaigner\",\"emergent\",\"shine\",\"confrontations\",\"interseted\",\"inland\",\"countrys\",\"phonetics\",\"phoneme\",\"localised\",\"etically\",\"delving\",\"bifocal\",\"tzu\",\"lian\",\"mandalay\",\"trumps\",\"lodewijk\",\"brillant\",\"humanistic\",\"soaking\",\"normalcy\",\"portal\",\"interculural\",\"prohibited\",\"bucharest\",\"imbalance\",\"defenation\",\"pervade\",\"enlarging\",\"solita\",\"marginalized\",\"newton\",\"bicentennial\",\"mining\",\"exacerbate\",\"outback\",\"sulawesi\",\"displeased\",\"imposes\",\"wills\",\"hypocrite\",\"respectfulness\",\"kostomarov\",\"coins\",\"tightness\",\"hou\",\"xiner\",\"hung\",\"discribes\",\"investigates\",\"bloody\",\"rival\",\"huhhot\",\"malls\",\"mongolian\",\"honours\",\"mengistu\",\"mara\",\"hanoian\",\"garlic\",\"cosmonautics\",\"blocking\",\"psycho\",\"correspond\",\"expo\",\"narrowly\",\"pic\",\"cetera\",\"hurted\",\"beause\",\"devastated\",\"communicant\",\"affiliations\",\"everyehere\",\"aquaintance\",\"dictated\",\"nairobi\",\"funnier\",\"ethnics\",\"gradully\",\"subsidiaries\",\"democrat\",\"forbid\",\"forks\",\"seized\",\"aback\",\"dissociate\",\"powerless\",\"enrolling\",\"earnest\",\"rates\",\"leaded\",\"creo\",\"removes\",\"visibly\",\"heaviness\",\"ekaterina\",\"highligh\",\"deceit\",\"ungrateful\",\"congested\",\"endearment\",\"compulsory\",\"innocent\",\"formalities\",\"lyon\",\"merry\",\"binds\",\"relly\",\"warnings\",\"groundhog\",\"buyer\",\"interface\",\"commanding\",\"bahai\",\"pham\",\"fluidity\",\"aesthetician\",\"ariel\",\"vazquez\",\"relocating\",\"prescription\",\"ess\",\"kabul\",\"patriarchy\",\"antibiotics\",\"crossroad\",\"choise\",\"habbits\",\"cosily\",\"trades\",\"lipstick\",\"preached\",\"swing\",\"tuk\",\"brethren\",\"kyrgyz\",\"mosques\",\"churches\",\"wearisome\",\"unbreakable\",\"prolonging\",\"tragedy\",\"unkind\",\"boyfriends\",\"ward\",\"thinkings\",\"diversed\",\"knocking\",\"transit\",\"entonation\",\"ia\",\"airs\",\"aldfaer\",\"eliminated\",\"contradicting\",\"wellington\",\"southampton\",\"index\",\"contamination\",\"mascus\",\"koofi\",\"japaneseness\",\"dianzi\",\"luna\",\"jinshan\",\"wanda\",\"zhujing\",\"oder\",\"waterloo\",\"zelenograd\",\"stepfather\",\"markusif\",\"cheng\",\"sore\",\"quebecer\",\"francophone\",\"pyramid\",\"madame\",\"ulsamer\",\"constellation\",\"yangchen\",\"charm\",\"analyses\",\"importing\",\"mistaking\",\"politness\",\"confirms\",\"kelebogile\",\"hangout\",\"wen\",\"occurrence\",\"substantial\",\"changeable\",\"sheila\",\"foreward\",\"supporters\",\"changchun\",\"faq\",\"epic\",\"garantee\",\"alse\",\"palces\",\"bustling\",\"pronunciations\",\"commuters\",\"indeedly\",\"antithesis\",\"disastrous\",\"aboout\",\"vidoes\",\"incompetent\",\"watermelons\",\"jiangyan\",\"changzhou\",\"dynasty\",\"trainees\",\"staffs\",\"lijiang\",\"bamboo\",\"dim\",\"ce\",\"fait\",\"marrying\",\"disgusted\",\"exposing\",\"gene\",\"diz\",\"anticipating\",\"trendy\",\"barging\",\"revere\",\"cartoons\",\"donkey\",\"examines\",\"exercice\",\"growingly\",\"divers\",\"narrate\",\"fabiana\",\"azure\",\"eating_spicy\",\"exterior\",\"socrates\",\"inshanghai\",\"keyi\",\"transports\",\"muslimani\",\"honoured\",\"rage\",\"discard\",\"lesotho\",\"stride\",\"schoolmates\",\"xingjiang\",\"forthright\",\"marcel\",\"proust\",\"gaspar\",\"zhoushan\",\"introspect\",\"bom\",\"difinitely\",\"hua\",\"heidi\",\"fearlessness\",\"scruples\",\"pround\",\"senegal\",\"pillars\",\"olympics\",\"engraved\",\"heip\",\"coures\",\"vacations\",\"yale\",\"drowned\",\"chip\",\"tucked\",\"disconcert\",\"clelia\",\"qi\",\"indispensable\",\"phenomenons\",\"imitation\",\"differen\",\"shirts\",\"gelato\",\"denominations\",\"understant\",\"campaigning\",\"bund\",\"sacrificial\",\"candles\",\"foregin\",\"bahaviors\",\"unchanged\",\"systemic\",\"vows\",\"nuclear\",\"jiacheng\",\"peggy\",\"distribution\",\"nanchang\",\"knacks\",\"identitites\",\"ubiquitous\",\"pheonomenen\",\"dama\",\"sexist\",\"sundays\",\"neurons\",\"caracteristic\",\"featured\",\"investigating\",\"kogi\",\"bounce\",\"stake\",\"exhibition\",\"specif\",\"june\",\"glade\",\"jamaican\",\"raisa\",\"fascinate\",\"controversies\",\"eachothers\",\"bosnians\",\"gran\",\"palma\",\"hazy\",\"kinesics\",\"ramana\",\"maharishi\",\"motions\",\"andd\",\"comparasion\",\"terrorists\",\"spanner\",\"racialised\",\"bolder\",\"southerner\",\"kilometres\",\"overlooking\",\"heals\",\"scouse\",\"hype\",\"positiveness\",\"fatma\",\"typed\",\"spellings\",\"costed\",\"greatful\",\"aquarium\",\"curiously\",\"stretches\",\"shiyi\",\"lonelier\",\"oxana\",\"arkhangelsk\",\"declining\",\"detachment\",\"personnally\",\"congolist\",\"firts\",\"bogota\",\"multiculture\",\"inculcated\",\"characterise\",\"jolly\",\"posess\",\"airlines\",\"leaner\",\"happpiness\",\"aspectes\",\"paula\",\"anchor\",\"mails\",\"enjoyments\",\"affirmed\",\"emphasised\",\"bundle\",\"recommends\",\"oct\",\"commander\",\"gymnastic\",\"smoker\",\"continual\",\"passers\",\"breakthroughs\",\"muscovite\",\"yuyan\",\"thyself\",\"fooling\",\"mariana\",\"cream\",\"reservations\",\"leaking\",\"accelerate\",\"leak\",\"pedagogy\",\"vodka\",\"scolding\",\"skirts\",\"daria\",\"outskirts\",\"levine\",\"saddened\",\"yajuan\",\"stainless\",\"steel\",\"waving\",\"hokkien\",\"gentler\",\"misuse\",\"bonded\",\"overused\",\"eighteen\",\"nationally\",\"stones\",\"dementia\",\"breast\",\"heighten\",\"prehistoric\",\"bathtub\",\"xenophobes\",\"recommending\",\"flirting\",\"postures\",\"limiting\",\"sisterhood\",\"nail\",\"participates\",\"siddiguh\",\"overgeneralized\",\"idiosyncracy\",\"laudable\",\"cosmic\",\"distanced\",\"ices\",\"suspecting\",\"designation\",\"whang\",\"presonal\",\"pry\",\"multicultures\",\"morgen\",\"motherhood\",\"paradoxes\",\"gerhard\",\"guardian\",\"quotas\",\"liberia\",\"reconstruction\",\"publications\",\"assessments\",\"taker\",\"poignant\",\"producers\",\"flooded\",\"overgeneralised\",\"intermediate\",\"vlada\",\"blatantly\",\"deva\",\"roxanne\",\"sii\",\"wheat\",\"troupe\",\"holder\",\"siya\",\"saudia\",\"ziyue\",\"passionately\",\"vices\",\"arrow\",\"topical\",\"classifying\",\"doubly\",\"biking\",\"properties\",\"sharings\",\"viewer\",\"whiteboard\",\"habitual\",\"surfer\",\"nicest\",\"iceland\",\"indipendence\",\"unto\",\"unilateral\",\"slovaks\",\"decently\",\"amra\",\"nadja\",\"holocaust\",\"jack\",\"constrict\",\"imperfect\",\"principals\",\"adap\",\"bounded\",\"championships\",\"meki\",\"tranlated\",\"los\",\"hemos\",\"fuera\",\"agua\",\"csonka\",\"unresolved\",\"extends\",\"discriminative\",\"sands\",\"greed\",\"humiliation\",\"finalist\",\"championship\",\"ballroom\",\"dougla\",\"admirable\",\"cassie\",\"spanking\",\"incremental\",\"empath\",\"environs\",\"nibbling\",\"facilitation\",\"monika\",\"tvs\",\"dazzling\",\"stangers\",\"sochi\",\"luxuries\",\"segmentation\",\"eureka\",\"undertake\",\"partnerships\",\"strategist\",\"programmer\",\"categorising\",\"dishonest\",\"mapped\",\"prioritized\",\"tenses\",\"dominique\",\"emphatetic\",\"committing\",\"contagious\",\"chai\",\"unemployment\",\"elegant\",\"taxies\",\"womanhood\",\"bahian\",\"drummer\",\"angel\",\"donate\",\"stray\",\"stefanie\",\"absurd\",\"horseback\",\"sociologist\",\"abused\",\"blemmyes\",\"frugal\",\"childish\",\"doubtful\",\"suburban\",\"unbiased\",\"nonconformist\",\"bravo\",\"pink\",\"collar\",\"teller\",\"solo\",\"charcoal\",\"drawer\",\"studets\",\"sewer\",\"hater\",\"projected\",\"unicef\",\"rail\",\"shoked\",\"sence\",\"undersand\",\"upside\",\"bruno\",\"preservation\",\"licenses\",\"youngster\",\"wonderment\",\"occupant\",\"botlle\",\"league\",\"trustfull\",\"fiji\",\"nzers\",\"poking\",\"pilgrim\",\"saddest\",\"hamburger\",\"insidious\",\"hood\",\"saunders\",\"bell\",\"liberalism\",\"economies\",\"surrogate\",\"fufu\",\"overweight\",\"tactile\",\"uttered\",\"stat\",\"orienting\",\"cynthia\",\"summarised\",\"heartened\",\"counselling\",\"fastest\",\"barnlund\",\"perpetual\",\"konwledge\",\"petty\",\"dearly\",\"wanderlust\",\"dunce\",\"connector\",\"herizon\",\"awhile\",\"actionable\",\"competing\",\"seize\",\"insofar\",\"evaluative\",\"viking\",\"hardware\",\"initiates\",\"congratulation\",\"premier\",\"ammie\",\"untouchables\",\"sacrificed\",\"confabulation\",\"arendt\",\"rememberd\",\"invitee\",\"forbearance\",\"adust\",\"medieval\",\"storytelling\",\"unpleasantly\",\"unknow\",\"fu\",\"intereact\",\"entrepreneur\",\"recalling\",\"univ\",\"con\",\"nutrition\",\"tickle\",\"ash\",\"flame\",\"curiouser\",\"carroll\",\"lifeline\",\"alienating\",\"mentalities\",\"jounior\",\"sahara\",\"bedouin\",\"ambulance\",\"roller\",\"ds\",\"marginalised\",\"canary\",\"jerk\",\"selfconfidence\",\"emancipated\",\"bizarre\",\"sponge\",\"leonardo\",\"requesting\",\"eskimo\",\"downloadable\",\"wallpaper\",\"activates\",\"balearic\",\"vasque\",\"afrer\",\"vigilant\",\"attacking\",\"correlation\",\"lend\",\"fulltime\",\"dutchness\",\"robotic\",\"released\",\"tissues\",\"blowing\",\"crass\",\"moulds\",\"pent\",\"hike\",\"typhoon\",\"provincial\",\"sly\",\"downloaded\",\"busiest\",\"noisiest\",\"interchangeable\",\"locales\",\"encroached\",\"fabrics\",\"discarded\",\"independency\",\"grazie\",\"cazzo\",\"plants\",\"intercourse\",\"engrained\",\"provence\",\"beautyful\",\"armed\",\"revolt\",\"mouths\",\"jinan\",\"endings\",\"blurry\",\"imprint\",\"personalitis\",\"influece\",\"drugs\",\"jiaxing\",\"willemieke\",\"scarves\",\"criterion\",\"doubtlessly\",\"tolerating\",\"konws\",\"shines\",\"oppressed\",\"providers\",\"giggling\",\"bbq\",\"definitively\",\"stirring\",\"pakestan\",\"insistent\",\"declined\",\"uphill\",\"inenglish\",\"improper\",\"vigorous\",\"paves\",\"therefor\",\"infinite\",\"entertainer\",\"rijeka\",\"icer\",\"shanghainess\",\"remarked\",\"juices\",\"hopeless\",\"edutopia\",\"brett\",\"vogelsinger\",\"rented\",\"lh\",\"comunicative\",\"madder\",\"kewen\",\"mao\",\"blockades\",\"diffecult\",\"hairstyles\",\"mystic\",\"trustful\",\"methaphor\",\"fraud\",\"polyedric\",\"intersting\",\"reckoned\",\"thais\",\"mora\",\"alliance\",\"outright\",\"mint\",\"anniversaries\",\"pushkin\",\"fullest\",\"deviant\",\"ukranian\",\"obsessed\",\"ridiculously\",\"undiluted\",\"abandoned\",\"azerbaiganian\",\"empressed\",\"unveil\",\"mayan\",\"tactical\",\"pedagogical\",\"helper\",\"babysit\",\"obedient\",\"independently\",\"gpa\",\"exerts\",\"cultureal\",\"maintenance\",\"townsman\",\"banana\",\"hohhot\",\"fortunes\",\"petit\",\"objectiveness\",\"compaasionate\",\"esoteric\",\"shrek\",\"spider\",\"wears\",\"approriate\",\"shouted\",\"havn\",\"sorely\",\"exlusively\",\"syndrom\",\"chengli\",\"singaporean\",\"antropologist\",\"ruth\",\"benedict\",\"peom\",\"idealise\",\"segregate\",\"thers\",\"volition\",\"transcultural\",\"ladders\",\"woe\",\"texting\",\"consumption\",\"chinees\",\"fleeing\",\"purposely\",\"blogspot\",\"narrowing\",\"producer\",\"elicitating\",\"intervened\",\"antisocial\",\"frivolous\",\"paraphrased\",\"cohesive\",\"csn\",\"acc\",\"solitary\",\"taunting\",\"pigeon\",\"discouraged\",\"ratio\",\"filming\",\"stewing\",\"skilful\",\"groninger\",\"marriges\",\"bridge_connect\",\"usable\",\"caponias\",\"friendliest\",\"parable\",\"esraa\",\"adifferent\",\"bursts\",\"readed\",\"herstory\",\"corollary\",\"autism\",\"willed\",\"inmediately\",\"gildardo\",\"maduro\",\"quirks\",\"hybrids\",\"obligatory\",\"misery\",\"skateboarding\",\"intergroups\",\"focussing\",\"chairman\",\"surpressed\",\"anonymous\",\"soth\",\"conquered\",\"diverge\",\"readjusting\",\"asiens\",\"authoritative\",\"dependable\",\"ringing\",\"crystal\",\"dictates\",\"attachments\",\"redefining\",\"evaluates\",\"tweaks\",\"abou\",\"icarus\",\"melted\",\"wax\",\"grandparent\",\"pilot\",\"bluntly\",\"wss\",\"boeijen\",\"carefull\",\"imaging\",\"puberty\",\"undermine\",\"fromm\",\"meredith\",\"ceramic\",\"enlightens\",\"verses\",\"stardust\",\"sid\",\"pressured\",\"flooding\",\"unattainable\",\"persue\",\"peeking\",\"rhyme\",\"territorial\",\"parliamentarian\",\"discovers\",\"framing\",\"gradual\",\"llike\",\"goat\",\"swerving\",\"hollowing\",\"ranking\",\"brilliantly\",\"jpg\",\"aboriginals\",\"arouse\",\"hawai\",\"inali\",\"jim\",\"okinawa\",\"lightly\",\"protects\",\"enlisting\",\"bahwuk\",\"nort\",\"thruth\",\"resembling\",\"stanza\",\"rhyming\",\"displacing\",\"bypass\",\"nady\",\"emergence\",\"rector\",\"advertiser\",\"populous\",\"artificial\",\"peek\",\"circuitous\",\"dealings\",\"communicaiton\",\"rubbing\",\"gang\",\"evolutionary\",\"palestinian\",\"daydreamer\",\"geman\",\"inclinations\",\"conducive\",\"dusty\",\"oneness\",\"eyecontact\",\"steadily\",\"analogy\",\"consistently\",\"renting\",\"crises\",\"proactive\",\"imagining\",\"applicants\",\"protracted\",\"alsace\",\"withdrew\",\"misread\",\"guidebook\",\"stiles\",\"recognizes\",\"hofstedes\",\"miraculously\",\"disrupt\",\"illusions\",\"suppression\",\"tittle\",\"mistrust\",\"thicker\",\"skins\",\"pervading\",\"cups\",\"iwould\",\"transient\",\"ladder\",\"multucultural\",\"hhhhh\",\"concessions\",\"vibration\",\"dualisms\",\"hedonism\",\"humanist\",\"pearl\",\"devised\",\"moe\",\"reactive\",\"yin\",\"supplied\",\"metapher\",\"freshly\",\"knigge\",\"schematic\",\"overlooks\",\"disorganised\",\"submerged\",\"finer\",\"irritation\",\"motivator\",\"activism\",\"farewell\",\"parochial\",\"vicky\",\"backpacker\",\"dozens\",\"governor\",\"parliamentary\",\"rp\",\"innermost\",\"chit\",\"eccentric\",\"shrub\",\"sequoias\",\"shade\",\"cheered\",\"trail\",\"loan\",\"instructed\",\"crucially\",\"linkedin\",\"resumes\",\"wary\",\"superb\",\"rode\",\"sep\",\"kins\",\"ying\",\"proceeding\",\"studio\",\"pulse\",\"burkina\",\"faso\",\"slippers\",\"marvel\",\"ide\",\"unpretentious\",\"contractor\",\"ppt\",\"reggae\",\"correspondingly\",\"sorrows\",\"cop\",\"afterall\",\"allotted\",\"differnce\",\"magda\",\"matani\",\"mozambique\",\"attribution\",\"advancement\",\"creep\",\"transcending\",\"impertinent\",\"calligraphy\",\"rivalry\",\"colonizers\",\"doctrine\",\"yuanzi\",\"qualifies\",\"cultrual\",\"honouring\",\"respectation\",\"shawn\",\"lighten\",\"whine\",\"taobao\",\"recovering\",\"compromised\",\"bremner\",\"abrasive\",\"delegations\",\"delegation\",\"cajiao\",\"elaboration\",\"resons\",\"assaulted\",\"occupation\",\"surfaces\",\"rape\",\"clarifies\",\"zen\",\"campaign\",\"ducks\",\"attracting\",\"hypocritical\",\"gosia\",\"retrospectives\",\"tons\",\"strengthening\",\"withdrawl\",\"alienate\",\"lbgt\",\"mondaymorning\",\"excerpts\",\"cloths\",\"armer\",\"minefield\",\"accessing\",\"exprience\",\"awards\",\"sagittarius\",\"residenst\",\"versed\",\"educative\",\"producing\",\"bumped\",\"inquired\",\"scarred\",\"snapped\",\"forengn\",\"sizes\",\"depress\",\"witnesses\",\"contentment\",\"sublimation\",\"incline\",\"backstories\",\"gossips\",\"neverending\",\"covertly\",\"experiments\",\"elect\",\"chenchen\",\"lit\",\"mmmm\",\"turmoil\",\"interviewing\",\"disapointed\",\"relatinship\",\"gourmet\",\"impotant\",\"jiahao\",\"sculptures\",\"disruptions\",\"suppressed\",\"adaptative\",\"nancy\",\"tenant\",\"equiped\",\"communicants\",\"juice\",\"tasted\",\"eateries\",\"hefty\",\"strenght\",\"factual\",\"compensate\",\"understaning\",\"interactors\",\"phycological\",\"hu\",\"understnad\",\"regulate\",\"marvellous\",\"mimicry\",\"criminal\",\"rhymed\",\"empowerment\",\"flags\",\"flag\",\"awakens\",\"operational\",\"preferances\",\"conferred\",\"littering\",\"homosexuals\",\"picks\",\"ups\",\"kown\",\"diy\",\"pettigrew\",\"settlement\",\"purting\",\"pics\",\"ulster\",\"tens\",\"nuptial\",\"beg\",\"essentials\",\"spat\",\"frequencies\",\"natures\",\"inventor\",\"unending\",\"cherishes\",\"wiil\",\"restoring\",\"faults\",\"retrospecting\",\"psychosocial\",\"edges\",\"identifications\",\"differnces\",\"priciples\",\"southener\",\"waht\",\"confidential\",\"unlimited\",\"thete\",\"caterconer\",\"accumulating\",\"prefrence\",\"observatory\",\"develpment\",\"engines\",\"blocked\",\"obsevation\",\"sweat\",\"satisfies\",\"insincerity\",\"shirk\",\"printed\",\"perceivable\",\"culutre\",\"dietary\",\"parental\",\"zlatina\",\"refute\",\"metopher\",\"shortness\",\"whimsical\",\"chafing\",\"extents\",\"individulas\",\"negligible\",\"memorized\",\"neccessary\",\"pacifist\",\"giriama\",\"tail\",\"bedrooms\",\"mn\",\"populism\",\"housewife\",\"ang\",\"influent\",\"communition\",\"elastic\",\"accomodating\",\"appreciations\",\"othering\",\"mediate\",\"culure\",\"qootient\",\"periphery\",\"telegraph\",\"peasants\",\"fatal\",\"verbose\",\"weigh\",\"cantons\",\"kinship\",\"alterity\",\"premised\",\"invalid\",\"borne\",\"unionist\",\"ableist\",\"exegetical\",\"lever\",\"fundraising\",\"anonymity\",\"ower\",\"dotaer\",\"gtaer\",\"whispering\",\"maximization\",\"resonant\",\"prejudge\",\"improves\",\"constructions\",\"perceptual_barriers\",\"segregation\",\"wheelchair\",\"manifestations\",\"quran\",\"observance\",\"musings\",\"sponsored\",\"competencies\",\"airwaves\",\"retail\",\"conductor\",\"gigantic\",\"monolingual\",\"nails\",\"visitantwerpen\",\"protagonist\",\"trading\",\"songstresses\",\"doer\",\"arthur\",\"kumiss\",\"elbows\",\"blissful\",\"chop\",\"salvage\",\"bulk\",\"platters\",\"mighty\",\"nm\",\"flmg\",\"obeys\",\"industrious\",\"enters\",\"agora\",\"pronounces\",\"portant\",\"laguage\",\"blake\",\"megalopolis\",\"nadya\",\"suzie\",\"gullible\",\"wanderer\",\"lettow\",\"vorbeck\",\"oath\",\"superiors\",\"advising\",\"coupe\",\"unpunctual\",\"notify\",\"dull\",\"continuation\",\"negociate\",\"blanket\",\"iin\",\"rat\",\"mandatory\",\"advocated\",\"annoys\",\"reductionism\",\"bolivia\",\"engages\",\"spacious\",\"proffessors\",\"quadrants\",\"polychronics\",\"nourish\",\"balcony\",\"unconvenient\",\"runway\",\"mah\",\"elicits\",\"titanic\",\"boxer\",\"garfunkel\",\"wilder\",\"harmonize\",\"theacmhents\",\"perpetuated\",\"misconduct\",\"undress\",\"smoothing\",\"budget\",\"certainties\",\"hdd\",\"regulated\",\"productions\",\"enhancement\",\"misjudged\",\"headings\",\"derives\",\"absolutly\",\"ointment\",\"reflexes\",\"risky\",\"sudoko\",\"protests\",\"matured\",\"planed\",\"restricted\",\"warmest\",\"paradoxical\",\"busyness\",\"disdain\",\"sniff\",\"misinterpreting\",\"poly\",\"salesman\",\"ticked\",\"burnout\",\"beginnings\",\"foreigns\",\"clinging\",\"allready\",\"chinua\",\"achebe\",\"placement\",\"resolving\",\"cultral\",\"yantai\",\"curling\",\"effiency\",\"deviating\",\"prolonged\",\"voluntarily\",\"publically\",\"bracket\",\"fussy\",\"adjust_develop\",\"overt\",\"eta\",\"materail\",\"pretent\",\"inflicted\",\"typer\",\"curtains\",\"adhered\",\"constraining\",\"provoking\",\"quickest\",\"cpc\",\"immoral\",\"poke\",\"borrowing\",\"lane\",\"backs\",\"somes\",\"amerindian\",\"tenacity\",\"comfortableness\",\"pakistanis\",\"seperated\",\"rub\",\"monochromatic\",\"prominently\",\"equilibrium\",\"weaken\",\"lap\",\"overgrowded\",\"criticise\",\"jealousy\",\"dissatisfactory\",\"manufacturing\",\"lump\",\"alternating\",\"saturdaynight\",\"litlle\",\"frontline\",\"inquire\",\"mistreat\",\"hardcopy\",\"pointless\",\"handwritten\",\"preaching\",\"pf\",\"chorus\",\"bagging\",\"reaffirm\",\"improvements\",\"comoplex\",\"gossiping\",\"disparity\",\"meditative\",\"warwick\",\"await\",\"furthest\",\"affronted\",\"suspending\",\"layed\",\"disorderly\",\"piles\",\"timelines\",\"basin\",\"segmented\",\"grain\",\"infinity\",\"calendar_app\",\"postgraduation\",\"belittle\",\"ven\",\"clans\",\"oooh\",\"smack\",\"medcine\",\"silenced\",\"fooled\",\"mixer\",\"carey\",\"incorporated\",\"interviewer\",\"armrest\",\"tow\",\"musics\",\"recording\",\"duplication\",\"particulary\",\"synchronizing\",\"westners\",\"officials\",\"hahha\",\"giant\",\"spacial\",\"ports\",\"portraying\",\"eyelid\",\"whiter\",\"aria\",\"asthma\",\"diabetes\",\"da\",\"loading\",\"ophelie\",\"litterature\",\"deafened\",\"workday\",\"thingk\",\"hasty\",\"palace\",\"identitiy\",\"omitted\",\"ceiling\",\"comical\",\"cashregister\",\"pos\",\"oops\",\"cultruals\",\"slience\",\"wavelength\",\"adolescent\",\"responsive\",\"bereaved\",\"tacit\",\"portrays\",\"weights\",\"firends\",\"resentment\",\"emeline\",\"interprete\",\"edouardo\",\"descriptive\",\"unambiguous\",\"becker\",\"utopia\",\"explicitness\",\"abha\",\"supreme\",\"togethers\",\"persistance\",\"equalize\",\"audible\",\"rearrange\",\"trauma\",\"maram\",\"congregate\",\"withheld\",\"assessed\",\"disruptive\",\"huddle\",\"harness\",\"polarized\",\"zz\",\"synchronise\",\"gesticulate\",\"paragraphs\",\"hostess\",\"implicitely\",\"frustrate\",\"comparision\",\"submitting\",\"countering\",\"cure\",\"pittsburgh\",\"alvin\",\"absorbing\",\"rounds\",\"deserts\",\"sq\",\"vendors\",\"payback\",\"protest\",\"unbelievable\",\"restricting\",\"infringe\",\"oblidged\",\"tactics\",\"switches\",\"keenly\",\"southernmost\",\"huddled\",\"palanga\",\"latvians\",\"playgrounds\",\"fr\",\"smirk\",\"prerogative\",\"bazar\",\"acknowledgment\",\"wordsworth\",\"haste\",\"toddlers\",\"spice\",\"untold\",\"theaters\",\"weekdays\",\"spectators\",\"cinemas\",\"paperwork\",\"execution\",\"irresponsible\",\"cockney\",\"tasking\",\"categorical\",\"hoc\",\"internalization\",\"timezones\",\"theatres\",\"perfer\",\"jotted\",\"assuring\",\"englishes\",\"ethology\",\"depeche\",\"ke\",\"destinations\",\"ale\",\"afforded\",\"vocal\",\"randomly\",\"thir\",\"portable\",\"monochromics\",\"polychromics\",\"permits\",\"pioneers\",\"nerd\",\"seng\",\"tss\",\"pulp\",\"accidents\",\"cotton\",\"dumping\",\"angst\",\"altered\",\"alarms\",\"complains\",\"eliminates\",\"struggled\",\"cate\",\"calander\",\"calenders\",\"sunset\",\"rehearse\",\"wakes\",\"perpetually\",\"mtime\",\"ptime\",\"afrocentrism\",\"trello\",\"kluchkhohns\",\"sequenced\",\"associating\",\"narrated\",\"sponsor\",\"ayii\",\"ssp\",\"conciously\",\"inmigrant\",\"fridayprayers\",\"cen\",\"marcelo\",\"prioritizing\",\"wyn\",\"sinjoor\",\"protestantism\",\"conntact\",\"pck\",\"tailored\",\"asleep\",\"incessantly\",\"myths\",\"organizes\",\"monochonic\",\"inconsistency\",\"fragmentation\",\"sitter\",\"manga\",\"comics\",\"shortcomings\",\"audio\",\"persepolis\",\"sanna\",\"interlude\",\"prefernce\",\"gloria\",\"duplicity\",\"induction\",\"accomplishing\",\"skilled\",\"waltzing\",\"deafening\",\"crowed\",\"chant\",\"anthem\",\"swinging\",\"machanism\",\"reflectiveness\",\"nourished\",\"impatience\",\"premium\",\"ould\",\"tabou\",\"uninteresting\",\"ufpa\",\"signified\",\"samsung\",\"filmmaker\",\"commemorate\",\"prayers\",\"devotion\",\"electric\",\"sanctions\",\"lighter\",\"effortlessly\",\"espacially\",\"sword\",\"argentines\",\"refering\",\"damned\",\"distractions\",\"karma\",\"bending\",\"monocromic\",\"asal\",\"kelakon\",\"aspirant\",\"roti\",\"kulcha\",\"naan\",\"aks\",\"cyclic\",\"jot\",\"cont\",\"worsen\",\"surprice\",\"peculiarity\",\"coarse\",\"exceeding\",\"procrastination\",\"beeps\",\"techno\",\"polychronemic\",\"justified\",\"inaccessible\",\"reflex\",\"insensitivities\",\"archive\",\"wounded\",\"hitches\",\"kant\",\"libyan\",\"reframe\",\"premises\",\"discerning\",\"espoused\",\"spatially\",\"distracting\",\"enlightenments\",\"canceled\",\"longterm\",\"effacing\",\"todays\",\"qq\",\"caps\",\"enfused\",\"dippy\",\"zgierz\",\"molecular\",\"examle\",\"valueing\",\"labtop\",\"caledar\",\"hitting\",\"prussian\",\"disconnected\",\"juanmi\",\"straighforward\",\"somewere\",\"doughter\",\"regime\",\"pt\",\"cleanning\",\"containing\",\"separates\",\"danlin\",\"civilised\",\"scribble\",\"counters\",\"hovered\",\"disapprovingly\",\"entertained\",\"browsed\",\"humboldt\",\"fraternit\",\"clung\",\"promiscuity\",\"vacant\",\"frequented\",\"skipped\",\"poma\",\"ayala\",\"refectory\",\"uncomfortably\",\"artefact\",\"wellness\",\"openess\",\"speck\",\"manhattan\",\"invariably\",\"suggestive\",\"responsiveness\",\"traders\",\"sumatera\",\"tying\",\"betrayed\",\"catalogue\",\"cleavage\",\"denomination\",\"exposes\",\"commend\",\"browsing\",\"dutiful\",\"huangxiang\",\"warmed\",\"secretly\",\"showcasing\",\"journals\",\"onwards\",\"indead\",\"generators\",\"scaring\",\"grieving\",\"tabs\",\"monash\",\"sync\",\"resisted\",\"governing\",\"prophets\",\"divine\",\"avail\",\"expatriated\",\"hace\",\"normaal\",\"organizer\",\"termed\",\"kings\",\"erases\",\"martin\",\"scollon\",\"industriousness\",\"coherence\",\"devil\",\"bonuses\",\"unwillingly\",\"specifc\",\"calvinism\",\"elina\",\"westernization\",\"briefing\",\"exceed\",\"ae\",\"idle\",\"misapprehension\",\"mirrors\",\"analise\",\"offerings\",\"altruism\",\"hopped\",\"permissive\",\"smokers\",\"painted\",\"buteyko\",\"cured\",\"illnesses\",\"josien\",\"extrange\",\"intelectual\",\"eaters\",\"thoreau\",\"anarchist\",\"traitor\",\"wwii\",\"leaned\",\"chiapas\",\"oaxaca\",\"monocrhonic\",\"yucatan\",\"zhoa\",\"mateship\",\"imperfection\",\"commanded\",\"alleviate\",\"extinct\",\"frogs\",\"homogenized\",\"bangaluru\",\"dynamism\",\"fabric\",\"nuisance\",\"pedestrian\",\"offenses\",\"downloads\",\"drying\",\"taxonomy\",\"despised\",\"understandin\",\"abound\",\"supplement\",\"endemic\",\"stereo\",\"conquests\",\"revised\",\"totalitarian\",\"debriefing\",\"transcendence\",\"eel\",\"impartial\",\"sometines\",\"improvise\",\"characterized\",\"performances\",\"envolves\",\"tenet\",\"preserved\",\"assen\",\"lucid\",\"correcting\",\"oversight\",\"ani\",\"asante\",\"afrocentric\",\"pp\",\"ecovillage\",\"comprehensively\",\"boykin\",\"mcloyd\",\"dialectical\",\"insect\",\"climb\",\"beingness\",\"incorporates\",\"interdependence\",\"primacy\",\"imported\",\"minimizing\",\"adaptaion\",\"yosef\",\"jochannan\",\"manhood\",\"mightily\",\"furnishes\",\"superlatives\",\"vastness\",\"welding\",\"flourished\",\"clark\",\"pearls\",\"jet\",\"lag\",\"cavalry\",\"invasions\",\"williams\",\"manuscripts\",\"seifert\",\"thomas\",\"dissolve\",\"instruments\",\"untapped\",\"mali\",\"eminent\",\"inthe\",\"fortnight\",\"tally\",\"undeniable\",\"basket\",\"bent\",\"expecations\",\"poll\",\"sjosjialbums\",\"sjosjishow\",\"asp\",\"appetite\",\"illegal\",\"favourable\",\"mideastern\",\"nuts\",\"branded\",\"bellah\",\"freedoms\",\"pardon\",\"bumper\",\"cheater\",\"disneyland\",\"silva\",\"canal\",\"benedetti\",\"prohibition\",\"asylumcenters\",\"notalways\",\"collegial\",\"concludes\",\"genuineness\",\"takling\",\"timers\",\"artful\",\"tradesmanship\",\"ideologically\",\"profits\",\"ellen\",\"tolarence\",\"prejucices\",\"regulation\",\"casually\",\"umm\",\"objection\",\"monks\",\"claimed\",\"uniting\",\"thoug\",\"commonplace\",\"overhelmed\",\"shortest\",\"thnaks\",\"beacuse\",\"resturant\",\"restrain\",\"ayat\",\"proactively\",\"minecraft\",\"dizzy\",\"communitarian\",\"relay\",\"goethe\",\"jesuit\",\"cardinal\",\"bea\",\"ishmael\",\"mecca\",\"dumped\",\"khadijah\",\"digitally\",\"embodiment\",\"differeces\",\"universalistic\",\"amazon\",\"wrede\",\"het\",\"sercoumtanceses\",\"cherished\",\"fingertips\",\"capsule\",\"blindly\",\"ploychronic\",\"blender\",\"embodied\",\"deculturation\",\"transcend\",\"roaring\",\"tenderness\",\"althought\",\"slowed\",\"powered\",\"undivided\",\"mead\",\"individulism\",\"rationale\",\"yonnger\",\"synonymous\",\"plotting\",\"aron\",\"positives\",\"differneces\",\"hurried\",\"inclusiveness\",\"wipe\",\"boasted\",\"assigments\",\"thrift\",\"notified\",\"traditionalist\",\"emirati\",\"georgetown\",\"immigrating\",\"embraces\",\"psychologists\",\"feild\",\"inattentive\",\"regio\",\"tilburg\",\"frankopan\",\"asylumseekers\",\"bases\",\"huisarts\",\"prescribed\",\"fixable\",\"pdp\",\"cognitively\",\"awakened\",\"begets\",\"ticks\",\"bare\",\"workship\",\"bustrip\",\"dishonesty\",\"posible\",\"hostede\",\"iwas\",\"reasearch\",\"beeping\",\"sailent\",\"capsules\",\"mg\",\"cathedral\",\"approximate\",\"loophole\",\"disapeared\",\"prevailing\",\"headset\",\"deems\",\"repercussions\",\"thrives\",\"brushes\",\"floss\",\"lavatories\",\"daylight\",\"cinnamon\",\"homemade\",\"hoftede\",\"depens\",\"underlines\",\"organiser\",\"afloat\",\"doi\",\"ua\",\"relocate\",\"enculturation\",\"yoyo\",\"tutu\",\"kluckhon\",\"res\",\"supply\",\"cooperativeness\",\"unconventional\",\"woven\",\"beaurocracy\",\"housemaid\",\"scandalized\",\"internalisation\",\"lv\",\"universalist\",\"healthier\",\"inverse\",\"buds\",\"colonists\",\"spencer\",\"celebrants\",\"liquorice\",\"schemes\",\"eradicated\",\"acquintances\",\"ers\",\"wc\",\"subgroups\",\"oftentime\",\"edged\",\"fatimah\",\"poetries\",\"generalist\",\"loked\",\"delved\",\"enclosed\",\"byt\",\"resposibility\",\"alatrash\",\"favors\",\"alhanouf\",\"abdulaziz\",\"champing\",\"unhinge\",\"disheartened\",\"server\",\"concpet\",\"becuase\",\"aladdin\",\"carpet\",\"shabby\",\"endured\",\"camouflaged\",\"sawako\",\"agawa\",\"emesto\",\"wink\",\"indianised\",\"hitlers\",\"unequally\",\"symptons\",\"rigidly\",\"overthinker\",\"individuation\",\"risen\",\"roadbike\",\"racing\",\"automation\",\"modernistic\",\"hampden\",\"turner\",\"betrothal\",\"docus\",\"expierience\",\"challange\",\"experiencies\",\"communicatio\",\"simpleness\",\"peels\",\"additive\",\"miller\",\"austin\",\"crystallised\",\"binarism\",\"kpi\",\"clime\",\"snag\",\"lows\",\"inclination\",\"odors\",\"histogram\",\"emoji\",\"nowak\",\"dependence\",\"subjugated\",\"packets\",\"undersatnd\",\"mindness\",\"braver\",\"nastya\",\"paella\",\"dependability\",\"considerateness\",\"performers\",\"otally\",\"respondents\",\"disorientation\",\"empaty\",\"petrova\",\"jacqes\",\"tati\",\"commutes\",\"scooting\",\"articulated\",\"sunflower\",\"foremost\",\"indiv\",\"credibilty\",\"witouth\",\"swamped\",\"kullu\",\"dehli\",\"revati\",\"nand\",\"alexandra\",\"tecnology\",\"inoculated\",\"construals\",\"stroke\",\"autopilot\",\"burger\",\"articole\",\"nepali\",\"casus\",\"bayern\",\"sephora\",\"sibiu\",\"lucian\",\"blaga\",\"instagram\",\"globle\",\"appereances\",\"anime\",\"wouldnt\",\"nuance\",\"anomalies\",\"chinses\",\"transforms\",\"ir\",\"specifying\",\"destiny\",\"northeastern\",\"dominates\",\"interculturale\",\"oppotunity\",\"honduras\",\"perplexed\",\"tasting\",\"regionally\",\"recipient\",\"speeds\",\"kannada\",\"tamil\",\"namaste\",\"categorised\",\"correctness\",\"krakow\",\"jar\",\"mongrel\",\"robots\",\"austrians\",\"overpowering\",\"businessman\",\"dads\",\"grandad\",\"mums\",\"gypsy\",\"sect\",\"climates\",\"adviser\",\"catalonia\",\"midwestern\",\"int\",\"egalitarian\",\"identites\",\"impacting\",\"permitted\",\"vacuum\",\"deem\",\"julia\",\"intact\",\"commute\",\"knives\",\"transcript\",\"ensures\",\"geertz\",\"dutta\",\"kolkata\",\"niqab\",\"francisco\",\"favorites\",\"bengalis\",\"harmoniously\",\"tipping\",\"bor\",\"memorial\",\"assisting\",\"rwanda\",\"uneducated\",\"obstinate\",\"trilingual\",\"ing\",\"caribbeans\",\"frenchman\",\"guatemala\",\"payed\",\"honey\",\"prototype\",\"chess\",\"unexplained\",\"spoilt\",\"descendant\",\"accumulated\",\"eh\",\"marmite\",\"chennai\",\"variances\",\"moderated\",\"alignment\",\"afar\",\"experince\",\"webpages\",\"lingua\",\"predudice\",\"fianc\",\"pleasantries\",\"bluntness\",\"sooner\",\"reinforcing\",\"mombasa\",\"calculate\",\"flexibel\",\"camino\",\"rica\",\"commmunication\",\"illinois\",\"zebra\",\"developers\",\"roma\",\"appearing\",\"exceptionally\",\"seas\",\"thy\",\"imposible\",\"uttering\",\"eyebrows\",\"commom\",\"mechanisms\",\"displaying\",\"bruce\",\"infrastructure\",\"unforgetable\",\"sophomore\",\"prefecture\",\"damaged\",\"diaspora\",\"oddly\",\"anyways\",\"eighties\",\"imagery\",\"merrier\",\"reciprocal\",\"regognise\",\"castle\",\"lunchtime\",\"objectivity\",\"announced\",\"stigma\",\"raouf\",\"thereof\",\"boastful\",\"conspicuous\",\"alberta\",\"vancouver\",\"israeli\",\"cutures\",\"dies\",\"languagecoach\",\"ore\",\"ballet\",\"fierce\",\"temperaments\",\"hanna\",\"disagreeable\",\"massachusetts\",\"tatars\",\"louise\",\"apologetic\",\"hamburg\",\"brabant\",\"sucessful\",\"evasive\",\"fugitive\",\"presently\",\"riders\",\"workable\",\"tentative\",\"entail\",\"politic\",\"existential\",\"plurality\",\"philadelphia\",\"myriad\",\"moses\",\"recovery\",\"idear\",\"gentleman\",\"collection\",\"toasting\",\"escaping\",\"kilometers\",\"rightly\",\"pickle\",\"electrical\",\"brianna\",\"transfered\",\"battery\",\"traded\",\"burmese\",\"ugliness\",\"jalisco\",\"beard\",\"climbing\",\"stairs\",\"shrimp\",\"danang\",\"drawings\",\"cast\",\"collage\",\"texan\",\"polar\",\"barbecue\",\"lee\",\"reserch\",\"inconsistent\",\"pockets\",\"hampers\",\"cd\",\"sns\",\"plinsinga\",\"studies_university\",\"morally\",\"ist\",\"idealize\",\"reassured\",\"civic\",\"undervalued\",\"editing\",\"plastic\",\"jia\",\"camps\",\"haunting\",\"overwhelm\",\"coincided\",\"paola\",\"ralph\",\"frist\",\"coutry\",\"lense\",\"storage\",\"modifying\",\"bangladeshi\",\"inclusivity\",\"dutchmen\",\"endurance\",\"brisbane\",\"os\",\"retrieve\",\"emoticon\",\"rally\",\"uniquely\",\"btw\",\"annalis\",\"predictions\",\"marking\",\"waved\",\"thanking\",\"marker\",\"comminication\",\"propaganda\",\"tuned\",\"misinterpreted\",\"keeper\",\"cows\",\"communicaion\",\"tunisian\",\"sliding\",\"rid\",\"longing\",\"nowaday\",\"travelers\",\"organism\",\"iron\",\"transgender\",\"hail\",\"scots\",\"particularities\",\"tuscany\",\"nebraska\",\"nomadic\",\"innovations\",\"isaan\",\"stela\",\"www_ted\",\"com_talks\",\"taiye\",\"abusing\",\"recurring\",\"wellbeing\",\"coz\",\"japanes\",\"migrate\",\"sanitizer\",\"sensitized\",\"diffrence\",\"gaze\",\"persian\",\"lucia\",\"exasperating\",\"delicacies\",\"refrained\",\"redefine\",\"comedy\",\"preferably\",\"anglophone\",\"springs\",\"webs\",\"befriend\",\"rostov\",\"begun\",\"cadet\",\"ranks\",\"passions\",\"dude\",\"underestimated\",\"parallels\",\"touring\",\"photographs\",\"route\",\"valpo\",\"chou\",\"taipei\",\"suburbs\",\"revision\",\"rico\",\"delia\",\"discern\",\"johor\",\"tertiary\",\"surnames\",\"familiars\",\"boots\",\"stamp\",\"aplogize\",\"reevaluate\",\"swallow\",\"assisted\",\"unhealthy\",\"djiboutian\",\"detected\",\"provocative\",\"apologized\",\"correction\",\"sympathize\",\"gambia\",\"reverence\",\"listeners\",\"ecological\",\"spotted\",\"felling\",\"niger\",\"merriam\",\"webster\",\"helsinki\",\"lakes\",\"lavonna\",\"indra\",\"hospitals\",\"incomprehension\",\"transformative\",\"impoliteness\",\"workforce\",\"kalimantan\",\"consisted\",\"transmission\",\"smal\",\"attidude\",\"prepares\",\"skating\",\"chens\",\"stimuli\",\"discomforted\",\"brooks\",\"oude\",\"pekela\",\"rectify\",\"tempo\",\"bangkok\",\"mile\",\"chancing\",\"noon\",\"hairdressers\",\"theology\",\"texted\",\"counting\",\"nos\",\"las\",\"ment\",\"virtually\",\"proceeded\",\"determining\",\"rites\",\"koninklijke\",\"overdone\",\"gifted\",\"stretching\",\"buryats\",\"thr\",\"rosemary\",\"deepened\",\"marta\",\"celtic\",\"simultaneous\",\"consensus\",\"idiomatic\",\"compatible\",\"breed\",\"heba\",\"ielts\",\"montenegro\",\"herzegovina\",\"reconcile\",\"helpers\",\"aloha\",\"spin\",\"competitors\",\"demographics\",\"simplify\",\"ahmed\",\"tawfik\",\"lays\",\"crashing\",\"pharmacy\",\"qualified\",\"predictable\",\"privat\",\"retire\",\"withdrawing\",\"burn\",\"beckoned\",\"sulking\",\"restless\",\"fishbowl\",\"londoner\",\"em\",\"beam\",\"ecosystem\",\"contradict\",\"extraordinary\",\"vibes\",\"di\",\"thanksgiving\",\"eid\",\"returns\",\"astonishing\",\"height\",\"harvest\",\"ceremonial\",\"pigs\",\"duck\",\"deeds\",\"workings\",\"possessions\",\"moreso\",\"disguise\",\"seminars\",\"amazes\",\"earl\",\"handful\",\"markedly\",\"ranked\",\"recreational\",\"sociability\",\"chapters\",\"unrealistic\",\"natasha\",\"spy\",\"nickname\",\"hurrying\",\"unreasonable\",\"taller\",\"easter\",\"bridged\",\"poorest\",\"excessively\",\"idealizing\",\"hanoi\",\"onus\",\"freezing\",\"wired\",\"hrh\",\"levantine\",\"specializing\",\"arising\",\"eveyone\",\"lip\",\"tragic\",\"galicia\",\"brunei\",\"tropical\",\"hypocrisy\",\"carl\",\"pebbles\",\"marvelous\",\"rebellion\",\"tops\",\"para\",\"tuesday\",\"submissive\",\"buffer\",\"doc\",\"jens\",\"allwood\",\"embassy\",\"underline\",\"archaeologist\",\"cubans\",\"saarland\",\"neighbouring\",\"shoking\",\"arabia\",\"infact\",\"plaisir\",\"monsieur\",\"il\",\"bathing\",\"receptionist\",\"tournament\",\"booking\",\"psycological\",\"gem\",\"softer\",\"lile\",\"bt\",\"mot\",\"delete\",\"breach\",\"cursing\",\"ethiopic\",\"idioma\",\"beginner\",\"wrongs\",\"novelty\",\"incoming\",\"fairs\",\"revered\",\"utilize\",\"dreamed\",\"dos\",\"bragging\",\"teen\",\"wee\",\"transactional\",\"superstitions\",\"intransigent\",\"emigrate\",\"miracle\",\"grad\",\"ww\",\"tapestry\",\"bears\",\"maxim\",\"wu\",\"airong\",\"rewrite\",\"pozole\",\"tamales\",\"feared\",\"assets\",\"mingled\",\"commerce\",\"shining\",\"woods\",\"drinker\",\"whereabouts\",\"nobel\",\"normative\",\"aleikum\",\"despair\",\"allies\",\"intern\",\"slowely\",\"lingering\",\"cricket\",\"sauce\",\"qiuye\",\"behavoir\",\"conditioning\",\"liberating\",\"colomba\",\"refresher\",\"revisit\",\"amish\",\"pin\",\"intracultural\",\"xia\",\"alley\",\"rated\",\"viceversa\",\"rocks\",\"lederhosen\",\"euro\",\"wisconsin\",\"regrets\",\"obligated\",\"dental\",\"cunning\",\"anf\",\"disappearing\",\"originating\",\"companions\",\"gulshat\",\"effici\",\"landlord\",\"costume\",\"lawyers\",\"megacities\",\"appartment\",\"burst\",\"unpacking\",\"partying\",\"ahahah\",\"forgave\",\"harvard\",\"yield\",\"mlk\",\"genealogical\",\"opera\",\"lissa\",\"rose\",\"megacity\",\"davis\",\"romance\",\"refugeecamp\",\"appartments\",\"republics\",\"melissa\",\"labeling\",\"etics\",\"marjan\",\"truthfulness\",\"trainee\",\"safeguard\",\"rising\",\"persuaded\",\"royal\",\"unlikely\",\"terrifying\",\"bueno\",\"suprising\",\"inborn\",\"revival\",\"fiercely\",\"confort\",\"successfull\",\"richard\",\"amusement\",\"conceptions\",\"concurrent\",\"pointers\",\"completly\",\"po\",\"headache\",\"espanol\",\"queensland\",\"ecology\",\"inventory\",\"advertisements\",\"tibetan\",\"confessions\",\"nap\",\"lourdes\",\"drafted\",\"liming\",\"trini\",\"ghost\",\"destroying\",\"transpositional\",\"accpet\",\"synonymously\",\"arisen\",\"specificity\",\"jersey\",\"egalitarianism\",\"visas\",\"albrecht\",\"victims\",\"transaction\",\"northen\",\"starbuck\",\"auditory\",\"distinctiveness\",\"shoe\",\"builds\",\"bai\",\"urbanized\",\"screens\",\"genius\",\"mahdi\",\"insisting\",\"backrounds\",\"mustard\",\"aha\",\"acturally\",\"shoudn\",\"keyword\",\"mould\",\"crushed\",\"messed\",\"fastidious\",\"hormones\",\"sixties\",\"hindrance\",\"whiskey\",\"wings\",\"visualise\",\"bugis\",\"cater\",\"buddha\",\"correspondent\",\"festivities\",\"costly\",\"recollection\",\"plausible\",\"referenced\",\"purchase\",\"quiz\",\"viewers\",\"sis\",\"disconcerting\",\"minimum\",\"unkown\",\"embarrass\",\"exhibited\",\"readapting\",\"suis\",\"perpective\",\"unprofessional\",\"irritate\",\"wrap\",\"conceptual\",\"wendy\",\"adequately\",\"involvement\",\"gadget\",\"phyothuzar\",\"faculties\",\"supervisors\",\"elena\",\"motswana\",\"communicantion\",\"murray\",\"assigment\",\"inferiority\",\"gypsies\",\"morale\",\"diferentes\",\"beirut\",\"mindedness\",\"refrigerator\",\"marley\",\"shinning\",\"intricacies\",\"windy\",\"hijab\",\"anthropologist\",\"coconuts\",\"turkic\",\"tesol\",\"sold\",\"speeches\",\"refreshed\",\"sorrow\",\"advances\",\"concious\",\"teached\",\"lebanon\",\"sportsman\",\"abortion\",\"bolivian\",\"habitudes\",\"malasyan\",\"zealander\",\"chronic\",\"biracial\",\"flatmates\",\"asperger\",\"recharge\",\"batteries\",\"pave\",\"fawzia\",\"abide\",\"polyglot\",\"hometowns\",\"northerner\",\"memberships\",\"yiwen\",\"progresses\",\"nelli\",\"rapid\",\"milieu\",\"necessities\",\"imitating\",\"witty\",\"blow\",\"underwater\",\"coments\",\"staple\",\"beween\",\"textbook\",\"nosey\",\"marku\",\"cathartic\",\"smth\",\"countires\",\"hapiness\",\"inhabit\",\"quitely\",\"poeple\",\"kindess\",\"sociological\",\"stretch\",\"balances\",\"strait\",\"inshallah\",\"token\",\"gloomy\",\"savvy\",\"tiger\",\"ugwuanyi\",\"emergencies\",\"snowball\",\"bruneau\",\"shikumen\",\"perish\",\"chill\",\"vocational\",\"admitting\",\"abut\",\"ache\",\"searcher\",\"zhe\",\"retreating\",\"voyage\",\"ria\",\"joyful\",\"rap\",\"eleven\",\"prosperity\",\"mingyue\",\"advertisement\",\"consultation\",\"assertiveness\",\"cellphones\",\"colloquialisms\",\"anglo\",\"packaged\",\"taxis\",\"nearer\",\"borrowed\",\"widened\",\"kangqi\",\"noodle\",\"cared\",\"approve\",\"fee\",\"chongqing\",\"annually\",\"fishes\",\"burning\",\"derive\",\"nourishing\",\"jason\",\"awarded\",\"henan\",\"harming\",\"bee\",\"interviewed\",\"examined\",\"pessimist\",\"idealist\",\"cork\",\"biscuits\",\"communion\",\"gossip\",\"overcame\",\"qiqihar\",\"nigerians\",\"profoundly\",\"columns\",\"electronics\",\"eagerly\",\"sojourn\",\"port\",\"discourses\",\"sensations\",\"resemble\",\"sanskrit\",\"truthful\",\"cruelty\",\"watcher\",\"toxic\",\"doorstep\",\"harassment\",\"tranquillity\",\"curiousity\",\"stumbled\",\"soda\",\"scarce\",\"matched\",\"yelling\",\"interract\",\"pharmacist\",\"outings\",\"ourselfs\",\"reciprocity\",\"michigan\",\"aspiring\",\"attentions\",\"fitted\",\"systematically\",\"operations\",\"lang\",\"robert\",\"proverbs\",\"haircut\",\"mm\",\"removal\",\"inquiry\",\"insecurities\",\"outfits\",\"brining\",\"lao\",\"tread\",\"conceal\",\"outline\",\"mediation\",\"yuting\",\"caitlin\",\"caucasus\",\"finely\",\"crafted\",\"sheffield\",\"query\",\"accuracy\",\"coped\",\"vice\",\"pour\",\"skater\",\"apparel\",\"concisely\",\"clouded\",\"cores\",\"homo\",\"sapiens\",\"volumes\",\"grossly\",\"authentically\",\"standardized\",\"whangpo\",\"bo\",\"pastor\",\"encyclopedia\",\"percieved\",\"prospect\",\"implementation\",\"likelihood\",\"theguardian\",\"drift\",\"grandmothers\",\"align\",\"busses\",\"truck\",\"furniture\",\"fragrans\",\"updates\",\"figuratively\",\"percieve\",\"terminology\",\"starters\",\"identifiers\",\"seville\",\"personaly\",\"stark\",\"insults\",\"admission\",\"rejecting\",\"buff\",\"walker\",\"dustbins\",\"fans\",\"venue\",\"spirited\",\"shore\",\"closet\",\"handshaking\",\"beans\",\"newe\",\"erzsi\",\"predictability\",\"afterward\",\"sexism\",\"equated\",\"undermining\",\"revolutionary\",\"carefree\",\"intentioned\",\"initiate\",\"doe\",\"privileges\",\"rebuked\",\"patriarchal\",\"jin\",\"rehearsal\",\"nights\",\"clique\",\"defeat\",\"contemplating\",\"commentary\",\"compliments\",\"skeptical\",\"indentity\",\"annual\",\"gaming\",\"nintendo\",\"favoring\",\"ensured\",\"separating\",\"yell\",\"humane\",\"indicator\",\"anthropologists\",\"hop\",\"musicians\",\"workaholic\",\"threats\",\"infused\",\"mf\",\"oftentimes\",\"fold\",\"renegotiating\",\"disoriented\",\"bump\",\"youself\",\"toughest\",\"prompted\",\"sakhalin\",\"deepens\",\"paradigms\",\"wel\",\"occured\",\"govern\",\"sentiment\",\"neo\",\"council\",\"unsafe\",\"medellin\",\"oscar\",\"leverage\",\"qualification\",\"anecdote\",\"drafting\",\"biomedical\",\"undergird\",\"performer\",\"sustain\",\"shameful\",\"explosion\",\"opted\",\"contradicts\",\"isles\",\"familiarising\",\"aspergers\",\"progressing\",\"modernisation\",\"stir\",\"sentiments\",\"primed\",\"nasir\",\"ageing\",\"inviter\",\"michael\",\"farmer\",\"rushing\",\"understatement\",\"illustrative\",\"idiosyncratic\",\"instilled\",\"liitle\",\"ass\",\"moroccans\",\"collected\",\"converse\",\"factory\",\"neighborhoods\",\"opp\",\"admin\",\"pill\",\"starter\",\"monolithic\",\"nostalgic\",\"testimony\",\"notch\",\"hitler\",\"pregnancy\",\"chines\",\"energies\",\"southamerica\",\"attacked\",\"haired\",\"derogatory\",\"postings\",\"disadvantaged\",\"homosexuality\",\"cancer\",\"aesthetic\",\"illness\",\"permeate\",\"discriminations\",\"complication\",\"reckon\",\"unhelpful\",\"utrecht\",\"ignores\",\"wins\",\"ithink\",\"prices\",\"seller\",\"fc\",\"restored\",\"flourish\",\"hah\",\"feasible\",\"fancy\",\"medias\",\"victory\",\"bacause\",\"predetermined\",\"pursuits\",\"controversial\",\"dialogic\",\"masks\",\"knowlegde\",\"momentary\",\"totaly\",\"underwear\",\"dryers\",\"operates\",\"discount\",\"dismiss\",\"captures\",\"gardener\",\"nephews\",\"nieces\",\"writting\",\"stamps\",\"modification\",\"disagreements\",\"wondring\",\"ruler\",\"beckoning\",\"oversee\",\"akin\",\"evoked\",\"agitated\",\"jumps\",\"loudest\",\"eternity\",\"predispositions\",\"belarusian\",\"purposeful\",\"tennis\",\"invented\",\"destruction\",\"combat\",\"lector\",\"concidered\",\"rephrase\",\"secretive\",\"relied\",\"knock\",\"joked\",\"rebuilding\",\"showcase\",\"corporal\",\"estonian\",\"leadeship\",\"politician\",\"distort\",\"aptly\",\"lifes\",\"admiring\",\"drake\",\"pirate\",\"sheltered\",\"sorted\",\"deeper_levels\",\"allude\",\"permeates\",\"imbibed\",\"sinologist\",\"socialisation\",\"flew\",\"devise\",\"exploit\",\"classifications\",\"destroyed\",\"georg\",\"engrossed\",\"dissimilar\",\"analogies\",\"bullied\",\"banter\",\"accepts\",\"bind\",\"groceries\",\"romantically\",\"particularistic\",\"ecologist\",\"motion\",\"dichotomy\",\"spiritually\",\"thoughs\",\"surgeon\",\"resigned\",\"discriminatory\",\"dayly\",\"faceted\",\"wrist\",\"neat\",\"outfit\",\"balancing\",\"favorable\",\"executed\",\"ther\",\"foundational\",\"daedalus\",\"wednesday\",\"grasped\",\"violently\",\"bheaviour\",\"nursing\",\"attraction\",\"guards\",\"conseguence\",\"overtime\",\"relationshipe\",\"immersion\",\"presumption\",\"knit\",\"carbon\",\"tilting\",\"peering\",\"preclude\",\"dastyari\",\"undergo\",\"breaker\",\"delightful\",\"preliminary\",\"suspicion\",\"submit\",\"avout\",\"globalizing\",\"yumi\",\"frightening\",\"avatars\",\"projections\",\"negatives\",\"echo\",\"exemplified\",\"confrontational\",\"prevails\",\"flaw\",\"expecially\",\"assignement\",\"composer\",\"bach\",\"encompasses\",\"netflix\",\"comers\",\"maturity\",\"roomates\",\"colder\",\"hiring\",\"backing\",\"groupthink\",\"kebe\",\"cheaper\",\"hire\",\"ugep\",\"cruel\",\"dripping\",\"unfolding\",\"designing\",\"empowering\",\"remeber\",\"tower\",\"ambivalence\",\"sworn\",\"iis\",\"texture\",\"blatant\",\"welcomes\",\"lounge\",\"equitable\",\"tenets\",\"symptom\",\"smoother\",\"allegiance\",\"exploitation\",\"ethnocentricity\",\"specified\",\"compensation\",\"taxing\",\"cling\",\"embodies\",\"hardness\",\"endure\",\"philosophies\",\"bend\",\"subordinates\",\"indicating\",\"functioning\",\"beacons\",\"settling\",\"declaring\",\"genetic\",\"locus\",\"fragmented\",\"bravely\",\"escudero\",\"depicts\",\"adjective\",\"infuriated\",\"thirteen\",\"mindsets\",\"lowest\",\"prints\",\"beats\",\"addicts\",\"acrostics\",\"uh\",\"martial\",\"crusades\",\"genocides\",\"primordial\",\"wp\",\"republican\",\"storm\",\"ranging\",\"enthousiastic\",\"beaten\",\"fulfillment\",\"priceless\",\"gamer\",\"activated\",\"contemplative\",\"lessened\",\"teufel\",\"imaginative\",\"cumbersome\",\"pathways\",\"approx\",\"nonjudgemental\",\"jehovah\",\"scrambled\",\"tomatoes\",\"instantly\",\"selecting\",\"worldly\",\"shoud\",\"accidental\",\"hears\",\"freelancer\",\"praising\",\"hills\",\"documentary\",\"selfishness\",\"amicable\",\"tattoos\",\"neck\",\"thirties\",\"bulling\",\"samples\",\"lined\",\"tcks\",\"aviod\",\"hugged\",\"elses\",\"twitter\",\"contact_reduce\",\"babel\",\"inhabitant\",\"synchronized\",\"allport\",\"flee\",\"prospects\",\"scrutinise\",\"ditch\",\"coffe\",\"moderation\",\"andalusian\",\"probable\",\"summarized\",\"volleyball\",\"weary\",\"hybridity\",\"dispute\",\"clich\",\"temporarily\",\"aa\",\"intruder\",\"lifelong\",\"dass\",\"centres\",\"solace\",\"reduction\",\"authenticity\",\"elite\",\"bu\",\"denominational\",\"stumbling\",\"loler\",\"mastered\",\"coordination\",\"aways\",\"provision\",\"sting\",\"insert\",\"mmm\",\"aboard\",\"sucked\",\"ar\",\"ly\",\"acquisition\",\"recovered\",\"screaming\",\"landing\",\"phew\",\"distinctly\",\"crush\",\"string\",\"butt\",\"beeing\",\"abundance\",\"refered\",\"maid\",\"von\",\"woke\",\"bargaining\",\"engagements\",\"loosely\",\"expansive\",\"astounding\",\"revise\",\"regulars\",\"kolb\",\"olds\",\"armenia\",\"idioms\",\"diseas\",\"advices\",\"statistically\",\"counted\",\"instructions\",\"arrows\",\"bride\",\"edit\",\"memorizing\",\"conveniently\",\"formulations\",\"myers\",\"briggs\",\"aisle\",\"interruption\",\"kno\",\"athmosphere\",\"mobiles\",\"methodologies\",\"dose\",\"assurance\",\"illiterate\",\"lion\",\"temporal\",\"studyfriends\",\"concentrated\",\"divergence\",\"sticky\",\"isolates\",\"cordial\",\"contempt\",\"unnerving\",\"etiquettes\",\"occupying\",\"snack\",\"appealing\",\"overcast\",\"noisier\",\"collegeagues\",\"brushing\",\"lebensraum\",\"retention\",\"frankness\",\"mindfully\",\"willingly\",\"satire\",\"laziness\",\"ambient\",\"enduring\",\"reunions\",\"parenting\",\"pagan\",\"bones\",\"dining\",\"truths\",\"borrow\",\"twain\",\"unfollow\",\"competency\",\"uber\",\"polychronimics\",\"forgetful\",\"versa\",\"raises\",\"contexted\",\"interferes\",\"partake\",\"jacket\",\"generating\",\"lenguages\",\"jacketed\",\"tact\",\"paypoint\",\"comfortzone\",\"gravitate\",\"submissions\",\"violating\",\"commodity\",\"condoms\",\"mcdonalds\",\"fleeting\",\"legislation\",\"wat\",\"gun\",\"attuned\",\"internalised\",\"sobriety\",\"overuse\",\"steamed\",\"frits\",\"benefitted\",\"dc\",\"sensibilities\",\"density\",\"downloading\",\"allot\",\"prevailed\",\"crammed\",\"monitored\",\"seater\",\"meditating\",\"xeniya\",\"fulbright\",\"mississippi\",\"lone\",\"latitudes\",\"manipulate\",\"comparatively\",\"demonstrated\",\"calmness\",\"coldness\",\"cs\",\"robot\",\"awake\",\"eradicate\",\"complementary\",\"kick\",\"yearned\",\"tangential\",\"functionality\",\"rewarded\",\"nao\",\"monica\",\"wagons\",\"konrad\",\"lorenz\",\"commuting\",\"betwee\",\"congratulate\",\"oisa\",\"tabid\",\"equivalence\",\"ects\",\"davidlivermore\",\"fellowship\",\"lateness\",\"aura\",\"etcetera\",\"analogue\",\"bullock\",\"busier\",\"toss\",\"pounds\",\"denied\",\"penetrated\",\"trams\",\"decorative\",\"orientalism\",\"review_assignments\",\"bs\",\"rican\",\"sparce\",\"coded\",\"postmodernity\",\"fraternities\",\"pole\",\"pedestrians\",\"wolves\",\"drifting\",\"monk\",\"deleting\",\"stadium\",\"seating\",\"attentively\",\"clarified\",\"silver\",\"implication\",\"mondays\",\"accountable\",\"coachee\",\"graph\",\"nhk\",\"cluttered\",\"pending\",\"ambitions\",\"revolve\",\"ethnorelative\",\"floating\",\"blackboard\",\"monitoring\",\"forgiving\",\"prioritise\",\"calming\",\"sized\",\"app_mobile\",\"perceives\",\"laden\",\"sinister\",\"darkness\",\"amendments\",\"soldier\",\"plucked\",\"fotos\",\"internalized\",\"costing\",\"scare\",\"stephen\",\"covey\",\"vehicle\",\"libert\",\"auditorium\",\"formats\",\"slide\",\"bargain\",\"geert\",\"tt\",\"dongyong\",\"candy\",\"formally\",\"refuses\",\"ruins\",\"personalized\",\"applicant\",\"soothe\",\"restraining\",\"supplier\",\"excused\",\"errands\",\"edward\",\"actualisation\",\"emigration\",\"mw\",\"highcontext\",\"tape\",\"mosaic\",\"frugality\",\"kitchens\",\"oven\",\"separateness\",\"apprehension\",\"integrative\",\"adhering\",\"emphaty\",\"rocio\",\"disorder\",\"boiling\",\"padlet\",\"ss\",\"unstable\",\"corrupt\",\"scholarworks\",\"gsu\",\"viewcontent\",\"diss\",\"accountability\",\"flexibly\",\"pretentious\",\"unplanned\",\"chronological\",\"herbal\",\"trials\",\"exept\",\"azibo\",\"abnormal\",\"alexander\",\"scoring\",\"retained\",\"urges\",\"kawazoe\",\"polichronic\",\"emerging\",\"readapt\",\"greatness\",\"carter\",\"planboard\",\"preserving\",\"accord\",\"strings\",\"zwarte\",\"piet\",\"operated\",\"recognisable\",\"seing\",\"vegetarians\",\"kingdoms\",\"cargo\",\"bristish\",\"consistency\",\"prophet\",\"voltaire\",\"augustine\",\"jerusalem\",\"optimistically\",\"microwave\",\"outlets\",\"confuses\",\"responsibilty\",\"hardwork\",\"itch\",\"longed\",\"undergoing\",\"collectivisim\",\"japheth\",\"ons\",\"cultureshock\",\"helpfulness\",\"shortens\",\"osmosis\",\"fulfilment\",\"refuge\",\"subjecting\",\"cloudy\",\"surpass\",\"matching\",\"materialistic\",\"euphoria\",\"coll\",\"cracking\",\"bakery\",\"difficoult\",\"sensitization\",\"salmiakki\",\"humidity\",\"controller\",\"shopkeeper\",\"rootless\",\"adjustable\",\"penfriend\",\"monkey\",\"formula\",\"illusion\",\"hoofstede\",\"binaries\",\"clashing\",\"frans\",\"aikido\",\"gg\",\"yamaha\",\"transmits\",\"cohort\",\"pressures\",\"macro\",\"equip\",\"suburb\",\"qingdao\",\"introversion\",\"ci\",\"afs\",\"convenience\",\"magazines\",\"eased\",\"admitted\",\"contrasted\",\"burma\",\"farther\",\"complicate\",\"technically\",\"extract\",\"clocks\",\"watches\",\"funeral\",\"houston\",\"sale\",\"guinea\",\"liechtenstein\",\"quarrel\",\"somalis\",\"interrupting\",\"qatar\",\"socialised\",\"geneva\",\"notably\",\"partnership\",\"cocktail\",\"hurtful\",\"exercising\",\"bengal\",\"embarrased\",\"nsw\",\"relocated\",\"tefl\",\"aka\",\"divorce\",\"oceans\",\"spirits\",\"defence\",\"laetitia\",\"moon\",\"heritages\",\"sullen\",\"kullich\",\"unclean\",\"seed\",\"shells\",\"pseudo\",\"petersburg\",\"hamper\",\"tought\",\"ngos\",\"william\",\"ontario\",\"xmtuynjm\",\"nzywma\",\"franca\",\"decrease\",\"dhabi\",\"collapse\",\"asturias\",\"asturian\",\"peninsula\",\"ib\",\"coexistence\",\"bahia\",\"fo\",\"lisa\",\"atm\",\"academy\",\"zeeland\",\"maastricht\",\"mariya\",\"forests\",\"risks\",\"vibrant\",\"sporting\",\"colonisation\",\"collaborating\",\"possess\",\"consumerism\",\"bristol\",\"assimilating\",\"pertaining\",\"tot\",\"crosses\",\"terrified\",\"popped\",\"sandwiches\",\"janine\",\"newspapers\",\"temper\",\"enroll\",\"mohammad\",\"bba\",\"blurred\",\"presidential\",\"donald\",\"interior\",\"columbia\",\"westland\",\"ibiza\",\"branches\",\"forty\",\"renew\",\"qualifications\",\"algeria\",\"traced\",\"chameleon\",\"imporant\",\"efl\",\"slovak\",\"bewildered\",\"sam\",\"gianela\",\"detrimental\",\"fron\",\"generic\",\"meets\",\"resembles\",\"autonomous\",\"volunteers\",\"scandinavia\",\"stricter\",\"located_south\",\"tease\",\"emergency\",\"professionalism\",\"midori\",\"chicago\",\"blues\",\"chemical\",\"nantong\",\"promising\",\"asmara\",\"dialectic\",\"unified\",\"finn\",\"watermelon\",\"dozen\",\"bailey\",\"mingling\",\"du\",\"paulo\",\"dominate\",\"untill\",\"unlearn\",\"daring\",\"sectors\",\"tunesia\",\"ti\",\"insulted\",\"akward\",\"cleared\",\"pursued\",\"kicking\",\"pants\",\"potatoes\",\"genes\",\"companion\",\"googled\",\"fermented\",\"consulting\",\"baltic\",\"merits\",\"merit\",\"aristotle\",\"virginia\",\"chef\",\"plains\",\"protocol\",\"uninvited\",\"dreamy\",\"germana\",\"homelands\",\"manifests\",\"insignificant\",\"yong\",\"sheds\",\"kiki\",\"tofu\",\"bean\",\"curd\",\"allergic\",\"narrowed\",\"kansas\",\"coloured\",\"beatiful\",\"pressed\",\"diplomat\",\"kate\",\"aspirations\",\"internships\",\"magnificent\",\"selasi\",\"alphabet\",\"psychotherapist\",\"yankunytjatjara\",\"easterners\",\"majored\",\"vis\",\"mannerism\",\"por\",\"puerto\",\"guangzhou\",\"retain\",\"twist\",\"wrapped\",\"mayor\",\"doctoral\",\"boat\",\"pavement\",\"nowdays\",\"clip\",\"nanjing\",\"masai\",\"invites\",\"verify\",\"guessed\",\"limpopo\",\"loses\",\"mocked\",\"iraqi\",\"figurative\",\"horrified\",\"cracked\",\"hulls\",\"diferent\",\"dificult\",\"grandfathers\",\"oldenburg\",\"conveyed\",\"hostility\",\"restrained\",\"bicycle\",\"binding\",\"wealthy\",\"advisable\",\"disregard\",\"na\",\"jackson\",\"ulan\",\"ude\",\"detect\",\"vitally\",\"insists\",\"exceptional\",\"existent\",\"brittany\",\"breton\",\"spaniard\",\"handbook\",\"dreaming\",\"yu\",\"availability\",\"hairdresser\",\"jigsaw\",\"casa\",\"ensuing\",\"combines\",\"thirth\",\"celebrates\",\"undestand\",\"exaggerate\",\"furious\",\"jews\",\"sarajevo\",\"referendum\",\"conviction\",\"especialy\",\"actor\",\"comedian\",\"microbiology\",\"legally\",\"biology\",\"subscribe\",\"injustice\",\"suck\",\"civilized\",\"restrict\",\"reticence\",\"ciao\",\"sino\",\"normality\",\"programming\",\"depths\",\"continually\",\"lengths\",\"slept\",\"complexities\",\"theri\",\"darker\",\"halt\",\"outcast\",\"clicked\",\"lacked\",\"thoughtfulness\",\"generalizing\",\"enquiring\",\"growed\",\"fearing\",\"android\",\"punished\",\"melt\",\"wasted\",\"ancestor\",\"flowing\",\"jumped\",\"designated\",\"kristina\",\"successes\",\"plainly\",\"franco\",\"squares\",\"heaven\",\"elusive\",\"ventured\",\"siesta\",\"nostalgia\",\"hallo\",\"outdated\",\"traces\",\"reservation\",\"beacause\",\"entre\",\"qu\",\"avec\",\"conscience\",\"invitations\",\"anniversary\",\"facilitating\",\"baikal\",\"golf\",\"echoes\",\"stereotypically\",\"proportion\",\"differed\",\"fired\",\"heater\",\"mistook\",\"introduces\",\"neglecting\",\"familiy\",\"knowe\",\"philology\",\"internalize\",\"generously\",\"standpoint\",\"accumulate\",\"whichever\",\"attack\",\"subsequent\",\"serbs\",\"soooo\",\"afghan\",\"pats\",\"animated\",\"copying\",\"formation\",\"brighton\",\"industries\",\"guessing\",\"continental\",\"tram\",\"awe\",\"michel\",\"differernt\",\"noone\",\"conquer\",\"affiliate\",\"natasa\",\"hsbc\",\"commercials\",\"inaccurate\",\"simplified\",\"camping\",\"pertinent\",\"undesirable\",\"measured\",\"stanford\",\"dismissive\",\"translators\",\"categorisation\",\"socialized\",\"yemen\",\"contested\",\"realy\",\"individualised\",\"fake\",\"materialism\",\"critically\",\"goldberg\",\"founder\",\"biography\",\"implementing\",\"obama\",\"portion\",\"clogs\",\"upfront\",\"zones\",\"suwarni\",\"acquiring\",\"kiev\",\"arrives\",\"negotiable\",\"rinse\",\"toll\",\"jr\",\"soap\",\"organising\",\"outlines\",\"birds\",\"ugandese\",\"drastically\",\"kazakhs\",\"uzbek\",\"ideally\",\"amazingly\",\"porridge\",\"extremly\",\"interacts\",\"validity\",\"keith\",\"nodded\",\"gardens\",\"concerts\",\"nurtured\",\"blocks\",\"devide\",\"hahah\",\"grasping\",\"kanji\",\"flavor\",\"enhancing\",\"mianzi\",\"merhaban\",\"assign\",\"hmmm\",\"triggered\",\"abuse\",\"shirley\",\"subways\",\"shortage\",\"bodylanguage\",\"locality\",\"transmitting\",\"pains\",\"pluralistic\",\"disappeared\",\"intensive\",\"inequalities\",\"holes\",\"indonesians\",\"rulers\",\"diminishing\",\"offline\",\"abandon\",\"intruding\",\"er\",\"grasslands\",\"grazing\",\"urbanization\",\"sudanese\",\"cradle\",\"persevering\",\"contries\",\"cramped\",\"alertness\",\"syncretism\",\"build_bridge\",\"juan\",\"ceuta\",\"granada\",\"gansu\",\"somethings\",\"eurocentric\",\"blur\",\"suprise\",\"student_majoring\",\"discontent\",\"nyc\",\"proven\",\"descendants\",\"intentionality\",\"precedence\",\"analysed\",\"siofra\",\"fascination\",\"jayne\",\"unravel\",\"spots\",\"instrumental\",\"feely\",\"evidently\",\"dive\",\"abundant\",\"transforming\",\"venice\",\"yrs\",\"dedicate\",\"survivor\",\"endorse\",\"embarassed\",\"ray\",\"cleaned\",\"reproduce\",\"touristic\",\"generalise\",\"fons\",\"interference\",\"customes\",\"dwellers\",\"norwegians\",\"demanded\",\"secluded\",\"scheme\",\"mislead\",\"fifties\",\"syndrome\",\"beaches\",\"observers\",\"flats\",\"neatly\",\"attacks\",\"parisian\",\"coworker\",\"clusters\",\"environmentally\",\"fathom\",\"necessitates\",\"mobility\",\"icebergs\",\"utilitarian\",\"fools\",\"backpack\",\"objectively\",\"zoe\",\"sylvia\",\"conveying\",\"regretted\",\"tang\",\"xinyi\",\"specialized\",\"sociocultural\",\"dai\",\"declare\",\"endeavor\",\"steak\",\"mastery\",\"hilarious\",\"alway\",\"kiwi\",\"lithuanians\",\"outdoors\",\"daniel\",\"onuwa\",\"triandis\",\"jo\",\"timer\",\"juggle\",\"greener\",\"honorific\",\"cosy\",\"tge\",\"anneke\",\"meticulously\",\"paste\",\"relearn\",\"interlinked\",\"winning\",\"crafts\",\"tackling\",\"underlies\",\"persistent\",\"forgive\",\"bench\",\"ethical\",\"deed\",\"tingying\",\"litter\",\"hebei\",\"menber\",\"cartoon\",\"salon\",\"seperate\",\"facilitated\",\"patronizing\",\"rebel\",\"substance\",\"comply\",\"inquisitive\",\"exits\",\"shot\",\"switched\",\"pros\",\"cons\",\"enjoyment\",\"chineses\",\"photographing\",\"priest\",\"generalised\",\"complaints\",\"coexist\",\"button\",\"occasional\",\"wilderness\",\"brahmin\",\"midlle\",\"aversion\",\"stagnant\",\"unethical\",\"happiest\",\"commands\",\"observable\",\"intensively\",\"proving\",\"characterize\",\"spinning\",\"aspire\",\"stunning\",\"sung\",\"heroes\",\"loretta\",\"adopting\",\"hardship\",\"emile\",\"aligned\",\"chiefs\",\"limitation\",\"planets\",\"nan\",\"enormously\",\"badminton\",\"spoon\",\"plaza\",\"distress\",\"intermingled\",\"taht\",\"brains\",\"weapons\",\"subjected\",\"demonstrates\",\"favourites\",\"lesbians\",\"heterosexual\",\"collisions\",\"sausages\",\"subtleties\",\"appeals\",\"investment\",\"gums\",\"speechless\",\"cultura\",\"pie\",\"emigrants\",\"wrongly\",\"geared\",\"trusting\",\"pose\",\"hip\",\"strips\",\"ya\",\"collecting\",\"awakening\",\"simon\",\"nutshell\",\"empower\",\"resistance\",\"reith\",\"outwardly\",\"souls\",\"flip\",\"flies\",\"calmer\",\"cigarette\",\"dramas\",\"reciprocated\",\"bury\",\"benjamin\",\"schooled\",\"skinned\",\"surrounds\",\"inspirational\",\"contact_hypothesis\",\"vegetable\",\"mins\",\"leg\",\"koos\",\"jordanian\",\"theorists\",\"reviewers\",\"develops\",\"ran\",\"compact\",\"cinemaddict\",\"sweets\",\"caution\",\"barbara\",\"cedric\",\"wilde\",\"clarifications\",\"nhs\",\"atrocities\",\"workplaces\",\"transcends\",\"readers\",\"colectivism\",\"adaptations\",\"exploited\",\"hannah\",\"vehicles\",\"bottle\",\"lore\",\"creat\",\"rhe\",\"bur\",\"wasnt\",\"lewis\",\"oppressive\",\"courageous\",\"overestimate\",\"hirachy\",\"intellect\",\"accounting\",\"sandwich\",\"northerners\",\"pulling\",\"bashing\",\"improtant\",\"miserable\",\"minh\",\"adamant\",\"intellectually\",\"paint\",\"fir\",\"exert\",\"evie\",\"tempted\",\"wording\",\"nerve\",\"od\",\"informations\",\"indentities\",\"sofa\",\"seated\",\"towels\",\"unpolite\",\"sportive\",\"imaginary\",\"kuwait\",\"palestine\",\"importan\",\"outlet\",\"instinctive\",\"solely\",\"princess\",\"convert\",\"memos\",\"svetlana\",\"unproductive\",\"cage\",\"affraid\",\"damascene\",\"mater\",\"circular\",\"percentage\",\"gladly\",\"endeavors\",\"vedio\",\"dangers\",\"baking\",\"kuala\",\"lumpur\",\"book_cover\",\"prison\",\"rolling\",\"uncover\",\"embarassment\",\"arbitrary\",\"rhymes\",\"misinterpret\",\"survived\",\"draws\",\"pong\",\"argued\",\"zuo\",\"trap\",\"tale\",\"heed\",\"despise\",\"convictions\",\"idendity\",\"forehead\",\"defense\",\"signature\",\"depressing\",\"righteous\",\"fences\",\"bills\",\"visualize\",\"dirt\",\"shakes\",\"experimental\",\"posture\",\"produces\",\"goer\",\"compromises\",\"supporter\",\"snap\",\"founding\",\"decreasing\",\"qualitative\",\"orient\",\"circled\",\"indulging\",\"synchronous\",\"hostels\",\"clerk\",\"compatriots\",\"payment\",\"tab\",\"ergo\",\"killing\",\"recreation\",\"cornerstone\",\"drastic\",\"shopper\",\"chunyan\",\"potter\",\"legitimate\",\"sage\",\"vocabularies\",\"maintains\",\"steady\",\"scotch\",\"writingtank\",\"enhances\",\"darling\",\"reserving\",\"engine\",\"sparks\",\"overtly\",\"portrait\",\"abrupt\",\"sleeping\",\"resonated\",\"boisterous\",\"php\",\"impulsive\",\"elections\",\"maximize\",\"rhythms\",\"judges\",\"policeman\",\"southerners\",\"si\",\"superficially\",\"sushi\",\"beware\",\"ouselves\",\"expenses\",\"regain\",\"corridor\",\"ambition\",\"reinvent\",\"stewardess\",\"indication\",\"translates\",\"impersonal\",\"recruitment\",\"flying\",\"finance\",\"dropping\",\"queueing\",\"multiply\",\"empirical\",\"confirming\",\"wishful\",\"tactful\",\"begging\",\"disciplinary\",\"sentimental\",\"poorly\",\"amiable\",\"generalization\",\"vicious\",\"width\",\"photograph\",\"convergence\",\"co_uk\",\"disabilities\",\"disorienting\",\"elevators\",\"sustained\",\"communicaton\",\"turquish\",\"sends\",\"fuller\",\"certificates\",\"erase\",\"nv\",\"billions\",\"selina\",\"criticized\",\"aloof\",\"monterrey\",\"quakers\",\"conversational\",\"inconvenient\",\"guizhou\",\"sensed\",\"quarreling\",\"hl\",\"visually\",\"sunda\",\"scream\",\"contemplation\",\"shelf\",\"basing\",\"heated\",\"communcation\",\"divergent\",\"yearly\",\"sony\",\"hcl\",\"lcl\",\"descriptions\",\"publishing\",\"wand\",\"acronym\",\"folders\",\"linearly\",\"palm\",\"synchronize\",\"diagrams\",\"tent\",\"delays\",\"sheets\",\"incompatible\",\"accomodate\",\"hearer\",\"monchronic\",\"misses\",\"deliberate\",\"utterances\",\"alerts\",\"seeming\",\"ticking\",\"reliance\",\"positioning\",\"hesitating\",\"jolie\",\"dislikes\",\"hats\",\"carioca\",\"paintings\",\"playground\",\"prefered\",\"sequencing\",\"degreed\",\"freer\",\"pushy\",\"cycles\",\"pragmatism\",\"sensing\",\"proposals\",\"feast\",\"individuating\",\"hainan\",\"joking\",\"raquel\",\"candlelight\",\"paradoxically\",\"delayed\",\"cynicism\",\"museumgoers\",\"aspx\",\"estimated\",\"gut\",\"babies\",\"handles\",\"complement\",\"bucket\",\"admiration\",\"stressfull\",\"showers\",\"plunge\",\"unsettled\",\"desktop\",\"attunement\",\"interdependent\",\"guaranteed\",\"gotta\",\"alon\",\"universtiy\",\"infj\",\"offspring\",\"convincing\",\"tide\",\"enforced\",\"governmental\",\"trompenaar\",\"wvscontents\",\"jsp\",\"intonation\",\"weds\",\"bird\",\"individualists\",\"collectivists\",\"amazement\",\"trial\",\"relativity\",\"bake\",\"wasp\",\"strodtbeck\",\"inportant\",\"centric\",\"akbar\",\"africentric\",\"dichotomies\",\"cuny\",\"afprl\",\"historians\",\"sjors\",\"compelling\",\"subcontinent\",\"truckers\",\"cheating\",\"inglehart\",\"intergrity\",\"certainty\",\"cakes\",\"maxi\",\"rains\",\"arranging\",\"scuba\",\"tcc\",\"sussman\",\"humid\",\"washrooms\",\"mari\",\"rakesh\",\"rana\",\"couldnt\",\"unwilling\",\"hole\",\"malay\",\"transmit\",\"janeiro\",\"percent\",\"sections\",\"columbian\",\"adventurer\",\"physics\",\"cozy\",\"latino\",\"envious\",\"laundry\",\"october\",\"sample\",\"coworkers\",\"evenings\",\"telugu\",\"urdu\",\"displacement\",\"yugoslavia\",\"processed\",\"azerbaijan\",\"somalia\",\"happenings\",\"farmers\",\"prospective\",\"pair\",\"lille\",\"unease\",\"publicly\",\"machines\",\"stead\",\"kerala\",\"amazigh\",\"ou\",\"salt\",\"worn\",\"developments\",\"whereby\",\"succeeded\",\"knocked\",\"counter\",\"thin\",\"mores\",\"friendlier\",\"lineage\",\"highschool\",\"volunteered\",\"genealogy\",\"measures\",\"formative\",\"montreal\",\"star\",\"outlined\",\"unhappiness\",\"talents\",\"doesnt\",\"lianne\",\"teamwork\",\"unrelated\",\"march\",\"channels\",\"residing\",\"nasty\",\"nadine\",\"decreased\",\"choir\",\"swahili\",\"marseille\",\"santiago\",\"inherit\",\"therapist\",\"blending\",\"coherent\",\"earthling\",\"maternity\",\"conventions\",\"conducted\",\"realizations\",\"temperatures\",\"contradictions\",\"imperative\",\"colonies\",\"examination\",\"misplaced\",\"voted\",\"favours\",\"insufficient\",\"christine\",\"rugby\",\"addiction\",\"deb\",\"niece\",\"executives\",\"domination\",\"mauritius\",\"manifested\",\"approximately\",\"virtues\",\"easiest\",\"brit\",\"maori\",\"pessimistic\",\"attachment\",\"bite\",\"threads\",\"originated\",\"lima\",\"owns\",\"diplomatic\",\"overnight\",\"instructors\",\"professions\",\"approval\",\"terror\",\"conventional\",\"ohio\",\"simplistic\",\"claudia\",\"excessive\",\"nov\",\"bennett\",\"adept\",\"receives\",\"chest\",\"fingers\",\"cleaner\",\"delight\",\"xico\",\"preparations\",\"temples\",\"pulled\",\"stance\",\"hosting\",\"unmarried\",\"midst\",\"tidy\",\"intercultual\",\"punish\",\"syrians\",\"cameroon\",\"fro\",\"vantage\",\"humanities\",\"corrected\",\"flavour\",\"delta\",\"tending\",\"hai\",\"meta\",\"generalisations\",\"ironically\",\"costa\",\"resilient\",\"arakan\",\"croatia\",\"inbetween\",\"expatriate\",\"bitter\",\"buddhists\",\"blessings\",\"beef\",\"bless\",\"disliked\",\"confined\",\"bhawuk\",\"thrilled\",\"cai\",\"belgrade\",\"peach\",\"peaches\",\"poses\",\"roof\",\"coutries\",\"usefull\",\"ngo\",\"albania\",\"counties\",\"egyptians\",\"underestimate\",\"swear\",\"rescue\",\"specialists\",\"multitude\",\"fulfil\",\"bay\",\"reports\",\"delicacy\",\"frequency\",\"statistics\",\"bikes\",\"proficient\",\"constraints\",\"chengdu\",\"enemies\",\"needless\",\"salad\",\"popularity\",\"zhengzhou\",\"circumstantial\",\"summers\",\"invasive\",\"tag\",\"eagerness\",\"congregation\",\"rapport\",\"frozen\",\"rivers\",\"baggages\",\"boost\",\"knowledges\",\"minimal\",\"atlantic\",\"attendance\",\"delivery\",\"unforgettable\",\"eritrean\",\"prague\",\"measuring\",\"spontaneity\",\"gabrielle\",\"apologised\",\"reporting\",\"shortly\",\"rests\",\"jumping\",\"ben\",\"mestizo\",\"learing\",\"filipinos\",\"mercy\",\"suffers\",\"becouse\",\"withdraw\",\"unpredictable\",\"fran\",\"kilt\",\"irrational\",\"populated\",\"coverage\",\"eliciting\",\"updating\",\"fellows\",\"launched\",\"waiters\",\"suspicious\",\"blends\",\"jiang\",\"creole\",\"adjectives\",\"inspite\",\"refined\",\"multifaceted\",\"import\",\"gum\",\"chewing\",\"intimidated\",\"mohammed\",\"frowned\",\"borned\",\"wonderfull\",\"celebrations\",\"croatian\",\"chains\",\"stimulated\",\"tranquility\",\"stiff\",\"zoo\",\"dismay\",\"accomplishments\",\"cleanliness\",\"virtue\",\"bribe\",\"guts\",\"comprehending\",\"sided\",\"monuments\",\"wit\",\"liberation\",\"calculated\",\"deserves\",\"convince\",\"bachelor\",\"immigrate\",\"signing\",\"eve\",\"felipe\",\"picturesque\",\"tricks\",\"instrument\",\"excursion\",\"chaos\",\"vain\",\"fading\",\"gastronomy\",\"whats\",\"overloaded\",\"disciplined\",\"hausa\",\"undertand\",\"concentrating\",\"unimaginable\",\"missionary\",\"instructional\",\"desperately\",\"repack\",\"credibility\",\"facet\",\"managerial\",\"battlefield\",\"guadalajara\",\"admittedly\",\"extensive\",\"ear\",\"employ\",\"intercultral\",\"ph\",\"ish\",\"ngozi\",\"species\",\"measurement\",\"illustrations\",\"brush\",\"novels\",\"duke\",\"kunshan\",\"venture\",\"ethnographic\",\"vocation\",\"diagram\",\"tedious\",\"discusses\",\"pauline\",\"breakdown\",\"translating\",\"forge\",\"chats\",\"presumptions\",\"tehran\",\"gerard\",\"crimes\",\"criticisms\",\"defferent\",\"existed\",\"passports\",\"tremendously\",\"territories\",\"educating\",\"nt\",\"classification\",\"confusions\",\"diff\",\"adress\",\"dessert\",\"digesting\",\"intensely\",\"practiced\",\"linguistically\",\"stale\",\"uzbekistan\",\"couse\",\"goodwill\",\"protocols\",\"titles\",\"flights\",\"socialising\",\"ironic\",\"banned\",\"oppression\",\"reinforced\",\"hanson\",\"explores\",\"horror\",\"marian\",\"literatures\",\"catholics\",\"zhanjiang\",\"comunicate\",\"vinegar\",\"calvinistic\",\"tibet\",\"marco\",\"hui\",\"summarize\",\"notorious\",\"westernized\",\"toe\",\"solastalgia\",\"subtly\",\"recalled\",\"nurbike\",\"humiliated\",\"recover\",\"winner\",\"quotation\",\"persist\",\"somtimes\",\"generated\",\"override\",\"bow\",\"globalised\",\"backwards\",\"timid\",\"grope\",\"pitfalls\",\"lo\",\"strategic\",\"reassuring\",\"academically\",\"bowing\",\"bonjour\",\"stimulus\",\"elementary\",\"declared\",\"donot\",\"ho\",\"operator\",\"electricity\",\"asap\",\"laughs\",\"grant\",\"bob\",\"yan\",\"bing\",\"coconut\",\"shell\",\"bashkir\",\"religiously\",\"pat\",\"lord\",\"hardships\",\"mankind\",\"unprepared\",\"apartheid\",\"fatigue\",\"manifestation\",\"projecting\",\"whith\",\"terrorist\",\"criticizing\",\"facial\",\"gulf\",\"dormitory\",\"demarcation\",\"confucianism\",\"records\",\"submitted\",\"zurich\",\"communism\",\"capitalism\",\"cohesion\",\"experiential\",\"engineers\",\"classified\",\"ningxia\",\"feminism\",\"expands\",\"recipe\",\"dissatisfaction\",\"agencies\",\"fruits\",\"granda\",\"allowance\",\"foolish\",\"buried\",\"parameters\",\"appointed\",\"minimise\",\"meter\",\"eloquent\",\"purchasing\",\"ham\",\"monitor\",\"inadequate\",\"climatic\",\"sky\",\"duration\",\"aldana\",\"minnan\",\"reacts\",\"stuffs\",\"unemployed\",\"follower\",\"visions\",\"contemplate\",\"friction\",\"pressing\",\"reaches\",\"diminish\",\"detailing\",\"static\",\"narratives\",\"mixes\",\"fool\",\"mastering\",\"nurturing\",\"ugly\",\"requiring\",\"intrinsic\",\"layered\",\"troubled\",\"positioned\",\"stimulate\",\"boomer\",\"labelling\",\"mentoring\",\"interplay\",\"orders\",\"significantly\",\"readiness\",\"qualify\",\"autumn\",\"scent\",\"segments\",\"cn\",\"accountant\",\"elicit\",\"attributions\",\"separately\",\"forceful\",\"praying\",\"scenarios\",\"grounds\",\"fridge\",\"responsability\",\"destructive\",\"cloud\",\"perfection\",\"connectedness\",\"fundamentally\",\"halfway\",\"frontiers\",\"sorting_identities\",\"uninterested\",\"charlie\",\"psych\",\"consent\",\"edition\",\"creed\",\"venezuelan\",\"tangled\",\"facilitator\",\"tagged\",\"colored\",\"connectivity\",\"mutiple\",\"compass\",\"healing\",\"denying\",\"permanently\",\"precautions\",\"interruptions\",\"unnatural\",\"clears\",\"serb\",\"altogether\",\"warmer\",\"cooperating\",\"settlers\",\"trusted\",\"accused\",\"emphasising\",\"steal\",\"sacrificing\",\"advocates\",\"owe\",\"flows\",\"formulate\",\"angels\",\"citro\",\"decisive\",\"distorted\",\"knw\",\"discriminating\",\"theorist\",\"repair\",\"fragile\",\"chatty\",\"allocate\",\"methodological\",\"scares\",\"isolating\",\"chain\",\"wing\",\"raining\",\"ego\",\"sheep\",\"preferring\",\"isabel\",\"fried\",\"shanxi\",\"warmly\",\"differentiation\",\"repeatedly\",\"imo\",\"piano\",\"queen\",\"sensible\",\"intentional\",\"bureaucratic\",\"assert\",\"examinations\",\"memo\",\"unbearable\",\"nomad\",\"psyche\",\"addict\",\"organisational\",\"hierarchies\",\"hearty\",\"segment\",\"dissertation\",\"simmel\",\"clumsy\",\"apprehensive\",\"pianist\",\"brotherhood\",\"grocery\",\"manifest\",\"optimist\",\"specialty\",\"sensibility\",\"lyric\",\"melody\",\"intensity\",\"surgery\",\"distract\",\"auto\",\"carrier\",\"youtu\",\"dough\",\"devote\",\"quo\",\"calmed\",\"calmly\",\"idealized\",\"icc\",\"reinforces\",\"bearing\",\"webinar\",\"clearing\",\"competitions\",\"lastly\",\"chores\",\"optimal\",\"unload\",\"disney\",\"oblivious\",\"depict\",\"invested\",\"documented\",\"selective\",\"disgruntled\",\"frog\",\"fore\",\"yun\",\"coat\",\"cultivating\",\"mate\",\"grades\",\"odds\",\"confront\",\"adverse\",\"paramount\",\"manages\",\"slovenian\",\"searched\",\"summed\",\"flour\",\"variable\",\"whe\",\"headphones\",\"considerably\",\"evaluations\",\"prevented\",\"jeff\",\"courteous\",\"intimately\",\"hurdles\",\"manifold\",\"transmitted\",\"prerequisites\",\"accounted\",\"drug\",\"generalizations\",\"tunisians\",\"succes\",\"battling\",\"sr\",\"hits\",\"foundamental\",\"aldi\",\"preferable\",\"earphones\",\"magical\",\"typ\",\"notices\",\"reluctance\",\"planners\",\"log\",\"notifications\",\"obligations\",\"waking\",\"traumatic\",\"restraint_indulgence\",\"akpsi\",\"analog\",\"entries\",\"claiming\",\"deduce\",\"constrained\",\"contractual\",\"pot\",\"documentation\",\"ot\",\"upright\",\"gadgets\",\"income\",\"combining\",\"obedience\",\"abiding\",\"url\",\"drain\",\"distributed\",\"prestige\",\"sideways\",\"asiatic\",\"watson\",\"alps\",\"trustworthiness\",\"bochner\",\"rollercoaster\",\"butter\",\"kindheartedness\",\"variants\",\"sara\",\"tsunami\",\"nivkh\",\"fairy\",\"tales\",\"attempted\",\"fusion\",\"neighboring\",\"irkutsk\",\"knowlege\",\"appreciative\",\"assimilated\",\"xiamen\",\"half_hour_early\",\"parks\",\"political_ideology\",\"esl\",\"evaluation\",\"jealous\",\"develope\",\"enlightened\",\"teas\",\"navigating\",\"tao\",\"doctorate\",\"resist\",\"cup\",\"tech\",\"moderate\",\"luyolo\",\"populations\",\"jessica\",\"adore\",\"salty\",\"jam\",\"disappears\",\"computers\",\"sense_belonging_security\",\"je\",\"charged\",\"thom\",\"mimic\",\"counterparts\",\"wholly\",\"empire\",\"silk\",\"locally\",\"founded\",\"connotations\",\"protective\",\"negotiations\",\"finns\",\"curriculum\",\"friesland\",\"objects\",\"ubuntu\",\"recognising\",\"dominated\",\"eating_drinking\",\"dalian\",\"november\",\"july\",\"shijiazhuang\",\"chiefly\",\"south_sudanese\",\"disclose\",\"gosh\",\"resolution\",\"quebec\",\"comforting\",\"refresh\",\"battle\",\"sales\",\"stations\",\"flash\",\"developer\",\"abu\",\"contacted\",\"branch\",\"conducting\",\"faux_pas\",\"cold_winter\",\"est\",\"consist\",\"extending\",\"volunteer_guide_museum\",\"differnet\",\"bye\",\"civilisation\",\"entitled\",\"administrative\",\"permit\",\"marital_status\",\"hinder\",\"secretary\",\"delve\",\"lebanese\",\"trinidad_tobago\",\"wiert_van_der_veen\",\"intrested\",\"richer\",\"instruction\",\"java\",\"inability\",\"struck\",\"colonialism\",\"zimbabwean\",\"beating\",\"sunshine\",\"substitute\",\"fixing\",\"colourful\",\"milada\",\"ardi\",\"orderly\",\"del\",\"basque\",\"refers_effects\",\"definately\",\"audiences\",\"jerry\",\"refugeecenters\",\"imposing\",\"wooden\",\"hindus\",\"latin_americans\",\"meticulous\",\"florence\",\"nz\",\"dominican\",\"cab\",\"reversed\",\"skip\",\"christianity\",\"teamleader\",\"devon\",\"pays\",\"anglo_saxon\",\"ruined\",\"guilt\",\"dig_deeper\",\"civil_war\",\"honeymoon_stage\",\"andhra_pradesh\",\"agricultural\",\"planing\",\"pleasantly_surprised\",\"shenzhen\",\"tap\",\"april\",\"legacy\",\"crew\",\"wont\",\"interrupted\",\"raw\",\"increases\",\"cultual\",\"tour_guide\",\"filter\",\"intangible\",\"hated\",\"earthquake\",\"paternal\",\"taylor\",\"outlooks\",\"interrupt\",\"segregated\",\"airports\",\"print\",\"depended\",\"anecdotes\",\"partial\",\"gardening\",\"agrees\",\"shirt\",\"drink_coffee\",\"oversea\",\"innovative\",\"dictionary\",\"encode\",\"methodology\",\"moods\",\"drew\",\"tongues\",\"israel\",\"disturb\",\"canadians\",\"slavic\",\"eggs\",\"patriotic\",\"incomplete\",\"criteria\",\"serving\",\"negotiated\",\"acknowledgement\",\"memorize\",\"bet\",\"weaknesses\",\"contained\",\"enrichment\",\"anita\",\"albanian\",\"needing\",\"anhui_province\",\"anhui\",\"motives\",\"presumably\",\"creature\",\"maths\",\"falls\",\"masters_degree\",\"composition\",\"dated\",\"concluded\",\"switching\",\"effected\",\"socioeconomic\",\"puerto_rican\",\"utterly\",\"males\",\"comm\",\"researched\",\"diego\",\"recipes\",\"primary_secondary\",\"flavours\",\"inheritance\",\"minimize\",\"intrusion\",\"keys\",\"mental_health\",\"contains\",\"entertain\",\"plates\",\"embraced\",\"cancel\",\"opened_door\",\"stream\",\"framed\",\"warsaw\",\"conveys\",\"jungle\",\"guyana\",\"cycling\",\"enrolled\",\"cuts\",\"feeding\",\"bermuda\",\"regional_variations\",\"lights\",\"mi\",\"pernilla\",\"diner\",\"barack\",\"threw\",\"argentine\",\"adventures\",\"ne\",\"wa\",\"doctors_nurses\",\"patiently\",\"loaded\",\"agency\",\"artists\",\"pov\",\"bookworm\",\"exited\",\"chemistry\",\"facilitates\",\"humbling\",\"twenty\",\"overload\",\"tested\",\"vastly\",\"myth\",\"timeline\",\"flavia\",\"carnival\",\"hunan\",\"eat_pork\",\"fever\",\"controlled\",\"labeled\",\"excel\",\"complexion\",\"breathing\",\"realisation\",\"creator\",\"presumed\",\"menu\",\"deciding\",\"magazine\",\"pull\",\"typing\",\"categorizing\",\"diseases\",\"workshops\",\"assistance\",\"nurse\",\"blue_sky\",\"sorting\",\"wives\",\"martin_luther_king\",\"garbage\",\"organizers\",\"regulations\",\"reset\",\"sympathise\",\"deals\",\"hesitate\",\"cheat\",\"le\",\"emily\",\"forgiveness\",\"thankfully\",\"pronounciation\",\"ac\",\"unconfident\",\"kenyan\",\"seminar\",\"brag\",\"arms_length\",\"affinity\",\"respectfully\",\"converted\",\"rings\",\"primitive\",\"specify\",\"enthusiast\",\"guideline\",\"become_adaptable_intercultural\",\"prompt\",\"wuhan\",\"solitude\",\"cleaning\",\"autonomy\",\"enlightenment\",\"direct_confrontation\",\"alternatives\",\"waitress\",\"replying\",\"initiatives\",\"explorations\",\"complaint\",\"localized\",\"lecturers\",\"bise\",\"terrain\",\"pakistani\",\"download\",\"sheer\",\"beggining\",\"presenting\",\"broadening\",\"mourning\",\"dying\",\"validate\",\"civilizations\",\"investigate\",\"listing\",\"sarcasm\",\"hiking\",\"sri_lankan\",\"disturbed\",\"ball\",\"prize\",\"literary\",\"eleni\",\"crete\",\"cousins\",\"aunts\",\"iranians\",\"footwear\",\"equity\",\"dominance\",\"postpone\",\"incorrectly\",\"verona\",\"seeker\",\"departments\",\"emics\",\"unify\",\"succinct\",\"whatsapp\",\"deardorff\",\"persona\",\"prompts\",\"interfere\",\"promises\",\"prone\",\"bossy\",\"agriculture\",\"soil\",\"ministry\",\"tune\",\"spiral\",\"someting\",\"aberdeen\",\"timetables\",\"fighter\",\"analyzed\",\"gods\",\"inefficient\",\"ingredient\",\"release\",\"ignorant\",\"irritating\",\"geert_hofstede_com\",\"nonsense\",\"incorrect\",\"relieve\",\"intergroup_prejudice\",\"agents\",\"touchy\",\"figures\",\"scattered\",\"entails\",\"confrontation\",\"dedication\",\"adolescence\",\"insurance\",\"alex\",\"dr_darla\",\"collect\",\"renewed\",\"sadness\",\"meaningless\",\"intolerant\",\"terribly\",\"suzhou\",\"sichuan\",\"danial\",\"riyadh\",\"maslow\",\"kissed\",\"copied\",\"twin\",\"classical_music\",\"kulich\",\"resonance\",\"stunned\",\"turban\",\"roll\",\"fallen\",\"futurelearn_com\",\"bedroom\",\"fled\",\"modify\",\"scandinavian\",\"socialise\",\"confirmation\",\"javanese\",\"grass\",\"exclude\",\"jiangsu\",\"fist\",\"units\",\"labelled\",\"pasta\",\"damage\",\"failures\",\"noises\",\"mar\",\"resolved\",\"enlarge\",\"bff\",\"tags\",\"xu\",\"dances\",\"performed\",\"hans\",\"witch\",\"hero\",\"exhausted\",\"stressing\",\"train_station\",\"grief\",\"differencies\",\"minister\",\"exaggerated\",\"fifteen\",\"vedic\",\"planet_earth\",\"listens\",\"quaker\",\"humbleness\",\"boil\",\"killed\",\"heal\",\"tanzanian\",\"radical\",\"sympathetic\",\"westernised\",\"pairs\",\"sensitiveness\",\"ceo\",\"taxi_driver\",\"vey\",\"midnight\",\"lift\",\"affirm\",\"trivial\",\"removing\",\"tray\",\"introverts\",\"pocket\",\"generalisation\",\"ambassador\",\"linking\",\"evolves\",\"fostering\",\"unfold\",\"marriages\",\"add_pinyin\",\"extroverts\",\"swimmer\",\"osmanthus\",\"flower\",\"brenda\",\"shisu\",\"separation\",\"belongingness\",\"showering\",\"enjoys\",\"fan_bigbang\",\"variance\",\"slang\",\"loosing\",\"thumb\",\"detached\",\"writings\",\"hunting\",\"pretending\",\"birmingham\",\"headed\",\"theater\",\"flavors\",\"safely\",\"mobile_phones\",\"obscure\",\"sheet\",\"fulfilled\",\"pushing\",\"millennials\",\"timing\",\"marie\",\"yang_cai\",\"librarian\",\"obtained\",\"lacks\",\"compartments\",\"susan\",\"organisations\",\"instinctively\",\"inherently\",\"output\",\"inadvertently\",\"respectable\",\"beautifully\",\"vulnerability\",\"versatility\",\"suppliers\",\"instincts\",\"whites\",\"yearn\",\"leila\",\"disadvantage\",\"change_subject_geography\",\"suffocating\",\"plain\",\"ramadan\",\"quoted\",\"https_www_ted_com\",\"fruit\",\"prime\",\"ping\",\"spring_festival\",\"paradigm\",\"sickness\",\"hot_summer\",\"strip\",\"beat\",\"insult\",\"jump_conclusions\",\"socialism\",\"reacting\",\"commonality_differentiation\",\"reith_lecture\",\"device\",\"invest\",\"promotes\",\"affinities\",\"nicer\",\"intertwined\",\"alana\",\"technique\",\"violated\",\"constructing\",\"tango\",\"ordering\",\"spends\",\"self_disclosure\",\"skin_color\",\"evaluated\",\"subjectivity\",\"fence\",\"forthcoming\",\"talent\",\"cognitive_component\",\"dividing\",\"cutting\",\"lagos\",\"quota\",\"adherence\",\"fearful\",\"quantitative\",\"specific_vs_diffuse\",\"ascription\",\"stimulation\",\"transplanted\",\"temporary\",\"sufficiently\",\"ridiculous\",\"requests\",\"hot_humid\",\"inspire\",\"accommodation\",\"daunting\",\"transparency\",\"discourse_system\",\"handled\",\"birds_feather_flock_together\",\"emigrating\",\"pr\",\"contemporary\",\"grab\",\"carriage\",\"alongside\",\"hurts\",\"mechanism\",\"delivered\",\"strong_perceptual_barriers\",\"xu_jing\",\"rows\",\"col\",\"interprets\",\"conflict_resolution\",\"reduce_prejudice_conflict\",\"straightly\",\"safe_zone\",\"handwriting\",\"www_imdb_com\",\"title_tt_ref\",\"shades\",\"gray\",\"prevents\",\"stopping\",\"checklist\",\"henry\",\"wang_san\",\"yerlan\",\"formality\",\"opposites\",\"concert\",\"costa_rica\",\"bosom\",\"reduces\",\"utility\",\"peak\",\"shrink\",\"righteousness\",\"riding\",\"adage\",\"densely_populated\",\"cafeteria\",\"predicament\",\"mobile_apps\",\"ny\",\"mr_wilsons\",\"flanders\",\"cart\",\"baffled\",\"mindfullness\",\"selected_form_timekeeping\",\"adhere\",\"aurora\",\"claims\",\"indulge\",\"brahmins\",\"short_term_orientation\",\"vom\",\"wvs\",\"femininity\",\"rush_hours\",\"catlin\",\"cgi\",\"displays\",\"dubois\",\"john_henrik\",\"africana\",\"geerthofstede\",\"woodson\",\"lime\",\"easy_check_date\",\"weather_forecast\",\"mom_birthday_wedding_anniversary\",\"helpful_reminded_automatically\",\"set_date_app\",\"screen\",\"lean_towards\",\"appreciates\",\"asset\",\"turks\",\"waited\",\"eq\",\"kindergarten\",\"syllabus\",\"sa\",\"manual\",\"papua\",\"albeit\",\"umbrella\",\"nottingham\",\"disappoint\",\"englishman\",\"linguists\",\"comprehension\",\"valley\",\"ponder\",\"ethnical\",\"promised\",\"lasting\",\"load\",\"nizhny_novgorod\",\"click\",\"hrs\",\"cambridge\",\"witness\",\"hatred\",\"coin\",\"brussels\",\"guitar\",\"preserve\",\"earned\",\"industrial\",\"enabling\",\"colony\",\"enormous\",\"refusing\",\"southwest\",\"skillful\",\"bicultural\",\"dublin\",\"outspoken\",\"boxes\",\"cooperative\",\"colonization\",\"divisions\",\"ranges\",\"corporations\",\"margaret\",\"reception\",\"collaborative\",\"youku\",\"questioned\",\"trainings\",\"facility\",\"sofia\",\"eye_opening\",\"peruvian\",\"salaries\",\"lgbtq\",\"unimportant\",\"synthesis\",\"adapts\",\"curitiba\",\"winters\",\"fertile\",\"lands\",\"istanbul\",\"deepening\",\"widening\",\"reside\",\"confronting\",\"junior_high_school\",\"luciana\",\"afrikaans\",\"gratitude\",\"refrain\",\"underlie\",\"paradise\",\"hongkong\",\"unfolds\",\"secrets\",\"bc\",\"retiring\",\"birthplace\",\"cambodia\",\"candidate\",\"anastasia\",\"constitutes\",\"homestay\",\"coincidence\",\"pleasantly\",\"todo\",\"florida\",\"bullet\",\"kelly\",\"indigenous_australians\",\"alter\",\"metropolitan\",\"shelter\",\"horses\",\"cuisines\",\"pronounce\",\"earliest\",\"aged\",\"reinforce\",\"conversing\",\"venezuela\",\"predominant\",\"railway\",\"positivity\",\"square\",\"buddhist_art\",\"near_sea\",\"evolution\",\"executive\",\"clearest\",\"user\",\"plate\",\"ideals\",\"cluster\",\"east_asia\",\"mosque\",\"sounding\",\"transformed\",\"disciplines\",\"assimilation\",\"ict\",\"bosnia\",\"acceptability\",\"glasgow\",\"decode\",\"sender\",\"victim\",\"backgroud\",\"household\",\"tasty\",\"boiled\",\"adulthood\",\"brands\",\"competences\",\"tone_voice\",\"newcomer\",\"horrible\",\"counts\",\"cattle\",\"wether\",\"broadened\",\"build_bridge_connect\",\"building_bridges\",\"bavaria\",\"insiders\",\"ture\",\"smallest\",\"bonus\",\"vivian\",\"labour\",\"vienna\",\"fabulous\",\"malta\",\"bachelors\",\"smarter\",\"assessing\",\"stimulating\",\"ted\",\"washed\",\"boston\",\"handbag\",\"throwing\",\"errors\",\"clemencia\",\"december\",\"como\",\"documentaries\",\"fortune\",\"ideological\",\"pupils\",\"entertaining\",\"cuban\",\"controlling\",\"smoke\",\"comments_replies\",\"envy\",\"entertainment\",\"unexpectedly\",\"amelia\",\"iuliia\",\"nordic\",\"shake_hand\",\"classical\",\"turkish_wedding\",\"rushed\",\"inwardly\",\"architecture\",\"relaxation\",\"drove\",\"singular\",\"heading\",\"booked\",\"fed\",\"heavier\",\"dr_deardorff\",\"hugely\",\"isolate\",\"natalia\",\"sojourner\",\"jew\",\"jij\",\"hippy\",\"immigrated\",\"inward\",\"neighbourhood\",\"unity_diversity\",\"absorbed\",\"aggression\",\"convention\",\"versatile\",\"absent\",\"repeating\",\"dentist\",\"quarter\",\"grandchildren\",\"polish_austrian_heritage\",\"default\",\"teens\",\"sayings\",\"rainy\",\"bath\",\"threatening\",\"maximum\",\"employer\",\"registered\",\"receptive\",\"homesickness\",\"ie\",\"posed\",\"accordance\",\"restrictions\",\"nurses\",\"ingrained\",\"slovenia\",\"armenian\",\"stefan\",\"violation\",\"trash\",\"stares\",\"el\",\"candid\",\"museums\",\"spaniards\",\"irony\",\"chiara\",\"buryat\",\"se\",\"episode\",\"representatives\",\"eyed\",\"annoy\",\"perceiving\",\"blacks\",\"ba\",\"pet\",\"ruled\",\"evaluating\",\"cute\",\"budapest\",\"consult\",\"spell\",\"packing\",\"motivations\",\"igbo\",\"exit\",\"sell\",\"anacelia\",\"trainers\",\"seniors\",\"enriches\",\"assertive\",\"opposing\",\"recognizable\",\"reconsider\",\"expand_horizons\",\"compete\",\"apartments\",\"meaningfully\",\"ceremonies\",\"stereotyped\",\"divorced\",\"unsettling\",\"laughter\",\"scenery\",\"conditioned\",\"ro\",\"filling\",\"zhou\",\"utmost\",\"profit\",\"kunming\",\"hopeful\",\"ca\",\"billion\",\"retreat\",\"introspective\",\"guns\",\"utter\",\"parliament\",\"waiter\",\"bunch\",\"destroy\",\"workshop\",\"uncles\",\"bridging\",\"emails\",\"forefathers\",\"academia\",\"cell\",\"belt\",\"graduates\",\"code_conduct\",\"sober\",\"initiated\",\"yao\",\"platforms\",\"noble\",\"motivate\",\"subsequently\",\"isa\",\"produced\",\"excluding\",\"punishment\",\"reducing\",\"intersted\",\"uphold\",\"imposed\",\"best_wishes_juanmi\",\"homeless\",\"poison\",\"modified\",\"grandpa\",\"locate\",\"scores\",\"htm\",\"safer\",\"transparent\",\"integrating\",\"lifelong_learner\",\"emphasise\",\"dong\",\"markets\",\"nationalism\",\"customary\",\"lunch_dinner\",\"praised\",\"belive\",\"louder\",\"classic\",\"cultur\",\"wind\",\"elephant\",\"ads\",\"scarf\",\"thier\",\"defensive\",\"downtown\",\"creatures\",\"evil\",\"hubei_province\",\"verbal_non_verbal\",\"painter\",\"millions\",\"girl_nanchang_provincial_capital\",\"hometown_charming_place\",\"known_cradle\",\"since_jiangxi_located\",\"china_climate_humid\",\"foods_strong_flavor\",\"eating_spicy_foods\",\"dispel_wind_remove_dampness\",\"boundary\",\"operation\",\"disposition\",\"trick\",\"harry\",\"inconvenience\",\"infer\",\"min_fan\",\"landscapes\",\"notebooks\",\"proceed\",\"irrelevant\",\"comforts\",\"followers\",\"diversified\",\"funerals\",\"foreing\",\"publish\",\"estimate\",\"earn_money\",\"camera\",\"emphatic\",\"pets\",\"theoretically\",\"relief\",\"brothers_sisters\",\"peacefully\",\"fights\",\"powers\",\"nine\",\"wishing\",\"marjolein\",\"eliminating\",\"cited\",\"yuhui\",\"disadvantages\",\"captured\",\"generates\",\"recommendations\",\"mr_kulich\",\"peel_layers\",\"intent\",\"sharon\",\"masculine\",\"feminine\",\"tender\",\"nikola\",\"illustrating\",\"sake\",\"glimpse\",\"breaks\",\"beers\",\"guarantee\",\"st_century\",\"exclusively\",\"differentiating\",\"kwame_anthony_appiah\",\"socialist\",\"charity\",\"spontaneously\",\"authentic\",\"colloquial\",\"systematic\",\"lesser\",\"mind_blowing\",\"promotion\",\"toy\",\"uniforms\",\"echoes_feelings\",\"thinkers\",\"frames\",\"bias_prejudice\",\"assist\",\"intergroup_relations\",\"joe\",\"tha\",\"dust\",\"trustworthy\",\"disabled\",\"chooses\",\"unconsciously_ethnocentric\",\"perception_perception_reality\",\"widespread\",\"artistic\",\"democratic\",\"face_saving\",\"justify\",\"wil\",\"behalf\",\"granddaughter\",\"yep\",\"comic\",\"perfectionist\",\"curves\",\"prestigious\",\"ruobing\",\"thrust\",\"chart\",\"rhythm\",\"focussed\",\"dyslexic\",\"judge_book_cover\",\"internally\",\"taken_deeper_levels\",\"highly_valued\",\"variables\",\"literal\",\"band\",\"binary\",\"counseling\",\"amounts\",\"conceived\",\"signal\",\"ingroups\",\"lips\",\"gold\",\"exaggeration\",\"implicitly\",\"prevail\",\"trapped\",\"prerequisite\",\"outgroup\",\"deeper_levels_understanding\",\"resonates\",\"ineffective\",\"illuminating\",\"gains\",\"ruin\",\"introspection\",\"watching_movie\",\"pdf\",\"pad\",\"metres\",\"indicated\",\"bosses\",\"hunter\",\"tablets\",\"relies\",\"prioritize\",\"freedom_equality\",\"users\",\"considerations\",\"hesitant\",\"population_density\",\"vendor\",\"impatient\",\"scheduler\",\"modernity\",\"ting_toomey\",\"tablet\",\"polarity\",\"affectionate\",\"philosophers\",\"verb\",\"hofstede_dimensions\",\"losing_face\",\"restraint_indulgence_dimension\",\"wudu\",\"ambiguities\",\"jhonson\",\"african_centered\",\"nl\",\"sjimmie\",\"pronoun\",\"apples\",\"mary\",\"considerable\",\"james\",\"pen_paper\",\"fault\",\"advised\",\"hebrew\",\"district\",\"pursuit\",\"rainbow\",\"september\",\"goodness\",\"estelle\",\"homogenous\",\"drunk\",\"arose\",\"metropolis\",\"facilities\",\"emoticons\",\"interst\",\"vegemite\",\"extensively\",\"agreeable\",\"genuinely\",\"checkout\",\"goods\",\"henan_province\",\"implications\",\"somali\",\"kindly\",\"germanic\",\"kurdish\",\"covers\",\"torn\",\"lin\",\"central_australia\",\"january\",\"hat\",\"yi\",\"sociology\",\"trace\",\"micro\",\"early_childhood\",\"intrigued\",\"teenage\",\"airline\",\"misconceptions\",\"associations\",\"selling\",\"charge\",\"ancestral\",\"loads\",\"thereby\",\"rudeness\",\"mingle\",\"versions\",\"permanent\",\"sums\",\"occurring\",\"microsoft\",\"landed\",\"bagage\",\"blind\",\"judgments\",\"goodbye\",\"comfortable_zone\",\"differentiate\",\"someones\",\"distinctions\",\"voluntary\",\"red_cross\",\"shared_meanings\",\"legs\",\"indifferent\",\"symbolic_interpretive_transactional_contextual\",\"intrusive\",\"sector\",\"kiss_cheek\",\"prince\",\"charming\",\"slovakia\",\"dual\",\"arasaratnam\",\"trump\",\"pragmatics\",\"thrive\",\"submission\",\"misconception\",\"inherited\",\"invaluable\",\"continuous\",\"overly\",\"foundations\",\"slip\",\"panic\",\"scratch\",\"navigate\",\"slave\",\"anyhow\",\"hurting\",\"enlighten\",\"fork\",\"stereotypes_prejudices\",\"evolving\",\"washington\",\"astonished\",\"chenlin\",\"seeds\",\"comer\",\"ii\",\"reads\",\"inclusion\",\"universally\",\"visiting_scholar\",\"elaborate\",\"snacks\",\"closing\",\"unnoticed\",\"zimbabwe\",\"stumble\",\"females\",\"jing\",\"idiot\",\"weakness\",\"donna\",\"ourself\",\"meditate\",\"iraq\",\"annoyance\",\"timetable\",\"informing\",\"bonding\",\"immense\",\"yellow\",\"lu\",\"sustainable\",\"incorporate\",\"letters\",\"slight\",\"simplicity\",\"struggles\",\"span\",\"connotation\",\"wet\",\"seasons\",\"album\",\"loner\",\"ship\",\"austrian\",\"chin\",\"requested\",\"amateur\",\"westerns\",\"additionally\",\"agressive\",\"preventing\",\"upsetting\",\"straight_forward\",\"tianjin\",\"psychologically\",\"excellence\",\"locked\",\"inflexible\",\"dresses\",\"restriction\",\"yearning\",\"mystery\",\"ghanaian\",\"motivating\",\"es\",\"bold\",\"diploma\",\"intercutural\",\"deaf\",\"retrospect\",\"blamed\",\"twenties\",\"compromising\",\"reacted\",\"sciences\",\"alexandria\",\"worrying\",\"hotels\",\"puzzle\",\"pizza\",\"monocultural\",\"socialization\",\"roughly\",\"cried\",\"countrymen\",\"progressive\",\"requirement\",\"shoulders\",\"dramatic\",\"trinidadians\",\"comfortably\",\"suitcases\",\"assigned\",\"familial\",\"uniform\",\"cue\",\"lying\",\"brown\",\"nile\",\"hectic\",\"dig_deep\",\"spoil\",\"alright\",\"immensely\",\"charles\",\"horn\",\"arises\",\"hostile\",\"bin\",\"surround\",\"accomplished\",\"readjust\",\"leap\",\"actors\",\"uneasiness\",\"dairy\",\"hugs\",\"cape\",\"accommodating\",\"inherent\",\"united_kingdom\",\"yo\",\"acknowledging\",\"ted_talks\",\"begins\",\"interviews\",\"deeply_rooted\",\"affiliation\",\"quest\",\"quotes\",\"teasing\",\"posting\",\"gotten\",\"affirming\",\"judgmental\",\"dropped\",\"triggers\",\"huang\",\"gently\",\"parallel\",\"ruling\",\"thread\",\"edward_hall\",\"practising\",\"contributing\",\"emic_etic\",\"suited\",\"affirmation\",\"boarding\",\"paul_henri\",\"pushes\",\"blended\",\"sarcastic\",\"placing\",\"historically\",\"shook\",\"sojourners\",\"boys_girls\",\"anticipated\",\"inclusive\",\"accompanied\",\"agent\",\"commit\",\"stepping\",\"catholicism\",\"finish_project\",\"proof\",\"dinners\",\"sophisticated\",\"indian_subcontinent\",\"employed\",\"shapes_everything\",\"sailing\",\"lily\",\"perceptive\",\"wechat\",\"matches\",\"diligent\",\"profiles\",\"outstanding\",\"touches\",\"sailor\",\"extremes\",\"roman_catholic\",\"journeys\",\"immigration\",\"th_birthday\",\"displeasure\",\"attitude_toward\",\"neglected\",\"diving\",\"divides\",\"exiting\",\"compassionate\",\"mini\",\"indo\",\"cat\",\"silence_silences_silencing\",\"northwestern\",\"conceive\",\"argentinians\",\"wikipedia\",\"extroverted\",\"deepest\",\"launch\",\"bothering\",\"vote\",\"bullying\",\"obligation\",\"buildings\",\"shanghai_international\",\"practicing\",\"psychologist\",\"messy\",\"hold_hands\",\"laid\",\"researching\",\"bothers\",\"chairs\",\"hiding\",\"genders\",\"expirience\",\"cheap\",\"eldest_daughter\",\"therapy\",\"mask\",\"cash\",\"careless\",\"penetration\",\"thoughtfully\",\"timely\",\"greetings_mexico\",\"relieved\",\"emerged\",\"ring\",\"homosexual\",\"ayuen\",\"bumping\",\"instant\",\"backward\",\"racial_discrimination\",\"firmly\",\"www_bbc_co_uk\",\"benches\",\"nowhere\",\"tackle\",\"passenger\",\"narrow_minded\",\"fate\",\"maintained\",\"selection\",\"bully\",\"autistic\",\"missionaries\",\"prevalent\",\"tightly\",\"cm\",\"occupy\",\"disease\",\"impresses\",\"mere\",\"blank\",\"upcoming\",\"ren\",\"build_common_ground\",\"rent\",\"edx\",\"personhood\",\"glance\",\"travel_enthusiast\",\"tho\",\"adebiyi\",\"facial_expression\",\"patsy\",\"historian\",\"building_trust\",\"taxonomies\",\"protecting\",\"university_dammam\",\"noun\",\"modernization\",\"dip\",\"indulgence\",\"delivering\",\"piece_paper\",\"options\",\"findings\",\"orange\",\"reasoning\",\"advocate\",\"ad\",\"module\",\"analytical\",\"proxemics_chronemics\",\"kingdom\",\"pico_iyer\",\"reliability\",\"sink\",\"dammam\",\"dr_dong\",\"kluckhohn\",\"two_poles\",\"honesty_loyalty\",\"introductory\",\"undergraduate_studies\",\"acknowledged\",\"adaptive\",\"happier\",\"manchester\",\"equipped\",\"lingual\",\"disconnect\",\"sensitivities\",\"southeastern\",\"bangalore\",\"displayed\",\"hybrid\",\"ethnically\",\"distinguishes\",\"travelled_extensively\",\"georgia\",\"immerse\",\"corners\",\"letter\",\"privately\",\"opposition\",\"classrooms\",\"knife\",\"nose\",\"arpita\",\"unfriendly\",\"guo\",\"sincerely\",\"bengali\",\"mass_media\",\"sooo\",\"housing\",\"kiswahili\",\"seoul\",\"tongue\",\"laid_back\",\"tick\",\"crash\",\"ambiguous\",\"frustrations\",\"readily\",\"ussr\",\"saint\",\"preconceptions\",\"humanitarian\",\"lean\",\"coaching\",\"broadcast\",\"digest\",\"administration\",\"transferred\",\"cats\",\"anne_van_der_ploeg\",\"crosscultural\",\"schooling\",\"observant\",\"encourages\",\"colleges\",\"residence\",\"accompanying\",\"complete_strangers\",\"vegan\",\"attributes\",\"squeeze\",\"centers\",\"superiority\",\"mysterious\",\"silvia\",\"editor\",\"beneath\",\"unites\",\"figured\",\"overlapping\",\"horse\",\"aboriginal\",\"katrina\",\"managers\",\"bulgaria\",\"disasters\",\"borneo\",\"nightmare\",\"ethic\",\"george\",\"court\",\"aid\",\"assumes\",\"gaining\",\"warn\",\"coordinator\",\"anticipate\",\"thirty\",\"migrant\",\"contradictory\",\"shaking\",\"hola\",\"similiar\",\"seafood\",\"drama\",\"diffuse\",\"accident\",\"wo\",\"duties\",\"caste\",\"generational\",\"fluency\",\"sensation\",\"improvement\",\"iphone\",\"took_granted\",\"select\",\"zambia\",\"inevitably\",\"sending\",\"creating_shared_meanings\",\"cultured\",\"complained\",\"bored\",\"dialogues\",\"offense\",\"clan\",\"secondary_school\",\"stretched\",\"ukrainians\",\"mixed_race\",\"striking\",\"conformity\",\"conclusions\",\"involve\",\"constitute\",\"au\",\"presentations\",\"cuba\",\"grey\",\"non_judgemental\",\"latest\",\"august\",\"exotic\",\"ernesto\",\"cutlery\",\"aimed\",\"decides\",\"transformation\",\"economics\",\"helpfull\",\"shallow\",\"cosmopolitan\",\"tones\",\"contributes\",\"enhanced\",\"pond\",\"siberia\",\"tooth\",\"hostel\",\"openminded\",\"burial\",\"dr_bhawuk\",\"drives\",\"pan\",\"authorities\",\"lasts\",\"structures\",\"hawaii\",\"math\",\"economical\",\"obstacles\",\"ah\",\"balanced\",\"sessions\",\"bars\",\"attendees\",\"catching\",\"mediator\",\"admired\",\"embody\",\"rough\",\"advisor\",\"serafima\",\"responds\",\"younger_generations\",\"rejected\",\"mall\",\"luck\",\"distinguished\",\"dirty\",\"sights\",\"educate\",\"deemed\",\"leaning\",\"antonio\",\"hispanic\",\"networking\",\"property\",\"decided_move\",\"procedure\",\"listen_carefully\",\"towel\",\"restraint\",\"ethiopians\",\"impacted\",\"begining\",\"formal_informal\",\"reward\",\"emphasizing\",\"clarifying\",\"employers\",\"wiser\",\"expanded\",\"gathered\",\"rebecca\",\"flexibility_adaptability\",\"remain_silent\",\"set_aside\",\"wandering\",\"tendencies\",\"remembering\",\"unconciously\",\"mission\",\"disappointments\",\"yosra\",\"prayer\",\"ought\",\"tangible\",\"tests\",\"bits\",\"impress\",\"accessible\",\"hug_kiss\",\"togetherness\",\"tense\",\"edge\",\"chicken\",\"becasue\",\"vividly\",\"updated\",\"seeks\",\"dorm\",\"oil\",\"adequate\",\"directed\",\"realization\",\"salam\",\"grouped\",\"unite\",\"afro\",\"disappointing\",\"cut_size\",\"badly\",\"governments\",\"pro\",\"stefania\",\"ans\",\"cultivated\",\"ups_downs\",\"crying\",\"headscarf\",\"novel\",\"cheerful\",\"crime\",\"institutional\",\"ideologies\",\"invade\",\"attract\",\"blessing\",\"labor\",\"themes\",\"romana\",\"refusal\",\"reserve\",\"pregnant\",\"portrayed\",\"implement\",\"distracted\",\"son_brother\",\"overlooked\",\"replaced\",\"gatherings\",\"mentions\",\"productivity\",\"layer_layer\",\"volume\",\"middle_aged\",\"maker\",\"reunion\",\"teeth\",\"metaphore\",\"attributed\",\"length\",\"chocolate\",\"tie\",\"organizational\",\"hypothesis\",\"sensitively\",\"early_morning\",\"unfair\",\"holistic\",\"outward\",\"buying\",\"explorer\",\"sports_fan\",\"sticking\",\"pencil\",\"midwest\",\"imperialism\",\"sand\",\"ed\",\"flaws\",\"francis\",\"judgemental\",\"departure\",\"loop\",\"entity\",\"intuitive\",\"argues\",\"accounts\",\"essays\",\"intuition\",\"irrespective\",\"costs\",\"angle\",\"confucian\",\"determination\",\"dimensional\",\"wong\",\"secular\",\"enviroment\",\"liking\",\"foodie\",\"documents\",\"committed\",\"neutral_vs_emotional\",\"functional\",\"imply\",\"domains\",\"luc\",\"uncertainties\",\"excuses\",\"ind\",\"prejudice_bias\",\"collectivity\",\"cellphone\",\"spirituality\",\"grandfather_birthday\",\"personally_selective\",\"cake\",\"situational\",\"effectiveness\",\"smoking\",\"wake\",\"honesty_integrity\",\"paced\",\"fraternity\",\"tendency_towards\",\"delay\",\"airbnb\",\"survey\",\"clarke\",\"ivy_league\",\"privileged\",\"flamenco\",\"remarkable\",\"beloved\",\"broadcasting\",\"historic\",\"celebrated\",\"nationality_ethnicity\",\"tensions\",\"wide_range\",\"paying_attention\",\"professor_steve\",\"overlook\",\"desirable\",\"stores\",\"counterpart\",\"judgements\",\"empathise\",\"legal\",\"participation\",\"highest\",\"forbidden\",\"wash\",\"excluded\",\"shed\",\"reasonably\",\"memorable\",\"officially\",\"integral\",\"apologise\",\"bangladesh\",\"globalised_world\",\"naked\",\"immigrant\",\"mistaken\",\"warned\",\"han\",\"decade\",\"separated\",\"withdrawn\",\"north_america\",\"albums\",\"cycle\",\"eat_drink\",\"chilean\",\"eritrea\",\"instructive\",\"encouragement\",\"removed\",\"hint\",\"south_sudan\",\"salary\",\"machine\",\"checked\",\"appeared\",\"notions\",\"transform\",\"visits\",\"nicolas\",\"chen_starosta\",\"ofcourse\",\"entrance\",\"honored\",\"husbands\",\"collegue\",\"supervisor\",\"signals\",\"election\",\"spheres\",\"falling\",\"desert\",\"poetic\",\"skype\",\"thankyou\",\"ms\",\"chi_ruobing\",\"instinct\",\"implying\",\"smiles\",\"elisabeth\",\"refugeecenter\",\"teh\",\"early_arrival\",\"paths\",\"dna\",\"decline\",\"religious_belief\",\"toronto\",\"offices\",\"accompany\",\"exhibits\",\"freshman\",\"ps\",\"brexit\",\"realising\",\"players\",\"disappear\",\"assess\",\"sushant\",\"channel\",\"glass\",\"academics\",\"olga\",\"sharp\",\"farm\",\"disgusting\",\"requirements\",\"pause\",\"ann\",\"walks\",\"strangely\",\"shout\",\"temple\",\"pretend\",\"nearest\",\"lively\",\"constitution\",\"histories\",\"aiming\",\"lesbian\",\"agreeing\",\"born_bred\",\"tanzania\",\"caf\",\"approached\",\"cares\",\"congratulations\",\"trends\",\"quicker\",\"smells\",\"tears\",\"cheer\",\"achieve_goals\",\"watching_tv\",\"angles\",\"insulting\",\"melbourne\",\"jakarta\",\"naples\",\"sacred\",\"meantime\",\"whatsoever\",\"sexuality\",\"protected\",\"ausra\",\"cairo\",\"ver\",\"simplest\",\"generate\",\"global_village\",\"tied\",\"basics\",\"marry\",\"societal\",\"breathe\",\"uruguay\",\"soup\",\"invading\",\"newspaper\",\"occupied\",\"whoever\",\"camp\",\"saves\",\"temperature\",\"confucius\",\"scientist\",\"rejection\",\"upper\",\"previous_page\",\"lenses\",\"participant\",\"hell\",\"cashier\",\"ts\",\"appearances\",\"tutors\",\"contradiction\",\"et\",\"knowledgeable\",\"eight\",\"technologies\",\"isolation\",\"delicate\",\"non_judgmental\",\"copy\",\"banks\",\"promoting\",\"previous_step\",\"chan\",\"wisely\",\"dating\",\"bubbles\",\"saving_face\",\"ordered\",\"persistence\",\"trigger\",\"ticket\",\"striving\",\"eldest\",\"jewish\",\"consuming\",\"thirdly\",\"cup_coffee\",\"daniela\",\"kill\",\"chaotic\",\"fly\",\"yoga\",\"discoveries\",\"cristina\",\"generalized\",\"construction\",\"easygoing\",\"nod\",\"diligence\",\"apology\",\"threatened\",\"li\",\"rashid\",\"hinduism\",\"jiangsu_province\",\"yunita\",\"slaves\",\"newcomers\",\"vague\",\"accidentally\",\"twelve\",\"roads\",\"watched_video\",\"globalized\",\"holy\",\"mass\",\"supports\",\"passes\",\"sally\",\"teenagers\",\"painting\",\"capability\",\"table_manners\",\"gentle\",\"lie\",\"vegetables\",\"nederland\",\"basketball\",\"fifty\",\"clubs\",\"eternal\",\"acculturation\",\"motherland\",\"patriotism\",\"faithful\",\"stability\",\"male_female\",\"gender_equality\",\"social_markers\",\"chair\",\"predict\",\"tickets\",\"ness\",\"compliment\",\"avoidance\",\"motivates\",\"higher_level\",\"wasting\",\"contrasts\",\"amjad\",\"favoritism\",\"scientists\",\"observer\",\"dense\",\"lgbt\",\"proposal\",\"picking\",\"interrelated\",\"coffee_shop\",\"expose\",\"external_factors\",\"thousand\",\"prany_sananikone\",\"reduce_prejudice\",\"register\",\"occidental\",\"loneliness\",\"penetrate\",\"schwartz\",\"universalism\",\"multitask\",\"biomedical_engineering\",\"procedures\",\"awful\",\"cognition\",\"credit\",\"block\",\"communucation_aways\",\"appropriate_style\",\"notepad\",\"vertical\",\"file\",\"four_types\",\"diaries\",\"silencing\",\"stillness\",\"optimism\",\"wall_calendar\",\"electronic_calendar\",\"wolf\",\"proxemic\",\"stickers\",\"indirectness\",\"particularism\",\"negro\",\"hoped\",\"selected\",\"instructor\",\"graphic\",\"net\",\"cup_tea\",\"rio\",\"insisted\",\"sounded\",\"reluctant\",\"categorized\",\"contributed\",\"passive\",\"demanding\",\"miles\",\"transportation\",\"yoko\",\"shifts\",\"presents\",\"pronounced\",\"helpless\",\"codes\",\"unhappy\",\"capture\",\"volunteering\",\"rome_romans\",\"homogeneous\",\"guided\",\"mates\",\"moroccan\",\"constructs\",\"spreading\",\"expanding\",\"fishing\",\"eachother\",\"varying\",\"surname\",\"lithuania\",\"interpreting\",\"resonate\",\"unwanted\",\"filipino\",\"foster\",\"youtube\",\"anthropology\",\"forth\",\"remark\",\"karen\",\"martin_luther_king_jr\",\"ana\",\"confortable\",\"hangzhou\",\"arabian\",\"contacting\",\"acquaintance\",\"nathalie\",\"california\",\"connects\",\"arrogant\",\"tv_series\",\"alot\",\"create_shared_meanings\",\"milan\",\"alienated\",\"carries\",\"past_present\",\"oldest\",\"dutchman\",\"multilingual\",\"multi_ethnic\",\"rotterdam\",\"choosing\",\"trees\",\"tatar\",\"websites\",\"munich\",\"photographer\",\"st_petersburg\",\"unspoken\",\"radically\",\"ali\",\"readings\",\"muhammad\",\"guangdong\",\"spicy\",\"morals\",\"phenomena\",\"nicky\",\"death\",\"stared\",\"esteem\",\"edinburgh\",\"essentially\",\"disaster\",\"socio\",\"collectively\",\"sequence\",\"subculture\",\"usage\",\"mature\",\"colonial\",\"greeks\",\"resort\",\"pork\",\"half_hour\",\"feed\",\"strengths\",\"ksa\",\"cousin\",\"shandong\",\"situated\",\"behave_differently\",\"recorded\",\"dressed\",\"attracts\",\"clothing\",\"continuously\",\"alice\",\"gonna\",\"markers\",\"determines\",\"biological\",\"harbin\",\"devoted\",\"ambitious\",\"reported\",\"co_workers\",\"agreements\",\"politically\",\"sticks\",\"namely\",\"techniques\",\"programme\",\"bodies\",\"staring\",\"failing\",\"secondary\",\"back_forth\",\"morality\",\"te\",\"minutes_early\",\"regular_basis\",\"achievements\",\"tu\",\"authors\",\"freedom_speech\",\"christians\",\"score\",\"koreans\",\"siddiqah\",\"saving\",\"first_foremost\",\"undoubtedly\",\"complaining\",\"ingredients\",\"taken_account\",\"thesis\",\"pragmatic\",\"solid\",\"trough\",\"philosopher\",\"peculiarities\",\"transfer\",\"stars\",\"welfare\",\"revealing\",\"commonality\",\"coping\",\"vous\",\"respective\",\"politicians\",\"bothered\",\"satisfy\",\"combined\",\"intellectual\",\"officers\",\"consequently\",\"accomplishment\",\"underneath\",\"adichie\",\"relying\",\"cafe\",\"attribute\",\"simpler\",\"fifth\",\"strikes\",\"culinary\",\"costumes\",\"avid\",\"deserve\",\"konw\",\"soccer\",\"attentive\",\"kazakh\",\"outdoor\",\"tiring\",\"humorous\",\"tolerate\",\"alive\",\"continues\",\"attempts\",\"process_sorting_identities\",\"recommendation\",\"kinda\",\"worship\",\"save_face\",\"technological\",\"czech\",\"rate\",\"wore\",\"aiste\",\"embedded\",\"representing\",\"row\",\"obtain\",\"stone\",\"gym\",\"narrative\",\"horizontal\",\"replace\",\"hierarchical\",\"awkwardness\",\"jesus\",\"designed\",\"deliberately\",\"conversely\",\"severe\",\"troubles\",\"stem\",\"rock\",\"fails\",\"joan\",\"interlocutors\",\"nurture\",\"performing\",\"win\",\"constructed\",\"filters\",\"employment\",\"slavery\",\"purely\",\"quit\",\"self_esteem\",\"respectively\",\"stops\",\"peel_onion\",\"membership\",\"bound\",\"apple\",\"representation\",\"obliged\",\"stare\",\"affective_approach\",\"emotional_intelligence\",\"sequential\",\"masculinity\",\"appropriate_style_standards\",\"adjust_develop_use\",\"contracts\",\"exemple\",\"smartphones\",\"polychromic\",\"mr_johnson\",\"presume\",\"tutor\",\"short_term\",\"closely_related\",\"principal\",\"hundreds\",\"seaside\",\"display\",\"geographic\",\"saved\",\"pool\",\"county\",\"receiver\",\"moocs\",\"texts\",\"geographically\",\"realities\",\"latvia\",\"supported\",\"leisure\",\"pronunciation\",\"specialist\",\"unpack\",\"mannerisms\",\"nationals\",\"translated\",\"farming\",\"th_century\",\"confirmed\",\"subordinate\",\"tremendous\",\"continents\",\"malaysian\",\"masters\",\"treatment\",\"spectrum\",\"jamaica\",\"old_fashioned\",\"completion\",\"uganda\",\"migrated\",\"luxembourg\",\"ningbo\",\"learnings\",\"taking_account\",\"professionals\",\"loose\",\"delhi\",\"confess\",\"suprised\",\"milk\",\"starbucks\",\"van\",\"patients\",\"paragraph\",\"expresses\",\"insider\",\"indicate\",\"treating\",\"bags\",\"million\",\"desperate\",\"bush\",\"invaded\",\"businesses\",\"carried\",\"sphere\",\"collaborate\",\"grandma\",\"thrown\",\"roommates\",\"motto\",\"remove\",\"thick\",\"mis\",\"beings\",\"rubbish\",\"hundred\",\"refreshing\",\"gate\",\"communicates\",\"conflicting\",\"months_ago\",\"confuse\",\"stems\",\"public_spaces\",\"insecure\",\"practically\",\"hanging\",\"repeated\",\"bathroom\",\"dilemma\",\"belonged\",\"died\",\"oriental\",\"introductions\",\"pray\",\"conclude\",\"friendliness\",\"passage\",\"peter\",\"twenty_years\",\"behaves\",\"break_ice\",\"sense_humour\",\"practitioner\",\"modes\",\"tight\",\"fathers\",\"damascus\",\"resident\",\"intentionally\",\"board\",\"sits\",\"sought\",\"musical\",\"visa\",\"varieties\",\"northeast\",\"commenting\",\"sense_humor\",\"acted\",\"obstacle\",\"harsh\",\"unconscious\",\"expat\",\"facets\",\"lovers\",\"partially\",\"serves\",\"smoothly\",\"silly\",\"praise\",\"deliver\",\"forcing\",\"wished\",\"nonetheless\",\"siblings\",\"remaining\",\"warning\",\"exams\",\"nuanced\",\"conform\",\"season\",\"fitting\",\"guides\",\"contain\",\"urge\",\"dig\",\"take_advantage\",\"unconfortable\",\"didnt\",\"silently\",\"unit\",\"richness\",\"ect\",\"mirror\",\"que\",\"stomach\",\"ethnography\",\"inputs\",\"digging\",\"familiarity\",\"spelling\",\"accurately\",\"analysing\",\"broadly\",\"horizons\",\"clever\",\"supportive\",\"evaluate\",\"classify\",\"handed\",\"images\",\"hobby\",\"endless\",\"unavoidable\",\"interconnected\",\"adds\",\"fb\",\"makus\",\"lyrics\",\"zhejiang_province\",\"uncommon\",\"enabled\",\"shyness\",\"technical\",\"liberty\",\"antwerp\",\"violent\",\"magic\",\"rosa\",\"racist\",\"arrangements\",\"concentration\",\"alienation\",\"categorizations\",\"last_minute\",\"servant\",\"spatial\",\"agnostic\",\"recommended\",\"agendas\",\"redacted_com\",\"clarification\",\"ritual\",\"useless\",\"sexual\",\"stable\",\"colours\",\"selves\",\"criticize\",\"shorter\",\"document\",\"record\",\"perception_reality\",\"handy\",\"arguing\",\"defend\",\"poem_perception\",\"stereotypes_prejudice\",\"peeled\",\"newly\",\"youngsters\",\"extension\",\"rank\",\"nationalistic\",\"filial\",\"alisa\",\"categorization\",\"indirectly\",\"reviewer\",\"exclusive\",\"olivia\",\"protection\",\"kim\",\"consistent\",\"hygiene\",\"appropriate_styles\",\"poly_chronic\",\"mono_chronic\",\"paper_diary\",\"use_calendar_app\",\"outlook_calendar\",\"stresses\",\"cinema\",\"evolve\",\"suspect\",\"solve_problems\",\"chi\",\"delighted\",\"natives\",\"distinguishing\",\"foot\",\"forum\",\"musician\",\"apt\",\"secure\",\"implied\",\"travellers\",\"covering\",\"accomplish\",\"satisfying\",\"scholarship\",\"internship\",\"minorities\",\"washing\",\"soft\",\"strengthen\",\"object\",\"certificate\",\"plant\",\"veil\",\"fl\",\"broke\",\"pacific\",\"semi\",\"army\",\"bi\",\"soviet\",\"graduating\",\"bought\",\"stages\",\"gemma\",\"thorough\",\"production\",\"dedicated\",\"equivalent\",\"relates\",\"unclear\",\"resulting\",\"suffered\",\"examining\",\"invasion\",\"networks\",\"overcoming\",\"collegues\",\"sarah\",\"seychelles\",\"inferior\",\"afghanistan\",\"oman\",\"influencing\",\"designer\",\"emerge\",\"ethnicities\",\"asylum_seekers\",\"collaboration\",\"repeat\",\"drop\",\"massive\",\"insensitive\",\"corner\",\"nodding\",\"jiangxi\",\"arm\",\"landscape\",\"earn\",\"shaking_hands\",\"naive\",\"walked\",\"responded\",\"articulate\",\"fulfill\",\"researches\",\"recognised\",\"ghana\",\"millennial\",\"studing\",\"guanxi\",\"neighborhood\",\"paradox\",\"innovation\",\"desired\",\"conferences\",\"sacrifice\",\"slower\",\"corporate\",\"sociable\",\"medicine\",\"somewhere_else\",\"sudden\",\"domestic\",\"breath\",\"witnessed\",\"abc\",\"fewer\",\"mild\",\"rational\",\"rabab\",\"components\",\"lacking\",\"meters\",\"exploration\",\"sundanese\",\"anything_else\",\"speed\",\"dead\",\"behavioral\",\"misleading\",\"king\",\"intimidating\",\"owner\",\"nada\",\"anac_lia\",\"honour\",\"radio\",\"delicious_food\",\"christ\",\"generalize\",\"luxury\",\"neglect\",\"widen\",\"sugar\",\"corruption\",\"finger\",\"lake\",\"policies\",\"bible\",\"promoted\",\"decision_making\",\"reminding\",\"ambiguity\",\"frankly\",\"comparisons\",\"stays\",\"dean\",\"scary\",\"propose\",\"romans\",\"anyone_else\",\"forgetting\",\"doctors\",\"eliminate\",\"worthwhile\",\"reject\",\"runs\",\"discriminated\",\"five_weeks\",\"innate\",\"classmate\",\"spicy_food\",\"apologies\",\"efficiently\",\"addicted\",\"bbc\",\"software\",\"elevator\",\"benefited\",\"genuine\",\"communal\",\"proves\",\"rooms\",\"thx\",\"analyzing\",\"energetic\",\"cheek\",\"published\",\"desires\",\"briefly\",\"differnt\",\"strongest\",\"shifting\",\"talkative\",\"psychological_features\",\"public_features\",\"trying_figure\",\"organise\",\"orientated\",\"philosophical\",\"peeling_onion\",\"maps\",\"kam\",\"participated\",\"consultant\",\"hmm\",\"inequality\",\"competent\",\"expertise\",\"six_months\",\"tended\",\"minor\",\"oxford\",\"rare\",\"frequent\",\"suggesting\",\"expats\",\"applications\",\"remained\",\"middle_eastern\",\"brits\",\"dr_dharm_bhawuk\",\"expensive\",\"sufficient\",\"frisian\",\"ancestry\",\"pursuing\",\"grows\",\"inappropriate\",\"puzzled\",\"cards\",\"geert_hofstede\",\"phrases\",\"peculiar\",\"television\",\"press\",\"produce\",\"input\",\"tribal\",\"perish_together_fools\",\"buses\",\"offending\",\"journalist\",\"officer\",\"operating\",\"eye_opener\",\"amusing\",\"disrespectful\",\"creation\",\"pinyin\",\"flora\",\"arrogance\",\"intimacy\",\"decent\",\"feedbacks\",\"soldiers\",\"maternal\",\"vacation\",\"establishing\",\"clue\",\"tastes\",\"plane\",\"bonds\",\"problematic\",\"sum\",\"completing\",\"resilience\",\"physical_contact\",\"neighbour\",\"dis\",\"bowl\",\"spare\",\"differents\",\"photography\",\"favor\",\"worries\",\"selfish\",\"attractive\",\"liberal\",\"supermarkets\",\"queues\",\"barely\",\"emphasized\",\"cheese\",\"liu\",\"sisters\",\"adaptability\",\"sri_lanka\",\"owned\",\"regret\",\"likes_dislikes\",\"cell_phone\",\"eaten\",\"cooked\",\"solidarity\",\"premise\",\"irritated\",\"prejudiced\",\"meanwhile\",\"cooperate\",\"combine\",\"orthodox\",\"danger_single_story\",\"nearby\",\"empathize\",\"ears\",\"cultivate\",\"shouting\",\"mad\",\"southeast\",\"poets\",\"verbally\",\"unintentionally\",\"stepped\",\"interacted\",\"uncle\",\"handling\",\"drawing\",\"transport\",\"poverty\",\"data\",\"weddings\",\"bright\",\"snow\",\"alcohol\",\"fourth\",\"roel\",\"identical\",\"empathic\",\"domain\",\"enemy\",\"spouse\",\"contest\",\"tiny\",\"explicitly\",\"respects\",\"cheeks\",\"scroll\",\"replies\",\"tube\",\"suits\",\"routines\",\"institutions\",\"disturbing\",\"resource\",\"locations\",\"derived\",\"forming\",\"conception\",\"aims\",\"command\",\"talker\",\"high_low\",\"thousands\",\"weak\",\"laughing\",\"sing\",\"grouping\",\"stating\",\"everytime\",\"consumer\",\"evolved\",\"random\",\"public_transportation\",\"heat\",\"sincerity\",\"phases\",\"uncertain\",\"reframing\",\"low_power_distance\",\"grade\",\"recognized\",\"resolve\",\"socialize\",\"mutually\",\"belongings\",\"commonalities\",\"must_admit\",\"hosted\",\"contextual\",\"incredibly\",\"waters\",\"acquainted\",\"steve_kulich\",\"texas\",\"maintaining\",\"taboos\",\"component\",\"guilty\",\"subconsciously\",\"lay\",\"addressed\",\"culturally_diverse\",\"intolerance\",\"swedish\",\"finnish\",\"shut\",\"sites\",\"early_age\",\"taiwanese\",\"ice\",\"metaphors\",\"predominantly\",\"behaving\",\"lithuanian\",\"sydney\",\"ten_years\",\"impose\",\"illustrated\",\"wishes\",\"spring\",\"belgian\",\"bachelor_degree\",\"diet\",\"considered_rude\",\"esp\",\"buenos_aires\",\"universe\",\"neighbours\",\"activist\",\"rain\",\"eating_habits\",\"rural_area\",\"homes\",\"criticism\",\"anytime\",\"explored\",\"glasses\",\"warmth\",\"listening_music\",\"commercial\",\"conference\",\"understands\",\"lawyer\",\"brand\",\"flight\",\"onto\",\"instances\",\"caucasian\",\"threat\",\"terrible\",\"replied\",\"appropriately\",\"gaps\",\"centered\",\"beach\",\"weekends\",\"wondered\",\"insist\",\"passport\",\"individuality\",\"west_east\",\"contrasting\",\"subcultures\",\"toilet\",\"highlighted\",\"vocabulary\",\"denial\",\"colors\",\"blessed\",\"confirm\",\"attitudes_towards\",\"convinced\",\"zhejiang\",\"globalisation\",\"ten\",\"build_bridges\",\"chimamanda_adichie\",\"weight\",\"iam\",\"dry\",\"turning\",\"applying\",\"forces\",\"bill\",\"taken_granted\",\"fire\",\"guard\",\"cutural\",\"throw\",\"resulted\",\"hr\",\"lately\",\"ceremony\",\"proximity\",\"clashes\",\"faculty\",\"police\",\"expressive\",\"disability\",\"films\",\"unfortunate\",\"courtesy\",\"learns\",\"smiled\",\"interpretations\",\"arguments\",\"prejudice_discrimination\",\"fruitful\",\"bridge_gap\",\"stubborn\",\"competitive\",\"debate\",\"listened\",\"rituals\",\"joint\",\"rashmi\",\"hugging\",\"underground\",\"civil\",\"kazakhstan\",\"david\",\"holding_hands\",\"absence\",\"hearted\",\"construct\",\"scope\",\"concise\",\"track\",\"rush_hour\",\"hurry\",\"ignoring\",\"hahaha\",\"organizations\",\"depression\",\"edu\",\"intergroup\",\"pages\",\"proverb\",\"judgment\",\"burden\",\"proposed\",\"birthdays\",\"gather\",\"stereotypical\",\"amy_min_fan\",\"xi\",\"virtual\",\"purposes\",\"discriminate\",\"dreamer\",\"entities\",\"danger\",\"communist\",\"urgent\",\"honeymoon\",\"mess\",\"deleted\",\"deadline\",\"alarm\",\"monochronic_polychronic\",\"professor_kulich\",\"retirement\",\"viewpoints\",\"grace\",\"someday\",\"ultimately\",\"junior_student\",\"eu\",\"marked\",\"mono\",\"identities_appreciation_others\",\"hungry\",\"enable\",\"austria\",\"migrants\",\"wave\",\"strike\",\"recognizing\",\"engineering\",\"roman\",\"researchers\",\"symbolic\",\"hints\",\"festival\",\"exception\",\"south_east\",\"south_korea\",\"movement\",\"embracing\",\"focuses\",\"excitement\",\"flowers\",\"painful\",\"exceptions\",\"scales\",\"transitions\",\"numbers\",\"understandings\",\"peru\",\"rural_areas\",\"behaved\",\"mothers\",\"citizenship\",\"capable\",\"limitations\",\"yorkshire\",\"comunication\",\"expert\",\"anxious\",\"sth\",\"dreams\",\"overview\",\"diplomacy\",\"exclusion\",\"raising\",\"folk\",\"islands\",\"opens\",\"comment_removed\",\"hosts\",\"traditionally\",\"evidence\",\"application\",\"garden\",\"accommodate\",\"protestant\",\"symbol\",\"intriguing\",\"interlocutor\",\"greeted\",\"contributions\",\"thai\",\"mountain\",\"strive\",\"simultaneously\",\"crowds\",\"immersed\",\"uni\",\"smell\",\"cry\",\"promise\",\"coastal\",\"seven\",\"inform\",\"lulu\",\"swim\",\"anna\",\"split\",\"shares\",\"afternoon\",\"session\",\"shake\",\"afford\",\"al\",\"majoring\",\"thinker\",\"apps\",\"creativity\",\"depressed\",\"crowd\",\"approaching\",\"socializing\",\"open_mindedness\",\"relational\",\"satisfaction\",\"without_permission\",\"prefers\",\"sudan\",\"arabs\",\"alert\",\"conduct\",\"examine\",\"doubts\",\"bike\",\"president\",\"disagreement\",\"update\",\"golden\",\"shaping\",\"rethink\",\"emigrated\",\"contribution\",\"movements\",\"fairness\",\"rigid\",\"anti\",\"heads\",\"trompenaars\",\"fujian\",\"merely\",\"outgroups\",\"spontaneous\",\"multi_tasking\",\"obey\",\"laptop\",\"pointing\",\"mobile_app\",\"prof_johnson\",\"returning\",\"jordan\",\"northwest\",\"hardest\",\"portugal\",\"ocean\",\"ethiopia\",\"carrying\",\"involving\",\"river\",\"redacted\",\"erasmus\",\"assistant\",\"lustig_koester\",\"causing\",\"cars\",\"km\",\"acquired\",\"daughters\",\"improved\",\"sweden\",\"signed\",\"papers\",\"voices\",\"driven\",\"card\",\"tom\",\"exchanged\",\"pieces\",\"spitting\",\"demonstrate\",\"guidelines\",\"journal\",\"facilitate\",\"impacts\",\"chile\",\"essence\",\"singing\",\"bridges\",\"realistic\",\"picked\",\"institution\",\"consequence\",\"melting_pot\",\"communicators\",\"brothers\",\"worthy\",\"https_en_wikipedia_org\",\"forever\",\"friday\",\"elizabeth\",\"forgotten\",\"hungary\",\"mrs\",\"pure\",\"generosity\",\"discipline\",\"republic\",\"furthermore\",\"roommate\",\"floor\",\"drinks\",\"intend\",\"theme\",\"ethiopian\",\"interactive\",\"vice_versa\",\"seiichi\",\"mainstream\",\"considers\",\"info\",\"imagination\",\"vegetarian\",\"sons\",\"extrovert\",\"sympathy\",\"native_speakers\",\"geography\",\"strictly\",\"impressions\",\"bother\",\"relevance\",\"behavioural\",\"primary\",\"guiding\",\"brief\",\"listen_music\",\"strategy\",\"rapidly\",\"similarity\",\"cautious\",\"asians\",\"equals\",\"package\",\"graduation\",\"scene\",\"saudi\",\"receiving\",\"disrespect\",\"identifies\",\"prominent\",\"folks\",\"accordingly\",\"arrange\",\"atheist\",\"processing\",\"hearts\",\"ride\",\"economy\",\"https_www_youtube_com\",\"quietly\",\"unsure\",\"abilities\",\"noodles\",\"negotiating\",\"alike\",\"subconscious\",\"demand\",\"crossed\",\"harmful\",\"suggestion\",\"sisuer\",\"alternative\",\"calendar_book\",\"exhibit\",\"peer_review\",\"metro\",\"onions\",\"high_context_low_context\",\"perseverance\",\"keep_track\",\"scheduling\",\"primarily\",\"philippines\",\"go_flow\",\"adventurous\",\"illustrates\",\"nepal\",\"latin_america\",\"arrangement\",\"association\",\"wonderfully\",\"author\",\"soon_possible\",\"jump\",\"unaware\",\"sadly\",\"applicable\",\"mail\",\"director\",\"opposed\",\"sunday\",\"sandra\",\"guidance\",\"visitor\",\"attempting\",\"cant\",\"environmental\",\"fighting\",\"secret\",\"harm\",\"firm\",\"favour\",\"st\",\"complexity\",\"supporting\",\"intense\",\"perform\",\"live_together_brothers\",\"games\",\"reaching\",\"neighbor\",\"jef\",\"passengers\",\"amsterdam\",\"aunt\",\"precisely\",\"fluid\",\"photo\",\"zero\",\"wiki\",\"latin_american\",\"sir\",\"recognition\",\"ate\",\"negatively\",\"abstract\",\"convenient\",\"taxi\",\"fiction\",\"medina\",\"argentinian\",\"cuisine\",\"pack\",\"format\",\"reached\",\"exhausting\",\"consists\",\"structured\",\"sunny\",\"stupid\",\"inclined\",\"organizing\",\"loyal\",\"adjusted\",\"thankful\",\"hides\",\"reveals\",\"provinces\",\"acquire\",\"workers\",\"diffrent\",\"demands\",\"unusual\",\"remarks\",\"logic\",\"essay\",\"moves\",\"clarity\",\"affection\",\"policy\",\"closest\",\"animal_lover\",\"trend\",\"queuing\",\"cost\",\"drivers\",\"robbie\",\"vulnerable\",\"attach\",\"singer\",\"motivated\",\"reputation\",\"similarly\",\"kisses\",\"categorize\",\"relaxing\",\"paid\",\"dressing\",\"inspiration\",\"attitude_towards\",\"distances\",\"station\",\"underlying\",\"overlap\",\"destination\",\"programmes\",\"grammar\",\"follows\",\"suffer\",\"price\",\"monthly\",\"fears\",\"licia\",\"shoulder\",\"advantages\",\"urgency\",\"dealt\",\"adaption\",\"monochromic\",\"bed\",\"shock_become_adaptable\",\"tricky\",\"brazilians\",\"casual\",\"mentioning\",\"privilege\",\"circles\",\"significance\",\"migration\",\"sets\",\"anybody\",\"external\",\"deepen\",\"nuances\",\"globally\",\"latvian\",\"variation\",\"noticeable\",\"informative\",\"alien\",\"stereotyping\",\"fellow_learners\",\"apologize\",\"achieving\",\"ordinary\",\"lifestyles\",\"interestingly\",\"financial\",\"yunnan\",\"player\",\"otherness\",\"seemingly\",\"comparative\",\"assessment\",\"rd\",\"sorts\",\"fell\",\"festivals\",\"definite\",\"drawn\",\"leaders\",\"swiss\",\"professionally\",\"honor\",\"romantic\",\"enriched\",\"ongoing\",\"daily_basis\",\"good_luck\",\"average\",\"reliable\",\"statements\",\"theatre\",\"checking\",\"windows\",\"remembered\",\"diana\",\"mentally\",\"junior\",\"tension\",\"correctly\",\"insecurity\",\"vivid\",\"suitable\",\"blue\",\"mixing\",\"norwegian\",\"stuck\",\"clues\",\"employees\",\"ultimate\",\"yang\",\"planet\",\"services\",\"shapes\",\"norway\",\"practise\",\"human_rights\",\"dare\",\"happily\",\"shops\",\"graduate_student\",\"scared\",\"satisfied\",\"sources\",\"wild\",\"tip\",\"fortunate\",\"indicates\",\"pointed\",\"advantage\",\"foundation\",\"commitments\",\"arms\",\"starting_point\",\"crisis\",\"clock\",\"generous\",\"schedules\",\"vatican\",\"sticky_notes\",\"benevolence\",\"collectivistic\",\"use_google_calendar\",\"hopes\",\"remote\",\"challenged\",\"unity\",\"colombian\",\"reduced\",\"sexual_orientation\",\"worldview\",\"maria\",\"arrival\",\"store\",\"modest\",\"myanmar\",\"nd\",\"breaking\",\"largest\",\"incidents\",\"translate\",\"united\",\"catalan\",\"villages\",\"suit\",\"outcomes\",\"descent\",\"overwhelming\",\"thoroughly\",\"nigerian\",\"integration\",\"travels\",\"arranged\",\"madrid\",\"laughed\",\"danish\",\"jan\",\"coast\",\"min\",\"confronted\",\"wisdom\",\"poet\",\"precious\",\"disagree\",\"bread\",\"lens\",\"covered\",\"pushed\",\"wine\",\"attached\",\"losing\",\"century\",\"photos\",\"improving\",\"acts\",\"assimilate\",\"pub\",\"harmonious\",\"symbols\",\"solutions\",\"principle\",\"believer\",\"affecting\",\"flemish\",\"comprehensive\",\"interview\",\"exam\",\"error\",\"implies\",\"interpreter\",\"revealed\",\"broader\",\"calling\",\"dancer\",\"westerner\",\"rogier\",\"music_lover\",\"searching\",\"possibilities\",\"judged\",\"code\",\"treasure\",\"profound\",\"paying\",\"celebration\",\"leadership\",\"chimamanda\",\"managing\",\"determine\",\"discovery\",\"noticing\",\"absolute\",\"constructive\",\"distorted_images\",\"refuse\",\"emphasizes\",\"productive\",\"representative\",\"enables\",\"cuture\",\"high_low_context\",\"decades\",\"visual\",\"multitasking\",\"mallorca\",\"samuel\",\"affective\",\"holds\",\"post_notes\",\"collectivism_individualism\",\"best_wishes\",\"participate\",\"design\",\"divided\",\"ladies\",\"international_relations\",\"hospital\",\"peer\",\"largely\",\"connecting\",\"primary_school\",\"monday\",\"discourse\",\"exchanges\",\"fill\",\"diversities\",\"sub\",\"advanced\",\"exchanging\",\"kenya\",\"ties\",\"south_african\",\"internationally\",\"asks\",\"grand\",\"scholar\",\"ends\",\"functions\",\"die\",\"inevitable\",\"youngest\",\"achieved\",\"pity\",\"sport\",\"settle\",\"coach\",\"precise\",\"clients\",\"misunderstand\",\"centre\",\"writers\",\"worlds\",\"calls\",\"potentially\",\"dependent\",\"mexicans\",\"elsewhere\",\"lazy\",\"etiquette\",\"experts\",\"trainer\",\"flat\",\"inner_mongolia\",\"institute\",\"adjustments\",\"encountering\",\"color\",\"turns\",\"dish\",\"marks\",\"individually\",\"sentences\",\"absorb\",\"tall\",\"proved\",\"argument\",\"timekeeping\",\"ending\",\"total\",\"employee\",\"fix\",\"ethnocentric\",\"worst\",\"iranian\",\"division\",\"version\",\"greg\",\"valid\",\"https\",\"pictures\",\"eg\",\"romanian\",\"pain\",\"cherish\",\"frank\",\"degrees\",\"calender\",\"ind_col\",\"library\",\"presentation\",\"artist\",\"master_degree\",\"scheduled\",\"packed\",\"telephone\",\"colorful\",\"shanshan\",\"lifetime\",\"native_speaker\",\"negotiation\",\"barcelona\",\"increasing\",\"continuing\",\"blunt\",\"club\",\"celebrating\",\"doors\",\"embarrassment\",\"organisation\",\"mindset\",\"develop_awareness\",\"smiling\",\"dogs\",\"tour\",\"offence\",\"territory\",\"stood\",\"distinguishing_feature\",\"attracted\",\"teenager\",\"addressing\",\"refugee\",\"trained\",\"directions\",\"lets\",\"complain\",\"neighbors\",\"convey\",\"partners\",\"teams\",\"campus\",\"civilization\",\"unlike\",\"buddhist\",\"introducing\",\"loudly\",\"running\",\"lecturer\",\"permission\",\"smooth\",\"phones\",\"initiative\",\"hardworking\",\"phase\",\"stressed\",\"offering\",\"commented\",\"rush\",\"mouth\",\"solve_problem\",\"center\",\"trinidadian\",\"regarded\",\"politely\",\"recall\",\"positions\",\"horizon\",\"widely\",\"sight\",\"puts\",\"solving\",\"imagined\",\"motivation\",\"valuing\",\"animal\",\"sick\",\"believing\",\"teaches\",\"concrete\",\"unacceptable\",\"walls\",\"seconds\",\"kissing\",\"circumstance\",\"https_www\",\"ingroup\",\"analyse\",\"tck\",\"xinjiang\",\"tables\",\"cognitive\",\"feminist\",\"devices\",\"duty\",\"programs\",\"multinational\",\"ethnic_groups\",\"luckily\",\"prior\",\"understandable\",\"black_white\",\"appreciating\",\"allowing\",\"increasingly\",\"posts\",\"occurred\",\"san\",\"game\",\"spite\",\"answering\",\"inhabitants\",\"towns\",\"outsiders\",\"shower\",\"reasonable\",\"era\",\"cantonese\",\"participating\",\"boring\",\"represents\",\"ashamed\",\"grasp\",\"trips\",\"prove\",\"mountains\",\"embarrassing\",\"automatically\",\"geographical\",\"series\",\"questioning\",\"viewing\",\"encouraging\",\"dancing\",\"apartment\",\"residents\",\"beer\",\"south_america\",\"rise\",\"heavily\",\"helen\",\"medium\",\"assumption\",\"driving\",\"expects\",\"authority\",\"filled\",\"traveler\",\"clearer\",\"blame\",\"advertising\",\"zone\",\"explains\",\"im\",\"promote\",\"enjoyable\",\"apparent\",\"tanya\",\"mother_tongue\",\"egyptian\",\"organised\",\"client\",\"likewise\",\"worldwide\",\"nicely\",\"consciousness\",\"faster\",\"restaurants\",\"chosen\",\"handshake\",\"hindu\",\"divide\",\"audience\",\"inspires\",\"exercises\",\"outer\",\"meditation\",\"invisible\",\"match\",\"chronemics\",\"hesitation\",\"weekly\",\"orientations\",\"reviewed\",\"smith\",\"linguist\",\"wanna\",\"fields\",\"inviting\",\"mentality\",\"hello_everybody\",\"union\",\"occasionally\",\"hit\",\"intelligent\",\"communicate_effectively\",\"answered\",\"wars\",\"crossing\",\"public_places\",\"syrian\",\"la\",\"root\",\"distant\",\"signs\",\"differing\",\"leaves\",\"chopsticks\",\"fail\",\"university_groningen\",\"hospitable\",\"logical\",\"mid\",\"solved\",\"existence\",\"accents\",\"engagement\",\"tomorrow\",\"public_transport\",\"inspired\",\"super\",\"website\",\"ex\",\"mediterranean\",\"immediate\",\"dog\",\"refused\",\"oral\",\"asking_questions\",\"islam\",\"blog\",\"considerate\",\"introverted\",\"capital_city\",\"label\",\"concentrate\",\"narrow\",\"delicious\",\"concerns\",\"racial\",\"operate\",\"continuum\",\"cover\",\"shame\",\"numerous\",\"distinctive\",\"plenty\",\"broken\",\"ha\",\"integrated\",\"daughter_sister\",\"lies\",\"strength\",\"flow\",\"hide\",\"superficial\",\"borders\",\"reflections\",\"ted_talk\",\"step_step\",\"stressful\",\"pauses\",\"violence\",\"joudy\",\"identification\",\"targets\",\"materials\",\"contract\",\"entry\",\"johnson\",\"pleased\",\"web\",\"letting\",\"men_women\",\"surprisingly\",\"aggressive\",\"gifts\",\"located\",\"communicator\",\"served\",\"posted\",\"responding\",\"greetings\",\"finds\",\"wales\",\"caught\",\"offers\",\"unnecessary\",\"affairs\",\"labels\",\"surprises\",\"beside\",\"breakfast\",\"round\",\"industry\",\"comfort_zones\",\"lol\",\"un\",\"supermarket\",\"kitchen\",\"centuries\",\"false\",\"hk\",\"houses\",\"faces\",\"explanations\",\"facts\",\"realizing\",\"org\",\"shocking\",\"applies\",\"window\",\"illustration\",\"hobbies\",\"dynamics\",\"dates\",\"noting\",\"deny\",\"fits\",\"justice\",\"beneficial\",\"peeling\",\"demarcations\",\"pen\",\"uncertainty_avoidance\",\"shall\",\"denmark\",\"regularly\",\"via\",\"aim\",\"presented\",\"celebrate\",\"preparing\",\"extend\",\"islamic\",\"urban\",\"trains\",\"systems\",\"interculturally\",\"commonly\",\"viewpoint\",\"fluently\",\"bilingual\",\"welcomed\",\"translator\",\"electronic\",\"heavy\",\"shop\",\"spread\",\"vast\",\"principles\",\"existing\",\"html\",\"dubai\",\"represented\",\"curve\",\"outing\",\"trade\",\"compromise\",\"tribes\",\"concerning\",\"versus\",\"hungarian\",\"interpreted\",\"pakistan\",\"sent\",\"experiment\",\"military\",\"named\",\"peaceful\",\"box\",\"double\",\"adding\",\"request\",\"category\",\"facial_expressions\",\"jane\",\"prof_kulich\",\"swimming\",\"emotionally\",\"acknowledge\",\"tone\",\"require\",\"ethics\",\"finishing\",\"reflective\",\"importantly\",\"invitation\",\"count\",\"preparation\",\"lectures\",\"student_sisu\",\"network\",\"canteen\",\"cheers\",\"trinidad\",\"yoruba\",\"filial_piety\",\"references\",\"necessity\",\"thought_provoking\",\"dignity\",\"bond\",\"highlights\",\"zhao\",\"claim\",\"mr_smith\",\"mentor\",\"african_american\",\"researcher\",\"gift\",\"actively\",\"chances\",\"beforehand\",\"lecture\",\"willingness\",\"intended\",\"holding\",\"varies\",\"waves\",\"ensure\",\"item\",\"humour\",\"laws\",\"mentors\",\"democracy\",\"amazed\",\"ignorance\",\"baby\",\"piece\",\"trait\",\"title\",\"yesterday\",\"bar\",\"north_south\",\"measure\",\"bottom\",\"id\",\"final\",\"involves\",\"big_cities\",\"scenario\",\"comprehend\",\"department\",\"watched\",\"contents\",\"six\",\"deadlines\",\"secondly\",\"ideal\",\"greatest\",\"dislike\",\"option\",\"passed\",\"buddhism\",\"site\",\"occurs\",\"gay\",\"limit\",\"sat\",\"competition\",\"hug\",\"periods\",\"routine\",\"tree\",\"tourist\",\"identifying\",\"revolution\",\"ideology\",\"ignored\",\"exact\",\"pc\",\"videos\",\"carolina\",\"enrich\",\"associate\",\"profession\",\"awesome\",\"increased\",\"wealth\",\"waste\",\"serve\",\"nevertheless\",\"consequences\",\"visible\",\"aside\",\"report\",\"evident\",\"loss\",\"entire\",\"profile\",\"retired\",\"completed\",\"enthusiasm\",\"wise\",\"referred\",\"admire\",\"communicated\",\"customer\",\"homework\",\"target\",\"memories\",\"green\",\"implicit\",\"optimistic\",\"passing\",\"annoying\",\"bag\",\"exposure\",\"girlfriend\",\"phrase\",\"prevent\",\"describing\",\"east_west\",\"foods\",\"forgot\",\"theoretical\",\"berlin\",\"empathetic\",\"tourists\",\"surrounded\",\"linear\",\"succeed\",\"avoiding\",\"escape\",\"rooted\",\"biases\",\"ages\",\"philosophy\",\"switch\",\"clash\",\"compassion\",\"ill\",\"consciously\",\"scientific\",\"integrate\",\"uneasy\",\"mobile_phone\",\"smartphone\",\"excuse\",\"additional\",\"taiwan\",\"occasion\",\"regional\",\"nervous\",\"new_zealand\",\"pace\",\"fluent\",\"portuguese\",\"appreciation\",\"brave\",\"pop\",\"engineer\",\"fortunately\",\"gesture\",\"hey\",\"expand\",\"methods\",\"size\",\"placed\",\"take_account\",\"settled\",\"specifically\",\"unpleasant\",\"pursue\",\"symptoms\",\"hang\",\"continued\",\"transition\",\"sense_belonging\",\"movie\",\"meat\",\"couples\",\"intelligence\",\"serbia\",\"serbian\",\"enthusiastic\",\"higher_education\",\"sex\",\"anxiety\",\"suffering\",\"sees\",\"desk\",\"judging\",\"played\",\"strategies\",\"plus\",\"cuz\",\"mr_zhang\",\"dangerous\",\"models\",\"google_calendar\",\"joining\",\"humble\",\"successfully\",\"drinking\",\"mutual_understanding\",\"forest\",\"forest_park\",\"leading\",\"highlighting\",\"freely\",\"causes\",\"racism\",\"amongst\",\"google\",\"projects\",\"discovering\",\"customers\",\"limits\",\"songs\",\"direction\",\"speakers\",\"stands\",\"date\",\"suggests\",\"apparently\",\"contribute\",\"fantastic\",\"overall\",\"wall\",\"honestly\",\"romania\",\"remains\",\"believes\",\"shake_hands\",\"protect\",\"joke\",\"performance\",\"ur\",\"driver\",\"shown\",\"wich\",\"peel\",\"pattern\",\"ethnocentrism\",\"high_power_distance\",\"amy\",\"gained\",\"products\",\"spirit\",\"pre\",\"entered\",\"morocco\",\"capacity\",\"defining\",\"birthday\",\"firstly\",\"hence\",\"listed\",\"john\",\"postgraduate\",\"neutral\",\"engaged\",\"humor\",\"bear\",\"beijing\",\"notion\",\"clean\",\"joy\",\"advise\",\"avoided\",\"qualities\",\"brilliant\",\"informal\",\"arise\",\"reverse\",\"survival\",\"sometime\",\"sincere\",\"informed\",\"adults\",\"get_rid\",\"assignments\",\"app\",\"hall\",\"cook\",\"malaysia\",\"hour\",\"tribe\",\"winter\",\"entirely\",\"leader\",\"tired\",\"humility\",\"multiple_identities\",\"shanghai_international_studies_university\",\"favourite\",\"exchange_student\",\"path\",\"futurelearn\",\"en\",\"worry\",\"fascinated\",\"believed\",\"incredible\",\"statement\",\"push\",\"force\",\"fundamental\",\"companies\",\"regular\",\"welsh\",\"tourism\",\"undergraduate\",\"opening\",\"taboo\",\"benefits\",\"concern\",\"detailed\",\"method\",\"biased\",\"quick\",\"queue\",\"determined\",\"outlook\",\"shocks\",\"test\",\"wider\",\"fashion\",\"uncertainty\",\"interpret\",\"judgement\",\"okay\",\"broaden\",\"reduce\",\"interpretation\",\"assuming\",\"hofstede\",\"frame\",\"worker\",\"eduardo\",\"bubble\",\"homeland\",\"reviews\",\"mum\",\"marketing\",\"market\",\"priority\",\"stronger\",\"misunderstood\",\"colombia\",\"shanghainese\",\"modesty\",\"graduated\",\"surface\",\"attending\",\"colour\",\"smart\",\"struggling\",\"origins\",\"empty\",\"superior\",\"co\",\"football\",\"argue\",\"worried\",\"tokyo\",\"function\",\"museum\",\"psychology\",\"spot\",\"straightforward\",\"mental\",\"acquaintances\",\"connections\",\"typically\",\"punctuality\",\"explicit\",\"failed\",\"uniqueness\",\"rome\",\"feet\",\"internal\",\"intention\",\"literally\",\"gathering\",\"overwhelmed\",\"doctor\",\"enhance\",\"fight\",\"chapter\",\"objectives\",\"able_recognize\",\"vietnamese\",\"comparing\",\"suggested\",\"welcoming\",\"globe\",\"dress\",\"friendships\",\"minute\",\"pleasant\",\"responses\",\"starts\",\"australians\",\"vision\",\"airport\",\"values_might_underlie\",\"dialects\",\"translation\",\"positively\",\"extreme\",\"ancestors\",\"lovely\",\"small_village\",\"blend\",\"element\",\"introvert\",\"relating\",\"frequently\",\"fond\",\"distinct\",\"church\",\"shopping\",\"closeness\",\"mooc\",\"saudi_arabia\",\"relative\",\"punctual\",\"latin\",\"vital\",\"homesick\",\"referring\",\"strict\",\"phenomenon\",\"bank\",\"touched\",\"achievement\",\"anger\",\"scholars\",\"frameworks\",\"range\",\"vietnam\",\"loves\",\"presence\",\"countryside\",\"admit\",\"chose\",\"elderly\",\"odd\",\"thats\",\"citizens\",\"led\",\"keen\",\"youth\",\"refer\",\"caribbean\",\"dark\",\"interculture\",\"spaces\",\"catch\",\"wherever\",\"christmas\",\"sun\",\"search\",\"depth\",\"points_view\",\"stopped\",\"wiert\",\"accurate\",\"none\",\"properly\",\"clarify\",\"facebook\",\"encouraged\",\"rely\",\"exists\",\"mindful\",\"approaches\",\"unable\",\"cues\",\"lower\",\"silences\",\"wanting\",\"increase\",\"adventure\",\"races\",\"offend\",\"adjusting\",\"blood\",\"boyfriend\",\"dad\",\"embarrassed\",\"finland\",\"twice\",\"official\",\"fresh\",\"ethnicity\",\"mandarin\",\"new_york\",\"parent\",\"adaptable\",\"senses\",\"extra\",\"reviewing\",\"analyze\",\"atmosphere\",\"subjects\",\"latter\",\"introduce\",\"frustration\",\"courage\",\"product\",\"enlightening\",\"journalism\",\"relax\",\"priorities\",\"sleep\",\"constant\",\"mobile\",\"efficiency\",\"calendars\",\"varied\",\"impressive\",\"receive\",\"raise\",\"rewarding\",\"attended\",\"science\",\"isolated\",\"korea\",\"hot\",\"cope\",\"speaks\",\"messages\",\"traffic\",\"ancient\",\"regards\",\"volunteer\",\"built\",\"afterwards\",\"linguistics\",\"luggage\",\"represent\",\"added\",\"jobs\",\"hair\",\"personalities\",\"tips\",\"chen_li\",\"meals\",\"touching\",\"chatting\",\"energy\",\"physically\",\"computer\",\"preferred\",\"educator\",\"proper\",\"held\",\"drive\",\"choices\",\"nonverbal\",\"highlight\",\"incident\",\"eye\",\"engaging\",\"managed\",\"respected\",\"birth\",\"somewhat\",\"associated\",\"far_away\",\"established\",\"senior\",\"argentina\",\"location\",\"ground\",\"hate\",\"poetry\",\"partly\",\"disappointment\",\"fairly\",\"initially\",\"accustomed\",\"formed\",\"environments\",\"norm\",\"affects\",\"possibility\",\"save\",\"map\",\"minded\",\"observations\",\"individualist\",\"reminders\",\"progress\",\"occasions\",\"spiritual\",\"africans\",\"appears\",\"cooperation\",\"upbringing\",\"ukrainian\",\"negotiate\",\"introduction\",\"providing\",\"send\",\"medical\",\"conservative\",\"differs\",\"returned\",\"shift\",\"red\",\"tries\",\"answers\",\"attend\",\"account\",\"mainland\",\"mistake\",\"reflecting\",\"linked\",\"economic\",\"survive\",\"hierarchy\",\"settings\",\"border\",\"salient\",\"listener\",\"describes\",\"beauty\",\"long_term\",\"individualism_collectivism\",\"encourage\",\"annoyed\",\"skill\",\"tendency\",\"offered\",\"classroom\",\"prof\",\"recommend\",\"holidays\",\"outcome\",\"phd\",\"reveal\",\"gone\",\"healthy\",\"italians\",\"per\",\"reflects\",\"cut\",\"pride\",\"whose\",\"depend\",\"effects\",\"extended\",\"iran\",\"jokes\",\"moral\",\"tends\",\"makeup\",\"united_states\",\"immigrants\",\"common_ground\",\"invite\",\"hello_name\",\"surrounding\",\"subway\",\"subtle\",\"drink\",\"difficulty\",\"directness\",\"eye_contact\",\"outgoing\",\"efforts\",\"joined\",\"moscow\",\"theories\",\"continent\",\"commitment\",\"custom\",\"rarely\",\"reference\",\"reflected\",\"bridge\",\"viewed\",\"previously\",\"animals\",\"acting\",\"anne\",\"agreement\",\"etic_emic\",\"keeps\",\"greeting\",\"rights\",\"failure\",\"digital\",\"holiday\",\"seriously\",\"semester\",\"arriving\",\"text\",\"defines\",\"russians\",\"reactions\",\"middle_east\",\"recognise\",\"road\",\"last_year\",\"detail\",\"followed\",\"attempt\",\"includes\",\"shape\",\"planner\",\"risk\",\"standards\",\"elder\",\"unconsciously\",\"rice\",\"condition\",\"harder\",\"dance\",\"mood\",\"desire\",\"distinction\",\"intimate\",\"mr_chen\",\"seldom\",\"discovered\",\"opened\",\"toward\",\"effectively\",\"service\",\"barrier\",\"grandmother\",\"muslims\",\"loving\",\"actual\",\"ukraine\",\"hotel\",\"boys\",\"sweet\",\"arts\",\"definitions\",\"generations\",\"mode\",\"dishes\",\"poems\",\"mr\",\"intentions\",\"contrary\",\"smaller\",\"talks\",\"pass\",\"creates\",\"verbal\",\"sentence\",\"shoes\",\"voice\",\"dream\",\"crazy\",\"uses\",\"seats\",\"universities\",\"email\",\"thailand\",\"valued\",\"entering\",\"ignore\",\"ahead\",\"showed\",\"frustrating\",\"expressing\",\"grandfather\",\"noisy\",\"earth\",\"speaker\",\"tough\",\"occur\",\"cool\",\"refers\",\"disappointed\",\"closely\",\"indians\",\"defined\",\"emphasis\",\"enter\",\"identified\",\"dominant\",\"historical\",\"emphasize\",\"hurt\",\"carefully\",\"adapted\",\"worse\",\"moreover\",\"access\",\"peers\",\"characteristic\",\"conclusion\",\"combination\",\"thoughtful\",\"minds\",\"loyalty\",\"pm\",\"reminder\",\"safety\",\"stick\",\"sameness\",\"iceberg\",\"larger\",\"streets\",\"power_distance\",\"discomfort\",\"paris\",\"sports\",\"skin\",\"suggestions\",\"greece\",\"separate\",\"emotion\",\"establish\",\"social_media\",\"bias\",\"spending\",\"states\",\"openly\",\"resources\",\"base\",\"organized\",\"forms\",\"description\",\"solution\",\"master\",\"socially\",\"basically\",\"traveller\",\"quote\",\"adult\",\"broad\",\"adopt\",\"offensive\",\"plays\",\"onion_metaphor\",\"recent\",\"surely\",\"fixed\",\"face_face\",\"draw\",\"illustrate\",\"anywhere\",\"favorite\",\"canadian\",\"professors\",\"adopted\",\"developing\",\"fair\",\"sea\",\"human_beings\",\"solve\",\"evening\",\"lonely\",\"oneself\",\"interpersonal\",\"ask_questions\",\"greatly\",\"wide\",\"lunch\",\"granted\",\"caring\",\"contacts\",\"mom\",\"fall\",\"missing\",\"enriching\",\"nearly\",\"circle\",\"growth\",\"required\",\"formal\",\"germans\",\"naturally\",\"organize\",\"section\",\"page\",\"success\",\"humanity\",\"likes\",\"stage\",\"dr\",\"stranger\",\"weekend\",\"happening\",\"decisions\",\"tunisia\",\"greet\",\"preference\",\"tells\",\"kiss\",\"encountered\",\"de\",\"weird\",\"buy\",\"provides\",\"unexpected\",\"exciting\",\"switzerland\",\"clothes\",\"suitcase\",\"arab\",\"zhang\",\"comparison\",\"air\",\"conditions\",\"singapore\",\"processes\",\"relatively\",\"potential\",\"manager\",\"coffee\",\"confident\",\"westerners\",\"writer\",\"guest\",\"appearance\",\"creating\",\"wear\",\"variety\",\"soul\",\"usual\",\"worth\",\"film\",\"happiness\",\"security\",\"linguistic\",\"traveled\",\"slightly\",\"ended\",\"till\",\"taste\",\"flexibility\",\"specially\",\"minority\",\"openness\",\"hearing\",\"kid\",\"visitors\",\"initial\",\"amount\",\"wedding\",\"calm\",\"closed\",\"hospitality\",\"offended\",\"brain\",\"perfectly\",\"distinguish\",\"noted\",\"leads\",\"restaurant\",\"focusing\",\"wilson\",\"lessons\",\"planned\",\"greek\",\"car\",\"knows\",\"manners\",\"impolite\",\"forced\",\"treated\",\"included\",\"available\",\"equally\",\"confidence\",\"meanings\",\"vary\",\"discussed\",\"decide\",\"explaining\",\"elders\",\"seat\",\"missed\",\"practices\",\"health\",\"lose\",\"objective\",\"wearing\",\"stated\",\"introduced\",\"standard\",\"crucial\",\"standing\",\"respond\",\"peoples\",\"preferences\",\"gestures\",\"etic\",\"adjustment\",\"overseas\",\"collectivist\",\"appear\",\"faith\",\"passion\",\"popular\",\"except\",\"decision\",\"greater\",\"realised\",\"rural\",\"poland\",\"polish\",\"grandparents\",\"reader\",\"summary\",\"reminded\",\"inter\",\"catholic\",\"europeans\",\"treat\",\"outsider\",\"capital\",\"possibly\",\"manner\",\"universal\",\"diary\",\"dialogue\",\"religions\",\"paul\",\"acceptance\",\"provided\",\"boundaries\",\"address\",\"spoken\",\"respecting\",\"behaviours\",\"angry\",\"prejudices\",\"brazilian\",\"organization\",\"conscious\",\"laugh\",\"rule\",\"discussing\",\"source\",\"chat\",\"addition\",\"belongs\",\"remind\",\"contrast\",\"noise\",\"links\",\"locals\",\"staying\",\"sound\",\"accent\",\"someone_else\",\"responsible\",\"regard\",\"insight\",\"significant\",\"anymore\",\"appreciated\",\"nigeria\",\"non_verbal\",\"original\",\"normally\",\"assumed\",\"matters\",\"scotland\",\"forward\",\"pleasure\",\"surprise\",\"figure\",\"characters\",\"limited\",\"communicative\",\"playing\",\"indonesian\",\"framework\",\"basis\",\"structure\",\"inspiring\",\"struggle\",\"higher\",\"equality\",\"high_school\",\"memory\",\"confusion\",\"tea\",\"movies\",\"platform\",\"graduate\",\"politics\",\"active\",\"population\",\"cooking\",\"program\",\"schools\",\"comfort\",\"effect\",\"factor\",\"turned\",\"observing\",\"surroundings\",\"awkward\",\"fine\",\"throughout\",\"articles\",\"layer\",\"majority\",\"single_story\",\"intergroup_contact\",\"proxemics\",\"discussions\",\"south_africa\",\"originally\",\"globalization\",\"relaxed\",\"government\",\"observed\",\"unknown\",\"regardless\",\"confusing\",\"syria\",\"critical\",\"focused\",\"belgium\",\"indigenous\",\"looked\",\"belief\",\"news\",\"patience\",\"pressure\",\"independence\",\"seeking\",\"impressed\",\"mutual\",\"reserved\",\"begin\",\"remain\",\"workplace\",\"model\",\"excellent\",\"fan\",\"parties\",\"items\",\"psychological\",\"allows\",\"nobody\",\"notebook\",\"influential\",\"scale\",\"stayed\",\"dialect\",\"affected\",\"agreed\",\"guys\",\"pay\",\"received\",\"partner\",\"groningen\",\"hopefully\",\"belonging\",\"frustrated\",\"gradually\",\"putting\",\"grateful\",\"lifestyle\",\"serious\",\"lady\",\"bigger\",\"ease\",\"body_language\",\"doubt\",\"tv\",\"expecting\",\"relevant\",\"bringing\",\"suggest\",\"names\",\"careful\",\"haha\",\"impression\",\"constantly\",\"created\",\"react\",\"perfect\",\"described\",\"roles\",\"applied\",\"efficient\",\"embrace\",\"control\",\"warm\",\"supposed\",\"educational\",\"purpose\",\"consideration\",\"irish\",\"look_forward\",\"door\",\"turkish\",\"pick\",\"emotional\",\"slow\",\"results\",\"run\",\"hoping\",\"upon\",\"small_town\",\"whilst\",\"guide\",\"male\",\"land\",\"waiting\",\"slowly\",\"wondering\",\"event\",\"message\",\"quality\",\"somewhere\",\"famous\",\"concerned\",\"insightful\",\"meant\",\"scottish\",\"trouble\",\"finished\",\"sensitivity\",\"creative\",\"eventually\",\"song\",\"adapting\",\"seek\",\"younger\",\"compared\",\"lucky\",\"brings\",\"th\",\"crowded\",\"enjoying\",\"girls\",\"central\",\"action\",\"sad\",\"island\",\"ethnic\",\"guests\",\"material\",\"cold\",\"politeness\",\"arrive\",\"egypt\",\"differ\",\"loud\",\"powerful\",\"dimension\",\"excited\",\"feature\",\"insights\",\"dynamic\",\"passionate\",\"advance\",\"biggest\",\"fellow\",\"educated\",\"grown\",\"internet\",\"accepting\",\"successful\",\"image\",\"com\",\"wang\",\"habit\",\"patient\",\"emic\",\"collective\",\"shy\",\"www\",\"requires\",\"britain\",\"hands\",\"moments\",\"barriers\",\"emotions\",\"holland\",\"categories\",\"classes\",\"current\",\"equal\",\"foreigner\",\"staff\",\"lines\",\"offer\",\"war\",\"kinds\",\"complicated\",\"childhood\",\"began\",\"ireland\",\"nations\",\"refugees\",\"necessarily\",\"content\",\"engage\",\"indirect\",\"communities\",\"reaction\",\"morning\",\"considering\",\"boy\",\"america\",\"encounters\",\"race\",\"expressed\",\"immediately\",\"shaped\",\"steps\",\"light\",\"upset\",\"valuable\",\"kept\",\"conversations\",\"unfamiliar\",\"stereotype\",\"handle\",\"talked\",\"hong_kong\",\"practical\",\"suddenly\",\"details\",\"apply\",\"tool\",\"marriage\",\"activity\",\"picture\",\"integrity\",\"lesson\",\"telling\",\"arrived\",\"facing\",\"origin\",\"apart\",\"allowed\",\"faced\",\"reply\",\"hardly\",\"straight\",\"lists\",\"professor\",\"achieve\",\"mixture\",\"weather\",\"opposite\",\"exploring\",\"night\",\"expressions\",\"mistakes\",\"neither\",\"impossible\",\"summer\",\"benefit\",\"canada\",\"meaningful\",\"balance\",\"boss\",\"art\",\"manage\",\"park\",\"unless\",\"speech\",\"mindfulness\",\"brother\",\"korean\",\"wow\",\"exposed\",\"multiple\",\"poor\",\"include\",\"leaving\",\"caused\",\"response\",\"stuff\",\"gain\",\"decided\",\"interacting\",\"former\",\"strongly\",\"technology\",\"complete\",\"colleague\",\"carry\",\"harmony\",\"wrote\",\"curiosity\",\"showing\",\"inner\",\"watching\",\"gets\",\"mark\",\"beyond\",\"appointment\",\"assignment\",\"climate\",\"experiencing\",\"expectation\",\"truth\",\"obvious\",\"sign\",\"privacy\",\"analysis\",\"explained\",\"yeah\",\"acceptable\",\"classmates\",\"maintain\",\"hidden\",\"feedback\",\"observation\",\"sort\",\"somebody\",\"street\",\"walking\",\"pay_attention\",\"goals\",\"invited\",\"return\",\"americans\",\"reflection\",\"term\",\"connection\",\"fish\",\"discover\",\"ago\",\"steve\",\"regions\",\"guy\",\"low\",\"gap\",\"whenever\",\"helping\",\"dont\",\"discrimination\",\"village\",\"impact\",\"bus\",\"wait\",\"spoke\",\"meal\",\"becoming\",\"characteristics\",\"opportunities\",\"competence\",\"god\",\"black\",\"hours\",\"setting\",\"break\",\"societies\",\"perceived\",\"participants\",\"independent\",\"building\",\"affect\",\"check\",\"overcome\",\"academic\",\"turkey\",\"southern\",\"advice\",\"relations\",\"indonesia\",\"safe\",\"tradition\",\"explanation\",\"humans\",\"developed\",\"absolutely\",\"extremely\",\"starting\",\"nice_meet\",\"media\",\"allow\",\"eating\",\"ability\",\"perceptions\",\"management\",\"month\",\"sides\",\"whereas\",\"review\",\"else\",\"examples\",\"reach\",\"law\",\"circumstances\",\"body\",\"ms_smith\",\"train\",\"nationalities\",\"obviously\",\"totally_agree\",\"actions\",\"learners\",\"soon\",\"educators\",\"connect\",\"appropriate\",\"prepare\",\"physical\",\"sitting\",\"assume\",\"status\",\"walk\",\"previous\",\"five\",\"expression\",\"minutes\",\"whatever\",\"continue\",\"assumptions\",\"difficulties\",\"thinks\",\"agenda\",\"hello_everyone\",\"interests\",\"recognize\",\"essential\",\"miss\",\"loved\",\"years_old\",\"basic\",\"sounds\",\"sorry\",\"individualistic\",\"eager\",\"everywhere\",\"mention\",\"longer\",\"types\",\"persons\",\"reality\",\"relatives\",\"host\",\"regarding\",\"citizen\",\"finish\",\"earlier\",\"beatrice\",\"schedule\",\"province\",\"conflicts\",\"orientation\",\"oh\",\"east\",\"challenges\",\"otherwise\",\"character\",\"looks\",\"define\",\"compare\",\"dinner\",\"middle\",\"anyway\",\"member\",\"highly\",\"arabic\",\"brazil\",\"multi\",\"literature\",\"extent\",\"discuss\",\"sister\",\"goal\",\"rest\",\"notes\",\"provide\",\"prepared\",\"variations\",\"influences\",\"visiting\",\"travelled\",\"forget\",\"unfortunately\",\"suppose\",\"subjective\",\"deeply\",\"training\",\"besides\",\"everybody\",\"son\",\"exist\",\"party\",\"heritage\",\"opinions\",\"imagine\",\"journey\",\"tools\",\"political\",\"subject\",\"modern\",\"early\",\"adaptation\",\"career\",\"busy\",\"seemed\",\"australian\",\"quiet\",\"online\",\"patterns\",\"connected\",\"perceive\",\"daily_life\",\"elements\",\"mexican\",\"single\",\"front\",\"kindness\",\"families\",\"realise\",\"respectful\",\"including\",\"spend\",\"layers\",\"four\",\"monochronic\",\"top\",\"ready\",\"likely\",\"correct\",\"shocked\",\"office\",\"cities\",\"written\",\"levels\",\"relation\",\"fascinating\",\"fast\",\"appointments\",\"turn\",\"reminds\",\"learner\",\"project\",\"features\",\"traits\",\"fear\",\"traveling\",\"meetings\",\"plans\",\"link\",\"funny\",\"hold\",\"exercise\",\"following\",\"growing\",\"months\",\"onion\",\"empathy\",\"courses\",\"little_bit\",\"stop\",\"individualism\",\"taken\",\"number\",\"eastern\",\"strangers\",\"areas\",\"truly\",\"keeping\",\"ok\",\"judge\",\"present\",\"quickly\",\"accepted\",\"freedom\",\"finding\",\"trust\",\"paper\",\"certainly\",\"afraid\",\"differently\",\"half\",\"describe\",\"particularly\",\"mainly\",\"despite\",\"confused\",\"topics\",\"involved\",\"position\",\"effort\",\"choice\",\"older\",\"similarities\",\"christian\",\"core\",\"watch\",\"stress\",\"behave\",\"feels\",\"nowadays\",\"negative\",\"head\",\"cases\",\"observe\",\"becomes\",\"saturday\",\"books\",\"large\",\"norms\",\"system\",\"goes\",\"factors\",\"mr_zhao\",\"challenging\",\"visited\",\"wish\",\"marcus\",\"nationality\",\"period\",\"pretty\",\"kids\",\"grow\",\"diverse\",\"white\",\"female\",\"field\",\"money\",\"saw\",\"london\",\"lost\",\"non\",\"learnt\",\"line\",\"inside\",\"add\",\"northern\",\"somehow\",\"peace\",\"tolerant\",\"concepts\",\"polychronic\",\"works\",\"seeing\",\"mixed\",\"gender\",\"effective\",\"metaphor\",\"instance\",\"build\",\"join\",\"dimensions\",\"development\",\"liked\",\"fully\",\"west\",\"room\",\"says\",\"near\",\"dealing\",\"attention\",\"events\",\"complex\",\"gave\",\"responsibility\",\"develop\",\"views\",\"stereotypes\",\"oriented\",\"directly\",\"discussion\",\"prejudice\",\"poem\",\"perspectives\",\"points\",\"explore\",\"degree\",\"encounter\",\"recently\",\"asia\",\"thus\",\"dear\",\"exactly\",\"point_view\",\"eyes\",\"special\",\"reasons\",\"table\",\"thanks_sharing\",\"generation\",\"planning\",\"attitudes\",\"nation\",\"daily\",\"rich\",\"comfort_zone\",\"fun\",\"college\",\"raised\",\"shows\",\"finally\",\"vs\",\"video\",\"set\",\"behind\",\"theory\",\"silent\",\"born_raised\",\"tolerance\",\"usa\",\"proud\",\"state\",\"communications\",\"global\",\"third\",\"fit\",\"couple\",\"moving\",\"depending\",\"huge\",\"late\",\"support\",\"natural\",\"collectivism\",\"challenge\",\"anyone\",\"willing\",\"members\",\"belong\",\"post\",\"gives\",\"australia\",\"professional\",\"polite\",\"surprising\",\"stand\",\"mexico\",\"short\",\"flexible\",\"weeks\",\"known\",\"sisu\",\"phone\",\"contexts\",\"friendship\",\"travelling\",\"giving\",\"rude\",\"wants\",\"relate\",\"glad\",\"trip\",\"improve\",\"mix\",\"hometown\",\"behaviors\",\"calendar\",\"hc_lc\",\"town\",\"takes\",\"teach\",\"roots\",\"leave\",\"result\",\"sit\",\"andy\",\"issue\",\"cause\",\"region\",\"individuals\",\"practice\",\"interactions\",\"touch\",\"currently\",\"honest\",\"foreigners\",\"everyday\",\"tasks\",\"task\",\"follow\",\"major\",\"play\",\"native\",\"lots\",\"knew\",\"exchange\",\"please\",\"needed\",\"lead\",\"unique\",\"generally\",\"muslim\",\"traditional\",\"lover\",\"act\",\"religious\",\"taught\",\"realized\",\"note\",\"asking\",\"activities\",\"closer\",\"lives\",\"power\",\"influenced\",\"happened\",\"beliefs\",\"dr_johnson\",\"beautiful\",\"heard\",\"conflict\",\"africa\",\"simple\",\"enjoyed\",\"reflect\",\"smile\",\"heart\",\"wife\",\"sensitive\",\"expected\",\"simply\",\"changes\",\"mine\",\"happen\",\"move\",\"african\",\"typical\",\"wonder\",\"became\",\"notice\",\"habits\",\"traditions\",\"changed\",\"area\",\"changing\",\"beginning\",\"depends\",\"indeed\",\"free\",\"writing\",\"full\",\"listening\",\"happens\",\"dr_chen\",\"deeper\",\"years_ago\",\"parts\",\"national\",\"customs\",\"listen\",\"definition\",\"create\",\"according\",\"honesty\",\"care\",\"spent\",\"particular\",\"issues\",\"brought\",\"married\",\"hear\",\"private\",\"main\",\"role\",\"perception\",\"research\",\"tried\",\"open_minded\",\"call\",\"adjust\",\"high\",\"step\",\"water\",\"aspect\",\"focus\",\"book\",\"rules\",\"bring\",\"identify\",\"high_context\",\"clearly\",\"realize\",\"skills\",\"nothing\",\"men\",\"deep\",\"ever\",\"attitude\",\"teachers\",\"teaching\",\"house\",\"key\",\"studied\",\"necessary\",\"given\",\"colleagues\",\"choose\",\"studies\",\"eat\",\"strange\",\"lack\",\"visit\",\"past\",\"meaning\",\"totally\",\"company\",\"diversity\",\"familiar\",\"indian\",\"music\",\"distance\",\"public\",\"anything\",\"personality\",\"child\",\"today\",\"personally\",\"write\",\"normal\",\"towards\",\"asian\",\"interest\",\"low_context\",\"considered\",\"expect\",\"japan\",\"plan\",\"knowing\",\"bad\",\"team\",\"therefore\",\"alone\",\"word\",\"took\",\"welcome\",\"chance\",\"multicultural\",\"spain\",\"topic\",\"mentioned\",\"friendly\",\"general\",\"helped\",\"ones\",\"positive\",\"north\",\"russia\",\"express\",\"ic\",\"influence\",\"interact\",\"husband\",\"noticed\",\"surprised\",\"amazing\",\"approach\",\"concept\",\"wonderful\",\"uncomfortable\",\"form\",\"fish_water\",\"mostly\",\"questions\",\"looking_forward\",\"feelings\",\"importance\",\"days\",\"left\",\"seem\",\"various\",\"easily\",\"culturally\",\"related\",\"seen\",\"looking\",\"called\",\"instead\",\"interaction\",\"matter\",\"south\",\"outside\",\"problems\",\"japanese\",\"whether\",\"three\",\"saying\",\"relationships\",\"easier\",\"wanted\",\"specific\",\"definitely\",\"taking\",\"understood\",\"answer\",\"behaviour\",\"daughter\",\"chen_lin\",\"cannot\",\"thoughts\",\"shared\",\"explain\",\"curious\",\"italy\",\"worked\",\"either\",\"awareness\",\"terms\",\"religion\",\"completely\",\"coming\",\"using\",\"wrong\",\"reason\",\"women\",\"old\",\"opportunity\",\"away\",\"cross\",\"backgrounds\",\"across\",\"face\",\"education\",\"almost\",\"nature\",\"based\",\"stay\",\"behavior\",\"deal\",\"asked\",\"styles\",\"conversation\",\"age\",\"moment\",\"real\",\"view\",\"whole\",\"perspective\",\"baggage\",\"appreciate\",\"accept\",\"contact\",\"needs\",\"class\",\"direct\",\"netherlands\",\"later\",\"russian\",\"communicating\",\"italian\",\"level\",\"yet\",\"england\",\"grew\",\"community\",\"among\",\"experienced\",\"useful\",\"along\",\"avoid\",\"future\",\"told\",\"strong\",\"guess\",\"american\",\"end\",\"making\",\"stories\",\"far\",\"several\",\"places\",\"met\",\"perhaps\",\"due\",\"children\",\"girl\",\"france\",\"father\",\"already\",\"comment\",\"shanghai\",\"second\",\"hello\",\"spanish\",\"information\",\"enough\",\"europe\",\"studying\",\"ideas\",\"least\",\"aspects\",\"comfortable\",\"british\",\"speaking\",\"side\",\"put\",\"young\",\"comments\",\"moved\",\"happy\",\"mr_wilson\",\"possible\",\"expectations\",\"last\",\"man\",\"local\",\"individual\",\"germany\",\"european\",\"consider\",\"getting\",\"job\",\"list\",\"comes\",\"woman\",\"sharing\",\"opinion\",\"probably\",\"name\",\"travel\",\"show\",\"next\",\"problem\",\"self\",\"easy\",\"uk\",\"start\",\"remember\",\"within\",\"article\",\"let\",\"started\",\"usually\",\"adapt\",\"history\",\"hand\",\"order\",\"bit\",\"tell\",\"western\",\"done\",\"reading\",\"foreign\",\"less\",\"went\",\"helpful\",\"clear\",\"enjoy\",\"international\",\"human\",\"helps\",\"mother\",\"meeting\",\"small\",\"business\",\"true\",\"school\",\"prefer\",\"story\",\"nice\",\"certain\",\"abroad\",\"french\",\"situations\",\"india\",\"big\",\"idea\",\"mean\",\"talking\",\"got\",\"ask\",\"mr_wang\",\"trying\",\"close\",\"year\",\"lc\",\"look\",\"society\",\"type\",\"relationship\",\"rather\",\"similar\",\"languages\",\"learned\",\"knowledge\",\"thinking\",\"give\",\"hc\",\"teacher\",\"must\",\"although\",\"question\",\"sense\",\"ways\",\"came\",\"sure\",\"feeling\",\"style\",\"aware\",\"process\",\"become\",\"dutch\",\"fact\",\"everything\",\"german\",\"means\",\"difference\",\"tend\",\"times\",\"seems\",\"able\",\"makes\",\"university\",\"words\",\"together\",\"parents\",\"point\",\"long\",\"meet\",\"little\",\"groups\",\"interested\",\"etc\",\"said\",\"believe\",\"student\",\"thought\",\"read\",\"context\",\"case\",\"actually\",\"change\",\"lived\",\"open\",\"space\",\"experiences\",\"background\",\"city\",\"everyone\",\"identities\",\"environment\",\"keep\",\"going\",\"hard\",\"study\",\"yes\",\"born\",\"difficult\",\"back\",\"common\",\"felt\",\"chen\",\"kind\",\"right\",\"share\",\"friend\",\"hope\",\"speak\",\"made\",\"food\",\"silence\",\"week\",\"best\",\"shock\",\"though\",\"since\",\"without\",\"especially\",\"found\",\"around\",\"working\",\"someone\",\"talk\",\"mind\",\"value\",\"communicate\",\"every\",\"thing\",\"day\",\"however\",\"students\",\"home\",\"maybe\",\"might\",\"agree\",\"never\",\"come\",\"living\",\"situation\",\"take\",\"example\",\"place\",\"often\",\"quite\",\"great\",\"years\",\"understanding\",\"used\",\"social\",\"respect\",\"thanks\",\"hi\",\"love\",\"go\",\"try\",\"still\",\"learning\",\"want\",\"countries\",\"markus\",\"help\",\"two\",\"another\",\"part\",\"live\",\"thank\",\"something\",\"english\",\"better\",\"use\",\"need\",\"group\",\"personal\",\"china\",\"say\",\"find\",\"sometimes\",\"see\",\"differences\",\"interesting\",\"identity\",\"world\",\"make\",\"experience\",\"could\",\"language\",\"lot\",\"friends\",\"learn\",\"get\",\"always\",\"chinese\",\"family\",\"values\",\"well\",\"person\",\"may\",\"much\",\"life\",\"first\",\"work\",\"country\",\"things\",\"feel\",\"understand\",\"new\",\"good\",\"really\",\"even\",\"important\",\"intercultural\",\"course\",\"others\",\"many\",\"way\",\"us\",\"know\",\"cultures\",\"would\",\"also\",\"communication\",\"time\",\"one\",\"like\",\"think\",\"cultural\",\"different\",\"culture\",\"people\"],\"x_coord\":{\"__ndarray__\":\"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\",\"dtype\":\"float32\",\"order\":\"little\",\"shape\":[13779]},\"y_coord\":{\"__ndarray__\":\"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\",\"dtype\":\"float32\",\"order\":\"little\",\"shape\":[13779]}},\"selected\":{\"id\":\"1050\"},\"selection_policy\":{\"id\":\"1051\"}},\"id\":\"1002\",\"type\":\"ColumnDataSource\"},{\"attributes\":{\"overlay\":{\"id\":\"1029\"}},\"id\":\"1024\",\"type\":\"BoxZoomTool\"},{\"attributes\":{\"fill_alpha\":{\"value\":0.1},\"fill_color\":{\"value\":\"blue\"},\"line_alpha\":{\"value\":0.2},\"line_color\":{\"value\":\"blue\"},\"size\":{\"units\":\"screen\",\"value\":10},\"x\":{\"field\":\"x_coord\"},\"y\":{\"field\":\"y_coord\"}},\"id\":\"1040\",\"type\":\"Circle\"},{\"attributes\":{\"formatter\":{\"id\":\"1047\"},\"ticker\":{\"id\":\"1019\"},\"visible\":false},\"id\":\"1018\",\"type\":\"LinearAxis\"},{\"attributes\":{\"bottom_units\":\"screen\",\"fill_alpha\":0.5,\"fill_color\":\"lightgrey\",\"left_units\":\"screen\",\"level\":\"overlay\",\"line_alpha\":1.0,\"line_color\":\"black\",\"line_dash\":[4,4],\"line_width\":2,\"right_units\":\"screen\",\"top_units\":\"screen\"},\"id\":\"1029\",\"type\":\"BoxAnnotation\"},{\"attributes\":{\"overlay\":{\"id\":\"1028\"}},\"id\":\"1025\",\"type\":\"BoxSelectTool\"},{\"attributes\":{},\"id\":\"1027\",\"type\":\"ResetTool\"},{\"attributes\":{},\"id\":\"1023\",\"type\":\"WheelZoomTool\"},{\"attributes\":{\"axis\":{\"id\":\"1018\"},\"dimension\":1,\"grid_line_color\":null,\"ticker\":null},\"id\":\"1021\",\"type\":\"Grid\"},{\"attributes\":{},\"id\":\"1010\",\"type\":\"LinearScale\"},{\"attributes\":{\"text\":\"t-SNE Word Embeddings\",\"text_font_size\":{\"value\":\"14pt\"}},\"id\":\"1004\",\"type\":\"Title\"},{\"attributes\":{\"fill_alpha\":{\"value\":0.1},\"fill_color\":{\"value\":\"blue\"},\"line_alpha\":{\"value\":0.1},\"line_color\":{\"value\":\"blue\"},\"size\":{\"units\":\"screen\",\"value\":10},\"x\":{\"field\":\"x_coord\"},\"y\":{\"field\":\"y_coord\"}},\"id\":\"1041\",\"type\":\"Circle\"},{\"attributes\":{},\"id\":\"1022\",\"type\":\"PanTool\"},{\"attributes\":{},\"id\":\"1012\",\"type\":\"LinearScale\"},{\"attributes\":{},\"id\":\"1019\",\"type\":\"BasicTicker\"},{\"attributes\":{},\"id\":\"1015\",\"type\":\"BasicTicker\"},{\"attributes\":{},\"id\":\"1050\",\"type\":\"Selection\"},{\"attributes\":{},\"id\":\"1051\",\"type\":\"UnionRenderers\"},{\"attributes\":{},\"id\":\"1026\",\"type\":\"ResetTool\"},{\"attributes\":{\"formatter\":{\"id\":\"1049\"},\"ticker\":{\"id\":\"1015\"},\"visible\":false},\"id\":\"1014\",\"type\":\"LinearAxis\"},{\"attributes\":{\"axis\":{\"id\":\"1014\"},\"grid_line_color\":null,\"ticker\":null},\"id\":\"1017\",\"type\":\"Grid\"},{\"attributes\":{},\"id\":\"1047\",\"type\":\"BasicTickFormatter\"},{\"attributes\":{\"active_drag\":\"auto\",\"active_inspect\":\"auto\",\"active_multi\":null,\"active_scroll\":{\"id\":\"1023\"},\"active_tap\":\"auto\",\"tools\":[{\"id\":\"1022\"},{\"id\":\"1023\"},{\"id\":\"1024\"},{\"id\":\"1025\"},{\"id\":\"1026\"},{\"id\":\"1027\"},{\"id\":\"1037\"}]},\"id\":\"1030\",\"type\":\"Toolbar\"},{\"attributes\":{\"fill_alpha\":{\"value\":0.1},\"fill_color\":{\"value\":\"blue\"},\"line_alpha\":{\"value\":0.2},\"size\":{\"units\":\"screen\",\"value\":10},\"x\":{\"field\":\"x_coord\"},\"y\":{\"field\":\"y_coord\"}},\"id\":\"1042\",\"type\":\"Circle\"},{\"attributes\":{\"data_source\":{\"id\":\"1002\"},\"glyph\":{\"id\":\"1040\"},\"hover_glyph\":{\"id\":\"1042\"},\"muted_glyph\":null,\"nonselection_glyph\":{\"id\":\"1041\"},\"selection_glyph\":null,\"view\":{\"id\":\"1044\"}},\"id\":\"1043\",\"type\":\"GlyphRenderer\"},{\"attributes\":{\"source\":{\"id\":\"1002\"}},\"id\":\"1044\",\"type\":\"CDSView\"},{\"attributes\":{},\"id\":\"1008\",\"type\":\"DataRange1d\"},{\"attributes\":{},\"id\":\"1049\",\"type\":\"BasicTickFormatter\"},{\"attributes\":{\"callback\":null,\"tooltips\":\"@word\"},\"id\":\"1037\",\"type\":\"HoverTool\"},{\"attributes\":{},\"id\":\"1006\",\"type\":\"DataRange1d\"},{\"attributes\":{\"bottom_units\":\"screen\",\"fill_alpha\":0.5,\"fill_color\":\"lightgrey\",\"left_units\":\"screen\",\"level\":\"overlay\",\"line_alpha\":1.0,\"line_color\":\"black\",\"line_dash\":[4,4],\"line_width\":2,\"right_units\":\"screen\",\"top_units\":\"screen\"},\"id\":\"1028\",\"type\":\"BoxAnnotation\"}],\"root_ids\":[\"1003\"]},\"title\":\"Bokeh Application\",\"version\":\"2.2.3\"}};\n",
       "  var render_items = [{\"docid\":\"4e7c60d5-8b14-42c5-b83f-ab600526922f\",\"root_ids\":[\"1003\"],\"roots\":{\"1003\":\"5cafb588-30fd-4684-b4ff-a842ebc6179d\"}}];\n",
       "  root.Bokeh.embed.embed_items_notebook(docs_json, render_items);\n",
       "\n",
       "  }\n",
       "  if (root.Bokeh !== undefined) {\n",
       "    embed_document(root);\n",
       "  } else {\n",
       "    var attempts = 0;\n",
       "    var timer = setInterval(function(root) {\n",
       "      if (root.Bokeh !== undefined) {\n",
       "        clearInterval(timer);\n",
       "        embed_document(root);\n",
       "      } else {\n",
       "        attempts++;\n",
       "        if (attempts > 100) {\n",
       "          clearInterval(timer);\n",
       "          console.log(\"Bokeh: ERROR: Unable to run BokehJS code because BokehJS library is missing\");\n",
       "        }\n",
       "      }\n",
       "    }, 10, root)\n",
       "  }\n",
       "})(window);"
      ],
      "application/vnd.bokehjs_exec.v0+json": ""
     },
     "metadata": {
      "application/vnd.bokehjs_exec.v0+json": {
       "id": "1003"
      }
     },
     "output_type": "display_data"
    }
   ],
   "source": [
    "# add our DataFrame as a ColumnDataSource for Bokeh\n",
    "plot_data = ColumnDataSource(tsne_vectors)\n",
    "\n",
    "# create the plot and configure the\n",
    "# title, dimensions, and tools\n",
    "tsne_plot = figure(title='t-SNE Word Embeddings',\n",
    "                   plot_width = 800,\n",
    "                   plot_height = 800,\n",
    "                   tools= ('pan, wheel_zoom, box_zoom, box_select, reset, reset'),\n",
    "                   active_scroll='wheel_zoom')\n",
    "\n",
    "# add a hover tool to display words on roll-over\n",
    "tsne_plot.add_tools(HoverTool(tooltips = '@word'))\n",
    "\n",
    "# draw the words as circles on the plot\n",
    "tsne_plot.circle('x_coord', 'y_coord', source=plot_data,\n",
    "                 color='blue', line_alpha=0.2, fill_alpha=0.1,\n",
    "                 size=10, hover_line_color='black')\n",
    "\n",
    "# configure visual elements of the plot\n",
    "tsne_plot.title.text_font_size = value('14pt')\n",
    "tsne_plot.xaxis.visible = False\n",
    "tsne_plot.yaxis.visible = False\n",
    "tsne_plot.grid.grid_line_color = None\n",
    "tsne_plot.outline_line_color = None\n",
    "\n",
    "# show the plot\n",
    "show(tsne_plot);"
   ]
  },
  {
   "cell_type": "markdown",
   "metadata": {
    "colab_type": "text",
    "id": "L6Y4eXciZOqb"
   },
   "source": [
    "## K-means clustering\n",
    "Another thing we can do is cluster the words using K-Means clustering. \n",
    "\n",
    "K-Means clustering aims to partition N observations into K clusters in which each observation belongs to the cluster with the nearest mean (called the \"cluster centre\"), which serves as a prototype of the cluster.\n",
    "\n",
    "Since our words are all represented as vectors, applying K-Means is easy to do since the clustering algorithm will simply look at differences between vectors (and centers)."
   ]
  },
  {
   "cell_type": "code",
   "execution_count": 96,
   "metadata": {
    "colab": {},
    "colab_type": "code",
    "executionInfo": {
     "elapsed": 1284,
     "status": "ok",
     "timestamp": 1596036750897,
     "user": {
      "displayName": "Tom van Nuenen",
      "photoUrl": "https://lh3.googleusercontent.com/a-/AOh14GhtEyfMMXnweSdKHvOqheyZd6KLkXGOtz3AYYAIBA=s64",
      "userId": "10012302451096885058"
     },
     "user_tz": -180
    },
    "id": "rJodQkitZOqb"
   },
   "outputs": [],
   "source": [
    "def clustering_on_wordvecs(word_vectors, num_clusters):\n",
    "    # Initalize a k-means object and use it to extract centroids\n",
    "    kmeans_clustering = KMeans(n_clusters = num_clusters, init='k-means++');\n",
    "    idx = kmeans_clustering.fit_predict(word_vectors);\n",
    "    \n",
    "    return kmeans_clustering.cluster_centers_, idx;"
   ]
  },
  {
   "cell_type": "code",
   "execution_count": 97,
   "metadata": {
    "colab": {},
    "colab_type": "code",
    "executionInfo": {
     "elapsed": 1301,
     "status": "ok",
     "timestamp": 1596036752843,
     "user": {
      "displayName": "Tom van Nuenen",
      "photoUrl": "https://lh3.googleusercontent.com/a-/AOh14GhtEyfMMXnweSdKHvOqheyZd6KLkXGOtz3AYYAIBA=s64",
      "userId": "10012302451096885058"
     },
     "user_tz": -180
    },
    "id": "qPRtxyZfZOqd"
   },
   "outputs": [],
   "source": [
    "Z = model.wv.syn0"
   ]
  },
  {
   "cell_type": "code",
   "execution_count": 98,
   "metadata": {
    "colab": {},
    "colab_type": "code",
    "executionInfo": {
     "elapsed": 21475,
     "status": "ok",
     "timestamp": 1596036775406,
     "user": {
      "displayName": "Tom van Nuenen",
      "photoUrl": "https://lh3.googleusercontent.com/a-/AOh14GhtEyfMMXnweSdKHvOqheyZd6KLkXGOtz3AYYAIBA=s64",
      "userId": "10012302451096885058"
     },
     "user_tz": -180
    },
    "id": "Em2CvpgRZOqf"
   },
   "outputs": [],
   "source": [
    "centers, clusters = clustering_on_wordvecs(Z, 10);\n",
    "centroid_map = dict(zip(model.wv.index2word, clusters));"
   ]
  },
  {
   "cell_type": "markdown",
   "metadata": {
    "colab_type": "text",
    "id": "15_523YKZOqj"
   },
   "source": [
    "Next, we get words in each cluster that are closest to the cluster center. To do this, we initialize a KDTree on the word vectors, and query it for the Top K words on each cluster center. Using the Index 2 word dictionary, we than correspond each word vector back to it’s original word representation and add them to a dataframe for easier printing."
   ]
  },
  {
   "cell_type": "code",
   "execution_count": 51,
   "metadata": {
    "colab": {},
    "colab_type": "code",
    "executionInfo": {
     "elapsed": 1144,
     "status": "ok",
     "timestamp": 1596036783240,
     "user": {
      "displayName": "Tom van Nuenen",
      "photoUrl": "https://lh3.googleusercontent.com/a-/AOh14GhtEyfMMXnweSdKHvOqheyZd6KLkXGOtz3AYYAIBA=s64",
      "userId": "10012302451096885058"
     },
     "user_tz": -180
    },
    "id": "O9aD76xcZOqk"
   },
   "outputs": [],
   "source": [
    "def get_top_words(index2word, k, centers, wordvecs):\n",
    "    tree = KDTree(wordvecs);\n",
    "    # Use closest points for each cluster center to query closest 20 points to it\n",
    "    closest_points = [tree.query(np.reshape(x, (1, -1)), k=k) for x in centers];\n",
    "    closest_words_idxs = [x[1] for x in closest_points];\n",
    "    # Query Word Index  for each position in the above array, and added to a Dictionary\n",
    "    closest_words = {};\n",
    "    for i in range(0, len(closest_words_idxs)):\n",
    "        closest_words['Cluster #' + str(i)] = [index2word[j] for j in closest_words_idxs[i][0]]\n",
    "    # Create DataFrame from dictionary\n",
    "    df = pd.DataFrame(closest_words);\n",
    "    df.index = df.index+1\n",
    "    return df"
   ]
  },
  {
   "cell_type": "markdown",
   "metadata": {
    "colab_type": "text",
    "id": "OtBFZL_HZOqm"
   },
   "source": [
    "Let’s get the top words and print the first 20 in each cluster:"
   ]
  },
  {
   "cell_type": "code",
   "execution_count": 52,
   "metadata": {
    "colab": {},
    "colab_type": "code",
    "executionInfo": {
     "elapsed": 2179,
     "status": "ok",
     "timestamp": 1596036787730,
     "user": {
      "displayName": "Tom van Nuenen",
      "photoUrl": "https://lh3.googleusercontent.com/a-/AOh14GhtEyfMMXnweSdKHvOqheyZd6KLkXGOtz3AYYAIBA=s64",
      "userId": "10012302451096885058"
     },
     "user_tz": -180
    },
    "id": "SwzjSQJlZOqn"
   },
   "outputs": [],
   "source": [
    "top_words = get_top_words(model.wv.index2word, 5000, centers, Z);"
   ]
  },
  {
   "cell_type": "code",
   "execution_count": 53,
   "metadata": {
    "colab": {
     "base_uri": "https://localhost:8080/",
     "height": 359
    },
    "colab_type": "code",
    "executionInfo": {
     "elapsed": 1942,
     "status": "ok",
     "timestamp": 1596036787731,
     "user": {
      "displayName": "Tom van Nuenen",
      "photoUrl": "https://lh3.googleusercontent.com/a-/AOh14GhtEyfMMXnweSdKHvOqheyZd6KLkXGOtz3AYYAIBA=s64",
      "userId": "10012302451096885058"
     },
     "user_tz": -180
    },
    "id": "tI19jNzsZOqq",
    "outputId": "0525155d-011f-4001-f7cd-e87eb67a8948",
    "scrolled": true
   },
   "outputs": [
    {
     "data": {
      "text/html": [
       "<div>\n",
       "<style scoped>\n",
       "    .dataframe tbody tr th:only-of-type {\n",
       "        vertical-align: middle;\n",
       "    }\n",
       "\n",
       "    .dataframe tbody tr th {\n",
       "        vertical-align: top;\n",
       "    }\n",
       "\n",
       "    .dataframe thead th {\n",
       "        text-align: right;\n",
       "    }\n",
       "</style>\n",
       "<table border=\"1\" class=\"dataframe\">\n",
       "  <thead>\n",
       "    <tr style=\"text-align: right;\">\n",
       "      <th></th>\n",
       "      <th>Cluster #0</th>\n",
       "      <th>Cluster #1</th>\n",
       "      <th>Cluster #2</th>\n",
       "      <th>Cluster #3</th>\n",
       "      <th>Cluster #4</th>\n",
       "      <th>Cluster #5</th>\n",
       "      <th>Cluster #6</th>\n",
       "      <th>Cluster #7</th>\n",
       "      <th>Cluster #8</th>\n",
       "      <th>Cluster #9</th>\n",
       "    </tr>\n",
       "  </thead>\n",
       "  <tbody>\n",
       "    <tr>\n",
       "      <th>1</th>\n",
       "      <td>hardware</td>\n",
       "      <td>globalised_world</td>\n",
       "      <td>anticipate</td>\n",
       "      <td>kansas</td>\n",
       "      <td>tendencies</td>\n",
       "      <td>use_google_calendar</td>\n",
       "      <td>professor_kulich</td>\n",
       "      <td>buying</td>\n",
       "      <td>florida</td>\n",
       "      <td>negatives</td>\n",
       "    </tr>\n",
       "    <tr>\n",
       "      <th>2</th>\n",
       "      <td>ableist</td>\n",
       "      <td>creating_shared_meanings</td>\n",
       "      <td>break_ice</td>\n",
       "      <td>starter</td>\n",
       "      <td>universally</td>\n",
       "      <td>monthly</td>\n",
       "      <td>comments_replies</td>\n",
       "      <td>cashier</td>\n",
       "      <td>quebec</td>\n",
       "      <td>dialogic</td>\n",
       "    </tr>\n",
       "    <tr>\n",
       "      <th>3</th>\n",
       "      <td>fleeing</td>\n",
       "      <td>advantage</td>\n",
       "      <td>disturbing</td>\n",
       "      <td>centres</td>\n",
       "      <td>derived</td>\n",
       "      <td>scheduling</td>\n",
       "      <td>worthwhile</td>\n",
       "      <td>hurry</td>\n",
       "      <td>decided_move</td>\n",
       "      <td>overtime</td>\n",
       "    </tr>\n",
       "    <tr>\n",
       "      <th>4</th>\n",
       "      <td>bemused</td>\n",
       "      <td>behavioural</td>\n",
       "      <td>intentionally</td>\n",
       "      <td>donald</td>\n",
       "      <td>socioeconomic</td>\n",
       "      <td>paper_diary</td>\n",
       "      <td>exercises</td>\n",
       "      <td>bumping</td>\n",
       "      <td>zimbabwe</td>\n",
       "      <td>preferably</td>\n",
       "    </tr>\n",
       "    <tr>\n",
       "      <th>5</th>\n",
       "      <td>abound</td>\n",
       "      <td>hinder</td>\n",
       "      <td>withdrawn</td>\n",
       "      <td>examination</td>\n",
       "      <td>caste</td>\n",
       "      <td>mobile_app</td>\n",
       "      <td>informative</td>\n",
       "      <td>cash</td>\n",
       "      <td>oversea</td>\n",
       "      <td>depict</td>\n",
       "    </tr>\n",
       "    <tr>\n",
       "      <th>6</th>\n",
       "      <td>insults</td>\n",
       "      <td>motivations</td>\n",
       "      <td>sth</td>\n",
       "      <td>lima</td>\n",
       "      <td>transmitted</td>\n",
       "      <td>alert</td>\n",
       "      <td>thankyou</td>\n",
       "      <td>sights</td>\n",
       "      <td>zambia</td>\n",
       "      <td>generated</td>\n",
       "    </tr>\n",
       "    <tr>\n",
       "      <th>7</th>\n",
       "      <td>engages</td>\n",
       "      <td>generalize</td>\n",
       "      <td>choosing</td>\n",
       "      <td>brahmins</td>\n",
       "      <td>familial</td>\n",
       "      <td>organised</td>\n",
       "      <td>ernesto</td>\n",
       "      <td>cup_tea</td>\n",
       "      <td>bangladesh</td>\n",
       "      <td>threats</td>\n",
       "    </tr>\n",
       "    <tr>\n",
       "      <th>8</th>\n",
       "      <td>definetely</td>\n",
       "      <td>acknowledging</td>\n",
       "      <td>agreeing</td>\n",
       "      <td>fermented</td>\n",
       "      <td>inequality</td>\n",
       "      <td>electronic_calendar</td>\n",
       "      <td>alot</td>\n",
       "      <td>broke</td>\n",
       "      <td>uruguay</td>\n",
       "      <td>discusses</td>\n",
       "    </tr>\n",
       "    <tr>\n",
       "      <th>9</th>\n",
       "      <td>rap</td>\n",
       "      <td>seeks</td>\n",
       "      <td>ambiguous</td>\n",
       "      <td>grandad</td>\n",
       "      <td>beings</td>\n",
       "      <td>diaries</td>\n",
       "      <td>proceed</td>\n",
       "      <td>promised</td>\n",
       "      <td>kerala</td>\n",
       "      <td>presumptions</td>\n",
       "    </tr>\n",
       "    <tr>\n",
       "      <th>10</th>\n",
       "      <td>discriminatory</td>\n",
       "      <td>shared_meanings</td>\n",
       "      <td>investigate</td>\n",
       "      <td>sky</td>\n",
       "      <td>attribute</td>\n",
       "      <td>scheduled</td>\n",
       "      <td>survey</td>\n",
       "      <td>laughing</td>\n",
       "      <td>philippines</td>\n",
       "      <td>transit</td>\n",
       "    </tr>\n",
       "  </tbody>\n",
       "</table>\n",
       "</div>"
      ],
      "text/plain": [
       "        Cluster #0                Cluster #1     Cluster #2   Cluster #3  \\\n",
       "1         hardware          globalised_world     anticipate       kansas   \n",
       "2          ableist  creating_shared_meanings      break_ice      starter   \n",
       "3          fleeing                 advantage     disturbing      centres   \n",
       "4          bemused               behavioural  intentionally       donald   \n",
       "5           abound                    hinder      withdrawn  examination   \n",
       "6          insults               motivations            sth         lima   \n",
       "7          engages                generalize       choosing     brahmins   \n",
       "8       definetely             acknowledging       agreeing    fermented   \n",
       "9              rap                     seeks      ambiguous      grandad   \n",
       "10  discriminatory           shared_meanings    investigate          sky   \n",
       "\n",
       "       Cluster #4           Cluster #5        Cluster #6 Cluster #7  \\\n",
       "1      tendencies  use_google_calendar  professor_kulich     buying   \n",
       "2     universally              monthly  comments_replies    cashier   \n",
       "3         derived           scheduling        worthwhile      hurry   \n",
       "4   socioeconomic          paper_diary         exercises    bumping   \n",
       "5           caste           mobile_app       informative       cash   \n",
       "6     transmitted                alert          thankyou     sights   \n",
       "7        familial            organised           ernesto    cup_tea   \n",
       "8      inequality  electronic_calendar              alot      broke   \n",
       "9          beings              diaries           proceed   promised   \n",
       "10      attribute            scheduled            survey   laughing   \n",
       "\n",
       "      Cluster #8    Cluster #9  \n",
       "1        florida     negatives  \n",
       "2         quebec      dialogic  \n",
       "3   decided_move      overtime  \n",
       "4       zimbabwe    preferably  \n",
       "5        oversea        depict  \n",
       "6         zambia     generated  \n",
       "7     bangladesh       threats  \n",
       "8        uruguay     discusses  \n",
       "9         kerala  presumptions  \n",
       "10   philippines       transit  "
      ]
     },
     "execution_count": 53,
     "metadata": {},
     "output_type": "execute_result"
    }
   ],
   "source": [
    "top_words[:10]"
   ]
  },
  {
   "cell_type": "markdown",
   "metadata": {
    "colab_type": "text",
    "id": "iwP_v_AGX88e"
   },
   "source": [
    "## **Doc2Vec**\n",
    "\n",
    "You might be interested in the relationship between comments or posts, instead of single words. You can do this using tf-idf, as you saw in week 2. But word embeddings offer another unsupervised approach to find similarities.\n",
    "\n",
    "Let's read our data again. We’ll need to associate a tag/number with each document of the training corpus. In our case, the tag is simply a zero-based line number.\n",
    "\n"
   ]
  },
  {
   "cell_type": "code",
   "execution_count": 55,
   "metadata": {
    "colab": {},
    "colab_type": "code",
    "executionInfo": {
     "elapsed": 2043,
     "status": "ok",
     "timestamp": 1596037257163,
     "user": {
      "displayName": "Tom van Nuenen",
      "photoUrl": "https://lh3.googleusercontent.com/a-/AOh14GhtEyfMMXnweSdKHvOqheyZd6KLkXGOtz3AYYAIBA=s64",
      "userId": "10012302451096885058"
     },
     "user_tz": -180
    },
    "id": "zF3SWaiOX7DV"
   },
   "outputs": [],
   "source": [
    "def read_text(inp):\n",
    "    for i, line in enumerate(inp):\n",
    "        tokens = gensim.utils.simple_preprocess(line)\n",
    "        yield gensim.models.doc2vec.TaggedDocument(tokens, [i])\n",
    "\n",
    "comments = list(read_text(df_com['text_clean']))"
   ]
  },
  {
   "cell_type": "markdown",
   "metadata": {
    "colab_type": "text",
    "id": "nWb9ViBzbxMP"
   },
   "source": [
    "Instantiate a Doc2Vec model with a vector size with 50 dimensions and iterating over the training corpus 40 times. We set the minimum word count to 2 in order to discard words with very few occurrences."
   ]
  },
  {
   "cell_type": "code",
   "execution_count": 56,
   "metadata": {
    "colab": {},
    "colab_type": "code",
    "executionInfo": {
     "elapsed": 1475,
     "status": "ok",
     "timestamp": 1596037380724,
     "user": {
      "displayName": "Tom van Nuenen",
      "photoUrl": "https://lh3.googleusercontent.com/a-/AOh14GhtEyfMMXnweSdKHvOqheyZd6KLkXGOtz3AYYAIBA=s64",
      "userId": "10012302451096885058"
     },
     "user_tz": -180
    },
    "id": "rXJFIbGIbkCq"
   },
   "outputs": [],
   "source": [
    "model = gensim.models.doc2vec.Doc2Vec(vector_size=50, min_count=2, epochs=40)"
   ]
  },
  {
   "cell_type": "markdown",
   "metadata": {
    "colab_type": "text",
    "id": "jSYSv_yibogQ"
   },
   "source": [
    "Build the vocabulary:"
   ]
  },
  {
   "cell_type": "code",
   "execution_count": 57,
   "metadata": {
    "colab": {},
    "colab_type": "code",
    "executionInfo": {
     "elapsed": 7183,
     "status": "ok",
     "timestamp": 1596037386864,
     "user": {
      "displayName": "Tom van Nuenen",
      "photoUrl": "https://lh3.googleusercontent.com/a-/AOh14GhtEyfMMXnweSdKHvOqheyZd6KLkXGOtz3AYYAIBA=s64",
      "userId": "10012302451096885058"
     },
     "user_tz": -180
    },
    "id": "pp0ISnCrbn5R"
   },
   "outputs": [],
   "source": [
    "model.build_vocab(comments)"
   ]
  },
  {
   "cell_type": "markdown",
   "metadata": {
    "colab_type": "text",
    "id": "xspWe0XIcHbp"
   },
   "source": [
    "Train the model on the corpus:"
   ]
  },
  {
   "cell_type": "code",
   "execution_count": 58,
   "metadata": {
    "colab": {},
    "colab_type": "code",
    "executionInfo": {
     "elapsed": 99532,
     "status": "ok",
     "timestamp": 1596037504178,
     "user": {
      "displayName": "Tom van Nuenen",
      "photoUrl": "https://lh3.googleusercontent.com/a-/AOh14GhtEyfMMXnweSdKHvOqheyZd6KLkXGOtz3AYYAIBA=s64",
      "userId": "10012302451096885058"
     },
     "user_tz": -180
    },
    "id": "72vHdeQmcINQ"
   },
   "outputs": [],
   "source": [
    "model.train(comments, total_examples=model.corpus_count, epochs=model.epochs)"
   ]
  },
  {
   "cell_type": "markdown",
   "metadata": {
    "colab_type": "text",
    "id": "q7iAdN6pcvds"
   },
   "source": [
    "To assess our new model, we’ll first infer new vectors for each document of the training corpus, compare the inferred vectors with the training corpus, and then returning the rank of the document based on self-similarity. Basically, we’re pretending as if the training corpus is some new unseen data and then seeing how they compare with the trained model. The expectation is that we’ve likely overfit our model (i.e., all of the ranks will be less than 2) and so we should be able to find similar documents very easily. Additionally, we’ll keep track of the second ranks for a comparison of less similar documents."
   ]
  },
  {
   "cell_type": "code",
   "execution_count": 59,
   "metadata": {
    "colab": {
     "base_uri": "https://localhost:8080/",
     "height": 429
    },
    "colab_type": "code",
    "executionInfo": {
     "elapsed": 350784,
     "status": "error",
     "timestamp": 1596037764255,
     "user": {
      "displayName": "Tom van Nuenen",
      "photoUrl": "https://lh3.googleusercontent.com/a-/AOh14GhtEyfMMXnweSdKHvOqheyZd6KLkXGOtz3AYYAIBA=s64",
      "userId": "10012302451096885058"
     },
     "user_tz": -180
    },
    "id": "UUwjxPHWcsPz",
    "outputId": "0762e492-fea3-4220-ca48-19c5eace95b8"
   },
   "outputs": [
    {
     "ename": "KeyboardInterrupt",
     "evalue": "",
     "output_type": "error",
     "traceback": [
      "\u001b[0;31m---------------------------------------------------------------------------\u001b[0m",
      "\u001b[0;31mKeyboardInterrupt\u001b[0m                         Traceback (most recent call last)",
      "\u001b[0;32m<ipython-input-59-b15e619c37cc>\u001b[0m in \u001b[0;36m<module>\u001b[0;34m\u001b[0m\n\u001b[1;32m      3\u001b[0m \u001b[0;32mfor\u001b[0m \u001b[0mdoc_id\u001b[0m \u001b[0;32min\u001b[0m \u001b[0mrange\u001b[0m\u001b[0;34m(\u001b[0m\u001b[0mlen\u001b[0m\u001b[0;34m(\u001b[0m\u001b[0mcomments\u001b[0m\u001b[0;34m)\u001b[0m\u001b[0;34m)\u001b[0m\u001b[0;34m:\u001b[0m\u001b[0;34m\u001b[0m\u001b[0;34m\u001b[0m\u001b[0m\n\u001b[1;32m      4\u001b[0m     \u001b[0minferred_vector\u001b[0m \u001b[0;34m=\u001b[0m \u001b[0mmodel\u001b[0m\u001b[0;34m.\u001b[0m\u001b[0minfer_vector\u001b[0m\u001b[0;34m(\u001b[0m\u001b[0mcomments\u001b[0m\u001b[0;34m[\u001b[0m\u001b[0mdoc_id\u001b[0m\u001b[0;34m]\u001b[0m\u001b[0;34m.\u001b[0m\u001b[0mwords\u001b[0m\u001b[0;34m)\u001b[0m\u001b[0;34m\u001b[0m\u001b[0;34m\u001b[0m\u001b[0m\n\u001b[0;32m----> 5\u001b[0;31m     \u001b[0msims\u001b[0m \u001b[0;34m=\u001b[0m \u001b[0mmodel\u001b[0m\u001b[0;34m.\u001b[0m\u001b[0mdocvecs\u001b[0m\u001b[0;34m.\u001b[0m\u001b[0mmost_similar\u001b[0m\u001b[0;34m(\u001b[0m\u001b[0;34m[\u001b[0m\u001b[0minferred_vector\u001b[0m\u001b[0;34m]\u001b[0m\u001b[0;34m,\u001b[0m \u001b[0mtopn\u001b[0m\u001b[0;34m=\u001b[0m\u001b[0mlen\u001b[0m\u001b[0;34m(\u001b[0m\u001b[0mmodel\u001b[0m\u001b[0;34m.\u001b[0m\u001b[0mdocvecs\u001b[0m\u001b[0;34m)\u001b[0m\u001b[0;34m)\u001b[0m\u001b[0;34m\u001b[0m\u001b[0;34m\u001b[0m\u001b[0m\n\u001b[0m\u001b[1;32m      6\u001b[0m     \u001b[0mrank\u001b[0m \u001b[0;34m=\u001b[0m \u001b[0;34m[\u001b[0m\u001b[0mdocid\u001b[0m \u001b[0;32mfor\u001b[0m \u001b[0mdocid\u001b[0m\u001b[0;34m,\u001b[0m \u001b[0msim\u001b[0m \u001b[0;32min\u001b[0m \u001b[0msims\u001b[0m\u001b[0;34m]\u001b[0m\u001b[0;34m.\u001b[0m\u001b[0mindex\u001b[0m\u001b[0;34m(\u001b[0m\u001b[0mdoc_id\u001b[0m\u001b[0;34m)\u001b[0m\u001b[0;34m\u001b[0m\u001b[0;34m\u001b[0m\u001b[0m\n\u001b[1;32m      7\u001b[0m     \u001b[0mranks\u001b[0m\u001b[0;34m.\u001b[0m\u001b[0mappend\u001b[0m\u001b[0;34m(\u001b[0m\u001b[0mrank\u001b[0m\u001b[0;34m)\u001b[0m\u001b[0;34m\u001b[0m\u001b[0;34m\u001b[0m\u001b[0m\n",
      "\u001b[0;32m~/opt/anaconda3/lib/python3.8/site-packages/gensim/models/keyedvectors.py\u001b[0m in \u001b[0;36mmost_similar\u001b[0;34m(self, positive, negative, topn, clip_start, clip_end, indexer)\u001b[0m\n\u001b[1;32m   1738\u001b[0m             \u001b[0;32mreturn\u001b[0m \u001b[0mindexer\u001b[0m\u001b[0;34m.\u001b[0m\u001b[0mmost_similar\u001b[0m\u001b[0;34m(\u001b[0m\u001b[0mmean\u001b[0m\u001b[0;34m,\u001b[0m \u001b[0mtopn\u001b[0m\u001b[0;34m)\u001b[0m\u001b[0;34m\u001b[0m\u001b[0;34m\u001b[0m\u001b[0m\n\u001b[1;32m   1739\u001b[0m \u001b[0;34m\u001b[0m\u001b[0m\n\u001b[0;32m-> 1740\u001b[0;31m         \u001b[0mdists\u001b[0m \u001b[0;34m=\u001b[0m \u001b[0mdot\u001b[0m\u001b[0;34m(\u001b[0m\u001b[0mself\u001b[0m\u001b[0;34m.\u001b[0m\u001b[0mvectors_docs_norm\u001b[0m\u001b[0;34m[\u001b[0m\u001b[0mclip_start\u001b[0m\u001b[0;34m:\u001b[0m\u001b[0mclip_end\u001b[0m\u001b[0;34m]\u001b[0m\u001b[0;34m,\u001b[0m \u001b[0mmean\u001b[0m\u001b[0;34m)\u001b[0m\u001b[0;34m\u001b[0m\u001b[0;34m\u001b[0m\u001b[0m\n\u001b[0m\u001b[1;32m   1741\u001b[0m         \u001b[0;32mif\u001b[0m \u001b[0;32mnot\u001b[0m \u001b[0mtopn\u001b[0m\u001b[0;34m:\u001b[0m\u001b[0;34m\u001b[0m\u001b[0;34m\u001b[0m\u001b[0m\n\u001b[1;32m   1742\u001b[0m             \u001b[0;32mreturn\u001b[0m \u001b[0mdists\u001b[0m\u001b[0;34m\u001b[0m\u001b[0;34m\u001b[0m\u001b[0m\n",
      "\u001b[0;32m<__array_function__ internals>\u001b[0m in \u001b[0;36mdot\u001b[0;34m(*args, **kwargs)\u001b[0m\n",
      "\u001b[0;31mKeyboardInterrupt\u001b[0m: "
     ]
    }
   ],
   "source": [
    "ranks = []\n",
    "second_ranks = []\n",
    "for doc_id in range(len(comments)):\n",
    "    inferred_vector = model.infer_vector(comments[doc_id].words)\n",
    "    sims = model.docvecs.most_similar([inferred_vector], topn=len(model.docvecs))\n",
    "    rank = [docid for docid, sim in sims].index(doc_id)\n",
    "    ranks.append(rank)\n",
    "\n",
    "    second_ranks.append(sims[1])"
   ]
  },
  {
   "cell_type": "markdown",
   "metadata": {
    "colab_type": "text",
    "id": "9242eLY5dATL"
   },
   "source": [
    "Let's find some similar comments!"
   ]
  },
  {
   "cell_type": "code",
   "execution_count": null,
   "metadata": {
    "colab": {},
    "colab_type": "code",
    "id": "cRi45HBOc2q6"
   },
   "outputs": [],
   "source": [
    "print('Comment ({}): «{}»\\n'.format(doc_id, ' '.join(comments[doc_id].words)))\n",
    "print(u'SIMILAR/DISSIMILAR COMMENTS PER MODEL %s:\\n' % model)\n",
    "for label, index in [('MOST', 0), ('SECOND-MOST', 1), ('MEDIAN', len(sims)//2), ('LEAST', len(sims) - 1)]:\n",
    "    print(u'%s %s: «%s»\\n' % (label, sims[index], ' '.join(comments[sims[index][0]].words)))"
   ]
  },
  {
   "cell_type": "markdown",
   "metadata": {
    "colab_type": "text",
    "id": "Ip0ee9CydIHA"
   },
   "source": [
    "And let's automate that a bit"
   ]
  },
  {
   "cell_type": "code",
   "execution_count": null,
   "metadata": {
    "colab": {},
    "colab_type": "code",
    "id": "CTVjJZPndEBl"
   },
   "outputs": [],
   "source": [
    "# Pick a random document from the corpus and infer a vector from the model\n",
    "import random\n",
    "doc_id = random.randint(0, len(comments) - 1)\n",
    "\n",
    "# Compare and print the second-most-similar document\n",
    "print('Train Document ({}): «{}»\\n'.format(doc_id, ' '.join(comments[doc_id].words)))\n",
    "sim_id = second_ranks[doc_id]\n",
    "print('Similar Document {}: «{}»\\n'.format(sim_id, ' '.join(comments[sim_id[0]].words)))\n"
   ]
  }
 ],
 "metadata": {
  "colab": {
   "collapsed_sections": [
    "LAF3aRsHZOp6",
    "liXCdKelZOqE",
    "5p4obNSvZOqG",
    "L6Y4eXciZOqb",
    "p6cjf2BYZOqt"
   ],
   "name": "Week 4-3 Word Embeddings EXTENDED.ipynb",
   "provenance": [
    {
     "file_id": "1aAxdH7FlmzMKph6PXjpxHmM93spH_fkP",
     "timestamp": 1596030806964
    }
   ]
  },
  "kernelspec": {
   "display_name": "Python 3",
   "language": "python",
   "name": "python3"
  },
  "language_info": {
   "codemirror_mode": {
    "name": "ipython",
    "version": 3
   },
   "file_extension": ".py",
   "mimetype": "text/x-python",
   "name": "python",
   "nbconvert_exporter": "python",
   "pygments_lexer": "ipython3",
   "version": "3.8.5"
  }
 },
 "nbformat": 4,
 "nbformat_minor": 1
}
