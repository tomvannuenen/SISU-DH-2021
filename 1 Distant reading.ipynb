{
 "cells": [
  {
   "cell_type": "markdown",
   "metadata": {
    "id": "5K5Zn8qobjic"
   },
   "source": [
    "# SISU Digital Humanities: Textual and Language Analysis on Social Media<br />\n",
    "### Distant Reading using NLTK and Pandas\n",
    "Created by Tom van Nuenen (tom.van_nuenen@kcl.ac.uk) <br />\n"
   ]
  },
  {
   "cell_type": "markdown",
   "metadata": {
    "id": "gJHDHrQPbjif"
   },
   "source": [
    "# Distant Reading\n",
    "\n",
    "This optional notebook focuses on some basics to Pandas, as well as some methods to engage in a simple distant reading using NLTK. By the end of this notebook, you will:\n",
    "\n",
    "* Know how to open and perform simple operations on a DataFrame;\n",
    "* Use NLTK's `Text()` object to perform some basic distant reading operations on a subreddit.\n",
    "\n",
    "Please note that the example dataset used here comes from the MOOC Intercultural Communication (https://centerforinterculturaldialogue.org/2021/03/17/mooc-intercultural-communication-2021-china/). For copyright reasons I cannot share the whole dataset with you."
   ]
  },
  {
   "cell_type": "markdown",
   "metadata": {
    "id": "XLTXX5Dtbjii"
   },
   "source": [
    "## Importing packages"
   ]
  },
  {
   "cell_type": "markdown",
   "metadata": {
    "id": "aBB4BWsPbjij"
   },
   "source": [
    "Let's start by importing some packages:"
   ]
  },
  {
   "cell_type": "code",
   "execution_count": 53,
   "metadata": {
    "colab": {
     "base_uri": "https://localhost:8080/",
     "height": 119
    },
    "id": "Rw1SGwFsbjik",
    "outputId": "86c1c58f-a5c1-46cd-b42f-1cc9d39b2e98"
   },
   "outputs": [
    {
     "name": "stderr",
     "output_type": "stream",
     "text": [
      "[nltk_data] Downloading package punkt to\n",
      "[nltk_data]     /Users/tomvannuenen/nltk_data...\n",
      "[nltk_data]   Package punkt is already up-to-date!\n",
      "[nltk_data] Downloading package wordnet to\n",
      "[nltk_data]     /Users/tomvannuenen/nltk_data...\n",
      "[nltk_data]   Package wordnet is already up-to-date!\n",
      "[nltk_data] Downloading package stopwords to\n",
      "[nltk_data]     /Users/tomvannuenen/nltk_data...\n",
      "[nltk_data]   Package stopwords is already up-to-date!\n"
     ]
    }
   ],
   "source": [
    "import nltk\n",
    "\n",
    "from nltk import word_tokenize\n",
    "from nltk.corpus import stopwords\n",
    "from nltk.book import FreqDist\n",
    "from nltk.text import Text\n",
    "import pandas as pd\n",
    "from datetime import datetime\n",
    "import collections\n",
    "import string\n",
    "\n",
    "nltk.download('punkt')\n",
    "nltk.download('wordnet')\n",
    "nltk.download('stopwords')\n",
    "\n",
    "%matplotlib inline\n",
    "import matplotlib.pyplot as plt\n",
    "plt.rcParams['figure.figsize'] = [10, 5]"
   ]
  },
  {
   "cell_type": "markdown",
   "metadata": {
    "id": "QuIFFo8clcwo"
   },
   "source": [
    "## Pandas basics & Working with Reddit data\n",
    "\n",
    "Using the `.head()` method we can get the first n rows of a df. The default is 5. We can add a *parameter* (here 3) to indicate how many rows we want to print."
   ]
  },
  {
   "cell_type": "code",
   "execution_count": 4,
   "metadata": {},
   "outputs": [],
   "source": [
    "df = pd.read_csv(\"data/icc3-comments.csv\") "
   ]
  },
  {
   "cell_type": "code",
   "execution_count": 7,
   "metadata": {
    "colab": {
     "base_uri": "https://localhost:8080/",
     "height": 417
    },
    "id": "zipTYx8rlbOo",
    "outputId": "cd023806-bdc6-4001-b184-187251817377",
    "scrolled": true
   },
   "outputs": [
    {
     "data": {
      "text/html": [
       "<div>\n",
       "<style scoped>\n",
       "    .dataframe tbody tr th:only-of-type {\n",
       "        vertical-align: middle;\n",
       "    }\n",
       "\n",
       "    .dataframe tbody tr th {\n",
       "        vertical-align: top;\n",
       "    }\n",
       "\n",
       "    .dataframe thead th {\n",
       "        text-align: right;\n",
       "    }\n",
       "</style>\n",
       "<table border=\"1\" class=\"dataframe\">\n",
       "  <thead>\n",
       "    <tr style=\"text-align: right;\">\n",
       "      <th></th>\n",
       "      <th>id</th>\n",
       "      <th>author_id</th>\n",
       "      <th>parent_id</th>\n",
       "      <th>step</th>\n",
       "      <th>week_number</th>\n",
       "      <th>step_number</th>\n",
       "      <th>text</th>\n",
       "      <th>timestamp</th>\n",
       "      <th>likes</th>\n",
       "      <th>first_reported_at</th>\n",
       "      <th>first_reported_reason</th>\n",
       "      <th>moderation_state</th>\n",
       "      <th>moderated</th>\n",
       "    </tr>\n",
       "  </thead>\n",
       "  <tbody>\n",
       "    <tr>\n",
       "      <th>0</th>\n",
       "      <td>16363017</td>\n",
       "      <td>2b065715-ca93-45a1-b129-fb015822bdde</td>\n",
       "      <td>NaN</td>\n",
       "      <td>1.1</td>\n",
       "      <td>1</td>\n",
       "      <td>1</td>\n",
       "      <td>Welcome to this run of our course! Here at the...</td>\n",
       "      <td>2016-10-10 00:21:15 UTC</td>\n",
       "      <td>15</td>\n",
       "      <td>NaN</td>\n",
       "      <td>NaN</td>\n",
       "      <td>NaN</td>\n",
       "      <td>NaN</td>\n",
       "    </tr>\n",
       "    <tr>\n",
       "      <th>1</th>\n",
       "      <td>16363067</td>\n",
       "      <td>2b065715-ca93-45a1-b129-fb015822bdde</td>\n",
       "      <td>NaN</td>\n",
       "      <td>1.2</td>\n",
       "      <td>1</td>\n",
       "      <td>2</td>\n",
       "      <td>Our Educator and Mentor team is eager to know ...</td>\n",
       "      <td>2016-10-10 00:26:08 UTC</td>\n",
       "      <td>1</td>\n",
       "      <td>NaN</td>\n",
       "      <td>NaN</td>\n",
       "      <td>NaN</td>\n",
       "      <td>NaN</td>\n",
       "    </tr>\n",
       "    <tr>\n",
       "      <th>2</th>\n",
       "      <td>16363229</td>\n",
       "      <td>d0adfa81-69cd-4a49-92f3-4a8092983376</td>\n",
       "      <td>NaN</td>\n",
       "      <td>1.1</td>\n",
       "      <td>1</td>\n",
       "      <td>1</td>\n",
       "      <td>Hello, Professor Kulich. Happy and excited to ...</td>\n",
       "      <td>2016-10-10 00:46:01 UTC</td>\n",
       "      <td>1</td>\n",
       "      <td>NaN</td>\n",
       "      <td>NaN</td>\n",
       "      <td>NaN</td>\n",
       "      <td>NaN</td>\n",
       "    </tr>\n",
       "    <tr>\n",
       "      <th>3</th>\n",
       "      <td>16363369</td>\n",
       "      <td>d0adfa81-69cd-4a49-92f3-4a8092983376</td>\n",
       "      <td>NaN</td>\n",
       "      <td>1.1</td>\n",
       "      <td>1</td>\n",
       "      <td>1</td>\n",
       "      <td>Hello everyone. Good morning.This is the first...</td>\n",
       "      <td>2016-10-10 01:01:07 UTC</td>\n",
       "      <td>0</td>\n",
       "      <td>NaN</td>\n",
       "      <td>NaN</td>\n",
       "      <td>NaN</td>\n",
       "      <td>NaN</td>\n",
       "    </tr>\n",
       "    <tr>\n",
       "      <th>4</th>\n",
       "      <td>16363370</td>\n",
       "      <td>19cb3801-93be-4268-9b62-b012517b85ba</td>\n",
       "      <td>NaN</td>\n",
       "      <td>1.5</td>\n",
       "      <td>1</td>\n",
       "      <td>5</td>\n",
       "      <td>Well I'm a Chinese so I presume the most impor...</td>\n",
       "      <td>2016-10-10 01:01:19 UTC</td>\n",
       "      <td>4</td>\n",
       "      <td>NaN</td>\n",
       "      <td>NaN</td>\n",
       "      <td>NaN</td>\n",
       "      <td>NaN</td>\n",
       "    </tr>\n",
       "  </tbody>\n",
       "</table>\n",
       "</div>"
      ],
      "text/plain": [
       "         id                             author_id  parent_id  step  \\\n",
       "0  16363017  2b065715-ca93-45a1-b129-fb015822bdde        NaN   1.1   \n",
       "1  16363067  2b065715-ca93-45a1-b129-fb015822bdde        NaN   1.2   \n",
       "2  16363229  d0adfa81-69cd-4a49-92f3-4a8092983376        NaN   1.1   \n",
       "3  16363369  d0adfa81-69cd-4a49-92f3-4a8092983376        NaN   1.1   \n",
       "4  16363370  19cb3801-93be-4268-9b62-b012517b85ba        NaN   1.5   \n",
       "\n",
       "   week_number  step_number  \\\n",
       "0            1            1   \n",
       "1            1            2   \n",
       "2            1            1   \n",
       "3            1            1   \n",
       "4            1            5   \n",
       "\n",
       "                                                text                timestamp  \\\n",
       "0  Welcome to this run of our course! Here at the...  2016-10-10 00:21:15 UTC   \n",
       "1  Our Educator and Mentor team is eager to know ...  2016-10-10 00:26:08 UTC   \n",
       "2  Hello, Professor Kulich. Happy and excited to ...  2016-10-10 00:46:01 UTC   \n",
       "3  Hello everyone. Good morning.This is the first...  2016-10-10 01:01:07 UTC   \n",
       "4  Well I'm a Chinese so I presume the most impor...  2016-10-10 01:01:19 UTC   \n",
       "\n",
       "   likes first_reported_at first_reported_reason moderation_state moderated  \n",
       "0     15               NaN                   NaN              NaN       NaN  \n",
       "1      1               NaN                   NaN              NaN       NaN  \n",
       "2      1               NaN                   NaN              NaN       NaN  \n",
       "3      0               NaN                   NaN              NaN       NaN  \n",
       "4      4               NaN                   NaN              NaN       NaN  "
      ]
     },
     "execution_count": 7,
     "metadata": {},
     "output_type": "execute_result"
    }
   ],
   "source": [
    "df.head(5)"
   ]
  },
  {
   "cell_type": "markdown",
   "metadata": {
    "id": "9za2bgknrbRx"
   },
   "source": [
    "Here's what we're seeing. Pay special attention to the \"NaN\" labels, indicating missing values. \n",
    "\n",
    "This particular dataset includes the comments on the MOOC under the \"text\" column, which is what we're most interested in.\n",
    "\n",
    "other columns contain valuable metadata you can use in your analyses, such as the \"likes\" column (i.e., the amount of likes a post has received), the \"timestamp\" column which indicates when the post was written, and the \"step\" column which refers to pedagogically organised \"Learning Steps\" focusing on particular activities."
   ]
  },
  {
   "cell_type": "markdown",
   "metadata": {
    "id": "Xlu74LCjjNhm"
   },
   "source": [
    "### Sorting a DF\n",
    "Using the `.sort_values()` method we can sort the df by particular columms. We use two parameters: the `by` parameter indicates by which column we want to sort, the `ascending` parameter indicated whether our sortation is in ascending or descending order.\n",
    "\n",
    "Here, I'm assigning my sorted DataFrame to the same variable `df`, effectively overwriting the old version. These are the top 10 comments based on the amount of \"likes\" they have received!"
   ]
  },
  {
   "cell_type": "code",
   "execution_count": 12,
   "metadata": {
    "id": "hcpxg8ezjNxA"
   },
   "outputs": [
    {
     "data": {
      "text/html": [
       "<div>\n",
       "<style scoped>\n",
       "    .dataframe tbody tr th:only-of-type {\n",
       "        vertical-align: middle;\n",
       "    }\n",
       "\n",
       "    .dataframe tbody tr th {\n",
       "        vertical-align: top;\n",
       "    }\n",
       "\n",
       "    .dataframe thead th {\n",
       "        text-align: right;\n",
       "    }\n",
       "</style>\n",
       "<table border=\"1\" class=\"dataframe\">\n",
       "  <thead>\n",
       "    <tr style=\"text-align: right;\">\n",
       "      <th></th>\n",
       "      <th>id</th>\n",
       "      <th>author_id</th>\n",
       "      <th>parent_id</th>\n",
       "      <th>step</th>\n",
       "      <th>week_number</th>\n",
       "      <th>step_number</th>\n",
       "      <th>text</th>\n",
       "      <th>timestamp</th>\n",
       "      <th>likes</th>\n",
       "      <th>first_reported_at</th>\n",
       "      <th>first_reported_reason</th>\n",
       "      <th>moderation_state</th>\n",
       "      <th>moderated</th>\n",
       "    </tr>\n",
       "  </thead>\n",
       "  <tbody>\n",
       "    <tr>\n",
       "      <th>0</th>\n",
       "      <td>16363017</td>\n",
       "      <td>2b065715-ca93-45a1-b129-fb015822bdde</td>\n",
       "      <td>NaN</td>\n",
       "      <td>1.10</td>\n",
       "      <td>1</td>\n",
       "      <td>1</td>\n",
       "      <td>Welcome to this run of our course! Here at the...</td>\n",
       "      <td>2016-10-10 00:21:15 UTC</td>\n",
       "      <td>15</td>\n",
       "      <td>NaN</td>\n",
       "      <td>NaN</td>\n",
       "      <td>NaN</td>\n",
       "      <td>NaN</td>\n",
       "    </tr>\n",
       "    <tr>\n",
       "      <th>5431</th>\n",
       "      <td>16714165</td>\n",
       "      <td>9adec9b7-86e1-4b7c-a7e7-9175535f7cca</td>\n",
       "      <td>NaN</td>\n",
       "      <td>2.40</td>\n",
       "      <td>2</td>\n",
       "      <td>4</td>\n",
       "      <td>I was sharing my impressions of Switzerland wi...</td>\n",
       "      <td>2016-10-17 22:35:43 UTC</td>\n",
       "      <td>14</td>\n",
       "      <td>NaN</td>\n",
       "      <td>NaN</td>\n",
       "      <td>NaN</td>\n",
       "      <td>NaN</td>\n",
       "    </tr>\n",
       "    <tr>\n",
       "      <th>931</th>\n",
       "      <td>16428852</td>\n",
       "      <td>673b5fc3-5817-4b86-8601-99fcc0067d07</td>\n",
       "      <td>NaN</td>\n",
       "      <td>1.80</td>\n",
       "      <td>1</td>\n",
       "      <td>8</td>\n",
       "      <td>I have almost always felt out of the water. Bu...</td>\n",
       "      <td>2016-10-11 14:15:59 UTC</td>\n",
       "      <td>14</td>\n",
       "      <td>NaN</td>\n",
       "      <td>NaN</td>\n",
       "      <td>NaN</td>\n",
       "      <td>NaN</td>\n",
       "    </tr>\n",
       "    <tr>\n",
       "      <th>489</th>\n",
       "      <td>16392733</td>\n",
       "      <td>748dc127-86a2-4f60-9579-095f0b478741</td>\n",
       "      <td>NaN</td>\n",
       "      <td>1.70</td>\n",
       "      <td>1</td>\n",
       "      <td>7</td>\n",
       "      <td>Interesting that intercultural communication c...</td>\n",
       "      <td>2016-10-10 16:21:01 UTC</td>\n",
       "      <td>13</td>\n",
       "      <td>NaN</td>\n",
       "      <td>NaN</td>\n",
       "      <td>NaN</td>\n",
       "      <td>NaN</td>\n",
       "    </tr>\n",
       "    <tr>\n",
       "      <th>6495</th>\n",
       "      <td>16797181</td>\n",
       "      <td>a33b706a-2391-4d09-93d0-3314dc8ec373</td>\n",
       "      <td>16797174.0</td>\n",
       "      <td>2.80</td>\n",
       "      <td>2</td>\n",
       "      <td>8</td>\n",
       "      <td>And when that’s clear, the answers are\\r\\nobvi...</td>\n",
       "      <td>2016-10-19 12:01:12 UTC</td>\n",
       "      <td>13</td>\n",
       "      <td>NaN</td>\n",
       "      <td>NaN</td>\n",
       "      <td>NaN</td>\n",
       "      <td>NaN</td>\n",
       "    </tr>\n",
       "    <tr>\n",
       "      <th>14400</th>\n",
       "      <td>17611685</td>\n",
       "      <td>370696ae-ec6a-4cef-973a-2ef2ccc7b94c</td>\n",
       "      <td>NaN</td>\n",
       "      <td>5.10</td>\n",
       "      <td>5</td>\n",
       "      <td>10</td>\n",
       "      <td>Yup. I mentioned it in earlier lessons of week...</td>\n",
       "      <td>2016-11-09 02:11:04 UTC</td>\n",
       "      <td>12</td>\n",
       "      <td>NaN</td>\n",
       "      <td>NaN</td>\n",
       "      <td>NaN</td>\n",
       "      <td>NaN</td>\n",
       "    </tr>\n",
       "    <tr>\n",
       "      <th>2018</th>\n",
       "      <td>16518342</td>\n",
       "      <td>9e95bade-da24-4345-bb0b-f32039453066</td>\n",
       "      <td>NaN</td>\n",
       "      <td>1.11</td>\n",
       "      <td>1</td>\n",
       "      <td>11</td>\n",
       "      <td>Only this morning I spoke to a man who called ...</td>\n",
       "      <td>2016-10-13 19:31:36 UTC</td>\n",
       "      <td>12</td>\n",
       "      <td>NaN</td>\n",
       "      <td>NaN</td>\n",
       "      <td>NaN</td>\n",
       "      <td>NaN</td>\n",
       "    </tr>\n",
       "    <tr>\n",
       "      <th>14739</th>\n",
       "      <td>17663630</td>\n",
       "      <td>29d4c255-0586-43a0-8e8b-55bafb91c55e</td>\n",
       "      <td>NaN</td>\n",
       "      <td>5.20</td>\n",
       "      <td>5</td>\n",
       "      <td>2</td>\n",
       "      <td>culture shock???\\r\\n\\r\\nBeing the only black f...</td>\n",
       "      <td>2016-11-10 16:17:14 UTC</td>\n",
       "      <td>11</td>\n",
       "      <td>NaN</td>\n",
       "      <td>NaN</td>\n",
       "      <td>NaN</td>\n",
       "      <td>NaN</td>\n",
       "    </tr>\n",
       "    <tr>\n",
       "      <th>1887</th>\n",
       "      <td>16508171</td>\n",
       "      <td>cd86d426-d2d3-4284-a8a6-3a2e5a1e35da</td>\n",
       "      <td>NaN</td>\n",
       "      <td>2.60</td>\n",
       "      <td>2</td>\n",
       "      <td>6</td>\n",
       "      <td>MINE and OTHER could be illustrated by a simpl...</td>\n",
       "      <td>2016-10-13 13:47:56 UTC</td>\n",
       "      <td>11</td>\n",
       "      <td>NaN</td>\n",
       "      <td>NaN</td>\n",
       "      <td>NaN</td>\n",
       "      <td>NaN</td>\n",
       "    </tr>\n",
       "    <tr>\n",
       "      <th>4740</th>\n",
       "      <td>16623617</td>\n",
       "      <td>8645066d-e776-4aff-84f6-c6000fb220e7</td>\n",
       "      <td>NaN</td>\n",
       "      <td>1.12</td>\n",
       "      <td>1</td>\n",
       "      <td>12</td>\n",
       "      <td>More than anything, in this particular case ev...</td>\n",
       "      <td>2016-10-17 03:51:27 UTC</td>\n",
       "      <td>11</td>\n",
       "      <td>NaN</td>\n",
       "      <td>NaN</td>\n",
       "      <td>NaN</td>\n",
       "      <td>NaN</td>\n",
       "    </tr>\n",
       "  </tbody>\n",
       "</table>\n",
       "</div>"
      ],
      "text/plain": [
       "             id                             author_id   parent_id  step  \\\n",
       "0      16363017  2b065715-ca93-45a1-b129-fb015822bdde         NaN  1.10   \n",
       "5431   16714165  9adec9b7-86e1-4b7c-a7e7-9175535f7cca         NaN  2.40   \n",
       "931    16428852  673b5fc3-5817-4b86-8601-99fcc0067d07         NaN  1.80   \n",
       "489    16392733  748dc127-86a2-4f60-9579-095f0b478741         NaN  1.70   \n",
       "6495   16797181  a33b706a-2391-4d09-93d0-3314dc8ec373  16797174.0  2.80   \n",
       "14400  17611685  370696ae-ec6a-4cef-973a-2ef2ccc7b94c         NaN  5.10   \n",
       "2018   16518342  9e95bade-da24-4345-bb0b-f32039453066         NaN  1.11   \n",
       "14739  17663630  29d4c255-0586-43a0-8e8b-55bafb91c55e         NaN  5.20   \n",
       "1887   16508171  cd86d426-d2d3-4284-a8a6-3a2e5a1e35da         NaN  2.60   \n",
       "4740   16623617  8645066d-e776-4aff-84f6-c6000fb220e7         NaN  1.12   \n",
       "\n",
       "       week_number  step_number  \\\n",
       "0                1            1   \n",
       "5431             2            4   \n",
       "931              1            8   \n",
       "489              1            7   \n",
       "6495             2            8   \n",
       "14400            5           10   \n",
       "2018             1           11   \n",
       "14739            5            2   \n",
       "1887             2            6   \n",
       "4740             1           12   \n",
       "\n",
       "                                                    text  \\\n",
       "0      Welcome to this run of our course! Here at the...   \n",
       "5431   I was sharing my impressions of Switzerland wi...   \n",
       "931    I have almost always felt out of the water. Bu...   \n",
       "489    Interesting that intercultural communication c...   \n",
       "6495   And when that’s clear, the answers are\\r\\nobvi...   \n",
       "14400  Yup. I mentioned it in earlier lessons of week...   \n",
       "2018   Only this morning I spoke to a man who called ...   \n",
       "14739  culture shock???\\r\\n\\r\\nBeing the only black f...   \n",
       "1887   MINE and OTHER could be illustrated by a simpl...   \n",
       "4740   More than anything, in this particular case ev...   \n",
       "\n",
       "                     timestamp  likes first_reported_at first_reported_reason  \\\n",
       "0      2016-10-10 00:21:15 UTC     15               NaN                   NaN   \n",
       "5431   2016-10-17 22:35:43 UTC     14               NaN                   NaN   \n",
       "931    2016-10-11 14:15:59 UTC     14               NaN                   NaN   \n",
       "489    2016-10-10 16:21:01 UTC     13               NaN                   NaN   \n",
       "6495   2016-10-19 12:01:12 UTC     13               NaN                   NaN   \n",
       "14400  2016-11-09 02:11:04 UTC     12               NaN                   NaN   \n",
       "2018   2016-10-13 19:31:36 UTC     12               NaN                   NaN   \n",
       "14739  2016-11-10 16:17:14 UTC     11               NaN                   NaN   \n",
       "1887   2016-10-13 13:47:56 UTC     11               NaN                   NaN   \n",
       "4740   2016-10-17 03:51:27 UTC     11               NaN                   NaN   \n",
       "\n",
       "      moderation_state moderated  \n",
       "0                  NaN       NaN  \n",
       "5431               NaN       NaN  \n",
       "931                NaN       NaN  \n",
       "489                NaN       NaN  \n",
       "6495               NaN       NaN  \n",
       "14400              NaN       NaN  \n",
       "2018               NaN       NaN  \n",
       "14739              NaN       NaN  \n",
       "1887               NaN       NaN  \n",
       "4740               NaN       NaN  "
      ]
     },
     "execution_count": 12,
     "metadata": {},
     "output_type": "execute_result"
    }
   ],
   "source": [
    "df = df.sort_values(by=['likes'], ascending=False)\n",
    "df.head(10)"
   ]
  },
  {
   "cell_type": "markdown",
   "metadata": {
    "id": "P9-L4LR4lDlz"
   },
   "source": [
    "### Selecting a column\n",
    "To select a single column of data, simply put the name of the column in between brackets. Let’s select the 'selftext' column. We can print out the first entry in this column as follows:"
   ]
  },
  {
   "cell_type": "code",
   "execution_count": 18,
   "metadata": {
    "colab": {
     "base_uri": "https://localhost:8080/",
     "height": 137
    },
    "id": "4hmKORvYlFN-",
    "outputId": "0882546c-d44e-45e8-d713-09181078cc39"
   },
   "outputs": [
    {
     "data": {
      "text/plain": [
       "\"Welcome to this run of our course! Here at the start you are joining a learner community of more than 4000, so we hope you'll enjoy the varied perspectives, comments, experiences, and stories of our diverse learners! I'm certainly eager to learn with you!!\""
      ]
     },
     "execution_count": 18,
     "metadata": {},
     "output_type": "execute_result"
    }
   ],
   "source": [
    "df['text'][0]"
   ]
  },
  {
   "cell_type": "markdown",
   "metadata": {
    "id": "Ppsb8JK9tt4j"
   },
   "source": [
    "As you see, using the `[]` operator selects a set of rows and/or columns from a DataFrame.\n",
    "\n",
    "Your turn! Use slicing to retrieve the first 10 \"selftext\" entries in our DataFrame."
   ]
  },
  {
   "cell_type": "code",
   "execution_count": 19,
   "metadata": {
    "colab": {
     "base_uri": "https://localhost:8080/",
     "height": 204
    },
    "id": "xjxlNNK_syRD",
    "outputId": "36358a18-9ed3-434a-cd11-241f196142ee"
   },
   "outputs": [
    {
     "data": {
      "text/plain": [
       "0        Welcome to this run of our course! Here at the...\n",
       "5431     I was sharing my impressions of Switzerland wi...\n",
       "931      I have almost always felt out of the water. Bu...\n",
       "489      Interesting that intercultural communication c...\n",
       "6495     And when that’s clear, the answers are\\r\\nobvi...\n",
       "14400    Yup. I mentioned it in earlier lessons of week...\n",
       "2018     Only this morning I spoke to a man who called ...\n",
       "14739    culture shock???\\r\\n\\r\\nBeing the only black f...\n",
       "1887     MINE and OTHER could be illustrated by a simpl...\n",
       "4740     More than anything, in this particular case ev...\n",
       "Name: text, dtype: object"
      ]
     },
     "execution_count": 19,
     "metadata": {},
     "output_type": "execute_result"
    }
   ],
   "source": [
    "# Your code here\n",
    "\n",
    "df['text'][:10]\n",
    "\n"
   ]
  },
  {
   "cell_type": "markdown",
   "metadata": {
    "id": "EWrEqa9rvL8U"
   },
   "source": [
    "One thing we often do when we’re exploring a dataset is filtering the data based on a given condition. For example, we might need to find all the rows in our dataset that have received more than 10 \"likes\". We can use the `.loc[]` method to do so."
   ]
  },
  {
   "cell_type": "code",
   "execution_count": 23,
   "metadata": {
    "colab": {
     "base_uri": "https://localhost:8080/",
     "height": 417
    },
    "id": "ZrlTcUzKvK_Y",
    "outputId": "0e112175-e2f6-4b94-d2e3-fe2c52b4d49a"
   },
   "outputs": [
    {
     "data": {
      "text/html": [
       "<div>\n",
       "<style scoped>\n",
       "    .dataframe tbody tr th:only-of-type {\n",
       "        vertical-align: middle;\n",
       "    }\n",
       "\n",
       "    .dataframe tbody tr th {\n",
       "        vertical-align: top;\n",
       "    }\n",
       "\n",
       "    .dataframe thead th {\n",
       "        text-align: right;\n",
       "    }\n",
       "</style>\n",
       "<table border=\"1\" class=\"dataframe\">\n",
       "  <thead>\n",
       "    <tr style=\"text-align: right;\">\n",
       "      <th></th>\n",
       "      <th>id</th>\n",
       "      <th>author_id</th>\n",
       "      <th>parent_id</th>\n",
       "      <th>step</th>\n",
       "      <th>week_number</th>\n",
       "      <th>step_number</th>\n",
       "      <th>text</th>\n",
       "      <th>timestamp</th>\n",
       "      <th>likes</th>\n",
       "      <th>first_reported_at</th>\n",
       "      <th>first_reported_reason</th>\n",
       "      <th>moderation_state</th>\n",
       "      <th>moderated</th>\n",
       "      <th>datetime</th>\n",
       "    </tr>\n",
       "  </thead>\n",
       "  <tbody>\n",
       "    <tr>\n",
       "      <th>0</th>\n",
       "      <td>16363017</td>\n",
       "      <td>2b065715-ca93-45a1-b129-fb015822bdde</td>\n",
       "      <td>NaN</td>\n",
       "      <td>1.10</td>\n",
       "      <td>1</td>\n",
       "      <td>1</td>\n",
       "      <td>Welcome to this run of our course! Here at the...</td>\n",
       "      <td>2016-10-10 00:21:15 UTC</td>\n",
       "      <td>15</td>\n",
       "      <td>NaN</td>\n",
       "      <td>NaN</td>\n",
       "      <td>NaN</td>\n",
       "      <td>NaN</td>\n",
       "      <td>2016-10-10 00:21:15+00:00</td>\n",
       "    </tr>\n",
       "    <tr>\n",
       "      <th>5431</th>\n",
       "      <td>16714165</td>\n",
       "      <td>9adec9b7-86e1-4b7c-a7e7-9175535f7cca</td>\n",
       "      <td>NaN</td>\n",
       "      <td>2.40</td>\n",
       "      <td>2</td>\n",
       "      <td>4</td>\n",
       "      <td>I was sharing my impressions of Switzerland wi...</td>\n",
       "      <td>2016-10-17 22:35:43 UTC</td>\n",
       "      <td>14</td>\n",
       "      <td>NaN</td>\n",
       "      <td>NaN</td>\n",
       "      <td>NaN</td>\n",
       "      <td>NaN</td>\n",
       "      <td>2016-10-17 22:35:43+00:00</td>\n",
       "    </tr>\n",
       "    <tr>\n",
       "      <th>931</th>\n",
       "      <td>16428852</td>\n",
       "      <td>673b5fc3-5817-4b86-8601-99fcc0067d07</td>\n",
       "      <td>NaN</td>\n",
       "      <td>1.80</td>\n",
       "      <td>1</td>\n",
       "      <td>8</td>\n",
       "      <td>I have almost always felt out of the water. Bu...</td>\n",
       "      <td>2016-10-11 14:15:59 UTC</td>\n",
       "      <td>14</td>\n",
       "      <td>NaN</td>\n",
       "      <td>NaN</td>\n",
       "      <td>NaN</td>\n",
       "      <td>NaN</td>\n",
       "      <td>2016-10-11 14:15:59+00:00</td>\n",
       "    </tr>\n",
       "    <tr>\n",
       "      <th>489</th>\n",
       "      <td>16392733</td>\n",
       "      <td>748dc127-86a2-4f60-9579-095f0b478741</td>\n",
       "      <td>NaN</td>\n",
       "      <td>1.70</td>\n",
       "      <td>1</td>\n",
       "      <td>7</td>\n",
       "      <td>Interesting that intercultural communication c...</td>\n",
       "      <td>2016-10-10 16:21:01 UTC</td>\n",
       "      <td>13</td>\n",
       "      <td>NaN</td>\n",
       "      <td>NaN</td>\n",
       "      <td>NaN</td>\n",
       "      <td>NaN</td>\n",
       "      <td>2016-10-10 16:21:01+00:00</td>\n",
       "    </tr>\n",
       "    <tr>\n",
       "      <th>6495</th>\n",
       "      <td>16797181</td>\n",
       "      <td>a33b706a-2391-4d09-93d0-3314dc8ec373</td>\n",
       "      <td>16797174.0</td>\n",
       "      <td>2.80</td>\n",
       "      <td>2</td>\n",
       "      <td>8</td>\n",
       "      <td>And when that’s clear, the answers are\\r\\nobvi...</td>\n",
       "      <td>2016-10-19 12:01:12 UTC</td>\n",
       "      <td>13</td>\n",
       "      <td>NaN</td>\n",
       "      <td>NaN</td>\n",
       "      <td>NaN</td>\n",
       "      <td>NaN</td>\n",
       "      <td>2016-10-19 12:01:12+00:00</td>\n",
       "    </tr>\n",
       "    <tr>\n",
       "      <th>14400</th>\n",
       "      <td>17611685</td>\n",
       "      <td>370696ae-ec6a-4cef-973a-2ef2ccc7b94c</td>\n",
       "      <td>NaN</td>\n",
       "      <td>5.10</td>\n",
       "      <td>5</td>\n",
       "      <td>10</td>\n",
       "      <td>Yup. I mentioned it in earlier lessons of week...</td>\n",
       "      <td>2016-11-09 02:11:04 UTC</td>\n",
       "      <td>12</td>\n",
       "      <td>NaN</td>\n",
       "      <td>NaN</td>\n",
       "      <td>NaN</td>\n",
       "      <td>NaN</td>\n",
       "      <td>2016-11-09 02:11:04+00:00</td>\n",
       "    </tr>\n",
       "    <tr>\n",
       "      <th>2018</th>\n",
       "      <td>16518342</td>\n",
       "      <td>9e95bade-da24-4345-bb0b-f32039453066</td>\n",
       "      <td>NaN</td>\n",
       "      <td>1.11</td>\n",
       "      <td>1</td>\n",
       "      <td>11</td>\n",
       "      <td>Only this morning I spoke to a man who called ...</td>\n",
       "      <td>2016-10-13 19:31:36 UTC</td>\n",
       "      <td>12</td>\n",
       "      <td>NaN</td>\n",
       "      <td>NaN</td>\n",
       "      <td>NaN</td>\n",
       "      <td>NaN</td>\n",
       "      <td>2016-10-13 19:31:36+00:00</td>\n",
       "    </tr>\n",
       "    <tr>\n",
       "      <th>14739</th>\n",
       "      <td>17663630</td>\n",
       "      <td>29d4c255-0586-43a0-8e8b-55bafb91c55e</td>\n",
       "      <td>NaN</td>\n",
       "      <td>5.20</td>\n",
       "      <td>5</td>\n",
       "      <td>2</td>\n",
       "      <td>culture shock???\\r\\n\\r\\nBeing the only black f...</td>\n",
       "      <td>2016-11-10 16:17:14 UTC</td>\n",
       "      <td>11</td>\n",
       "      <td>NaN</td>\n",
       "      <td>NaN</td>\n",
       "      <td>NaN</td>\n",
       "      <td>NaN</td>\n",
       "      <td>2016-11-10 16:17:14+00:00</td>\n",
       "    </tr>\n",
       "    <tr>\n",
       "      <th>1887</th>\n",
       "      <td>16508171</td>\n",
       "      <td>cd86d426-d2d3-4284-a8a6-3a2e5a1e35da</td>\n",
       "      <td>NaN</td>\n",
       "      <td>2.60</td>\n",
       "      <td>2</td>\n",
       "      <td>6</td>\n",
       "      <td>MINE and OTHER could be illustrated by a simpl...</td>\n",
       "      <td>2016-10-13 13:47:56 UTC</td>\n",
       "      <td>11</td>\n",
       "      <td>NaN</td>\n",
       "      <td>NaN</td>\n",
       "      <td>NaN</td>\n",
       "      <td>NaN</td>\n",
       "      <td>2016-10-13 13:47:56+00:00</td>\n",
       "    </tr>\n",
       "    <tr>\n",
       "      <th>4740</th>\n",
       "      <td>16623617</td>\n",
       "      <td>8645066d-e776-4aff-84f6-c6000fb220e7</td>\n",
       "      <td>NaN</td>\n",
       "      <td>1.12</td>\n",
       "      <td>1</td>\n",
       "      <td>12</td>\n",
       "      <td>More than anything, in this particular case ev...</td>\n",
       "      <td>2016-10-17 03:51:27 UTC</td>\n",
       "      <td>11</td>\n",
       "      <td>NaN</td>\n",
       "      <td>NaN</td>\n",
       "      <td>NaN</td>\n",
       "      <td>NaN</td>\n",
       "      <td>2016-10-17 03:51:27+00:00</td>\n",
       "    </tr>\n",
       "    <tr>\n",
       "      <th>4806</th>\n",
       "      <td>16627161</td>\n",
       "      <td>8294f9fb-060a-4cf6-8432-af37e158fdc1</td>\n",
       "      <td>NaN</td>\n",
       "      <td>2.10</td>\n",
       "      <td>2</td>\n",
       "      <td>1</td>\n",
       "      <td>Hi everyone! It is 7 am in Germany. I am 36 ye...</td>\n",
       "      <td>2016-10-17 05:17:14 UTC</td>\n",
       "      <td>11</td>\n",
       "      <td>NaN</td>\n",
       "      <td>NaN</td>\n",
       "      <td>NaN</td>\n",
       "      <td>NaN</td>\n",
       "      <td>2016-10-17 05:17:14+00:00</td>\n",
       "    </tr>\n",
       "    <tr>\n",
       "      <th>14345</th>\n",
       "      <td>17600457</td>\n",
       "      <td>48c7b0cb-240d-4ae5-9f9e-d5465788335f</td>\n",
       "      <td>NaN</td>\n",
       "      <td>5.50</td>\n",
       "      <td>5</td>\n",
       "      <td>5</td>\n",
       "      <td>I would like to mention here the *inverse* cul...</td>\n",
       "      <td>2016-11-08 18:58:48 UTC</td>\n",
       "      <td>11</td>\n",
       "      <td>NaN</td>\n",
       "      <td>NaN</td>\n",
       "      <td>NaN</td>\n",
       "      <td>NaN</td>\n",
       "      <td>2016-11-08 18:58:48+00:00</td>\n",
       "    </tr>\n",
       "    <tr>\n",
       "      <th>10078</th>\n",
       "      <td>17065047</td>\n",
       "      <td>b34e260b-b7da-4791-839a-18485536bc62</td>\n",
       "      <td>NaN</td>\n",
       "      <td>3.11</td>\n",
       "      <td>3</td>\n",
       "      <td>11</td>\n",
       "      <td>An interesting TED Talk by the travel writer P...</td>\n",
       "      <td>2016-10-25 22:08:56 UTC</td>\n",
       "      <td>11</td>\n",
       "      <td>NaN</td>\n",
       "      <td>NaN</td>\n",
       "      <td>NaN</td>\n",
       "      <td>NaN</td>\n",
       "      <td>2016-10-25 22:08:56+00:00</td>\n",
       "    </tr>\n",
       "    <tr>\n",
       "      <th>4340</th>\n",
       "      <td>16603389</td>\n",
       "      <td>77251d90-a1b7-4666-8f1f-4106a1fa5160</td>\n",
       "      <td>NaN</td>\n",
       "      <td>2.20</td>\n",
       "      <td>2</td>\n",
       "      <td>2</td>\n",
       "      <td>I'm an eternal student, a woman. I'm Catalan b...</td>\n",
       "      <td>2016-10-16 16:52:55 UTC</td>\n",
       "      <td>11</td>\n",
       "      <td>NaN</td>\n",
       "      <td>NaN</td>\n",
       "      <td>NaN</td>\n",
       "      <td>NaN</td>\n",
       "      <td>2016-10-16 16:52:55+00:00</td>\n",
       "    </tr>\n",
       "    <tr>\n",
       "      <th>10040</th>\n",
       "      <td>17061085</td>\n",
       "      <td>b34e260b-b7da-4791-839a-18485536bc62</td>\n",
       "      <td>NaN</td>\n",
       "      <td>3.60</td>\n",
       "      <td>3</td>\n",
       "      <td>6</td>\n",
       "      <td>I've looked around the school playground when ...</td>\n",
       "      <td>2016-10-25 20:17:02 UTC</td>\n",
       "      <td>11</td>\n",
       "      <td>NaN</td>\n",
       "      <td>NaN</td>\n",
       "      <td>NaN</td>\n",
       "      <td>NaN</td>\n",
       "      <td>2016-10-25 20:17:02+00:00</td>\n",
       "    </tr>\n",
       "    <tr>\n",
       "      <th>1692</th>\n",
       "      <td>16492916</td>\n",
       "      <td>9d8dcefb-a9ca-4eba-8ff7-6877e8a451ae</td>\n",
       "      <td>NaN</td>\n",
       "      <td>2.12</td>\n",
       "      <td>2</td>\n",
       "      <td>12</td>\n",
       "      <td>I really feel for Mr. Halt. In a new environme...</td>\n",
       "      <td>2016-10-13 04:04:54 UTC</td>\n",
       "      <td>11</td>\n",
       "      <td>NaN</td>\n",
       "      <td>NaN</td>\n",
       "      <td>NaN</td>\n",
       "      <td>NaN</td>\n",
       "      <td>2016-10-13 04:04:54+00:00</td>\n",
       "    </tr>\n",
       "    <tr>\n",
       "      <th>6494</th>\n",
       "      <td>16797174</td>\n",
       "      <td>a33b706a-2391-4d09-93d0-3314dc8ec373</td>\n",
       "      <td>NaN</td>\n",
       "      <td>2.80</td>\n",
       "      <td>2</td>\n",
       "      <td>8</td>\n",
       "      <td>What really helped me to understand my severe ...</td>\n",
       "      <td>2016-10-19 12:01:05 UTC</td>\n",
       "      <td>11</td>\n",
       "      <td>NaN</td>\n",
       "      <td>NaN</td>\n",
       "      <td>NaN</td>\n",
       "      <td>NaN</td>\n",
       "      <td>2016-10-19 12:01:05+00:00</td>\n",
       "    </tr>\n",
       "    <tr>\n",
       "      <th>12127</th>\n",
       "      <td>17348317</td>\n",
       "      <td>d8e02802-d5c1-44e6-bbe9-5e951206f416</td>\n",
       "      <td>NaN</td>\n",
       "      <td>4.90</td>\n",
       "      <td>4</td>\n",
       "      <td>9</td>\n",
       "      <td>I am Brazilian, married to a British man and w...</td>\n",
       "      <td>2016-11-02 10:30:56 UTC</td>\n",
       "      <td>10</td>\n",
       "      <td>NaN</td>\n",
       "      <td>NaN</td>\n",
       "      <td>NaN</td>\n",
       "      <td>NaN</td>\n",
       "      <td>2016-11-02 10:30:56+00:00</td>\n",
       "    </tr>\n",
       "    <tr>\n",
       "      <th>2188</th>\n",
       "      <td>16527525</td>\n",
       "      <td>a92a413c-82be-4880-bad4-dbc0175194b8</td>\n",
       "      <td>NaN</td>\n",
       "      <td>1.10</td>\n",
       "      <td>1</td>\n",
       "      <td>10</td>\n",
       "      <td>“Etic” and “Emic” are really interesting conce...</td>\n",
       "      <td>2016-10-14 05:06:45 UTC</td>\n",
       "      <td>10</td>\n",
       "      <td>NaN</td>\n",
       "      <td>NaN</td>\n",
       "      <td>NaN</td>\n",
       "      <td>NaN</td>\n",
       "      <td>2016-10-14 05:06:45+00:00</td>\n",
       "    </tr>\n",
       "    <tr>\n",
       "      <th>371</th>\n",
       "      <td>16385578</td>\n",
       "      <td>136de2b8-cdd7-41a1-aa6e-053f40c085ec</td>\n",
       "      <td>16380494.0</td>\n",
       "      <td>1.90</td>\n",
       "      <td>1</td>\n",
       "      <td>9</td>\n",
       "      <td>Thanks, Jef for sharing your feelings about \"c...</td>\n",
       "      <td>2016-10-10 13:43:07 UTC</td>\n",
       "      <td>10</td>\n",
       "      <td>NaN</td>\n",
       "      <td>NaN</td>\n",
       "      <td>NaN</td>\n",
       "      <td>NaN</td>\n",
       "      <td>2016-10-10 13:43:07+00:00</td>\n",
       "    </tr>\n",
       "    <tr>\n",
       "      <th>1657</th>\n",
       "      <td>16491470</td>\n",
       "      <td>370696ae-ec6a-4cef-973a-2ef2ccc7b94c</td>\n",
       "      <td>NaN</td>\n",
       "      <td>1.90</td>\n",
       "      <td>1</td>\n",
       "      <td>9</td>\n",
       "      <td>I feel that, as I am getting a bit older, I be...</td>\n",
       "      <td>2016-10-13 01:57:59 UTC</td>\n",
       "      <td>10</td>\n",
       "      <td>NaN</td>\n",
       "      <td>NaN</td>\n",
       "      <td>NaN</td>\n",
       "      <td>NaN</td>\n",
       "      <td>2016-10-13 01:57:59+00:00</td>\n",
       "    </tr>\n",
       "    <tr>\n",
       "      <th>2325</th>\n",
       "      <td>16533786</td>\n",
       "      <td>5a6a5795-8502-4412-bf24-5d9ed8a025c1</td>\n",
       "      <td>NaN</td>\n",
       "      <td>1.15</td>\n",
       "      <td>1</td>\n",
       "      <td>15</td>\n",
       "      <td>I was born in France and I live in Italy since...</td>\n",
       "      <td>2016-10-14 10:10:21 UTC</td>\n",
       "      <td>10</td>\n",
       "      <td>NaN</td>\n",
       "      <td>NaN</td>\n",
       "      <td>NaN</td>\n",
       "      <td>NaN</td>\n",
       "      <td>2016-10-14 10:10:21+00:00</td>\n",
       "    </tr>\n",
       "    <tr>\n",
       "      <th>1996</th>\n",
       "      <td>16516376</td>\n",
       "      <td>1f9ee90d-9dbb-46f5-bcc9-265d76e92cc0</td>\n",
       "      <td>NaN</td>\n",
       "      <td>1.15</td>\n",
       "      <td>1</td>\n",
       "      <td>15</td>\n",
       "      <td>As you have mentioned, we live in the age of g...</td>\n",
       "      <td>2016-10-13 18:28:35 UTC</td>\n",
       "      <td>10</td>\n",
       "      <td>NaN</td>\n",
       "      <td>NaN</td>\n",
       "      <td>NaN</td>\n",
       "      <td>NaN</td>\n",
       "      <td>2016-10-13 18:28:35+00:00</td>\n",
       "    </tr>\n",
       "    <tr>\n",
       "      <th>92</th>\n",
       "      <td>16369017</td>\n",
       "      <td>2b065715-ca93-45a1-b129-fb015822bdde</td>\n",
       "      <td>16367292.0</td>\n",
       "      <td>1.70</td>\n",
       "      <td>1</td>\n",
       "      <td>7</td>\n",
       "      <td>You've categorised these well, Luyolo, and the...</td>\n",
       "      <td>2016-10-10 06:54:13 UTC</td>\n",
       "      <td>10</td>\n",
       "      <td>NaN</td>\n",
       "      <td>NaN</td>\n",
       "      <td>NaN</td>\n",
       "      <td>NaN</td>\n",
       "      <td>2016-10-10 06:54:13+00:00</td>\n",
       "    </tr>\n",
       "    <tr>\n",
       "      <th>12306</th>\n",
       "      <td>17375987</td>\n",
       "      <td>5a6a5795-8502-4412-bf24-5d9ed8a025c1</td>\n",
       "      <td>NaN</td>\n",
       "      <td>4.15</td>\n",
       "      <td>4</td>\n",
       "      <td>15</td>\n",
       "      <td>Ms Smith cultural style is based on Individual...</td>\n",
       "      <td>2016-11-02 23:57:50 UTC</td>\n",
       "      <td>10</td>\n",
       "      <td>NaN</td>\n",
       "      <td>NaN</td>\n",
       "      <td>NaN</td>\n",
       "      <td>NaN</td>\n",
       "      <td>2016-11-02 23:57:50+00:00</td>\n",
       "    </tr>\n",
       "  </tbody>\n",
       "</table>\n",
       "</div>"
      ],
      "text/plain": [
       "             id                             author_id   parent_id  step  \\\n",
       "0      16363017  2b065715-ca93-45a1-b129-fb015822bdde         NaN  1.10   \n",
       "5431   16714165  9adec9b7-86e1-4b7c-a7e7-9175535f7cca         NaN  2.40   \n",
       "931    16428852  673b5fc3-5817-4b86-8601-99fcc0067d07         NaN  1.80   \n",
       "489    16392733  748dc127-86a2-4f60-9579-095f0b478741         NaN  1.70   \n",
       "6495   16797181  a33b706a-2391-4d09-93d0-3314dc8ec373  16797174.0  2.80   \n",
       "14400  17611685  370696ae-ec6a-4cef-973a-2ef2ccc7b94c         NaN  5.10   \n",
       "2018   16518342  9e95bade-da24-4345-bb0b-f32039453066         NaN  1.11   \n",
       "14739  17663630  29d4c255-0586-43a0-8e8b-55bafb91c55e         NaN  5.20   \n",
       "1887   16508171  cd86d426-d2d3-4284-a8a6-3a2e5a1e35da         NaN  2.60   \n",
       "4740   16623617  8645066d-e776-4aff-84f6-c6000fb220e7         NaN  1.12   \n",
       "4806   16627161  8294f9fb-060a-4cf6-8432-af37e158fdc1         NaN  2.10   \n",
       "14345  17600457  48c7b0cb-240d-4ae5-9f9e-d5465788335f         NaN  5.50   \n",
       "10078  17065047  b34e260b-b7da-4791-839a-18485536bc62         NaN  3.11   \n",
       "4340   16603389  77251d90-a1b7-4666-8f1f-4106a1fa5160         NaN  2.20   \n",
       "10040  17061085  b34e260b-b7da-4791-839a-18485536bc62         NaN  3.60   \n",
       "1692   16492916  9d8dcefb-a9ca-4eba-8ff7-6877e8a451ae         NaN  2.12   \n",
       "6494   16797174  a33b706a-2391-4d09-93d0-3314dc8ec373         NaN  2.80   \n",
       "12127  17348317  d8e02802-d5c1-44e6-bbe9-5e951206f416         NaN  4.90   \n",
       "2188   16527525  a92a413c-82be-4880-bad4-dbc0175194b8         NaN  1.10   \n",
       "371    16385578  136de2b8-cdd7-41a1-aa6e-053f40c085ec  16380494.0  1.90   \n",
       "1657   16491470  370696ae-ec6a-4cef-973a-2ef2ccc7b94c         NaN  1.90   \n",
       "2325   16533786  5a6a5795-8502-4412-bf24-5d9ed8a025c1         NaN  1.15   \n",
       "1996   16516376  1f9ee90d-9dbb-46f5-bcc9-265d76e92cc0         NaN  1.15   \n",
       "92     16369017  2b065715-ca93-45a1-b129-fb015822bdde  16367292.0  1.70   \n",
       "12306  17375987  5a6a5795-8502-4412-bf24-5d9ed8a025c1         NaN  4.15   \n",
       "\n",
       "       week_number  step_number  \\\n",
       "0                1            1   \n",
       "5431             2            4   \n",
       "931              1            8   \n",
       "489              1            7   \n",
       "6495             2            8   \n",
       "14400            5           10   \n",
       "2018             1           11   \n",
       "14739            5            2   \n",
       "1887             2            6   \n",
       "4740             1           12   \n",
       "4806             2            1   \n",
       "14345            5            5   \n",
       "10078            3           11   \n",
       "4340             2            2   \n",
       "10040            3            6   \n",
       "1692             2           12   \n",
       "6494             2            8   \n",
       "12127            4            9   \n",
       "2188             1           10   \n",
       "371              1            9   \n",
       "1657             1            9   \n",
       "2325             1           15   \n",
       "1996             1           15   \n",
       "92               1            7   \n",
       "12306            4           15   \n",
       "\n",
       "                                                    text  \\\n",
       "0      Welcome to this run of our course! Here at the...   \n",
       "5431   I was sharing my impressions of Switzerland wi...   \n",
       "931    I have almost always felt out of the water. Bu...   \n",
       "489    Interesting that intercultural communication c...   \n",
       "6495   And when that’s clear, the answers are\\r\\nobvi...   \n",
       "14400  Yup. I mentioned it in earlier lessons of week...   \n",
       "2018   Only this morning I spoke to a man who called ...   \n",
       "14739  culture shock???\\r\\n\\r\\nBeing the only black f...   \n",
       "1887   MINE and OTHER could be illustrated by a simpl...   \n",
       "4740   More than anything, in this particular case ev...   \n",
       "4806   Hi everyone! It is 7 am in Germany. I am 36 ye...   \n",
       "14345  I would like to mention here the *inverse* cul...   \n",
       "10078  An interesting TED Talk by the travel writer P...   \n",
       "4340   I'm an eternal student, a woman. I'm Catalan b...   \n",
       "10040  I've looked around the school playground when ...   \n",
       "1692   I really feel for Mr. Halt. In a new environme...   \n",
       "6494   What really helped me to understand my severe ...   \n",
       "12127  I am Brazilian, married to a British man and w...   \n",
       "2188   “Etic” and “Emic” are really interesting conce...   \n",
       "371    Thanks, Jef for sharing your feelings about \"c...   \n",
       "1657   I feel that, as I am getting a bit older, I be...   \n",
       "2325   I was born in France and I live in Italy since...   \n",
       "1996   As you have mentioned, we live in the age of g...   \n",
       "92     You've categorised these well, Luyolo, and the...   \n",
       "12306  Ms Smith cultural style is based on Individual...   \n",
       "\n",
       "                     timestamp  likes first_reported_at first_reported_reason  \\\n",
       "0      2016-10-10 00:21:15 UTC     15               NaN                   NaN   \n",
       "5431   2016-10-17 22:35:43 UTC     14               NaN                   NaN   \n",
       "931    2016-10-11 14:15:59 UTC     14               NaN                   NaN   \n",
       "489    2016-10-10 16:21:01 UTC     13               NaN                   NaN   \n",
       "6495   2016-10-19 12:01:12 UTC     13               NaN                   NaN   \n",
       "14400  2016-11-09 02:11:04 UTC     12               NaN                   NaN   \n",
       "2018   2016-10-13 19:31:36 UTC     12               NaN                   NaN   \n",
       "14739  2016-11-10 16:17:14 UTC     11               NaN                   NaN   \n",
       "1887   2016-10-13 13:47:56 UTC     11               NaN                   NaN   \n",
       "4740   2016-10-17 03:51:27 UTC     11               NaN                   NaN   \n",
       "4806   2016-10-17 05:17:14 UTC     11               NaN                   NaN   \n",
       "14345  2016-11-08 18:58:48 UTC     11               NaN                   NaN   \n",
       "10078  2016-10-25 22:08:56 UTC     11               NaN                   NaN   \n",
       "4340   2016-10-16 16:52:55 UTC     11               NaN                   NaN   \n",
       "10040  2016-10-25 20:17:02 UTC     11               NaN                   NaN   \n",
       "1692   2016-10-13 04:04:54 UTC     11               NaN                   NaN   \n",
       "6494   2016-10-19 12:01:05 UTC     11               NaN                   NaN   \n",
       "12127  2016-11-02 10:30:56 UTC     10               NaN                   NaN   \n",
       "2188   2016-10-14 05:06:45 UTC     10               NaN                   NaN   \n",
       "371    2016-10-10 13:43:07 UTC     10               NaN                   NaN   \n",
       "1657   2016-10-13 01:57:59 UTC     10               NaN                   NaN   \n",
       "2325   2016-10-14 10:10:21 UTC     10               NaN                   NaN   \n",
       "1996   2016-10-13 18:28:35 UTC     10               NaN                   NaN   \n",
       "92     2016-10-10 06:54:13 UTC     10               NaN                   NaN   \n",
       "12306  2016-11-02 23:57:50 UTC     10               NaN                   NaN   \n",
       "\n",
       "      moderation_state moderated                  datetime  \n",
       "0                  NaN       NaN 2016-10-10 00:21:15+00:00  \n",
       "5431               NaN       NaN 2016-10-17 22:35:43+00:00  \n",
       "931                NaN       NaN 2016-10-11 14:15:59+00:00  \n",
       "489                NaN       NaN 2016-10-10 16:21:01+00:00  \n",
       "6495               NaN       NaN 2016-10-19 12:01:12+00:00  \n",
       "14400              NaN       NaN 2016-11-09 02:11:04+00:00  \n",
       "2018               NaN       NaN 2016-10-13 19:31:36+00:00  \n",
       "14739              NaN       NaN 2016-11-10 16:17:14+00:00  \n",
       "1887               NaN       NaN 2016-10-13 13:47:56+00:00  \n",
       "4740               NaN       NaN 2016-10-17 03:51:27+00:00  \n",
       "4806               NaN       NaN 2016-10-17 05:17:14+00:00  \n",
       "14345              NaN       NaN 2016-11-08 18:58:48+00:00  \n",
       "10078              NaN       NaN 2016-10-25 22:08:56+00:00  \n",
       "4340               NaN       NaN 2016-10-16 16:52:55+00:00  \n",
       "10040              NaN       NaN 2016-10-25 20:17:02+00:00  \n",
       "1692               NaN       NaN 2016-10-13 04:04:54+00:00  \n",
       "6494               NaN       NaN 2016-10-19 12:01:05+00:00  \n",
       "12127              NaN       NaN 2016-11-02 10:30:56+00:00  \n",
       "2188               NaN       NaN 2016-10-14 05:06:45+00:00  \n",
       "371                NaN       NaN 2016-10-10 13:43:07+00:00  \n",
       "1657               NaN       NaN 2016-10-13 01:57:59+00:00  \n",
       "2325               NaN       NaN 2016-10-14 10:10:21+00:00  \n",
       "1996               NaN       NaN 2016-10-13 18:28:35+00:00  \n",
       "92                 NaN       NaN 2016-10-10 06:54:13+00:00  \n",
       "12306              NaN       NaN 2016-11-02 23:57:50+00:00  "
      ]
     },
     "execution_count": 23,
     "metadata": {},
     "output_type": "execute_result"
    }
   ],
   "source": [
    "df.loc[df.likes >= 10]"
   ]
  },
  {
   "cell_type": "markdown",
   "metadata": {
    "id": "ym6Q_twP5E2y"
   },
   "source": [
    "`.loc[]` is a powerful method that can be used for all kinds of research purposes, if you want to filter or prune your dataset based on some condition. For more info, see [here](https://pandas.pydata.org/pandas-docs/stable/reference/api/pandas.DataFrame.loc.html)."
   ]
  },
  {
   "cell_type": "markdown",
   "metadata": {
    "id": "SMglX5TU0J5F"
   },
   "source": [
    "Your turn! Use `loc[]` to retrieve only the posts that have over 200 comments."
   ]
  },
  {
   "cell_type": "markdown",
   "metadata": {
    "id": "_dVKTaN8LutK"
   },
   "source": [
    "### Removing rows\n",
    "Missing values (`NaN`) in a DataFrame can cause a lot of errors. In general, it's a god idea to get rid of those rows whose \"selftext\" is missing. This works as follows:"
   ]
  },
  {
   "cell_type": "code",
   "execution_count": 25,
   "metadata": {
    "colab": {
     "base_uri": "https://localhost:8080/",
     "height": 164
    },
    "id": "6khNIe0kLvOf",
    "outputId": "6e8db553-e9fe-403c-89c5-67d7375d6d3e"
   },
   "outputs": [
    {
     "name": "stdout",
     "output_type": "stream",
     "text": [
      "length of df is now 16438\n",
      "length of df is now 16438\n"
     ]
    }
   ],
   "source": [
    "print(\"length of df is now \" + str(len(df)))\n",
    "clean_df = df.dropna(subset=['text'])\n",
    "print(\"length of df is now \" + str(len(clean_df)))\n"
   ]
  },
  {
   "cell_type": "markdown",
   "metadata": {
    "id": "lSdM51N2bjkc"
   },
   "source": [
    "## Distant reading with NLTK \n",
    "Tomorrow, we will look at preprocessing our text in more detail. For now, let's automate most of it using NLTK's `word_tokenize()` method. We've imported this library at the beginning of this notebook.\n",
    "`word_tokenize()` works like this:\n"
   ]
  },
  {
   "cell_type": "code",
   "execution_count": null,
   "metadata": {
    "colab": {
     "base_uri": "https://localhost:8080/",
     "height": 765
    },
    "id": "8HX3cHuN0Jd5",
    "outputId": "b280bdf8-25a2-4ea7-ed4b-a13c5d05b630"
   },
   "outputs": [],
   "source": [
    "# Your code here\n",
    "\n",
    "sed.loc[sed.num_comments >= 200]\n",
    "\n",
    "\n"
   ]
  },
  {
   "cell_type": "code",
   "execution_count": 26,
   "metadata": {
    "colab": {
     "base_uri": "https://localhost:8080/",
     "height": 340
    },
    "id": "NzuuVD23-QNM",
    "outputId": "4592b966-bc58-4ed2-d9bf-ce68937b9e1b"
   },
   "outputs": [
    {
     "data": {
      "text/plain": [
       "['He',\n",
       " 'is',\n",
       " 'a',\n",
       " 'lumberjack',\n",
       " 'and',\n",
       " 'he',\n",
       " 'is',\n",
       " 'okay',\n",
       " '.',\n",
       " 'He',\n",
       " 'sleeps',\n",
       " 'all',\n",
       " 'night',\n",
       " 'and',\n",
       " 'he',\n",
       " 'works',\n",
       " 'all',\n",
       " 'day',\n",
       " '.']"
      ]
     },
     "execution_count": 26,
     "metadata": {},
     "output_type": "execute_result"
    }
   ],
   "source": [
    "word_tokenize(\"He is a lumberjack and he is okay. He sleeps all night and he works all day.\")"
   ]
  },
  {
   "cell_type": "markdown",
   "metadata": {
    "id": "OscceKEtbjkd"
   },
   "source": [
    "Your turn! Let's tokenize our \"selftext\" column. Here's what you need to do: \n",
    "- Create a new list called `sed_tokens`;\n",
    "- Begin a for-loop that iterates over the \"selftext\" column of our `sed` DataFrame; \n",
    "- `For` each text in that column, tokenize it using `word_tokenize()`; \n",
    "- Add these tokenized words to our new `sed_tokens` list using the list `.extend()` method*.\n",
    " \n",
    "*We use `.extend` instead of `.append`. This is because we want one long list, instead of a list of lists. While `append` adds its argument as a single element to the end of a list – meaning the length of the list itself will increase by one – `extend` adds each element to the list, extending the list."
   ]
  },
  {
   "cell_type": "code",
   "execution_count": 28,
   "metadata": {
    "id": "ZqrTrJ33bjkd"
   },
   "outputs": [],
   "source": [
    "# Your code here\n",
    "\n",
    "df_tokens = []\n",
    "\n",
    "for text in df['text']:\n",
    "    df_tokens.extend(word_tokenize(text))"
   ]
  },
  {
   "cell_type": "markdown",
   "metadata": {
    "id": "yK1DCuAJbjkh"
   },
   "source": [
    "## The NLTK `Text()` class\n",
    "Now, let's have a look at our data. NLTK provides a `Text()` class, which is a \"wrapper\" that allows for inital exploration of texts. It supports counting, concordancing, collocation discovery, etc. "
   ]
  },
  {
   "cell_type": "code",
   "execution_count": 30,
   "metadata": {
    "id": "58NEJVb2bjki"
   },
   "outputs": [],
   "source": [
    "# Here, we create our NLTK Text object\n",
    "df_t = Text(df_tokens)"
   ]
  },
  {
   "cell_type": "markdown",
   "metadata": {
    "id": "SAdI-HgMbjkl"
   },
   "source": [
    "Let's print out the \"docstring\" of NLTK's `Text()` object, as well as all the things you can do with this object. Have a read through this to see what it allows you to do!"
   ]
  },
  {
   "cell_type": "code",
   "execution_count": 31,
   "metadata": {
    "colab": {
     "base_uri": "https://localhost:8080/",
     "height": 1000
    },
    "id": "GvexG4e7bjkm",
    "outputId": "9ec603e7-f54f-4b96-fe6d-8dddf172671e",
    "scrolled": true
   },
   "outputs": [
    {
     "name": "stdout",
     "output_type": "stream",
     "text": [
      "Help on class Text in module nltk.text:\n",
      "\n",
      "class Text(builtins.object)\n",
      " |  Text(tokens, name=None)\n",
      " |  \n",
      " |  A wrapper around a sequence of simple (string) tokens, which is\n",
      " |  intended to support initial exploration of texts (via the\n",
      " |  interactive console).  Its methods perform a variety of analyses\n",
      " |  on the text's contexts (e.g., counting, concordancing, collocation\n",
      " |  discovery), and display the results.  If you wish to write a\n",
      " |  program which makes use of these analyses, then you should bypass\n",
      " |  the ``Text`` class, and use the appropriate analysis function or\n",
      " |  class directly instead.\n",
      " |  \n",
      " |  A ``Text`` is typically initialized from a given document or\n",
      " |  corpus.  E.g.:\n",
      " |  \n",
      " |  >>> import nltk.corpus\n",
      " |  >>> from nltk.text import Text\n",
      " |  >>> moby = Text(nltk.corpus.gutenberg.words('melville-moby_dick.txt'))\n",
      " |  \n",
      " |  Methods defined here:\n",
      " |  \n",
      " |  __getitem__(self, i)\n",
      " |  \n",
      " |  __init__(self, tokens, name=None)\n",
      " |      Create a Text object.\n",
      " |      \n",
      " |      :param tokens: The source text.\n",
      " |      :type tokens: sequence of str\n",
      " |  \n",
      " |  __len__(self)\n",
      " |  \n",
      " |  __repr__(self)\n",
      " |      Return repr(self).\n",
      " |  \n",
      " |  __str__(self)\n",
      " |      Return str(self).\n",
      " |  \n",
      " |  collocation_list(self, num=20, window_size=2)\n",
      " |      Return collocations derived from the text, ignoring stopwords.\n",
      " |      \n",
      " |          >>> from nltk.book import text4\n",
      " |          >>> text4.collocation_list()[:2]\n",
      " |          [('United', 'States'), ('fellow', 'citizens')]\n",
      " |      \n",
      " |      :param num: The maximum number of collocations to return.\n",
      " |      :type num: int\n",
      " |      :param window_size: The number of tokens spanned by a collocation (default=2)\n",
      " |      :type window_size: int\n",
      " |      :rtype: list(tuple(str, str))\n",
      " |  \n",
      " |  collocations(self, num=20, window_size=2)\n",
      " |      Print collocations derived from the text, ignoring stopwords.\n",
      " |      \n",
      " |          >>> from nltk.book import text4\n",
      " |          >>> text4.collocations() # doctest: +ELLIPSIS\n",
      " |          United States; fellow citizens; four years; ...\n",
      " |      \n",
      " |      :param num: The maximum number of collocations to print.\n",
      " |      :type num: int\n",
      " |      :param window_size: The number of tokens spanned by a collocation (default=2)\n",
      " |      :type window_size: int\n",
      " |  \n",
      " |  common_contexts(self, words, num=20)\n",
      " |      Find contexts where the specified words appear; list\n",
      " |      most frequent common contexts first.\n",
      " |      \n",
      " |      :param words: The words used to seed the similarity search\n",
      " |      :type words: str\n",
      " |      :param num: The number of words to generate (default=20)\n",
      " |      :type num: int\n",
      " |      :seealso: ContextIndex.common_contexts()\n",
      " |  \n",
      " |  concordance(self, word, width=79, lines=25)\n",
      " |      Prints a concordance for ``word`` with the specified context window.\n",
      " |      Word matching is not case-sensitive.\n",
      " |      \n",
      " |      :param word: The target word\n",
      " |      :type word: str\n",
      " |      :param width: The width of each line, in characters (default=80)\n",
      " |      :type width: int\n",
      " |      :param lines: The number of lines to display (default=25)\n",
      " |      :type lines: int\n",
      " |      \n",
      " |      :seealso: ``ConcordanceIndex``\n",
      " |  \n",
      " |  concordance_list(self, word, width=79, lines=25)\n",
      " |      Generate a concordance for ``word`` with the specified context window.\n",
      " |      Word matching is not case-sensitive.\n",
      " |      \n",
      " |      :param word: The target word\n",
      " |      :type word: str\n",
      " |      :param width: The width of each line, in characters (default=80)\n",
      " |      :type width: int\n",
      " |      :param lines: The number of lines to display (default=25)\n",
      " |      :type lines: int\n",
      " |      \n",
      " |      :seealso: ``ConcordanceIndex``\n",
      " |  \n",
      " |  count(self, word)\n",
      " |      Count the number of times this word appears in the text.\n",
      " |  \n",
      " |  dispersion_plot(self, words)\n",
      " |      Produce a plot showing the distribution of the words through the text.\n",
      " |      Requires pylab to be installed.\n",
      " |      \n",
      " |      :param words: The words to be plotted\n",
      " |      :type words: list(str)\n",
      " |      :seealso: nltk.draw.dispersion_plot()\n",
      " |  \n",
      " |  findall(self, regexp)\n",
      " |      Find instances of the regular expression in the text.\n",
      " |      The text is a list of tokens, and a regexp pattern to match\n",
      " |      a single token must be surrounded by angle brackets.  E.g.\n",
      " |      \n",
      " |      >>> print('hack'); from nltk.book import text1, text5, text9\n",
      " |      hack...\n",
      " |      >>> text5.findall(\"<.*><.*><bro>\")\n",
      " |      you rule bro; telling you bro; u twizted bro\n",
      " |      >>> text1.findall(\"<a>(<.*>)<man>\")\n",
      " |      monied; nervous; dangerous; white; white; white; pious; queer; good;\n",
      " |      mature; white; Cape; great; wise; wise; butterless; white; fiendish;\n",
      " |      pale; furious; better; certain; complete; dismasted; younger; brave;\n",
      " |      brave; brave; brave\n",
      " |      >>> text9.findall(\"<th.*>{3,}\")\n",
      " |      thread through those; the thought that; that the thing; the thing\n",
      " |      that; that that thing; through these than through; them that the;\n",
      " |      through the thick; them that they; thought that the\n",
      " |      \n",
      " |      :param regexp: A regular expression\n",
      " |      :type regexp: str\n",
      " |  \n",
      " |  generate(self, length=100, text_seed=None, random_seed=42)\n",
      " |      Print random text, generated using a trigram language model.\n",
      " |      See also `help(nltk.lm)`.\n",
      " |      \n",
      " |      :param length: The length of text to generate (default=100)\n",
      " |      :type length: int\n",
      " |      \n",
      " |      :param text_seed: Generation can be conditioned on preceding context.\n",
      " |      :type text_seed: list(str)\n",
      " |      \n",
      " |      :param random_seed: A random seed or an instance of `random.Random`. If provided,\n",
      " |      makes the random sampling part of generation reproducible. (default=42)\n",
      " |      :type random_seed: int\n",
      " |  \n",
      " |  index(self, word)\n",
      " |      Find the index of the first occurrence of the word in the text.\n",
      " |  \n",
      " |  plot(self, *args)\n",
      " |      See documentation for FreqDist.plot()\n",
      " |      :seealso: nltk.prob.FreqDist.plot()\n",
      " |  \n",
      " |  readability(self, method)\n",
      " |  \n",
      " |  similar(self, word, num=20)\n",
      " |      Distributional similarity: find other words which appear in the\n",
      " |      same contexts as the specified word; list most similar words first.\n",
      " |      \n",
      " |      :param word: The word used to seed the similarity search\n",
      " |      :type word: str\n",
      " |      :param num: The number of words to generate (default=20)\n",
      " |      :type num: int\n",
      " |      :seealso: ContextIndex.similar_words()\n",
      " |  \n",
      " |  vocab(self)\n",
      " |      :seealso: nltk.prob.FreqDist\n",
      " |  \n",
      " |  ----------------------------------------------------------------------\n",
      " |  Data descriptors defined here:\n",
      " |  \n",
      " |  __dict__\n",
      " |      dictionary for instance variables (if defined)\n",
      " |  \n",
      " |  __weakref__\n",
      " |      list of weak references to the object (if defined)\n",
      "\n"
     ]
    }
   ],
   "source": [
    "help(Text)"
   ]
  },
  {
   "cell_type": "markdown",
   "metadata": {},
   "source": [
    "### Word counts\n",
    "Let's run a few of these functions. How often do people talk about a \"problem\"? Let's find out using the `.count()` method."
   ]
  },
  {
   "cell_type": "code",
   "execution_count": 37,
   "metadata": {},
   "outputs": [
    {
     "data": {
      "text/plain": [
       "329"
      ]
     },
     "execution_count": 37,
     "metadata": {},
     "output_type": "execute_result"
    }
   ],
   "source": [
    "df_t.count('problem')"
   ]
  },
  {
   "cell_type": "markdown",
   "metadata": {
    "id": "TPatGDHDOpaU"
   },
   "source": [
    "### Concordances \n",
    "One of the most basic, but quite helpful, ways to quickly get an overview of the contexts in which a word appears is through a `.concordance()` view. "
   ]
  },
  {
   "cell_type": "code",
   "execution_count": 33,
   "metadata": {
    "colab": {
     "base_uri": "https://localhost:8080/",
     "height": 459
    },
    "id": "nkDsXJkPbjkp",
    "outputId": "938e2d30-8361-429e-8f5e-05f79add673b",
    "scrolled": true
   },
   "outputs": [
    {
     "name": "stdout",
     "output_type": "stream",
     "text": [
      "Displaying 25 of 334 matches:\n",
      "d try to adapt . So I think it is not just a cultural problem in this story culture shock ? ? ? Being the only blac\n",
      " new ecosystem as a mixture of races . I had the same problem fitting in as a Third Culture Kid with locals during \n",
      " me and you feel you have to do something to solve my problem , you have failed me , strange as that may seem . Lis\n",
      "the answer either . Andy has several identities . The problem with lots of societies is that everyone seems to need\n",
      "ions . Underneath this , however , is the issue ; the problem itself . Underneath that , is the person . She said ,\n",
      "id , try to reach the person before talking about the problem . Then the emotion will change . This manager is Chin\n",
      "ustrated at Markus ' lack of enthusiasm . I think the problem partly lies in assumptions that we make based on our \n",
      "became the SUBSTITUTE of life and human contact . The problem is that people are not skilled AT ALL when using a de\n",
      "lability of opportunity and access to education . The problem is that we need to try to understand others who have \n",
      "with Dr Johnson , he could rely on him to resolve his problem and doing whatever was in his power to extend Dr Chen\n",
      " individualist view of the matter was that Dr Chen 's problem had nothing to do with him . I would do that with my \n",
      "raduate and return back to Kazakhstan they face a big problem of getting used to local culture again , especially t\n",
      ". My presence in class only 73 % even though i had no problem with academic score . Every morning i felt dizzy , st\n",
      "rstanding each other much better . Of course it is no problem keeping up your traditions along the way and stay pro\n",
      "is timely reminder ! I think stereotypes can be a big problem for anyone visiting any country . Little things that \n",
      "ty because of my national identity . So this one more problem I really want to know how to deal with during this co\n",
      "eas to pursue their education and find jobs there.The problem now comes when the same people ( especially ladies ) \n",
      "eated as abomination or a taboo .It becomes a serious problem because the CHIEFS in rural areas will be trying to p\n",
      " but thats a feature of many women ( they said so ) . Problem for me is that I have to deal with the effects of a T\n",
      " case , can be positive when it helps me to put every problem on perspective or to move out when is nothing I can d\n",
      "roximity ' . But once I have noticed it , there is no problem , because being a cultural question . As far as time \n",
      "'t know the date : If it is the 29th of the month the problem has to be solved just now and Ms. Smith is right espe\n",
      "h Ms. Smith afterward . My opinion is : If there is a problem , solve it as soon as possible . In this case it woul\n",
      "nderstanding . The more you think about something and problem solve the better you remember it - it 's a sort of ac\n",
      "you trust is also very helpful . However , there is a problem with depression , and that is when the person sufferi\n"
     ]
    }
   ],
   "source": [
    "df_t.concordance('problem', width=115)"
   ]
  },
  {
   "cell_type": "markdown",
   "metadata": {},
   "source": [
    "### Collocations\n",
    "\n",
    "A collocation is a sequence of words that often appear together. The `.collocations()` method can find these in our data."
   ]
  },
  {
   "cell_type": "code",
   "execution_count": 61,
   "metadata": {},
   "outputs": [
    {
     "name": "stdout",
     "output_type": "stream",
     "text": [
      "intercultural communication; different cultures; culture shock; Chen\n",
      "Lin; Mr. Wang; cultural differences; Mr. Wilson; looking forward;\n",
      "cultural identity; comfort zone; years ago; n't know; low context; Dr.\n",
      "Johnson; Hong Kong; cultural background; Intercultural communication;\n",
      "even though; little bit; cultural identities\n"
     ]
    }
   ],
   "source": [
    "df_t.collocations()\n"
   ]
  },
  {
   "cell_type": "markdown",
   "metadata": {
    "id": "Np8M59BeDJll"
   },
   "source": [
    "### Word plotting\n",
    "Using the `.dispersion_plot()` method we can easily visualize how often some word appears throughout the text. We have to feed it a list with several words in it.\n",
    "\n",
    "Sorting our df by date allows us to look \"through time\" to see whether particular words start (dis)appearing in our data."
   ]
  },
  {
   "cell_type": "code",
   "execution_count": 34,
   "metadata": {
    "colab": {
     "base_uri": "https://localhost:8080/",
     "height": 295
    },
    "id": "_myUpUcqDIdh",
    "outputId": "3bfec8cb-f870-4b19-f945-82dc2843f5d5"
   },
   "outputs": [
    {
     "data": {
      "image/png": "[encoded data removed]",
      "text/plain": [
       "<Figure size 720x360 with 1 Axes>"
      ]
     },
     "metadata": {
      "needs_background": "light"
     },
     "output_type": "display_data"
    }
   ],
   "source": [
    "df_t.dispersion_plot([\"problem\"])"
   ]
  },
  {
   "cell_type": "markdown",
   "metadata": {
    "id": "d5q_G1GKkZSy"
   },
   "source": [
    "### Similar words\n",
    "Using the `.similar()` method we can look at \"distributional similarity\": finding other words which appear in the same contexts as the specified word.\n",
    " "
   ]
  },
  {
   "cell_type": "code",
   "execution_count": 38,
   "metadata": {
    "colab": {
     "base_uri": "https://localhost:8080/",
     "height": 51
    },
    "id": "mWhoVtkrjBx_",
    "outputId": "bacd5a57-dca8-44fd-9878-43b9bd89150a"
   },
   "outputs": [
    {
     "name": "stdout",
     "output_type": "stream",
     "text": [
      "culture time country situation group person experience language place\n",
      "way course communication world question family week day people point\n",
      "city\n"
     ]
    }
   ],
   "source": [
    "df_t.similar('problem')"
   ]
  },
  {
   "cell_type": "markdown",
   "metadata": {},
   "source": [
    "### Common context\n",
    "The `.common_contexts()` method allows us to study the common context of two or more words. We must enclose these words in square brackets and round brackets, separated by commas. For instance, when people talk about problems, how often do they mention the word \"communication\"?"
   ]
  },
  {
   "cell_type": "code",
   "execution_count": 48,
   "metadata": {
    "scrolled": true
   },
   "outputs": [
    {
     "name": "stdout",
     "output_type": "stream",
     "text": [
      "the_is the_. a_. a_with no_, the_with the_, the_was my_. the_in this_,\n",
      "the_and cultural_in the_itself no_if any_, ``_'' ._is of_that of_.\n"
     ]
    }
   ],
   "source": [
    "df_t.common_contexts(['problem', 'communication'])"
   ]
  },
  {
   "cell_type": "code",
   "execution_count": 59,
   "metadata": {
    "scrolled": true
   },
   "outputs": [
    {
     "data": {
      "text/plain": [
       "[('.', 50659),\n",
       " (',', 44341),\n",
       " ('I', 35417),\n",
       " ('to', 32796),\n",
       " ('the', 32690),\n",
       " ('and', 30438),\n",
       " ('a', 23096),\n",
       " ('of', 20754),\n",
       " ('in', 20242),\n",
       " ('is', 15364),\n",
       " ('that', 11806),\n",
       " ('my', 9321),\n",
       " ('it', 8883),\n",
       " ('with', 8336),\n",
       " ('for', 7996),\n",
       " ('are', 7382),\n",
       " ('you', 7358),\n",
       " ('have', 7292),\n",
       " ('we', 6812),\n",
       " ('be', 6491),\n",
       " ('as', 6147),\n",
       " ('people', 5943),\n",
       " ('from', 5855),\n",
       " ('not', 5832),\n",
       " ('was', 5812),\n",
       " ('am', 5704),\n",
       " ('this', 5429),\n",
       " ('me', 5169),\n",
       " ('but', 4975),\n",
       " ('or', 4958)]"
      ]
     },
     "execution_count": 59,
     "metadata": {},
     "output_type": "execute_result"
    }
   ],
   "source": [
    "fdist = FreqDist(df_t)\n",
    "fdist.most_common(30)"
   ]
  },
  {
   "cell_type": "markdown",
   "metadata": {},
   "source": [
    "We can visualize these numbers."
   ]
  },
  {
   "cell_type": "code",
   "execution_count": 76,
   "metadata": {},
   "outputs": [
    {
     "data": {
      "image/png": "[encoded data removed]",
      "text/plain": [
       "<Figure size 720x360 with 1 Axes>"
      ]
     },
     "metadata": {
      "needs_background": "light"
     },
     "output_type": "display_data"
    },
    {
     "data": {
      "text/plain": [
       "<AxesSubplot:xlabel='Samples', ylabel='Counts'>"
      ]
     },
     "execution_count": 76,
     "metadata": {},
     "output_type": "execute_result"
    }
   ],
   "source": [
    "fdist.plot(50, cumulative=False)"
   ]
  },
  {
   "cell_type": "markdown",
   "metadata": {},
   "source": [
    "Finally, let's have a look at the top-10 words whose length is greater than 6 and whose word frequency is greater than 1500."
   ]
  },
  {
   "cell_type": "code",
   "execution_count": 75,
   "metadata": {},
   "outputs": [
    {
     "data": {
      "text/plain": [
       "['because',\n",
       " 'communication',\n",
       " 'cultural',\n",
       " 'culture',\n",
       " 'cultures',\n",
       " 'different',\n",
       " 'important',\n",
       " 'intercultural',\n",
       " 'understand']"
      ]
     },
     "execution_count": 75,
     "metadata": {},
     "output_type": "execute_result"
    }
   ],
   "source": [
    "sorted(w for w in set(df_t) if len(w)>6 and fdist[w]>1500)[:10]"
   ]
  }
 ],
 "metadata": {
  "colab": {
   "collapsed_sections": [
    "Y-CM9cU_bjky"
   ],
   "name": "Week 2-3 Reddit Distant reading ANSWERS.ipynb",
   "provenance": []
  },
  "kernelspec": {
   "display_name": "Python 3",
   "language": "python",
   "name": "python3"
  },
  "language_info": {
   "codemirror_mode": {
    "name": "ipython",
    "version": 3
   },
   "file_extension": ".py",
   "mimetype": "text/x-python",
   "name": "python",
   "nbconvert_exporter": "python",
   "pygments_lexer": "ipython3",
   "version": "3.8.5"
  }
 },
 "nbformat": 4,
 "nbformat_minor": 1
}
