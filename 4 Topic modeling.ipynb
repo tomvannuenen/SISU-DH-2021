{
 "cells": [
  {
   "cell_type": "markdown",
   "metadata": {
    "colab_type": "text",
    "id": "yPgJH0CIZWyQ"
   },
   "source": [
    "# SISU Digital Humanities: Textual and Language Analysis on Social Media<br />\n",
    "### Session 3: Topic modeling\n",
    "Created by Tom van Nuenen (tom.van_nuenen@kcl.ac.uk) <br />\n"
   ]
  },
  {
   "cell_type": "markdown",
   "metadata": {
    "colab_type": "text",
    "id": "m6EAS2bBZWyR"
   },
   "source": [
    "# Topic modeling\n",
    "\n",
    "This notebook introduces topic modeling. Topic modeling is a type of statistical modeling for the discovery of abstract \"topics\" that occur in a collection of documents. It is frequently used in NLP to aid the discovery of hidden semantic structures in a collection of texts.\n",
    "\n",
    "We'll use the `Gensim` package to create our topic models, as it allows us to run tests to optimize our topic amount.\n",
    "\n",
    "After reading this notebook, you'll be able to:\n",
    "\n",
    "1. Use gensim to create topic models;\n",
    "2. Explore the topic models using PyLDAvis;\n",
    "3. Evaluate topic models using several methods."
   ]
  },
  {
   "cell_type": "code",
   "execution_count": 2,
   "metadata": {
    "colab": {
     "base_uri": "https://localhost:8080/",
     "height": 646
    },
    "colab_type": "code",
    "executionInfo": {
     "elapsed": 11869,
     "status": "ok",
     "timestamp": 1598020450895,
     "user": {
      "displayName": "Tom van Nuenen",
      "photoUrl": "https://lh3.googleusercontent.com/a-/AOh14GhtEyfMMXnweSdKHvOqheyZd6KLkXGOtz3AYYAIBA=s64",
      "userId": "10012302451096885058"
     },
     "user_tz": -180
    },
    "id": "EWlJYKM7ZWyT",
    "outputId": "4d03bbb2-bc49-4abe-edfb-e54741f4a4de"
   },
   "outputs": [
    {
     "name": "stderr",
     "output_type": "stream",
     "text": [
      "[nltk_data] Downloading package stopwords to\n",
      "[nltk_data]     /Users/tomvannuenen/nltk_data...\n",
      "[nltk_data]   Package stopwords is already up-to-date!\n"
     ]
    },
    {
     "name": "stdout",
     "output_type": "stream",
     "text": [
      "Requirement already satisfied: en_core_web_sm==2.3.1 from https://github.com/explosion/spacy-models/releases/download/en_core_web_sm-2.3.1/en_core_web_sm-2.3.1.tar.gz#egg=en_core_web_sm==2.3.1 in /Users/tomvannuenen/opt/anaconda3/lib/python3.8/site-packages (2.3.1)\n",
      "Requirement already satisfied: spacy<2.4.0,>=2.3.0 in /Users/tomvannuenen/opt/anaconda3/lib/python3.8/site-packages (from en_core_web_sm==2.3.1) (2.3.5)\n",
      "Requirement already satisfied: wasabi<1.1.0,>=0.4.0 in /Users/tomvannuenen/opt/anaconda3/lib/python3.8/site-packages (from spacy<2.4.0,>=2.3.0->en_core_web_sm==2.3.1) (0.8.0)\n",
      "Requirement already satisfied: cymem<2.1.0,>=2.0.2 in /Users/tomvannuenen/opt/anaconda3/lib/python3.8/site-packages (from spacy<2.4.0,>=2.3.0->en_core_web_sm==2.3.1) (2.0.5)\n",
      "Requirement already satisfied: tqdm<5.0.0,>=4.38.0 in /Users/tomvannuenen/opt/anaconda3/lib/python3.8/site-packages (from spacy<2.4.0,>=2.3.0->en_core_web_sm==2.3.1) (4.50.2)\n",
      "Requirement already satisfied: blis<0.8.0,>=0.4.0 in /Users/tomvannuenen/opt/anaconda3/lib/python3.8/site-packages (from spacy<2.4.0,>=2.3.0->en_core_web_sm==2.3.1) (0.7.4)\n",
      "Requirement already satisfied: preshed<3.1.0,>=3.0.2 in /Users/tomvannuenen/opt/anaconda3/lib/python3.8/site-packages (from spacy<2.4.0,>=2.3.0->en_core_web_sm==2.3.1) (3.0.5)\n",
      "Requirement already satisfied: murmurhash<1.1.0,>=0.28.0 in /Users/tomvannuenen/opt/anaconda3/lib/python3.8/site-packages (from spacy<2.4.0,>=2.3.0->en_core_web_sm==2.3.1) (1.0.5)\n",
      "Requirement already satisfied: requests<3.0.0,>=2.13.0 in /Users/tomvannuenen/opt/anaconda3/lib/python3.8/site-packages (from spacy<2.4.0,>=2.3.0->en_core_web_sm==2.3.1) (2.24.0)\n",
      "Requirement already satisfied: plac<1.2.0,>=0.9.6 in /Users/tomvannuenen/opt/anaconda3/lib/python3.8/site-packages (from spacy<2.4.0,>=2.3.0->en_core_web_sm==2.3.1) (1.1.3)\n",
      "Requirement already satisfied: catalogue<1.1.0,>=0.0.7 in /Users/tomvannuenen/opt/anaconda3/lib/python3.8/site-packages (from spacy<2.4.0,>=2.3.0->en_core_web_sm==2.3.1) (1.0.0)\n",
      "Requirement already satisfied: setuptools in /Users/tomvannuenen/opt/anaconda3/lib/python3.8/site-packages (from spacy<2.4.0,>=2.3.0->en_core_web_sm==2.3.1) (50.3.1.post20201107)\n",
      "Requirement already satisfied: numpy>=1.15.0 in /Users/tomvannuenen/opt/anaconda3/lib/python3.8/site-packages (from spacy<2.4.0,>=2.3.0->en_core_web_sm==2.3.1) (1.20.3)\n",
      "Requirement already satisfied: srsly<1.1.0,>=1.0.2 in /Users/tomvannuenen/opt/anaconda3/lib/python3.8/site-packages (from spacy<2.4.0,>=2.3.0->en_core_web_sm==2.3.1) (1.0.5)\n",
      "Requirement already satisfied: thinc<7.5.0,>=7.4.1 in /Users/tomvannuenen/opt/anaconda3/lib/python3.8/site-packages (from spacy<2.4.0,>=2.3.0->en_core_web_sm==2.3.1) (7.4.5)\n",
      "Requirement already satisfied: certifi>=2017.4.17 in /Users/tomvannuenen/opt/anaconda3/lib/python3.8/site-packages (from requests<3.0.0,>=2.13.0->spacy<2.4.0,>=2.3.0->en_core_web_sm==2.3.1) (2020.6.20)\n",
      "Requirement already satisfied: idna<3,>=2.5 in /Users/tomvannuenen/opt/anaconda3/lib/python3.8/site-packages (from requests<3.0.0,>=2.13.0->spacy<2.4.0,>=2.3.0->en_core_web_sm==2.3.1) (2.10)\n",
      "Requirement already satisfied: urllib3!=1.25.0,!=1.25.1,<1.26,>=1.21.1 in /Users/tomvannuenen/opt/anaconda3/lib/python3.8/site-packages (from requests<3.0.0,>=2.13.0->spacy<2.4.0,>=2.3.0->en_core_web_sm==2.3.1) (1.25.11)\n",
      "Requirement already satisfied: chardet<4,>=3.0.2 in /Users/tomvannuenen/opt/anaconda3/lib/python3.8/site-packages (from requests<3.0.0,>=2.13.0->spacy<2.4.0,>=2.3.0->en_core_web_sm==2.3.1) (3.0.4)\n",
      "\u001b[38;5;2m✔ Download and installation successful\u001b[0m\n",
      "You can now load the model via spacy.load('en_core_web_sm')\n",
      "Requirement already satisfied: pyLDAvis in /Users/tomvannuenen/opt/anaconda3/lib/python3.8/site-packages (3.3.1)\n",
      "Requirement already satisfied: gensim in /Users/tomvannuenen/opt/anaconda3/lib/python3.8/site-packages (from pyLDAvis) (3.8.3)\n",
      "Requirement already satisfied: future in /Users/tomvannuenen/opt/anaconda3/lib/python3.8/site-packages (from pyLDAvis) (0.18.2)\n",
      "Requirement already satisfied: jinja2 in /Users/tomvannuenen/opt/anaconda3/lib/python3.8/site-packages (from pyLDAvis) (2.11.2)\n",
      "Requirement already satisfied: numpy>=1.20.0 in /Users/tomvannuenen/opt/anaconda3/lib/python3.8/site-packages (from pyLDAvis) (1.20.3)\n",
      "Requirement already satisfied: funcy in /Users/tomvannuenen/opt/anaconda3/lib/python3.8/site-packages (from pyLDAvis) (1.16)\n",
      "Requirement already satisfied: joblib in /Users/tomvannuenen/opt/anaconda3/lib/python3.8/site-packages (from pyLDAvis) (0.17.0)\n",
      "Requirement already satisfied: setuptools in /Users/tomvannuenen/opt/anaconda3/lib/python3.8/site-packages (from pyLDAvis) (50.3.1.post20201107)\n",
      "Requirement already satisfied: pandas>=1.2.0 in /Users/tomvannuenen/opt/anaconda3/lib/python3.8/site-packages (from pyLDAvis) (1.2.4)\n",
      "Requirement already satisfied: scipy in /Users/tomvannuenen/opt/anaconda3/lib/python3.8/site-packages (from pyLDAvis) (1.5.2)\n",
      "Requirement already satisfied: numexpr in /Users/tomvannuenen/opt/anaconda3/lib/python3.8/site-packages (from pyLDAvis) (2.7.1)\n",
      "Requirement already satisfied: sklearn in /Users/tomvannuenen/opt/anaconda3/lib/python3.8/site-packages (from pyLDAvis) (0.0)\n",
      "Requirement already satisfied: scikit-learn in /Users/tomvannuenen/opt/anaconda3/lib/python3.8/site-packages (from pyLDAvis) (0.23.2)\n",
      "Requirement already satisfied: smart-open>=1.8.1 in /Users/tomvannuenen/opt/anaconda3/lib/python3.8/site-packages (from gensim->pyLDAvis) (4.1.2)\n",
      "Requirement already satisfied: six>=1.5.0 in /Users/tomvannuenen/opt/anaconda3/lib/python3.8/site-packages (from gensim->pyLDAvis) (1.15.0)\n",
      "Requirement already satisfied: MarkupSafe>=0.23 in /Users/tomvannuenen/opt/anaconda3/lib/python3.8/site-packages (from jinja2->pyLDAvis) (1.1.1)\n",
      "Requirement already satisfied: python-dateutil>=2.7.3 in /Users/tomvannuenen/opt/anaconda3/lib/python3.8/site-packages (from pandas>=1.2.0->pyLDAvis) (2.8.1)\n",
      "Requirement already satisfied: pytz>=2017.3 in /Users/tomvannuenen/opt/anaconda3/lib/python3.8/site-packages (from pandas>=1.2.0->pyLDAvis) (2020.1)\n",
      "Requirement already satisfied: threadpoolctl>=2.0.0 in /Users/tomvannuenen/opt/anaconda3/lib/python3.8/site-packages (from scikit-learn->pyLDAvis) (2.1.0)\n"
     ]
    },
    {
     "name": "stderr",
     "output_type": "stream",
     "text": [
      "/Users/tomvannuenen/opt/anaconda3/lib/python3.8/site-packages/sklearn/decomposition/_lda.py:28: DeprecationWarning: `np.float` is a deprecated alias for the builtin `float`. To silence this warning, use `float` by itself. Doing this will not modify any behavior and is safe. If you specifically wanted the numpy scalar type, use `np.float64` here.\n",
      "Deprecated in NumPy 1.20; for more details and guidance: https://numpy.org/devdocs/release/1.20.0-notes.html#deprecations\n",
      "  EPS = np.finfo(np.float).eps\n"
     ]
    }
   ],
   "source": [
    "import logging\n",
    "import string\n",
    "import os\n",
    "import pickle\n",
    "from pprint import pprint\n",
    "import re \n",
    "import numpy as np\n",
    "import pandas as pd\n",
    "from IPython.display import clear_output\n",
    "from more_itertools import chunked\n",
    "\n",
    "# NLTK\n",
    "import nltk\n",
    "nltk.download('stopwords')\n",
    "from nltk.corpus import stopwords\n",
    "\n",
    "# Gensim\n",
    "from gensim import corpora, models, similarities\n",
    "from gensim.models.coherencemodel import CoherenceModel\n",
    "from gensim.models import Word2Vec\n",
    "from gensim.utils import simple_preprocess\n",
    "import gensim\n",
    "\n",
    "# SpaCy \n",
    "import spacy\n",
    "!spacy download en_core_web_sm\n",
    "import en_core_web_sm\n",
    "nlp = en_core_web_sm.load()\n",
    "\n",
    "# Plotting tools\n",
    "!pip install pyLDAvis\n",
    "import pyLDAvis\n",
    "import pyLDAvis.gensim_models as gensimvis\n",
    "pyLDAvis.enable_notebook()\n",
    "\n",
    "import pyLDAvis\n",
    "import matplotlib.pyplot as plt\n",
    "%matplotlib inline\n",
    "\n",
    "# Logging if you want it\n",
    "import logging\n",
    "logging.basicConfig(format='%(asctime)s : %(levelname)s : %(message)s', level=logging.INFO)\n",
    "# Suppressing it should you want to\n",
    "logging.getLogger().setLevel(logging.CRITICAL)\n",
    "\n",
    "# Suppressing warnings\n",
    "import warnings\n",
    "warnings.simplefilter(\"ignore\", DeprecationWarning)\n",
    "\n",
    "#SKLearn\n",
    "from sklearn.feature_extraction.text import TfidfVectorizer, CountVectorizer\n",
    "from sklearn.decomposition import LatentDirichletAllocation\n",
    "from sklearn.feature_extraction import text\n"
   ]
  },
  {
   "cell_type": "markdown",
   "metadata": {
    "colab_type": "text",
    "id": "3-vcxhnVxhnQ"
   },
   "source": [
    "## Getting the data\n",
    "\n",
    "We'll use the same two datasets as we did in a previous notebook: comments and submissions from The Red Pill, an infamous US-based internet community on men's rights.\n",
    "\n",
    "*Trigger warning: this dataset includes a lot of misogynist language. We are expecting to find topics that reflect the problematic politics of this community.*"
   ]
  },
  {
   "cell_type": "code",
   "execution_count": null,
   "metadata": {
    "colab": {},
    "colab_type": "code",
    "executionInfo": {
     "elapsed": 1776,
     "status": "ok",
     "timestamp": 1598020455113,
     "user": {
      "displayName": "Tom van Nuenen",
      "photoUrl": "https://lh3.googleusercontent.com/a-/AOh14GhtEyfMMXnweSdKHvOqheyZd6KLkXGOtz3AYYAIBA=s64",
      "userId": "10012302451096885058"
     },
     "user_tz": -180
    },
    "id": "8jfT6806Y_PM"
   },
   "outputs": [],
   "source": [
    "trp_sub = pd.read_csv(\"data/TRP-submissions.csv\", lineterminator='\\n')\n",
    "trp_com = pd.read_csv(\"data/TRP-comments.csv\", lineterminator='\\n')"
   ]
  },
  {
   "cell_type": "code",
   "execution_count": null,
   "metadata": {},
   "outputs": [],
   "source": [
    "# OPTIONAL - use SISU MOOC data\n",
    "# df = pd.read_csv(\"data/icc3-comments.csv\", lineterminator='\\n') "
   ]
  },
  {
   "cell_type": "markdown",
   "metadata": {
    "colab_type": "text",
    "id": "I5QWQSm6Cy-M"
   },
   "source": [
    "Get rid of the empty cells in our two DataFrames using the `trp_sub[~trp_sub['selftext'].isin(['[removed]', '[deleted]' ])]` and `.dropna(subset=['selftext'])` (for the submissions DF) and `.dropna(subset=['body'])` (for the comments DF)."
   ]
  },
  {
   "cell_type": "code",
   "execution_count": null,
   "metadata": {
    "colab": {},
    "colab_type": "code",
    "executionInfo": {
     "elapsed": 952,
     "status": "ok",
     "timestamp": 1598020460580,
     "user": {
      "displayName": "Tom van Nuenen",
      "photoUrl": "https://lh3.googleusercontent.com/a-/AOh14GhtEyfMMXnweSdKHvOqheyZd6KLkXGOtz3AYYAIBA=s64",
      "userId": "10012302451096885058"
     },
     "user_tz": -180
    },
    "id": "rp0EerUcZWyc"
   },
   "outputs": [],
   "source": [
    "# Your code here\n",
    "\n",
    "trp_sub = trp_sub[~trp_sub['selftext'].isin(['[removed]', '[deleted]' ])].dropna(subset=['selftext'])\n",
    "trp_com = trp_com[~trp_com['body'].isin(['[removed]', '[deleted]' ])].dropna(subset=['body'])"
   ]
  },
  {
   "cell_type": "markdown",
   "metadata": {
    "colab_type": "text",
    "id": "Is2LLBy-ZWyf"
   },
   "source": [
    "## Concatenating submissions and comments\n",
    "\n",
    "For the topic model we're going to make, we will first concatenate the associated submissions and comments (i.e., the threads).\n",
    "\n",
    "Using the `pd.merge()` method, we can do an \"inner join\" of our two DataFrames. This is a relational database operation, which is a common operation in SQL. See [here](https://www.w3schools.com/sql/sql_join.asp) if you want to learn more. An \"inner join\" will yield a new DF which only contains those submissions that have associated comments (based on their \"idstr\" and \"parent\" values).\n",
    "\n",
    "![alt text](https://s33046.pcdn.co/wp-content/uploads/2019/06/venn-diagram-representation-of-sql-inner-join-.png)"
   ]
  },
  {
   "cell_type": "code",
   "execution_count": null,
   "metadata": {
    "colab": {},
    "colab_type": "code",
    "executionInfo": {
     "elapsed": 1193,
     "status": "ok",
     "timestamp": 1598020463695,
     "user": {
      "displayName": "Tom van Nuenen",
      "photoUrl": "https://lh3.googleusercontent.com/a-/AOh14GhtEyfMMXnweSdKHvOqheyZd6KLkXGOtz3AYYAIBA=s64",
      "userId": "10012302451096885058"
     },
     "user_tz": -180
    },
    "id": "iRxPpwrYZWyg"
   },
   "outputs": [],
   "source": [
    "# merge DF based on idstr and parent\n",
    "trp_t = pd.merge(trp_sub, trp_com, how='inner', left_on='idstr', right_on='parent')"
   ]
  },
  {
   "cell_type": "markdown",
   "metadata": {
    "colab_type": "text",
    "id": "XFlVeoi8_cfP"
   },
   "source": [
    "We now have a DataFrame containing all original posts / submissions, *and* the comments associated with this original post! Note that this yields a lot of rows with the same \"selftext\" value (as lots of comments refer to the same original post).\n",
    "\n",
    "Also note that this operations has changed the names of the columns: we now have \"x\" and \"y\" columns based on the original DataFrame we took the data from. \"idstr_x\", for instance, refers to the \"idstr\" column from the `trp_sub` DataFrame."
   ]
  },
  {
   "cell_type": "code",
   "execution_count": null,
   "metadata": {
    "colab": {
     "base_uri": "https://localhost:8080/",
     "height": 547
    },
    "colab_type": "code",
    "executionInfo": {
     "elapsed": 893,
     "status": "ok",
     "timestamp": 1598020464062,
     "user": {
      "displayName": "Tom van Nuenen",
      "photoUrl": "https://lh3.googleusercontent.com/a-/AOh14GhtEyfMMXnweSdKHvOqheyZd6KLkXGOtz3AYYAIBA=s64",
      "userId": "10012302451096885058"
     },
     "user_tz": -180
    },
    "id": "jIy7dsHOZWyo",
    "outputId": "41afe132-89f7-48aa-fbce-6b1bde87af94"
   },
   "outputs": [],
   "source": [
    "trp_t.head()"
   ]
  },
  {
   "cell_type": "markdown",
   "metadata": {
    "colab_type": "text",
    "id": "dd8xZRYtZWys"
   },
   "source": [
    "Now, let's iterate over our merged DataFrame and group all associated submissions and comments together. \n",
    "- We first create an empty dictionary.\n",
    "- We then iterate over our DataFrame using the Pandas `.iterrows()` method, which allows us to iterate over rows in a DataFrame in a for-loop. It yields a tuple consisting of the index and the row.\n",
    "- `If` the \"idstr_x\" column does not yet exist in the keys of our new dictionary, add it. As the value, add the \"selftext\" (i.e., the original post) and \"body\" (i.e., the first comment) columns.\n",
    "- `Else`, if we have the key already, only add the \"body\" column (i.e., the comment). "
   ]
  },
  {
   "cell_type": "code",
   "execution_count": null,
   "metadata": {
    "colab": {},
    "colab_type": "code",
    "executionInfo": {
     "elapsed": 982,
     "status": "ok",
     "timestamp": 1598020469325,
     "user": {
      "displayName": "Tom van Nuenen",
      "photoUrl": "https://lh3.googleusercontent.com/a-/AOh14GhtEyfMMXnweSdKHvOqheyZd6KLkXGOtz3AYYAIBA=s64",
      "userId": "10012302451096885058"
     },
     "user_tz": -180
    },
    "id": "WtPigWETZWyt"
   },
   "outputs": [],
   "source": [
    "data_d = {}\n",
    "for i, r in trp_t.iterrows():\n",
    "    if r.idstr_x not in data_d.keys():\n",
    "        data_d[r.idstr_x] = [r.selftext, r.body]    \n",
    "    else:\n",
    "        data_d[r.idstr_x].append(r.body)    "
   ]
  },
  {
   "cell_type": "code",
   "execution_count": null,
   "metadata": {
    "colab": {
     "base_uri": "https://localhost:8080/",
     "height": 88
    },
    "colab_type": "code",
    "executionInfo": {
     "elapsed": 1094,
     "status": "ok",
     "timestamp": 1598020469720,
     "user": {
      "displayName": "Tom van Nuenen",
      "photoUrl": "https://lh3.googleusercontent.com/a-/AOh14GhtEyfMMXnweSdKHvOqheyZd6KLkXGOtz3AYYAIBA=s64",
      "userId": "10012302451096885058"
     },
     "user_tz": -180
    },
    "id": "_VDa2iCXZWyw",
    "outputId": "b93a7b6d-c04a-4f96-ef23-bf18b0528e44"
   },
   "outputs": [],
   "source": [
    "# See if it works\n",
    "data_d['t3_3n0dg0']"
   ]
  },
  {
   "cell_type": "markdown",
   "metadata": {
    "colab_type": "text",
    "id": "VPBDsQnhZWy5"
   },
   "source": [
    "Finally, we'll join the items in each of the values in our `dict` and put that in a list:"
   ]
  },
  {
   "cell_type": "code",
   "execution_count": null,
   "metadata": {
    "colab": {},
    "colab_type": "code",
    "executionInfo": {
     "elapsed": 883,
     "status": "ok",
     "timestamp": 1598020471831,
     "user": {
      "displayName": "Tom van Nuenen",
      "photoUrl": "https://lh3.googleusercontent.com/a-/AOh14GhtEyfMMXnweSdKHvOqheyZd6KLkXGOtz3AYYAIBA=s64",
      "userId": "10012302451096885058"
     },
     "user_tz": -180
    },
    "id": "ObyRYw--ZWy6"
   },
   "outputs": [],
   "source": [
    "data = ['\\n'.join(thread) for thread in data_d.values()]"
   ]
  },
  {
   "cell_type": "markdown",
   "metadata": {
    "colab_type": "text",
    "id": "X-Vy6u-1ZWy9"
   },
   "source": [
    "## Preprocessing\n",
    "\n",
    "First, let's get rid of the newlines. Iterate over each text in our `data` list, and use string replacements or RegEx to remove the newlines."
   ]
  },
  {
   "cell_type": "code",
   "execution_count": 4,
   "metadata": {
    "colab": {},
    "colab_type": "code",
    "executionInfo": {
     "elapsed": 823,
     "status": "ok",
     "timestamp": 1598020472988,
     "user": {
      "displayName": "Tom van Nuenen",
      "photoUrl": "https://lh3.googleusercontent.com/a-/AOh14GhtEyfMMXnweSdKHvOqheyZd6KLkXGOtz3AYYAIBA=s64",
      "userId": "10012302451096885058"
     },
     "user_tz": -180
    },
    "id": "X77T7js3ZWy-"
   },
   "outputs": [],
   "source": [
    "# Your code here\n",
    "\n",
    "data = [re.sub(r'\\s+', ' ', txt) for txt in data]\n",
    "data = [txt.replace('\\n', ' ') for txt in data]\n",
    "\n",
    "#data = [re.sub(r'\\s+', ' ', txt) for txt in df.text]\n",
    "#data = [txt.replace('\\n', ' ') for txt in df.text]\n"
   ]
  },
  {
   "cell_type": "markdown",
   "metadata": {
    "colab_type": "text",
    "id": "6HGhm613ZWzB"
   },
   "source": [
    "Time to tokenize. Let's use Gensim's `simple_preprocess()` method this time. If you haven't seen `yield` before, it is used in what's called a generator function. This is simply a function that iterates, instead of only returning something once.\n",
    "\n",
    "`Return` sends a specified value back to its caller whereas `yield` can produce a sequence of values. We should use `yield` when we want to iterate over a sequence, but don’t want to store the entire sequence in memory."
   ]
  },
  {
   "cell_type": "code",
   "execution_count": 6,
   "metadata": {
    "colab": {},
    "colab_type": "code",
    "executionInfo": {
     "elapsed": 1682,
     "status": "ok",
     "timestamp": 1598020476188,
     "user": {
      "displayName": "Tom van Nuenen",
      "photoUrl": "https://lh3.googleusercontent.com/a-/AOh14GhtEyfMMXnweSdKHvOqheyZd6KLkXGOtz3AYYAIBA=s64",
      "userId": "10012302451096885058"
     },
     "user_tz": -180
    },
    "id": "4asuvP-EZWzB"
   },
   "outputs": [],
   "source": [
    "def tokenizer(texts):\n",
    "    for text in texts:\n",
    "        yield(gensim.utils.simple_preprocess(text, deacc=True))\n",
    "\n",
    "tokens_list = list(tokenizer(data))"
   ]
  },
  {
   "cell_type": "markdown",
   "metadata": {
    "colab_type": "text",
    "id": "eMfGtJvuCDkd"
   },
   "source": [
    "How many threads do we have?"
   ]
  },
  {
   "cell_type": "code",
   "execution_count": 7,
   "metadata": {
    "colab": {
     "base_uri": "https://localhost:8080/",
     "height": 34
    },
    "colab_type": "code",
    "executionInfo": {
     "elapsed": 1198,
     "status": "ok",
     "timestamp": 1598020492892,
     "user": {
      "displayName": "Tom van Nuenen",
      "photoUrl": "https://lh3.googleusercontent.com/a-/AOh14GhtEyfMMXnweSdKHvOqheyZd6KLkXGOtz3AYYAIBA=s64",
      "userId": "10012302451096885058"
     },
     "user_tz": -180
    },
    "id": "D-M4m-gjZWzJ",
    "outputId": "e7198300-10c7-4f1e-d0cd-09b36553f9e4"
   },
   "outputs": [
    {
     "data": {
      "text/plain": [
       "16438"
      ]
     },
     "execution_count": 7,
     "metadata": {},
     "output_type": "execute_result"
    }
   ],
   "source": [
    "len(tokens_list)"
   ]
  },
  {
   "cell_type": "code",
   "execution_count": 8,
   "metadata": {
    "colab": {
     "base_uri": "https://localhost:8080/",
     "height": 187
    },
    "colab_type": "code",
    "executionInfo": {
     "elapsed": 979,
     "status": "ok",
     "timestamp": 1598020518034,
     "user": {
      "displayName": "Tom van Nuenen",
      "photoUrl": "https://lh3.googleusercontent.com/a-/AOh14GhtEyfMMXnweSdKHvOqheyZd6KLkXGOtz3AYYAIBA=s64",
      "userId": "10012302451096885058"
     },
     "user_tz": -180
    },
    "id": "lQAM5k2ccZwO",
    "outputId": "8b654b33-c4de-47f1-a42a-42cf0a2acb8c"
   },
   "outputs": [
    {
     "data": {
      "text/plain": [
       "['our',\n",
       " 'educator',\n",
       " 'and',\n",
       " 'mentor',\n",
       " 'team',\n",
       " 'is',\n",
       " 'eager',\n",
       " 'to',\n",
       " 'know',\n",
       " 'what']"
      ]
     },
     "execution_count": 8,
     "metadata": {},
     "output_type": "execute_result"
    }
   ],
   "source": [
    "tokens_list[1][:10]"
   ]
  },
  {
   "cell_type": "markdown",
   "metadata": {
    "colab_type": "text",
    "id": "q557UWH4CL9k"
   },
   "source": [
    "And how many tokens in total?"
   ]
  },
  {
   "cell_type": "code",
   "execution_count": 9,
   "metadata": {
    "colab": {
     "base_uri": "https://localhost:8080/",
     "height": 34
    },
    "colab_type": "code",
    "executionInfo": {
     "elapsed": 5434,
     "status": "ok",
     "timestamp": 1595503715024,
     "user": {
      "displayName": "Tom van Nuenen",
      "photoUrl": "https://lh3.googleusercontent.com/a-/AOh14GhtEyfMMXnweSdKHvOqheyZd6KLkXGOtz3AYYAIBA=s64",
      "userId": "10012302451096885058"
     },
     "user_tz": -180
    },
    "id": "_COVyrIrZWzM",
    "outputId": "d50679b3-ee37-4863-dff7-551aad5e7221"
   },
   "outputs": [
    {
     "data": {
      "text/plain": [
       "940882"
      ]
     },
     "execution_count": 9,
     "metadata": {},
     "output_type": "execute_result"
    }
   ],
   "source": [
    "counter = 0\n",
    "for each in tokens_list:\n",
    "    counter += len(each)\n",
    "counter"
   ]
  },
  {
   "cell_type": "code",
   "execution_count": 10,
   "metadata": {
    "colab": {
     "base_uri": "https://localhost:8080/",
     "height": 187
    },
    "colab_type": "code",
    "executionInfo": {
     "elapsed": 1355,
     "status": "ok",
     "timestamp": 1595504209240,
     "user": {
      "displayName": "Tom van Nuenen",
      "photoUrl": "https://lh3.googleusercontent.com/a-/AOh14GhtEyfMMXnweSdKHvOqheyZd6KLkXGOtz3AYYAIBA=s64",
      "userId": "10012302451096885058"
     },
     "user_tz": -180
    },
    "id": "FNwkfAV6dd0Z",
    "outputId": "9738582c-3bed-462a-8871-608a1a4b57fa"
   },
   "outputs": [
    {
     "data": {
      "text/plain": [
       "['our',\n",
       " 'educator',\n",
       " 'and',\n",
       " 'mentor',\n",
       " 'team',\n",
       " 'is',\n",
       " 'eager',\n",
       " 'to',\n",
       " 'know',\n",
       " 'what']"
      ]
     },
     "execution_count": 10,
     "metadata": {},
     "output_type": "execute_result"
    }
   ],
   "source": [
    "tokens_list[1][:10]"
   ]
  },
  {
   "cell_type": "markdown",
   "metadata": {
    "colab_type": "text",
    "id": "BMY-0LlAZWzP"
   },
   "source": [
    "### Creating N-grams with Gensim\n",
    "\n",
    "Topic modeling – as well as many other kinds of NLP methods – works better when using N-grams, as this allows words that frequently appearing together to be concatenated (e.g. \"red pill\" means something different than \"red\" and \"pill\" separately).\n",
    "\n",
    "Gensim’s `Phrases` model implements bigrams, trigrams, quadgrams, etc. \n",
    "\n",
    "`Phrases` detects phrases based on collocation counts. It builds a model of input text that you then can use on other data.\n",
    "\n",
    "Gensim detects a bigram if a scoring function for two words exceeds a threshold. The two important arguments to `Phrases` are `min_count` and `threshold`. The higher the values of these parameters, the harder it is for words to be combined to bigrams."
   ]
  },
  {
   "cell_type": "code",
   "execution_count": 11,
   "metadata": {
    "colab": {
     "base_uri": "https://localhost:8080/",
     "height": 51
    },
    "colab_type": "code",
    "executionInfo": {
     "elapsed": 6330,
     "status": "ok",
     "timestamp": 1598020535504,
     "user": {
      "displayName": "Tom van Nuenen",
      "photoUrl": "https://lh3.googleusercontent.com/a-/AOh14GhtEyfMMXnweSdKHvOqheyZd6KLkXGOtz3AYYAIBA=s64",
      "userId": "10012302451096885058"
     },
     "user_tz": -180
    },
    "id": "ik3uEPOHZWzP",
    "outputId": "6d43b5b9-febb-4a7e-994a-e2584abc88d6"
   },
   "outputs": [],
   "source": [
    "# Build bigram and trigram models\n",
    "# min_count = min amount of tokens/bigrams in corpus. Threshold = score-based; higher = fewer phrases.\n",
    "bigram = gensim.models.Phrases(tokens_list, min_count=5, threshold=100)\n",
    "trigram = gensim.models.Phrases(bigram[tokens_list], threshold=100)  \n",
    "\n",
    "# `Phraser` must be built from an initial `Phrases` instance. \n",
    "# It then works faster while using much less memory. See https://radimrehurek.com/gensim/models/phrases.html\n",
    "bigram_mod = gensim.models.phrases.Phraser(bigram)\n",
    "trigram_mod = gensim.models.phrases.Phraser(trigram)"
   ]
  },
  {
   "cell_type": "markdown",
   "metadata": {
    "colab_type": "text",
    "id": "R9TugyIlZWze"
   },
   "source": [
    "### Stopwords removal, bigrams, lemmatization \n",
    "Let's define some functions for stopword removal, making bigrams and trigrams, and lemmatization (we will use SpaCy for the latter - see [here](https://spacy.io/api/annotation) for more info).\n"
   ]
  },
  {
   "cell_type": "code",
   "execution_count": 12,
   "metadata": {
    "colab": {},
    "colab_type": "code",
    "executionInfo": {
     "elapsed": 755,
     "status": "ok",
     "timestamp": 1598020535508,
     "user": {
      "displayName": "Tom van Nuenen",
      "photoUrl": "https://lh3.googleusercontent.com/a-/AOh14GhtEyfMMXnweSdKHvOqheyZd6KLkXGOtz3AYYAIBA=s64",
      "userId": "10012302451096885058"
     },
     "user_tz": -180
    },
    "id": "4xR2v6tBZWzf"
   },
   "outputs": [],
   "source": [
    "# prepare stopwords\n",
    "stop = set(stopwords.words('english') + ['’', '“', '”', 'nbsp', 'http'])"
   ]
  },
  {
   "cell_type": "code",
   "execution_count": 13,
   "metadata": {
    "colab": {},
    "colab_type": "code",
    "executionInfo": {
     "elapsed": 846,
     "status": "ok",
     "timestamp": 1598020535852,
     "user": {
      "displayName": "Tom van Nuenen",
      "photoUrl": "https://lh3.googleusercontent.com/a-/AOh14GhtEyfMMXnweSdKHvOqheyZd6KLkXGOtz3AYYAIBA=s64",
      "userId": "10012302451096885058"
     },
     "user_tz": -180
    },
    "id": "cbifDFG3ZWzi"
   },
   "outputs": [],
   "source": [
    "# Define functions for stopwords, bigrams, trigrams and lemmatization\n",
    "def remove_stopwords(texts):\n",
    "    return [[word for word in doc if word not in stop] for doc in texts]\n",
    "      \n",
    "def make_bigrams(texts):\n",
    "    return [bigram_mod[doc] for doc in texts]\n",
    "\n",
    "def make_trigrams(texts):\n",
    "    return [trigram_mod[bigram_mod[doc]] for doc in texts]\n",
    "\n",
    "def lemmatization(texts, allowed_postags=['NOUN']):\n",
    "    \"\"\"https://spacy.io/api/annotation\"\"\"\n",
    "    texts_out = []\n",
    "    for doc in texts:\n",
    "        joined = nlp(\" \".join(doc)) \n",
    "        texts_out.append([token.lemma_ for token in joined if token.pos_ in allowed_postags])\n",
    "    return texts_out"
   ]
  },
  {
   "cell_type": "code",
   "execution_count": 14,
   "metadata": {
    "colab": {},
    "colab_type": "code",
    "executionInfo": {
     "elapsed": 11485,
     "status": "ok",
     "timestamp": 1598020547873,
     "user": {
      "displayName": "Tom van Nuenen",
      "photoUrl": "https://lh3.googleusercontent.com/a-/AOh14GhtEyfMMXnweSdKHvOqheyZd6KLkXGOtz3AYYAIBA=s64",
      "userId": "10012302451096885058"
     },
     "user_tz": -180
    },
    "id": "NHm2CiAiZWzl"
   },
   "outputs": [],
   "source": [
    "# Remove stopwords\n",
    "tokens_no_stops = remove_stopwords(tokens_list)\n",
    "\n",
    "# Form trigrams\n",
    "trigrams = make_trigrams(tokens_no_stops)\n",
    "\n",
    "# Do lemmatization \n",
    "lemmas = lemmatization(trigrams)\n"
   ]
  },
  {
   "cell_type": "code",
   "execution_count": 15,
   "metadata": {
    "colab": {
     "base_uri": "https://localhost:8080/",
     "height": 187
    },
    "colab_type": "code",
    "executionInfo": {
     "elapsed": 9483,
     "status": "ok",
     "timestamp": 1598020547874,
     "user": {
      "displayName": "Tom van Nuenen",
      "photoUrl": "https://lh3.googleusercontent.com/a-/AOh14GhtEyfMMXnweSdKHvOqheyZd6KLkXGOtz3AYYAIBA=s64",
      "userId": "10012302451096885058"
     },
     "user_tz": -180
    },
    "id": "4Z4sSSibe4Cj",
    "outputId": "e8a3d291-f8f0-47df-ddee-4333dde57279"
   },
   "outputs": [
    {
     "data": {
      "text/plain": [
       "['educator', 'hope', 'course', 'hope', 'goal']"
      ]
     },
     "execution_count": 15,
     "metadata": {},
     "output_type": "execute_result"
    }
   ],
   "source": [
    "lemmas[1][:10]"
   ]
  },
  {
   "cell_type": "markdown",
   "metadata": {
    "colab_type": "text",
    "id": "rVgem81TZWzu"
   },
   "source": [
    "### Pickling\n",
    "We've done a lot of work, so let's save this object in a pickle. Any object in Python can be pickled so that it can be saved on disk (or in this case, a virtual disk). What pickle does is that it “serializes” the object first before writing it to file. Pickling is a way to convert a python object (list, dict, etc.) into a character stream. The idea is that this character stream contains all the information necessary to reconstruct the object in another python script – or to fetch it at a later time when you don't want to do the computing work all over again.\n",
    "\n",
    "Note that when pickling, you can use any file extension name you want."
   ]
  },
  {
   "cell_type": "code",
   "execution_count": null,
   "metadata": {
    "colab": {},
    "colab_type": "code",
    "id": "Ruq5zrEvZWzv"
   },
   "outputs": [],
   "source": [
    "# Save to disk\n",
    "with open(\"TRP_nouns.text\", \"wb\") as docP: \n",
    "    pickle.dump(lemmas, docP)"
   ]
  },
  {
   "cell_type": "code",
   "execution_count": null,
   "metadata": {
    "colab": {
     "base_uri": "https://localhost:8080/",
     "height": 34
    },
    "colab_type": "code",
    "executionInfo": {
     "elapsed": 4393,
     "status": "ok",
     "timestamp": 1595504543384,
     "user": {
      "displayName": "Tom van Nuenen",
      "photoUrl": "https://lh3.googleusercontent.com/a-/AOh14GhtEyfMMXnweSdKHvOqheyZd6KLkXGOtz3AYYAIBA=s64",
      "userId": "10012302451096885058"
     },
     "user_tz": -180
    },
    "id": "nFYnd6p9eyoY",
    "outputId": "bee46b5a-c71b-459b-bb32-5d22b4a0bfbc"
   },
   "outputs": [],
   "source": [
    "!ls"
   ]
  },
  {
   "cell_type": "code",
   "execution_count": null,
   "metadata": {
    "colab": {},
    "colab_type": "code",
    "id": "04ELm1XGeyLc"
   },
   "outputs": [],
   "source": [
    "# should you want to load in the pickle we just saved:\n",
    "with open(\"TRP_nouns.text\", \"rb\") as docP: \n",
    "    lemmas = pickle.load(docP)"
   ]
  },
  {
   "cell_type": "markdown",
   "metadata": {
    "colab_type": "text",
    "id": "BNmgAQEoZWzx"
   },
   "source": [
    "## Creating a `Dictionary` with Gensim\n",
    "\n",
    "Now, let's create our gensim dictionary - a mapping of each word to a unique id. \n",
    "It will be used to create a `Corpus` object, which is gensim’s equivalent of a Document-Term matrix."
   ]
  },
  {
   "cell_type": "code",
   "execution_count": 16,
   "metadata": {
    "colab": {},
    "colab_type": "code",
    "executionInfo": {
     "elapsed": 1167,
     "status": "ok",
     "timestamp": 1598020624259,
     "user": {
      "displayName": "Tom van Nuenen",
      "photoUrl": "https://lh3.googleusercontent.com/a-/AOh14GhtEyfMMXnweSdKHvOqheyZd6KLkXGOtz3AYYAIBA=s64",
      "userId": "10012302451096885058"
     },
     "user_tz": -180
    },
    "id": "v5U9p6rrZWzy"
   },
   "outputs": [],
   "source": [
    "# Create Dictionary \n",
    "dictionary = corpora.Dictionary(lemmas)\n",
    "\n",
    "# Create Corpus, i.e. Document-Term Matrix\n",
    "corpus = [dictionary.doc2bow(text) for text in lemmas]"
   ]
  },
  {
   "cell_type": "code",
   "execution_count": null,
   "metadata": {
    "colab": {
     "base_uri": "https://localhost:8080/",
     "height": 34
    },
    "colab_type": "code",
    "executionInfo": {
     "elapsed": 671,
     "status": "ok",
     "timestamp": 1598020755447,
     "user": {
      "displayName": "Tom van Nuenen",
      "photoUrl": "https://lh3.googleusercontent.com/a-/AOh14GhtEyfMMXnweSdKHvOqheyZd6KLkXGOtz3AYYAIBA=s64",
      "userId": "10012302451096885058"
     },
     "user_tz": -180
    },
    "id": "1137g7AVdZDG",
    "outputId": "47cfd087-eb4e-4e78-e80c-3effad3da9cb"
   },
   "outputs": [],
   "source": [
    "dictionary"
   ]
  },
  {
   "cell_type": "markdown",
   "metadata": {
    "colab_type": "text",
    "id": "Vjopps2qZWz0"
   },
   "source": [
    "*Note that Gensim allows you to run the `.add_documents` method that will append additional documents to your `dictionary`, if you need to.*"
   ]
  },
  {
   "cell_type": "markdown",
   "metadata": {
    "colab_type": "text",
    "id": "mYZAQn44ZWz1"
   },
   "source": [
    "Let's view some of the corpus we have now:"
   ]
  },
  {
   "cell_type": "code",
   "execution_count": null,
   "metadata": {
    "colab": {
     "base_uri": "https://localhost:8080/",
     "height": 34
    },
    "colab_type": "code",
    "executionInfo": {
     "elapsed": 935,
     "status": "ok",
     "timestamp": 1598020669113,
     "user": {
      "displayName": "Tom van Nuenen",
      "photoUrl": "https://lh3.googleusercontent.com/a-/AOh14GhtEyfMMXnweSdKHvOqheyZd6KLkXGOtz3AYYAIBA=s64",
      "userId": "10012302451096885058"
     },
     "user_tz": -180
    },
    "id": "9h7h3ms4ZWz1",
    "outputId": "74d2d4da-bdec-422d-c459-9643f3cbaab3"
   },
   "outputs": [],
   "source": [
    "print(corpus[0][:10])"
   ]
  },
  {
   "cell_type": "markdown",
   "metadata": {
    "colab_type": "text",
    "id": "eXRXTfMgZW0A"
   },
   "source": [
    "Observe the first 10 tuples above. Each consists of words with a unique id. This a mapping of (word_id, word_frequency). For example, (0, 1) above demonstrates that word id 0 occurs once in the first document. Word id 5 occurs 4 times, and so on. This is used as the input by the LDA model.\n",
    "\n",
    "If you want to see what word a given id corresponds to, pass the id as a key to the dictionary."
   ]
  },
  {
   "cell_type": "code",
   "execution_count": null,
   "metadata": {
    "colab": {
     "base_uri": "https://localhost:8080/",
     "height": 35
    },
    "colab_type": "code",
    "executionInfo": {
     "elapsed": 836,
     "status": "ok",
     "timestamp": 1598020696293,
     "user": {
      "displayName": "Tom van Nuenen",
      "photoUrl": "https://lh3.googleusercontent.com/a-/AOh14GhtEyfMMXnweSdKHvOqheyZd6KLkXGOtz3AYYAIBA=s64",
      "userId": "10012302451096885058"
     },
     "user_tz": -180
    },
    "id": "0pKC0MBiZW0A",
    "outputId": "b055953b-2856-4584-fb9b-7da13a0020cd"
   },
   "outputs": [],
   "source": [
    "dictionary[5]"
   ]
  },
  {
   "cell_type": "markdown",
   "metadata": {
    "colab_type": "text",
    "id": "QNr34ffPZW0D"
   },
   "source": [
    "And if you want to see the associated id for some word:"
   ]
  },
  {
   "cell_type": "code",
   "execution_count": null,
   "metadata": {
    "colab": {
     "base_uri": "https://localhost:8080/",
     "height": 34
    },
    "colab_type": "code",
    "executionInfo": {
     "elapsed": 938,
     "status": "ok",
     "timestamp": 1598020699425,
     "user": {
      "displayName": "Tom van Nuenen",
      "photoUrl": "https://lh3.googleusercontent.com/a-/AOh14GhtEyfMMXnweSdKHvOqheyZd6KLkXGOtz3AYYAIBA=s64",
      "userId": "10012302451096885058"
     },
     "user_tz": -180
    },
    "id": "dNhZ-fZ4ZW0D",
    "outputId": "90c87970-e5ea-459e-d829-8791af6f04f2"
   },
   "outputs": [],
   "source": [
    "dictionary.token2id['advance']"
   ]
  },
  {
   "cell_type": "markdown",
   "metadata": {
    "colab_type": "text",
    "id": "uep-_3ImZW0S"
   },
   "source": [
    "## Running an LDA model\n",
    "\n",
    "Now, let's run a Gensim LDA model:"
   ]
  },
  {
   "cell_type": "code",
   "execution_count": 21,
   "metadata": {
    "colab": {},
    "colab_type": "code",
    "executionInfo": {
     "elapsed": 8663,
     "status": "ok",
     "timestamp": 1598020709803,
     "user": {
      "displayName": "Tom van Nuenen",
      "photoUrl": "https://lh3.googleusercontent.com/a-/AOh14GhtEyfMMXnweSdKHvOqheyZd6KLkXGOtz3AYYAIBA=s64",
      "userId": "10012302451096885058"
     },
     "user_tz": -180
    },
    "id": "5ZPAUhOIZW0T"
   },
   "outputs": [],
   "source": [
    "## Build LDA model. Make sure to play around with chunksize and passes and check if coherence score changes a lot.\n",
    "\n",
    "lda_model = gensim.models.ldamodel.LdaModel(corpus=corpus,\n",
    "                                           id2word=dictionary,\n",
    "                                           num_topics=5, \n",
    "                                           random_state=100,\n",
    "                                           # eval_every = 20, # this is evaluation, perplexity\n",
    "                                           update_every=1,\n",
    "                                           chunksize=500,\n",
    "                                           passes=10,\n",
    "                                           alpha='auto',\n",
    "                                           per_word_topics=True)"
   ]
  },
  {
   "cell_type": "markdown",
   "metadata": {
    "colab_type": "text",
    "id": "JWRO12UXZW0d"
   },
   "source": [
    "## Visualizing the model\n",
    "\n",
    "Let's try to evaluate our topics. First, we can visualize our topics using pyLDAvis. A \"good\" topic model produces non-overlapping, fairly large bubbles, which should be scattered throughout the chart instead of being clustered in one quadrant. A model with too many topics will typically have many overlaps, small sized bubbles clustered in one region of the chart. **This is the first way in which you can evaluate your topic models**."
   ]
  },
  {
   "cell_type": "code",
   "execution_count": 22,
   "metadata": {
    "colab": {
     "base_uri": "https://localhost:8080/",
     "height": 861
    },
    "colab_type": "code",
    "executionInfo": {
     "elapsed": 10193,
     "status": "ok",
     "timestamp": 1598020723457,
     "user": {
      "displayName": "Tom van Nuenen",
      "photoUrl": "https://lh3.googleusercontent.com/a-/AOh14GhtEyfMMXnweSdKHvOqheyZd6KLkXGOtz3AYYAIBA=s64",
      "userId": "10012302451096885058"
     },
     "user_tz": -180
    },
    "id": "Aze6E-0ZZW0e",
    "outputId": "139d1f7a-db03-4281-bf1c-cb0c253c4d0e",
    "scrolled": false
   },
   "outputs": [
    {
     "data": {
      "text/html": [
       "\n",
       "<link rel=\"stylesheet\" type=\"text/css\" href=\"https://cdn.jsdelivr.net/gh/bmabey/pyLDAvis@3.3.1/pyLDAvis/js/ldavis.v1.0.0.css\">\n",
       "\n",
       "\n",
       "<div id=\"ldavis_el80891140670040122416224370332\"></div>\n",
       "<script type=\"text/javascript\">\n",
       "\n",
       "var ldavis_el80891140670040122416224370332_data = {\"mdsDat\": {\"x\": [-0.2950980208283009, -0.20666304030597127, 0.1776469184387, 0.1514706499676815, 0.1726434927278907], \"y\": [0.26615331319201196, -0.32792130951939863, 0.048123690357571206, 0.0062591869421995084, 0.007385119027615714], \"topics\": [1, 2, 3, 4, 5], \"cluster\": [1, 1, 1, 1, 1], \"Freq\": [36.73873573260955, 32.48644034571907, 12.269898162388674, 9.749755892020822, 8.755169867261886]}, \"tinfo\": {\"Term\": [\"culture\", \"people\", \"time\", \"course\", \"friend\", \"value\", \"group\", \"communication\", \"way\", \"country\", \"identity\", \"week\", \"other\", \"life\", \"thing\", \"thank\", \"silence\", \"lot\", \"family\", \"person\", \"language\", \"experience\", \"space\", \"story\", \"difference\", \"place\", \"year\", \"society\", \"day\", \"world\", \"value\", \"communication\", \"way\", \"other\", \"difference\", \"relationship\", \"style\", \"respect\", \"point\", \"environment\", \"idea\", \"word\", \"process\", \"type\", \"question\", \"context\", \"article\", \"task\", \"concept\", \"aspect\", \"view\", \"understanding\", \"dimension\", \"attitude\", \"behavior\", \"feeling\", \"level\", \"term\", \"thought\", \"knowledge\", \"culture\", \"person\", \"mind\", \"problem\", \"use\", \"thing\", \"comment\", \"situation\", \"case\", \"example\", \"opinion\", \"change\", \"shock\", \"country\", \"life\", \"family\", \"lot\", \"place\", \"year\", \"day\", \"food\", \"home\", \"love\", \"fact\", \"reason\", \"school\", \"city\", \"job\", \"month\", \"contact\", \"bit\", \"interest\", \"end\", \"tradition\", \"matter\", \"theory\", \"colleague\", \"habit\", \"university\", \"responsibility\", \"music\", \"language\", \"travel\", \"people\", \"time\", \"activity\", \"world\", \"student\", \"part\", \"help\", \"experience\", \"parent\", \"talk\", \"work\", \"shock\", \"side\", \"study\", \"group\", \"identity\", \"thank\", \"story\", \"society\", \"history\", \"rule\", \"perception\", \"community\", \"distance\", \"religion\", \"role\", \"line\", \"child\", \"individual\", \"today\", \"choice\", \"generation\", \"model\", \"exercise\", \"member\", \"freedom\", \"mother\", \"position\", \"education\", \"money\", \"degree\", \"development\", \"daughter\", \"adjustment\", \"age\", \"system\", \"space\", \"conversation\", \"hand\", \"woman\", \"man\", \"meeting\", \"expectation\", \"plan\", \"stress\", \"phone\", \"individualism\", \"calendar\", \"touch\", \"appointment\", \"hour\", \"orientation\", \"lack\", \"collectivism\", \"stranger\", \"schedule\", \"table\", \"dinner\", \"try\", \"kindness\", \"meet\", \"tip\", \"notice\", \"setting\", \"mindfulness\", \"mistake\", \"friend\", \"list\", \"encounter\", \"course\", \"silence\", \"teacher\", \"step\", \"form\", \"think\", \"conflict\", \"research\", \"tool\", \"week\", \"class\", \"factor\", \"team\", \"note\", \"goal\", \"practice\", \"answer\", \"hope\", \"paper\", \"assignment\", \"future\", \"observation\", \"harmony\", \"heart\", \"name\", \"learner\", \"decision\", \"feedback\", \"definition\", \"poem\"], \"Freq\": [6258.0, 5980.0, 4264.0, 1520.0, 1308.0, 2889.0, 1228.0, 2286.0, 2277.0, 1818.0, 885.0, 763.0, 1706.0, 1502.0, 2267.0, 681.0, 579.0, 1248.0, 1206.0, 1419.0, 1170.0, 1646.0, 500.0, 527.0, 1110.0, 941.0, 936.0, 482.0, 837.0, 875.0, 2889.0732392737104, 2286.087583691965, 2276.7334150353677, 1705.587166336504, 1109.7847124404389, 811.568883946416, 795.9757388324115, 687.3878547981884, 597.9502884003647, 585.6342026675391, 561.8551685875858, 553.3580427980639, 551.9523098397012, 534.3756608608707, 539.9121914293991, 491.29168212415794, 447.702093759961, 409.56335571131643, 394.0080336823388, 370.9190681195165, 366.3541311910635, 361.64288892179957, 357.03496165603644, 340.8983237451918, 319.3161830240647, 317.81906180148286, 320.02634974920437, 308.9125814793346, 305.12252209821986, 342.50594004857504, 6242.174866402321, 1408.6701206954463, 646.9988685066768, 490.36193721914407, 490.97726083115435, 2103.0803314309164, 460.3987836740462, 993.169321731182, 573.6616791272214, 674.735777498293, 392.78120181320185, 414.711981852627, 428.431096749016, 1817.798442848818, 1501.978704602041, 1205.573169182574, 1247.1198076306332, 941.0529156557097, 935.4824564191478, 836.3327874252725, 658.6393031644068, 453.46282877106546, 392.5505482394751, 354.32957692142173, 308.6217768397555, 291.86627473432753, 277.27953582479125, 278.0476881590931, 257.18654518291237, 242.79428833311547, 238.5934120868449, 237.14907530388763, 229.5855269406945, 228.00384932330851, 218.27449975707452, 213.12399266385225, 204.49230717471582, 201.41413247874377, 195.57836900360547, 198.7497070083476, 193.572993583759, 1166.4115326909964, 192.5824792659783, 5834.663260825215, 4152.444714449091, 296.30910462082574, 852.1200233654989, 841.4197112907955, 726.8852654749908, 329.22290200406235, 1433.1717435020055, 349.9541688990976, 373.8617281635987, 1028.3151908481348, 827.3414522481451, 271.40862690981754, 305.3667724988367, 1227.7866351576604, 884.358567185347, 681.104832603375, 527.1478634028031, 481.94103145592175, 358.45472453331695, 282.4674792953231, 266.1892970030517, 214.24194909869607, 212.8458621923377, 200.1220908360226, 198.6693152400986, 193.88252229317393, 340.64500448351265, 178.5766764444085, 170.11473066945086, 167.64640479179803, 165.07265801834583, 166.77854610483143, 162.2791597973065, 159.18197073453737, 160.2794838313214, 150.75925553943847, 147.1499619252655, 153.08807707377784, 144.28745400390184, 138.03538384915956, 139.44723322123608, 134.72819580008786, 137.1301306938724, 254.24845163331855, 158.81263138027157, 499.59064034550306, 335.70449659272435, 334.3513526038786, 330.69115727084875, 289.76584655034475, 275.2721758972231, 250.6782393703944, 241.45242577794733, 213.03756601387295, 189.32597465645773, 175.48650484204327, 158.2274691392936, 156.6511078953766, 152.3351172007804, 154.86257943980326, 155.19691899293798, 145.82951177058646, 149.5609184945119, 134.17495284933483, 131.12956566777356, 127.79912563465804, 128.32515075332162, 127.53890747663715, 122.82982703415588, 103.25542455051105, 103.88567565587174, 101.71804939050355, 97.89796327775903, 94.78517561493582, 93.5292257669777, 1288.046381278141, 345.9422262821304, 111.57104463180718, 1519.277157235058, 578.5697739829568, 303.7961351204449, 248.7259819766203, 221.14270888311438, 210.7028783821982, 202.44890189002814, 203.55273969340726, 195.86019683513084, 760.4830916429573, 186.96387210908924, 183.31708788697492, 177.07267438339034, 174.50554379205508, 163.28490386778125, 162.18199677560344, 159.86002983332526, 159.38223133984408, 138.9624132646247, 130.59768213949957, 128.20231788002326, 115.74904404074385, 114.28667480467209, 112.43705811568897, 110.48921559838375, 108.53791513099982, 109.12739180932041, 95.11106725993908, 92.25705567977761, 90.08819788943067], \"Total\": [6258.0, 5980.0, 4264.0, 1520.0, 1308.0, 2889.0, 1228.0, 2286.0, 2277.0, 1818.0, 885.0, 763.0, 1706.0, 1502.0, 2267.0, 681.0, 579.0, 1248.0, 1206.0, 1419.0, 1170.0, 1646.0, 500.0, 527.0, 1110.0, 941.0, 936.0, 482.0, 837.0, 875.0, 2889.844363569539, 2286.8525018162486, 2277.5020734946775, 1706.3526264933325, 1110.5490056484705, 812.3396450096709, 796.7394675844283, 688.1553712058596, 598.7154598502414, 586.4043963034967, 562.6228572867223, 554.1301616375941, 552.7229994250798, 535.1402115818387, 540.688605234122, 492.05633885405894, 448.4729225306397, 410.338010001782, 394.78229134509263, 371.6918250892273, 367.1222891001543, 362.4086245665805, 357.81163419689466, 341.66789633177535, 320.0820753567008, 318.5866582247766, 320.806597293082, 309.6831134263591, 305.89007727516633, 343.39292651285734, 6258.349783521221, 1419.6392689611039, 650.8739928865648, 493.1880081476189, 497.1035820861208, 2267.5345638881868, 469.92833327881664, 1074.1270523822723, 600.7131673986682, 724.4185753549477, 398.5183240939648, 478.61705630311303, 1256.3482304357055, 1818.551849532943, 1502.7339680086156, 1206.3265198726945, 1248.0744757498055, 941.8081304408383, 936.2367338546289, 837.0890968583979, 659.3939889050796, 454.21852673116337, 393.30343900421803, 355.0850106297358, 309.37760478931773, 292.6195103149065, 278.02974821502875, 278.8021788162035, 257.94552933553297, 243.55012340778404, 239.3522775679529, 237.9065030578623, 230.34789938634137, 228.7615217888263, 219.031634625868, 213.8858941769578, 205.2495392493158, 202.17050435417477, 196.335386460145, 199.51956466085917, 194.3269430937569, 1170.9573724791985, 193.3365512216263, 5980.421436119473, 4264.772473309021, 298.41478429119593, 875.9311269259085, 868.3761709955907, 754.999210868473, 333.83845801499245, 1646.598071108309, 363.8883651860114, 401.82931255099516, 1287.905055986903, 1256.3482304357055, 286.1857027948607, 404.4955765643615, 1228.535317383017, 885.1029083007796, 681.8562761499388, 527.9003998490982, 482.69161260967115, 359.2050943944073, 283.2249187387183, 266.94128208065536, 214.98960999021926, 213.60241754003263, 200.86811243638874, 199.42124391131566, 194.6367925623023, 342.0683341235079, 179.3294092512115, 170.86599133551724, 168.40523777102646, 165.82191116188983, 167.5431355093688, 163.03435875868664, 159.93058473019747, 161.03451952848386, 151.50378457756412, 147.90695357942778, 153.88439318448127, 145.04170940796112, 138.7901492334279, 140.21793941230754, 135.47472980739045, 137.90833443394573, 266.0599296293244, 179.0136093945508, 500.36085914882045, 336.4796460863078, 335.1238197208477, 331.45818949267004, 290.533413011834, 276.0414788689716, 251.45299208194962, 242.222451294853, 213.83401143787881, 190.09879551046626, 176.28657185646748, 158.99756404242726, 157.43415550002328, 153.10111867465167, 155.64142368114184, 155.98612307745435, 146.61033427110712, 150.3659330405639, 134.95054650248375, 131.9028423629296, 128.56746013410827, 129.10063404702925, 128.3176941177007, 123.61080742774193, 104.03271010795058, 104.67905592713142, 102.499017865944, 98.69569025897111, 95.56993041928851, 94.30465843465046, 1308.911575901485, 359.1119809906133, 120.36349808122168, 1520.053117667288, 579.3392815095352, 304.5668320193766, 249.5027104091305, 221.9206157501654, 211.48119853284064, 203.222711676305, 204.33284832835182, 196.63357558142357, 763.5424010745016, 187.7358458953803, 184.0984067967899, 177.84497924862197, 175.27758244746977, 164.06249803494705, 162.9563860935808, 160.63362938670429, 160.1542197103737, 139.7360863764072, 131.3751770033408, 128.98205578245953, 116.52549067309081, 115.06888285674941, 113.21154757705935, 111.25859543532671, 109.3084850905131, 109.90875566070861, 95.88255746370568, 93.02745055408971, 90.86125617231198], \"Category\": [\"Default\", \"Default\", \"Default\", \"Default\", \"Default\", \"Default\", \"Default\", \"Default\", \"Default\", \"Default\", \"Default\", \"Default\", \"Default\", \"Default\", \"Default\", \"Default\", \"Default\", \"Default\", \"Default\", \"Default\", \"Default\", \"Default\", \"Default\", \"Default\", \"Default\", \"Default\", \"Default\", \"Default\", \"Default\", \"Default\", \"Topic1\", \"Topic1\", \"Topic1\", \"Topic1\", \"Topic1\", \"Topic1\", \"Topic1\", \"Topic1\", \"Topic1\", \"Topic1\", \"Topic1\", \"Topic1\", \"Topic1\", \"Topic1\", \"Topic1\", \"Topic1\", \"Topic1\", \"Topic1\", \"Topic1\", \"Topic1\", \"Topic1\", \"Topic1\", \"Topic1\", \"Topic1\", \"Topic1\", \"Topic1\", \"Topic1\", \"Topic1\", \"Topic1\", \"Topic1\", \"Topic1\", \"Topic1\", \"Topic1\", \"Topic1\", \"Topic1\", \"Topic1\", \"Topic1\", \"Topic1\", \"Topic1\", \"Topic1\", \"Topic1\", \"Topic1\", \"Topic1\", \"Topic2\", \"Topic2\", \"Topic2\", \"Topic2\", \"Topic2\", \"Topic2\", \"Topic2\", \"Topic2\", \"Topic2\", \"Topic2\", \"Topic2\", \"Topic2\", \"Topic2\", \"Topic2\", \"Topic2\", \"Topic2\", \"Topic2\", \"Topic2\", \"Topic2\", \"Topic2\", \"Topic2\", \"Topic2\", \"Topic2\", \"Topic2\", \"Topic2\", \"Topic2\", \"Topic2\", \"Topic2\", \"Topic2\", \"Topic2\", \"Topic2\", \"Topic2\", \"Topic2\", \"Topic2\", \"Topic2\", \"Topic2\", \"Topic2\", \"Topic2\", \"Topic2\", \"Topic2\", \"Topic2\", \"Topic2\", \"Topic2\", \"Topic2\", \"Topic3\", \"Topic3\", \"Topic3\", \"Topic3\", \"Topic3\", \"Topic3\", \"Topic3\", \"Topic3\", \"Topic3\", \"Topic3\", \"Topic3\", \"Topic3\", \"Topic3\", \"Topic3\", \"Topic3\", \"Topic3\", \"Topic3\", \"Topic3\", \"Topic3\", \"Topic3\", \"Topic3\", \"Topic3\", \"Topic3\", \"Topic3\", \"Topic3\", \"Topic3\", \"Topic3\", \"Topic3\", \"Topic3\", \"Topic3\", \"Topic3\", \"Topic3\", \"Topic4\", \"Topic4\", \"Topic4\", \"Topic4\", \"Topic4\", \"Topic4\", \"Topic4\", \"Topic4\", \"Topic4\", \"Topic4\", \"Topic4\", \"Topic4\", \"Topic4\", \"Topic4\", \"Topic4\", \"Topic4\", \"Topic4\", \"Topic4\", \"Topic4\", \"Topic4\", \"Topic4\", \"Topic4\", \"Topic4\", \"Topic4\", \"Topic4\", \"Topic4\", \"Topic4\", \"Topic4\", \"Topic4\", \"Topic4\", \"Topic4\", \"Topic4\", \"Topic4\", \"Topic5\", \"Topic5\", \"Topic5\", \"Topic5\", \"Topic5\", \"Topic5\", \"Topic5\", \"Topic5\", \"Topic5\", \"Topic5\", \"Topic5\", \"Topic5\", \"Topic5\", \"Topic5\", \"Topic5\", \"Topic5\", \"Topic5\", \"Topic5\", \"Topic5\", \"Topic5\", \"Topic5\", \"Topic5\", \"Topic5\", \"Topic5\", \"Topic5\", \"Topic5\", \"Topic5\", \"Topic5\", \"Topic5\", \"Topic5\"], \"logprob\": [30.0, 29.0, 28.0, 27.0, 26.0, 25.0, 24.0, 23.0, 22.0, 21.0, 20.0, 19.0, 18.0, 17.0, 16.0, 15.0, 14.0, 13.0, 12.0, 11.0, 10.0, 9.0, 8.0, 7.0, 6.0, 5.0, 4.0, 3.0, 2.0, 1.0, -3.106, -3.3401, -3.3442, -3.633, -4.0627, -4.3757, -4.3951, -4.5418, -4.6811, -4.702, -4.7434, -4.7586, -4.7612, -4.7936, -4.7832, -4.8776, -4.9705, -5.0596, -5.0983, -5.1587, -5.1711, -5.184, -5.1968, -5.2431, -5.3085, -5.3132, -5.3063, -5.3416, -5.3539, -5.2384, -2.3356, -3.8243, -4.6023, -4.8795, -4.8783, -3.4235, -4.9426, -4.1738, -4.7226, -4.5603, -5.1014, -5.0471, -5.0145, -3.4463, -3.6371, -3.8569, -3.8231, -4.1046, -4.1106, -4.2226, -4.4615, -4.8347, -4.979, -5.0814, -5.2195, -5.2753, -5.3266, -5.3239, -5.4018, -5.4594, -5.4769, -5.483, -5.5154, -5.5223, -5.5659, -5.5898, -5.6311, -5.6463, -5.6757, -5.6596, -5.686, -3.89, -5.6911, -2.2801, -2.6202, -5.2602, -4.2039, -4.2166, -4.3629, -5.1549, -3.684, -5.0938, -5.0278, -4.016, -4.2334, -5.348, -5.2301, -2.865, -3.1931, -3.4543, -3.7105, -3.8001, -4.0962, -4.3344, -4.3938, -4.6109, -4.6174, -4.679, -4.6863, -4.7107, -4.1471, -4.793, -4.8415, -4.8561, -4.8716, -4.8613, -4.8887, -4.9079, -4.9011, -4.9623, -4.9865, -4.947, -5.0062, -5.0505, -5.0403, -5.0747, -5.057, -4.4397, -4.9102, -3.5343, -3.9318, -3.9359, -3.9469, -4.079, -4.1303, -4.2239, -4.2614, -4.3866, -4.5046, -4.5805, -4.684, -4.694, -4.722, -4.7055, -4.7034, -4.7656, -4.7404, -4.8489, -4.8719, -4.8976, -4.8935, -4.8996, -4.9373, -5.1109, -5.1048, -5.1259, -5.1641, -5.1965, -5.2098, -2.5872, -3.9018, -5.0334, -2.3145, -3.2799, -3.9241, -4.1241, -4.2417, -4.29, -4.33, -4.3245, -4.3631, -3.0065, -4.4096, -4.4292, -4.4639, -4.4785, -4.545, -4.5517, -4.5662, -4.5692, -4.7063, -4.7683, -4.7869, -4.889, -4.9018, -4.9181, -4.9355, -4.9534, -4.948, -5.0854, -5.1159, -5.1397], \"loglift\": [30.0, 29.0, 28.0, 27.0, 26.0, 25.0, 24.0, 23.0, 22.0, 21.0, 20.0, 19.0, 18.0, 17.0, 16.0, 15.0, 14.0, 13.0, 12.0, 11.0, 10.0, 9.0, 8.0, 7.0, 6.0, 5.0, 4.0, 3.0, 2.0, 1.0, 1.0011, 1.001, 1.001, 1.0009, 1.0007, 1.0004, 1.0004, 1.0002, 1.0001, 1.0, 1.0, 0.9999, 0.9999, 0.9999, 0.9999, 0.9998, 0.9996, 0.9994, 0.9994, 0.9993, 0.9992, 0.9992, 0.9992, 0.9991, 0.9989, 0.9989, 0.9989, 0.9988, 0.9988, 0.9988, 0.9988, 0.9936, 0.9954, 0.9956, 0.9889, 0.926, 0.9809, 0.923, 0.9553, 0.9303, 0.9868, 0.858, -0.0745, 1.1239, 1.1238, 1.1237, 1.1236, 1.1235, 1.1235, 1.1234, 1.1232, 1.1227, 1.1224, 1.1222, 1.1219, 1.1218, 1.1216, 1.1216, 1.1214, 1.1212, 1.1212, 1.1212, 1.121, 1.121, 1.1209, 1.1208, 1.1207, 1.1206, 1.1205, 1.1205, 1.1205, 1.1205, 1.1204, 1.0997, 1.0977, 1.1173, 1.0968, 1.0928, 1.0864, 1.1104, 0.9855, 1.0853, 1.0522, 0.8993, 0.7066, 1.0713, 0.8432, 2.0974, 2.0972, 2.0969, 2.0966, 2.0965, 2.0959, 2.0953, 2.0952, 2.0945, 2.0945, 2.0943, 2.0942, 2.0941, 2.0939, 2.0938, 2.0936, 2.0935, 2.0935, 2.0934, 2.0934, 2.0933, 2.0933, 2.0931, 2.0929, 2.0928, 2.0928, 2.0926, 2.0925, 2.0925, 2.0924, 2.0526, 1.9783, 2.3264, 2.3256, 2.3256, 2.3256, 2.3253, 2.3251, 2.3248, 2.3247, 2.3242, 2.3239, 2.3234, 2.3231, 2.3229, 2.3229, 2.3229, 2.3229, 2.3226, 2.3226, 2.3222, 2.322, 2.3219, 2.3219, 2.3218, 2.3216, 2.3204, 2.3203, 2.3203, 2.3198, 2.3197, 2.3197, 2.3119, 2.2906, 2.2521, 2.435, 2.4342, 2.433, 2.4324, 2.432, 2.4318, 2.4317, 2.4317, 2.4316, 2.4315, 2.4314, 2.4313, 2.4312, 2.4311, 2.4308, 2.4308, 2.4307, 2.4307, 2.43, 2.4296, 2.4295, 2.4288, 2.4287, 2.4287, 2.4286, 2.4285, 2.4284, 2.4274, 2.4272, 2.427]}, \"token.table\": {\"Topic\": [1, 2, 3, 1, 2, 3, 5, 4, 1, 1, 5, 1, 1, 2, 4, 1, 4, 1, 2, 2, 3, 3, 2, 5, 2, 4, 1, 5, 1, 3, 1, 5, 2, 1, 4, 2, 5, 1, 2, 3, 2, 5, 5, 3, 3, 1, 1, 4, 3, 3, 2, 4, 2, 1, 1, 2, 3, 4, 1, 2, 2, 5, 2, 5, 1, 2, 5, 3, 2, 4, 5, 3, 5, 3, 2, 4, 5, 5, 1, 2, 3, 2, 5, 4, 1, 3, 3, 4, 2, 2, 4, 1, 4, 1, 2, 5, 1, 2, 3, 1, 2, 3, 4, 2, 2, 4, 2, 4, 4, 3, 1, 2, 4, 4, 3, 3, 2, 3, 2, 5, 5, 4, 5, 1, 2, 4, 1, 5, 2, 3, 1, 2, 3, 1, 2, 3, 1, 2, 4, 4, 2, 4, 5, 1, 3, 5, 1, 2, 1, 1, 2, 1, 3, 5, 1, 2, 3, 3, 4, 2, 4, 1, 2, 2, 3, 4, 5, 1, 4, 3, 4, 5, 3, 4, 4, 2, 5, 1, 2, 5, 1, 2, 3, 4, 2, 4, 1, 5, 5, 1, 3, 2, 1, 2, 5, 1, 1, 2, 4, 4, 3, 5, 4, 2, 2, 4, 1, 1, 2, 1, 5, 1, 1, 1, 2, 5, 4, 1, 1, 2, 1, 2, 3, 2], \"Freq\": [0.006702080812619462, 0.9919079602676805, 0.9934134913769059, 0.03382696527259415, 0.007517103393909811, 0.954672131026546, 0.9960554375249848, 0.9928078992225288, 0.9989454825322093, 0.9981387131959084, 0.9971442321761342, 0.9980451885033799, 0.9966193815898784, 0.9985282046549446, 0.9937259161897533, 0.955530910843278, 0.04328188794760493, 0.8670815102276177, 0.13162924131166245, 0.002923392492796302, 0.9968768400435389, 0.9975936747788245, 0.9962962660591544, 0.9960804187827276, 0.9939120971774851, 0.9975663833345471, 0.9788726650943901, 0.019151856490977198, 0.9996272160904249, 0.9953969403904482, 0.9980184234140107, 0.9939833906052167, 0.9977412312501154, 0.997853215636813, 0.9985745167890935, 0.9996965445153051, 0.9993071836404611, 0.9973875248129672, 0.0025565844916705343, 0.996495805468183, 0.9986989475045306, 0.9917317264193768, 0.9889554045825182, 0.9943068781336997, 0.991313954424004, 0.9995056448246065, 0.9977316718649566, 0.9914746038611375, 0.9971797250847139, 0.9942528727820954, 0.066465333157745, 0.93051466420843, 0.9984896784938426, 0.9993103798231291, 0.9317817391268111, 0.06764045217364999, 0.993655578084509, 0.9981985019219736, 0.1293576153995078, 0.8702791683919937, 0.9969443637516223, 0.9940335887968746, 0.999729327120547, 0.9907954325890843, 0.9981585599722048, 0.9994024984884472, 0.9958515987933189, 0.9935757902621564, 0.015279870976941605, 0.9840236909150393, 0.9923861053655723, 0.9950434103905158, 0.9935238214237069, 0.9995642637411863, 0.9942103109555279, 0.9966465537371119, 0.9907109304425934, 0.9892983745652387, 0.011981843026067305, 0.9855065888940358, 0.9966451077303372, 0.9973173116915053, 0.9927930733735207, 0.9958788369704462, 0.9988929399531935, 0.9987539208261139, 0.9981631052453307, 0.992701815896023, 0.9961896667547511, 0.9971227670471962, 0.9950586243998205, 0.9988557524558018, 0.9958370310378086, 0.0034160082117515836, 0.9957663937255866, 0.9971778486340044, 0.9974857209923738, 0.9995115782139481, 0.996728303246682, 0.008353940160182002, 0.01113858688024267, 0.01949252704042467, 0.9634877651409909, 0.9991390932426849, 0.9992284862675336, 0.9981640218028476, 0.9952900199661562, 0.9900732172902256, 0.996227092851267, 0.9941813210289492, 0.9940480140105399, 0.004609187081965409, 0.994036509006671, 0.9967694232744443, 0.9967582347810459, 0.9928178631359681, 0.9963343837050844, 0.9966747723235507, 0.9983175616898415, 0.9886876566219253, 0.9984163265855578, 0.9951314863660776, 0.995490337178111, 0.9861528974696189, 0.012546474522514235, 0.9936781358623504, 0.9997933448878868, 0.9947323100603777, 0.9618334453235073, 0.035725242254873134, 0.03178811269536677, 0.9629149137304851, 0.005298018782561129, 0.024245782935004397, 0.9756837477637976, 0.9964738234816338, 0.9925056532361987, 0.006339638665099921, 0.0007044042961222134, 0.9942198712647511, 0.9991419372856124, 0.9949531875005058, 0.9905211945267555, 0.9988050085587896, 0.9938680801850148, 0.9941310302927829, 0.9935359171452832, 0.00405524864140932, 0.9986919317165527, 0.9987264291729918, 0.9987794695431337, 0.9995818928550916, 0.995678196873266, 0.9983710483601885, 0.9983210605421344, 0.9973959212383892, 0.9978876678178631, 0.9956751025150851, 0.9931552470988804, 0.9978828810346931, 0.992951158686406, 0.34066987928304576, 0.6582569863716796, 0.9469375910586775, 0.02795387722682443, 0.02096540792011832, 0.9994143647421055, 0.9244716421559785, 0.07447908496724902, 0.9985671750003445, 0.9992788022040047, 0.9979851505087614, 0.9982943755122072, 0.9929563345453644, 0.9960997250518255, 0.9684742950002831, 0.02994094134364728, 0.15822175496600668, 0.7540255510098756, 0.08405530732569105, 0.9990718828242935, 0.1117233492338533, 0.8882006264091337, 0.9955862849470903, 0.9307434483205766, 0.06719270883597746, 0.9991762644611438, 0.9981388911733483, 0.9952487877240509, 0.9977941534531829, 0.9987441984771721, 0.9958580991029503, 0.9274390051166161, 0.07232524814033525, 0.9977246273608293, 0.9970902054649989, 0.019696244178490658, 0.9735572122511096, 0.006565414726163552, 0.9935129723790773, 0.9949317513172252, 0.9967778870950693, 0.9972423042595531, 0.996671110670748, 0.9982592467927055, 0.9975241597046678, 0.9978693218017232, 0.9988724756010727, 0.9982917676421358, 0.9877217097078504, 0.0120699190595664, 0.9997078169398382, 0.9969430101808715, 0.9997795508067718, 0.002619369922594322, 0.9953605705858423, 0.9986176552361812, 0.9979604762277255, 0.20110178059789666, 0.7981954843808408, 0.012558064968651863, 0.9726792139355807, 0.013699707238529304, 0.9986790372457005], \"Term\": [\"activity\", \"activity\", \"adjustment\", \"age\", \"age\", \"age\", \"answer\", \"appointment\", \"article\", \"aspect\", \"assignment\", \"attitude\", \"behavior\", \"bit\", \"calendar\", \"case\", \"case\", \"change\", \"change\", \"child\", \"child\", \"choice\", \"city\", \"class\", \"colleague\", \"collectivism\", \"comment\", \"comment\", \"communication\", \"community\", \"concept\", \"conflict\", \"contact\", \"context\", \"conversation\", \"country\", \"course\", \"culture\", \"culture\", \"daughter\", \"day\", \"decision\", \"definition\", \"degree\", \"development\", \"difference\", \"dimension\", \"dinner\", \"distance\", \"education\", \"encounter\", \"encounter\", \"end\", \"environment\", \"example\", \"example\", \"exercise\", \"expectation\", \"experience\", \"experience\", \"fact\", \"factor\", \"family\", \"feedback\", \"feeling\", \"food\", \"form\", \"freedom\", \"friend\", \"friend\", \"future\", \"generation\", \"goal\", \"group\", \"habit\", \"hand\", \"harmony\", \"heart\", \"help\", \"help\", \"history\", \"home\", \"hope\", \"hour\", \"idea\", \"identity\", \"individual\", \"individualism\", \"interest\", \"job\", \"kindness\", \"knowledge\", \"lack\", \"language\", \"language\", \"learner\", \"level\", \"life\", \"line\", \"list\", \"list\", \"list\", \"list\", \"lot\", \"love\", \"man\", \"matter\", \"meet\", \"meeting\", \"member\", \"mind\", \"mind\", \"mindfulness\", \"mistake\", \"model\", \"money\", \"month\", \"mother\", \"music\", \"name\", \"note\", \"notice\", \"observation\", \"opinion\", \"opinion\", \"orientation\", \"other\", \"paper\", \"parent\", \"parent\", \"part\", \"part\", \"part\", \"people\", \"people\", \"perception\", \"person\", \"person\", \"person\", \"phone\", \"place\", \"plan\", \"poem\", \"point\", \"position\", \"practice\", \"problem\", \"problem\", \"process\", \"question\", \"reason\", \"relationship\", \"religion\", \"research\", \"respect\", \"responsibility\", \"role\", \"rule\", \"schedule\", \"school\", \"setting\", \"shock\", \"shock\", \"side\", \"side\", \"side\", \"silence\", \"situation\", \"situation\", \"society\", \"space\", \"step\", \"story\", \"stranger\", \"stress\", \"student\", \"student\", \"study\", \"study\", \"study\", \"style\", \"system\", \"system\", \"table\", \"talk\", \"talk\", \"task\", \"teacher\", \"team\", \"term\", \"thank\", \"theory\", \"thing\", \"thing\", \"think\", \"thought\", \"time\", \"time\", \"time\", \"tip\", \"today\", \"tool\", \"touch\", \"tradition\", \"travel\", \"try\", \"type\", \"understanding\", \"university\", \"use\", \"use\", \"value\", \"view\", \"way\", \"week\", \"week\", \"woman\", \"word\", \"work\", \"work\", \"world\", \"world\", \"world\", \"year\"]}, \"R\": 30, \"lambda.step\": 0.01, \"plot.opts\": {\"xlab\": \"PC1\", \"ylab\": \"PC2\"}, \"topic.order\": [5, 4, 3, 2, 1]};\n",
       "\n",
       "function LDAvis_load_lib(url, callback){\n",
       "  var s = document.createElement('script');\n",
       "  s.src = url;\n",
       "  s.async = true;\n",
       "  s.onreadystatechange = s.onload = callback;\n",
       "  s.onerror = function(){console.warn(\"failed to load library \" + url);};\n",
       "  document.getElementsByTagName(\"head\")[0].appendChild(s);\n",
       "}\n",
       "\n",
       "if(typeof(LDAvis) !== \"undefined\"){\n",
       "   // already loaded: just create the visualization\n",
       "   !function(LDAvis){\n",
       "       new LDAvis(\"#\" + \"ldavis_el80891140670040122416224370332\", ldavis_el80891140670040122416224370332_data);\n",
       "   }(LDAvis);\n",
       "}else if(typeof define === \"function\" && define.amd){\n",
       "   // require.js is available: use it to load d3/LDAvis\n",
       "   require.config({paths: {d3: \"https://d3js.org/d3.v5\"}});\n",
       "   require([\"d3\"], function(d3){\n",
       "      window.d3 = d3;\n",
       "      LDAvis_load_lib(\"https://cdn.jsdelivr.net/gh/bmabey/pyLDAvis@3.3.1/pyLDAvis/js/ldavis.v3.0.0.js\", function(){\n",
       "        new LDAvis(\"#\" + \"ldavis_el80891140670040122416224370332\", ldavis_el80891140670040122416224370332_data);\n",
       "      });\n",
       "    });\n",
       "}else{\n",
       "    // require.js not available: dynamically load d3 & LDAvis\n",
       "    LDAvis_load_lib(\"https://d3js.org/d3.v5.js\", function(){\n",
       "         LDAvis_load_lib(\"https://cdn.jsdelivr.net/gh/bmabey/pyLDAvis@3.3.1/pyLDAvis/js/ldavis.v3.0.0.js\", function(){\n",
       "                 new LDAvis(\"#\" + \"ldavis_el80891140670040122416224370332\", ldavis_el80891140670040122416224370332_data);\n",
       "            })\n",
       "         });\n",
       "}\n",
       "</script>"
      ],
      "text/plain": [
       "PreparedData(topic_coordinates=              x         y  topics  cluster       Freq\n",
       "topic                                                \n",
       "4     -0.295098  0.266153       1        1  36.738736\n",
       "3     -0.206663 -0.327921       2        1  32.486440\n",
       "2      0.177647  0.048124       3        1  12.269898\n",
       "1      0.151471  0.006259       4        1   9.749756\n",
       "0      0.172643  0.007385       5        1   8.755170, topic_info=            Term         Freq        Total Category  logprob  loglift\n",
       "11       culture  6258.000000  6258.000000  Default  30.0000  30.0000\n",
       "60        people  5980.000000  5980.000000  Default  29.0000  29.0000\n",
       "17          time  4264.000000  4264.000000  Default  28.0000  28.0000\n",
       "2         course  1520.000000  1520.000000  Default  27.0000  27.0000\n",
       "97        friend  1308.000000  1308.000000  Default  26.0000  26.0000\n",
       "...          ...          ...          ...      ...      ...      ...\n",
       "5        learner   108.537915   109.308485   Topic5  -4.9534   2.4285\n",
       "95      decision   109.127392   109.908756   Topic5  -4.9480   2.4284\n",
       "1246    feedback    95.111067    95.882557   Topic5  -5.0854   2.4274\n",
       "656   definition    92.257056    93.027451   Topic5  -5.1159   2.4272\n",
       "1273        poem    90.088198    90.861256   Topic5  -5.1397   2.4270\n",
       "\n",
       "[212 rows x 6 columns], token_table=      Topic      Freq        Term\n",
       "term                             \n",
       "568       1  0.006702    activity\n",
       "568       2  0.991908    activity\n",
       "1587      3  0.993413  adjustment\n",
       "301       1  0.033827         age\n",
       "301       2  0.007517         age\n",
       "...     ...       ...         ...\n",
       "90        2  0.798195        work\n",
       "175       1  0.012558       world\n",
       "175       2  0.972679       world\n",
       "175       3  0.013700       world\n",
       "75        2  0.998679        year\n",
       "\n",
       "[224 rows x 3 columns], R=30, lambda_step=0.01, plot_opts={'xlab': 'PC1', 'ylab': 'PC2'}, topic_order=[5, 4, 3, 2, 1])"
      ]
     },
     "execution_count": 22,
     "metadata": {},
     "output_type": "execute_result"
    }
   ],
   "source": [
    "# feed the LDA model into the pyLDAvis instance\n",
    "lda_viz = gensimvis.prepare(lda_model, corpus, dictionary)\n",
    "lda_viz"
   ]
  },
  {
   "cell_type": "markdown",
   "metadata": {
    "colab_type": "text",
    "id": "jOGnQ-WiZW0h"
   },
   "source": [
    "### PyLDAvis graph\n",
    "\n",
    "On the left, there is a 2D plot of the \"distance\" between all of the topics (labeled as the Intertopic Distance Map). This plot uses a multidimensional scaling (MDS) algorithm. \n",
    "- Similar topics should appear close together on the plot; dissimilar topics should appear far apart. \n",
    "- The relative size of a topic's circle in the plot corresponds to the relative frequency of the topic in the corpus.\n",
    "\n",
    "### Exploring topics and words\n",
    "- You can scrutinize a topic more closely by clicking on its circle, or entering its number in the \"selected topic\" box in the upper-left (Note that, though the data used by gensim and pyLDAvis are the same, they don't use the same ID numbers for topics.)\n",
    "- If you roll your mouse over a term in the bar chart on the right, the topic circles will resize in the plot on the left. This shows the strength of the relationship between the topics and the selected term.\n",
    "\n",
    "### Salience\n",
    "On the right, there is a bar chart with the top terms. When no topic is selected in the plot on the left, the bar chart shows the top-30 most **salient** terms in the corpus. A term's saliency is a measure of both how frequent the term is in the corpus and how \"distinctive\" it is in distinguishing between different topics.\n",
    "\n",
    "### Probability Vs Exclusivity \n",
    "When you select a particular topic, this bar chart changes to show the top-30 most \"relevant\" terms for the selected topic. The relevance metric is controlled by the parameter λ, which can be adjusted with a slider above the bar chart:\n",
    "\n",
    "* Setting λ close to 1.0 (the default) will rank the terms according to their probability within the topic.\n",
    "* Setting λ close to 0.0 will rank the terms according to their \"distinctiveness\" or \"exclusivity\" within the topic. This means that terms that occur only in this topic, and do not occur in other topics.\n",
    "\n",
    "You can move the slider between 0.0 and 1.0 to weigh term probability and exclusivity."
   ]
  },
  {
   "cell_type": "markdown",
   "metadata": {
    "colab_type": "text",
    "id": "DPmoNRMoZW0h"
   },
   "source": [
    "## Assignment: Analyzing the pyLDA visualization\n",
    "\n",
    "The interactive visualization pyLDAvis produces is helpful for both **individual** topics: you can manually select each topic to view its top most frequent and/or \"relevant\" terms, using different values of the λ parameter. This can help when you're trying to assign a name or \"meaning\" to each topic. \n",
    "\n",
    "It also helps you to see the **relationships** between topics: exploring the Intertopic Distance Plot can help you learn about how topics relate to each other, including potential higher-level structure between groups of topics.\n",
    "\n",
    "See if you can make sense of the patterns you are seeing. Can you give an explanation for the distance between certain topics?"
   ]
  },
  {
   "cell_type": "code",
   "execution_count": null,
   "metadata": {
    "colab": {
     "base_uri": "https://localhost:8080/",
     "height": 289
    },
    "colab_type": "code",
    "executionInfo": {
     "elapsed": 915,
     "status": "ok",
     "timestamp": 1595517235869,
     "user": {
      "displayName": "Tom van Nuenen",
      "photoUrl": "https://lh3.googleusercontent.com/a-/AOh14GhtEyfMMXnweSdKHvOqheyZd6KLkXGOtz3AYYAIBA=s64",
      "userId": "10012302451096885058"
     },
     "user_tz": -180
    },
    "id": "Es44L0TZNC8R",
    "outputId": "060a09e4-8ea3-4e57-cde6-f1182d8206bc"
   },
   "outputs": [],
   "source": [
    "# ADDING A DOC\n",
    "test_doc = ['alpha men are better than beta men.', 'indeed, alpha men are much cooler.']\n",
    "bow_test_doc = dictionary.doc2bow(test_doc)\n",
    "lda_model.get_document_topics(bow_test_doc)\n"
   ]
  },
  {
   "cell_type": "code",
   "execution_count": null,
   "metadata": {
    "colab": {
     "base_uri": "https://localhost:8080/",
     "height": 357
    },
    "colab_type": "code",
    "executionInfo": {
     "elapsed": 843,
     "status": "ok",
     "timestamp": 1595517208836,
     "user": {
      "displayName": "Tom van Nuenen",
      "photoUrl": "https://lh3.googleusercontent.com/a-/AOh14GhtEyfMMXnweSdKHvOqheyZd6KLkXGOtz3AYYAIBA=s64",
      "userId": "10012302451096885058"
     },
     "user_tz": -180
    },
    "id": "Bv_FWdFSPHN0",
    "outputId": "a0c1112e-4457-4603-c229-a58059322ee9"
   },
   "outputs": [],
   "source": [
    "topics = lda_model.print_topics(num_words=5)\n",
    "for topic in topics:\n",
    "    print(topic)"
   ]
  },
  {
   "cell_type": "markdown",
   "metadata": {
    "colab_type": "text",
    "id": "osn95IYrZW0i"
   },
   "source": [
    "## Calculating Topic Coherence and Perplexity\n",
    "\n",
    "Next, we can apply some statistical measures to help us determine the optimal number of topics in our topic model.\n",
    "\n",
    "**Topic Coherence** is a measure applied to the top N words from each topic. It is defined as the average / median of the pairwise word-similarity scores of the words in the topic. This helps to distinguish between topics that are semantically interpretable topics, and topics that are artifacts of statistical inference. \n",
    "\n",
    "A set of statements or facts is said to be coherent if the statements support each other. An example of a coherent fact set is “the game is a team sport”, “the game is played with a ball”, “the game demands great physical efforts”\n",
    "\n",
    "A good model will generate topics with *high* topic coherence scores. Good topics are topics that can be described by a short label, therefore this is what the topic coherence measure should capture.\n",
    "\n",
    "There are different ways to calculate semantic similarity, e.g. through normalized pointwise mutual information (NPMI) or through cosine similarity.\n",
    "\n",
    "**Perplexity** is a measure of how well a probability model predicts a sample.\n",
    "It captures how surprised a model is of new data it has not seen before, and is measured as the normalized log-likelihood of a held-out test set. The model with the *lowest* perplexity is generally considered the “best”. \n",
    "\n",
    "*The issue with perplexity is that it tends to not be strongly correlated to human judgment and, even sometimes slightly anti-correlated. Therefore, we'll work with coherence scores*."
   ]
  },
  {
   "cell_type": "code",
   "execution_count": null,
   "metadata": {
    "colab": {
     "base_uri": "https://localhost:8080/",
     "height": 119
    },
    "colab_type": "code",
    "executionInfo": {
     "elapsed": 25959,
     "status": "ok",
     "timestamp": 1595505061478,
     "user": {
      "displayName": "Tom van Nuenen",
      "photoUrl": "https://lh3.googleusercontent.com/a-/AOh14GhtEyfMMXnweSdKHvOqheyZd6KLkXGOtz3AYYAIBA=s64",
      "userId": "10012302451096885058"
     },
     "user_tz": -180
    },
    "id": "wQFU0eNUZW0i",
    "outputId": "df59a55f-040d-42f8-e321-748ca9d227f1",
    "scrolled": true
   },
   "outputs": [],
   "source": [
    "%%time\n",
    "# Compute Perplexity\n",
    "print('\\nPerplexity: ', lda_model.log_perplexity(corpus))  # A measure of how good the model is. The lower the better.\n",
    "\n",
    "# Compute Coherence Score\n",
    "coherence_model = CoherenceModel(model=lda_model, corpus=corpus, texts=lemmas, dictionary=dictionary, coherence='c_v') \n",
    "# The higher the better. A coherence score of .4 means probably not right number of topics; .6 is great. Anything more is suspiciously great.\n",
    "coherence = coherence_model.get_coherence()\n",
    "print('\\nCoherence Score: ', coherence)"
   ]
  },
  {
   "cell_type": "markdown",
   "metadata": {
    "colab_type": "text",
    "id": "Xg-5r0htZW0k"
   },
   "source": [
    "There's no hard or fast rule on what makes a good coherence or perplexity score. We have to compare this for different iterations of our topic model (using different amounts of topics) to see which one works best."
   ]
  },
  {
   "cell_type": "markdown",
   "metadata": {
    "colab_type": "text",
    "id": "RjFdiMk6ZW0v"
   },
   "source": [
    "## Optimizing coherence scores\n",
    "\n",
    "The most obvious thing we can do to find optimal scores is to play around with the amount of topics our model creates. One way to do this is to build many LDA models with different values of number of topics (k), and then pick the one that gives the highest coherence value. Choosing a ‘k’ at the end of a rapid growth of topic coherence usually yields meaningful and interpretable topics. If you see the same keywords being repeated in multiple topics, it’s probably a sign that the ‘k’ is too large.\n",
    "\n",
    "This `compute_coherence_values()` function trains multiple LDA models, provides the models, and tells you their corresponding coherence scores.\n",
    "\n",
    "Also note the docstring I create here: these are documentation for the functions we create. It describes what a function does, and can be called using `help(function_X)`."
   ]
  },
  {
   "cell_type": "code",
   "execution_count": null,
   "metadata": {
    "colab": {},
    "colab_type": "code",
    "id": "oOZRa_4LZW0w"
   },
   "outputs": [],
   "source": [
    "def compute_coherence_values(dictionary, corpus, texts, limit, start=2, step=3):\n",
    "    \"\"\"\n",
    "    Compute c_v coherence for various number of topics\n",
    "\n",
    "    Parameters:\n",
    "    ----------\n",
    "    dictionary : Gensim dictionary\n",
    "    corpus : Gensim corpus\n",
    "    texts : List of input texts\n",
    "    limit : Max num of topics\n",
    "\n",
    "    Returns:\n",
    "    -------\n",
    "    model_list : List of LDA topic models\n",
    "    coherence_values : Coherence values corresponding to the LDA model with respective number of topics\n",
    "    \"\"\"\n",
    "    coherence_values = []\n",
    "    model_list = []\n",
    "    total_amount = limit / step\n",
    "    current_amount = 0\n",
    "    for num_topics in range(start, limit, step):\n",
    "        model = gensim.models.ldamodel.LdaModel(corpus=corpus, id2word=dictionary, num_topics=num_topics, random_state=100, update_every=1, \n",
    "                                chunksize=500, passes=10, alpha='auto', per_word_topics=False)\n",
    "        model_list.append(model)\n",
    "        coherencemodel = CoherenceModel(model=model, texts=texts, dictionary=dictionary, coherence='c_v')\n",
    "        # When using 'c_v' texts should be provided, corpus isn’t needed. \n",
    "        # When using ‘u_mass’ corpus should be provided, if texts is provided, it will be converted to corpus using the dictionary \n",
    "        coherence_values.append(coherencemodel.get_coherence())\n",
    "        current_amount += 1\n",
    "        print(\"Built \" + str(current_amount) + \" of \" + str(total_amount) + \" models\")\n",
    "\n",
    "    return model_list, coherence_values\n"
   ]
  },
  {
   "cell_type": "code",
   "execution_count": null,
   "metadata": {
    "colab": {
     "base_uri": "https://localhost:8080/",
     "height": 306
    },
    "colab_type": "code",
    "executionInfo": {
     "elapsed": 1169,
     "status": "ok",
     "timestamp": 1595505679519,
     "user": {
      "displayName": "Tom van Nuenen",
      "photoUrl": "https://lh3.googleusercontent.com/a-/AOh14GhtEyfMMXnweSdKHvOqheyZd6KLkXGOtz3AYYAIBA=s64",
      "userId": "10012302451096885058"
     },
     "user_tz": -180
    },
    "id": "NTH4i85HeD3j",
    "outputId": "4e9dc82b-313a-4d5c-9e21-ccc1137eb1db"
   },
   "outputs": [],
   "source": [
    "help(compute_coherence_values)"
   ]
  },
  {
   "cell_type": "markdown",
   "metadata": {
    "colab_type": "text",
    "id": "eX4Mc6JZo4sG"
   },
   "source": [
    "Using our new function, let's run a bunch of topic models with different amounts of topics."
   ]
  },
  {
   "cell_type": "code",
   "execution_count": null,
   "metadata": {
    "colab": {
     "base_uri": "https://localhost:8080/",
     "height": 170
    },
    "colab_type": "code",
    "executionInfo": {
     "elapsed": 1397306,
     "status": "ok",
     "timestamp": 1595507080302,
     "user": {
      "displayName": "Tom van Nuenen",
      "photoUrl": "https://lh3.googleusercontent.com/a-/AOh14GhtEyfMMXnweSdKHvOqheyZd6KLkXGOtz3AYYAIBA=s64",
      "userId": "10012302451096885058"
     },
     "user_tz": -180
    },
    "id": "LYWcr2NhZW0z",
    "outputId": "27bdccee-ae4f-401e-88a0-da22f6342e14"
   },
   "outputs": [],
   "source": [
    "# Can take a long time to run.\n",
    "model_list, coherence_values = compute_coherence_values(dictionary=dictionary, corpus=corpus, texts=lemmas, start=10, limit=100, step=10)"
   ]
  },
  {
   "cell_type": "markdown",
   "metadata": {
    "colab_type": "text",
    "id": "ks6jTrgtpC1m"
   },
   "source": [
    "Now, from all those models, let's visualize the output of the coherence scores."
   ]
  },
  {
   "cell_type": "code",
   "execution_count": null,
   "metadata": {
    "colab": {
     "base_uri": "https://localhost:8080/",
     "height": 279
    },
    "colab_type": "code",
    "executionInfo": {
     "elapsed": 1396151,
     "status": "ok",
     "timestamp": 1595507080304,
     "user": {
      "displayName": "Tom van Nuenen",
      "photoUrl": "https://lh3.googleusercontent.com/a-/AOh14GhtEyfMMXnweSdKHvOqheyZd6KLkXGOtz3AYYAIBA=s64",
      "userId": "10012302451096885058"
     },
     "user_tz": -180
    },
    "id": "td7Zi7YpZW03",
    "outputId": "839b5408-93d9-4210-c71b-87aa17396ca1",
    "scrolled": true
   },
   "outputs": [],
   "source": [
    "# Show graph\n",
    "limit=100; start=10; step=10;\n",
    "x = range(start, limit, step)\n",
    "plt.plot(x, coherence_values)\n",
    "plt.xlabel(\"Num Topics\")\n",
    "plt.ylabel(\"Coherence score\")\n",
    "plt.legend((\"coherence_values\"), loc='best')\n",
    "plt.show()"
   ]
  },
  {
   "cell_type": "code",
   "execution_count": null,
   "metadata": {
    "colab": {
     "base_uri": "https://localhost:8080/",
     "height": 170
    },
    "colab_type": "code",
    "executionInfo": {
     "elapsed": 1394838,
     "status": "ok",
     "timestamp": 1595507080305,
     "user": {
      "displayName": "Tom van Nuenen",
      "photoUrl": "https://lh3.googleusercontent.com/a-/AOh14GhtEyfMMXnweSdKHvOqheyZd6KLkXGOtz3AYYAIBA=s64",
      "userId": "10012302451096885058"
     },
     "user_tz": -180
    },
    "id": "2zX73ICjZW05",
    "outputId": "a4823bb4-9a6f-4a73-d36f-68ffdd43d11b",
    "scrolled": true
   },
   "outputs": [],
   "source": [
    "# Print these coherence scores\n",
    "for m, cv in zip(x, coherence_values):\n",
    "    print(\" Num Topics =\", m, \"Coherence Value =\", round(cv, 4))"
   ]
  },
  {
   "cell_type": "markdown",
   "metadata": {
    "colab_type": "text",
    "id": "DPwvgE04ZW0_"
   },
   "source": [
    "If the coherence score seems to keep increasing, it generally makes sense to pick the model that gave the highest CV before dropping again. We'll pick the most fitting amount of topics to continue our research."
   ]
  },
  {
   "cell_type": "code",
   "execution_count": null,
   "metadata": {
    "colab": {},
    "colab_type": "code",
    "id": "MjkQGZ9W6ikZ"
   },
   "outputs": [],
   "source": [
    "# Save to disk\n",
    "with open(\"optimal_model.model\", \"wb\") as docP: \n",
    "    pickle.dump(model_list[4], docP)"
   ]
  },
  {
   "cell_type": "code",
   "execution_count": null,
   "metadata": {
    "colab": {
     "base_uri": "https://localhost:8080/",
     "height": 85
    },
    "colab_type": "code",
    "executionInfo": {
     "elapsed": 3622,
     "status": "ok",
     "timestamp": 1595511877186,
     "user": {
      "displayName": "Tom van Nuenen",
      "photoUrl": "https://lh3.googleusercontent.com/a-/AOh14GhtEyfMMXnweSdKHvOqheyZd6KLkXGOtz3AYYAIBA=s64",
      "userId": "10012302451096885058"
     },
     "user_tz": -180
    },
    "id": "ntvQrCcc6ikf",
    "outputId": "e7dbde89-4f85-4c19-f88c-ccfe84e5c35b"
   },
   "outputs": [],
   "source": [
    "!ls"
   ]
  },
  {
   "cell_type": "code",
   "execution_count": null,
   "metadata": {
    "colab": {},
    "colab_type": "code",
    "id": "Z-e-p-xN6iki"
   },
   "outputs": [],
   "source": [
    "# should you want to load in the pickle we just saved:\n",
    "with open(\"optimal_model.model\", \"rb\") as docP: \n",
    "    optimal_model = pickle.load(docP)"
   ]
  },
  {
   "cell_type": "code",
   "execution_count": null,
   "metadata": {
    "colab": {
     "base_uri": "https://localhost:8080/",
     "height": 1000
    },
    "colab_type": "code",
    "executionInfo": {
     "elapsed": 1607,
     "status": "ok",
     "timestamp": 1595511788577,
     "user": {
      "displayName": "Tom van Nuenen",
      "photoUrl": "https://lh3.googleusercontent.com/a-/AOh14GhtEyfMMXnweSdKHvOqheyZd6KLkXGOtz3AYYAIBA=s64",
      "userId": "10012302451096885058"
     },
     "user_tz": -180
    },
    "id": "h3IDZcmfZW1A",
    "outputId": "18afe590-c8a0-40ff-fc83-47c1f598eb2f"
   },
   "outputs": [],
   "source": [
    "# Select the ideal model and print the topics\n",
    "optimal_model = model_list[4]\n",
    "model_topics = optimal_model.show_topics(formatted=False)\n",
    "pprint(optimal_model.print_topics(num_words=20))"
   ]
  },
  {
   "cell_type": "markdown",
   "metadata": {
    "colab_type": "text",
    "id": "9fK6uo1EZW1M"
   },
   "source": [
    "## Finding most dominant topic per thread\n",
    "\n",
    "One of the practical application of topic modeling is to determine what topic a given Reddit thread is about. To figure this out, we find the topic number that has the highest percentage contribution in that thread. We'll write a `dominant_topic()` function that aggregates this information in a presentable table."
   ]
  },
  {
   "cell_type": "code",
   "execution_count": null,
   "metadata": {
    "colab": {
     "base_uri": "https://localhost:8080/",
     "height": 34
    },
    "colab_type": "code",
    "executionInfo": {
     "elapsed": 1596,
     "status": "ok",
     "timestamp": 1595508219005,
     "user": {
      "displayName": "Tom van Nuenen",
      "photoUrl": "https://lh3.googleusercontent.com/a-/AOh14GhtEyfMMXnweSdKHvOqheyZd6KLkXGOtz3AYYAIBA=s64",
      "userId": "10012302451096885058"
     },
     "user_tz": -180
    },
    "id": "oHB0mWZAszAa",
    "outputId": "a3418be0-0729-4668-a74c-27f357b54896"
   },
   "outputs": [],
   "source": [
    "optimal_model[corpus]"
   ]
  },
  {
   "cell_type": "code",
   "execution_count": null,
   "metadata": {
    "colab": {
     "base_uri": "https://localhost:8080/",
     "height": 419
    },
    "colab_type": "code",
    "executionInfo": {
     "elapsed": 42600,
     "status": "ok",
     "timestamp": 1595508803138,
     "user": {
      "displayName": "Tom van Nuenen",
      "photoUrl": "https://lh3.googleusercontent.com/a-/AOh14GhtEyfMMXnweSdKHvOqheyZd6KLkXGOtz3AYYAIBA=s64",
      "userId": "10012302451096885058"
     },
     "user_tz": -180
    },
    "id": "iz_TBN_dZW1Q",
    "outputId": "6d38bbf6-f023-4271-ec05-e5d361e37c07",
    "scrolled": true
   },
   "outputs": [],
   "source": [
    "def dominant_topic(ldamodel=optimal_model, corpus=corpus, texts=lemmas):\n",
    "    # Create DF\n",
    "    thread_topics_df = pd.DataFrame()\n",
    "\n",
    "    # Get main topic in each document\n",
    "    for i, row in enumerate(ldamodel[corpus]):\n",
    "        row = sorted(row, key=lambda x: (x[1]), reverse=True)\n",
    "        # Get the Dominant topic, Perc Contribution and Keywords for each thread\n",
    "        for j, (topic_num, prop_topic) in enumerate(row):\n",
    "            if j == 0:  # => dominant topic\n",
    "                wp = ldamodel.show_topic(topic_num)\n",
    "                topic_keywords = \", \".join([word for word, prop in wp])\n",
    "                thread_topics_df = thread_topics_df.append(pd.Series([int(topic_num), round(prop_topic,4), topic_keywords]), ignore_index=True)\n",
    "            else:\n",
    "                break\n",
    "    thread_topics_df.columns = ['Dominant_Topic', 'Perc_Contribution', 'Topic_Keywords']\n",
    "\n",
    "    # Add original text to the end of the output\n",
    "    contents = pd.Series(texts)\n",
    "    thread_topics_df = pd.concat([thread_topics_df, contents], axis=1)\n",
    "    return thread_topics_df \n",
    "\n",
    "df_topic_thread_keywords = dominant_topic(ldamodel=optimal_model, corpus=corpus, texts=data)\n",
    "\n",
    "# Format\n",
    "df_dominant_topic = df_topic_thread_keywords.reset_index()\n",
    "df_dominant_topic.columns = ['Document_No', 'Dominant_Topic', 'Topic_Perc_Contrib', 'Keywords', 'Text']\n",
    "\n",
    "# Show\n",
    "df_dominant_topic"
   ]
  },
  {
   "cell_type": "markdown",
   "metadata": {
    "colab_type": "text",
    "id": "v_OLtA9Wtq2F"
   },
   "source": [
    "Retrieving dominant topics via `.loc`"
   ]
  },
  {
   "cell_type": "code",
   "execution_count": null,
   "metadata": {
    "colab": {},
    "colab_type": "code",
    "id": "bQBSqG5QtSud"
   },
   "outputs": [],
   "source": [
    "df_dominant_topic.loc[df_dominant_topic['Dominant_Topic'] == 4.0]"
   ]
  },
  {
   "cell_type": "markdown",
   "metadata": {
    "colab_type": "text",
    "id": "7m1D27LrZW1S"
   },
   "source": [
    "## Finding most distinctive threads per topic\n",
    "\n",
    "We can also find the threads that include the highest amount of words for a certain topic. You could use this if you have found a really interesting topic, and you want to know the top threads this topic is typically found in. "
   ]
  },
  {
   "cell_type": "code",
   "execution_count": null,
   "metadata": {
    "colab": {
     "base_uri": "https://localhost:8080/",
     "height": 419
    },
    "colab_type": "code",
    "executionInfo": {
     "elapsed": 1212,
     "status": "ok",
     "timestamp": 1595508830818,
     "user": {
      "displayName": "Tom van Nuenen",
      "photoUrl": "https://lh3.googleusercontent.com/a-/AOh14GhtEyfMMXnweSdKHvOqheyZd6KLkXGOtz3AYYAIBA=s64",
      "userId": "10012302451096885058"
     },
     "user_tz": -180
    },
    "id": "fh8mI2x-ZW1T",
    "outputId": "15a90d58-9a31-46a3-bfee-970d3500c952",
    "scrolled": true
   },
   "outputs": [],
   "source": [
    "# Group top 5 threads under each topic\n",
    "thread_topics_sorteddf = pd.DataFrame()\n",
    "\n",
    "thread_topics_outdf_grpd = df_topic_thread_keywords.groupby('Dominant_Topic')\n",
    "\n",
    "for i, grp in thread_topics_outdf_grpd:\n",
    "    thread_topics_sorteddf = pd.concat([thread_topics_sorteddf, \n",
    "                                             grp.sort_values(['Perc_Contribution'], ascending=[0]).head(5)], \n",
    "                                            axis=0)\n",
    "\n",
    "# Reset Index    \n",
    "thread_topics_sorteddf.reset_index(drop=True, inplace=True)\n",
    "\n",
    "# Format\n",
    "thread_topics_sorteddf.columns = ['Topic_Num', \"Topic_Perc_Contrib\", \"Keywords\", \"Text\"]\n",
    "\n",
    "# Show\n",
    "thread_topics_sorteddf"
   ]
  },
  {
   "cell_type": "code",
   "execution_count": null,
   "metadata": {
    "colab": {
     "base_uri": "https://localhost:8080/",
     "height": 137
    },
    "colab_type": "code",
    "executionInfo": {
     "elapsed": 1409,
     "status": "ok",
     "timestamp": 1595508855516,
     "user": {
      "displayName": "Tom van Nuenen",
      "photoUrl": "https://lh3.googleusercontent.com/a-/AOh14GhtEyfMMXnweSdKHvOqheyZd6KLkXGOtz3AYYAIBA=s64",
      "userId": "10012302451096885058"
     },
     "user_tz": -180
    },
    "id": "7zNsKAM2ZW1W",
    "outputId": "359f083b-1c42-4235-ccec-4513a53a362d"
   },
   "outputs": [],
   "source": [
    "thread_topics_sorteddf['Text'][4]"
   ]
  },
  {
   "cell_type": "markdown",
   "metadata": {
    "colab_type": "text",
    "id": "H-lVwjhpZW1a"
   },
   "source": [
    "## Topic distribution across threads\n",
    "\n",
    "Finally, we can look at the volume and distribution of topics in order to judge how widely each topic is discussed in our threads. The below table exposes that information."
   ]
  },
  {
   "cell_type": "code",
   "execution_count": null,
   "metadata": {
    "colab": {
     "base_uri": "https://localhost:8080/",
     "height": 390
    },
    "colab_type": "code",
    "executionInfo": {
     "elapsed": 752,
     "status": "ok",
     "timestamp": 1595508913566,
     "user": {
      "displayName": "Tom van Nuenen",
      "photoUrl": "https://lh3.googleusercontent.com/a-/AOh14GhtEyfMMXnweSdKHvOqheyZd6KLkXGOtz3AYYAIBA=s64",
      "userId": "10012302451096885058"
     },
     "user_tz": -180
    },
    "id": "thVTIHsMZW1b",
    "outputId": "3ff55ef7-1521-45f8-fbd6-549fa2429eca"
   },
   "outputs": [],
   "source": [
    "# Number of Threads for Each Topic\n",
    "topic_counts = df_topic_thread_keywords['Dominant_Topic'].value_counts()\n",
    "\n",
    "# Percentage of Threads for Each Topic\n",
    "topic_contribution = round(topic_counts/topic_counts.sum(), 4)\n",
    "\n",
    "# Topic Number and Keywords\n",
    "topic_num_keywords = df_topic_thread_keywords[['Dominant_Topic', 'Topic_Keywords']]\n",
    "\n",
    "# Concatenate Column wise\n",
    "df_dominant_topics = pd.concat([topic_num_keywords, topic_counts, topic_contribution], axis=1)\n",
    "\n",
    "# Change Column names\n",
    "df_dominant_topics.columns = ['Dominant_Topic', 'Topic_Keywords', 'Num_Documents', 'Perc_Documents']\n",
    "\n",
    "# Show\n",
    "df_dominant_topics[:10]"
   ]
  }
 ],
 "metadata": {
  "colab": {
   "collapsed_sections": [
    "jOGnQ-WiZW0h"
   ],
   "name": "Week 3-4 Evaluating topic models ANSWERS.ipynb",
   "provenance": []
  },
  "kernelspec": {
   "display_name": "Python 3",
   "language": "python",
   "name": "python3"
  },
  "language_info": {
   "codemirror_mode": {
    "name": "ipython",
    "version": 3
   },
   "file_extension": ".py",
   "mimetype": "text/x-python",
   "name": "python",
   "nbconvert_exporter": "python",
   "pygments_lexer": "ipython3",
   "version": "3.8.5"
  }
 },
 "nbformat": 4,
 "nbformat_minor": 1
}
